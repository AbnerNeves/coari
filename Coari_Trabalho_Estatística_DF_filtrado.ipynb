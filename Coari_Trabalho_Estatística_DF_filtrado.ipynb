{
  "nbformat": 4,
  "nbformat_minor": 0,
  "metadata": {
    "colab": {
      "name": "Coari - Trabalho Estatística DF filtrado",
      "provenance": [],
      "toc_visible": true
    },
    "kernelspec": {
      "name": "python3",
      "display_name": "Python 3"
    }
  },
  "cells": [
    {
      "cell_type": "markdown",
      "metadata": {
        "id": "g--ZAV3sQm8g"
      },
      "source": [
        "# Sobre o trabalho\n",
        "\n",
        "O trabalho a seguir foi feito utilizando dados obtidos de um questionário de pesquisa de intenção de voto da eleição para prefeito de Coari do ano de 2012. \n"
      ]
    },
    {
      "cell_type": "markdown",
      "metadata": {
        "id": "3zIoM5YjQU9v"
      },
      "source": [
        "# Preparação do dataframe"
      ]
    },
    {
      "cell_type": "code",
      "metadata": {
        "id": "dVbFOpm0Pfnq"
      },
      "source": [
        "import numpy as np\n",
        "import pandas as pd"
      ],
      "execution_count": 1,
      "outputs": []
    },
    {
      "cell_type": "code",
      "metadata": {
        "id": "gsPO-dFXPlhZ",
        "outputId": "83abb4a2-4846-48f8-984b-d05c6dcbab36",
        "colab": {
          "base_uri": "https://localhost:8080/"
        }
      },
      "source": [
        "# Download do Dataframe abaixo\n",
        "!npx degit wfsilva-uea/coari/coari_db_filtrado.csv coari_db.csv -f"
      ],
      "execution_count": 2,
      "outputs": [
        {
          "output_type": "stream",
          "text": [
            "\u001b[K\u001b[?25hnpx: installed 1 in 2.358s\n",
            "\u001b[36m> cloned \u001b[1mwfsilva-uea/coari\u001b[22m#\u001b[1mmaster\u001b[22m to coari_db.csv\u001b[39m\n"
          ],
          "name": "stdout"
        }
      ]
    },
    {
      "cell_type": "code",
      "metadata": {
        "id": "d2C6ImBJPsAS"
      },
      "source": [
        "types = {\n",
        "  'Idade': int, \n",
        "  'Genero': str, \n",
        "  'Faixa': str, \n",
        "  'Bairro': str, \n",
        "  'Prioridade': str, \n",
        "  'Intencao': str, \n",
        "  'Por Omar': str, \n",
        "  'Por Braga': str, \n",
        "}\n",
        "# Abertura inicial do dataframe\n",
        "df = pd.read_csv('coari_db.csv', dtype=types)"
      ],
      "execution_count": 7,
      "outputs": []
    },
    {
      "cell_type": "markdown",
      "metadata": {
        "id": "EmW-RYyVQaDv"
      },
      "source": [
        "# Leitura do dataframe"
      ]
    },
    {
      "cell_type": "code",
      "metadata": {
        "id": "KibmkcI2QeST",
        "outputId": "b8b45089-b20d-49c4-bb79-19789210ccce",
        "colab": {
          "base_uri": "https://localhost:8080/"
        }
      },
      "source": [
        "df.info()\n"
      ],
      "execution_count": 8,
      "outputs": [
        {
          "output_type": "stream",
          "text": [
            "<class 'pandas.core.frame.DataFrame'>\n",
            "RangeIndex: 461 entries, 0 to 460\n",
            "Data columns (total 8 columns):\n",
            " #   Column      Non-Null Count  Dtype \n",
            "---  ------      --------------  ----- \n",
            " 0   Idade       461 non-null    int64 \n",
            " 1   Faixa       461 non-null    object\n",
            " 2   Bairro      461 non-null    object\n",
            " 3   Genero      461 non-null    object\n",
            " 4   Prioridade  453 non-null    object\n",
            " 5   Intencao    425 non-null    object\n",
            " 6   Por Omar    461 non-null    object\n",
            " 7   Por Braga   460 non-null    object\n",
            "dtypes: int64(1), object(7)\n",
            "memory usage: 28.9+ KB\n"
          ],
          "name": "stdout"
        }
      ]
    },
    {
      "cell_type": "markdown",
      "metadata": {
        "id": "6kbp44WtRaXY"
      },
      "source": [
        "**Conclusão do comando info()**: a coluna \"intenção de voto\" e \"prioridades em coari\" apresentam a maior taixa de dados nulos (por conta do entrevistado não quis responder). a coluna \"votaria em quem for indicado pelo Braga\" apresenta 1 uma pessoa que não quis responder."
      ]
    },
    {
      "cell_type": "code",
      "metadata": {
        "id": "3LmYoFa0QQ5i",
        "outputId": "9c2c7325-1ec9-4ede-ee18-c0a286609b99",
        "colab": {
          "base_uri": "https://localhost:8080/",
          "height": 204
        }
      },
      "source": [
        "df.tail() \n",
        "# aperto apenas final para confirmar total de 461 (0-460) itens presente no dataframe.\n"
      ],
      "execution_count": 11,
      "outputs": [
        {
          "output_type": "execute_result",
          "data": {
            "text/html": [
              "<div>\n",
              "<style scoped>\n",
              "    .dataframe tbody tr th:only-of-type {\n",
              "        vertical-align: middle;\n",
              "    }\n",
              "\n",
              "    .dataframe tbody tr th {\n",
              "        vertical-align: top;\n",
              "    }\n",
              "\n",
              "    .dataframe thead th {\n",
              "        text-align: right;\n",
              "    }\n",
              "</style>\n",
              "<table border=\"1\" class=\"dataframe\">\n",
              "  <thead>\n",
              "    <tr style=\"text-align: right;\">\n",
              "      <th></th>\n",
              "      <th>Idade</th>\n",
              "      <th>Faixa</th>\n",
              "      <th>Bairro</th>\n",
              "      <th>Genero</th>\n",
              "      <th>Prioridade</th>\n",
              "      <th>Intencao</th>\n",
              "      <th>Por Omar</th>\n",
              "      <th>Por Braga</th>\n",
              "    </tr>\n",
              "  </thead>\n",
              "  <tbody>\n",
              "    <tr>\n",
              "      <th>456</th>\n",
              "      <td>16</td>\n",
              "      <td>16 e 17</td>\n",
              "      <td>Do Pera</td>\n",
              "      <td>Masculino</td>\n",
              "      <td>Segurança</td>\n",
              "      <td>Adail</td>\n",
              "      <td>Sim</td>\n",
              "      <td>Sim</td>\n",
              "    </tr>\n",
              "    <tr>\n",
              "      <th>457</th>\n",
              "      <td>37</td>\n",
              "      <td>30 a 39</td>\n",
              "      <td>Do Pera</td>\n",
              "      <td>Masculino</td>\n",
              "      <td>Infraestrutura</td>\n",
              "      <td>Adail</td>\n",
              "      <td>Sem Opiniao</td>\n",
              "      <td>Sim</td>\n",
              "    </tr>\n",
              "    <tr>\n",
              "      <th>458</th>\n",
              "      <td>30</td>\n",
              "      <td>30 a 39</td>\n",
              "      <td>Do Pera</td>\n",
              "      <td>Masculino</td>\n",
              "      <td>Emprego</td>\n",
              "      <td>Adail</td>\n",
              "      <td>Sim</td>\n",
              "      <td>Não</td>\n",
              "    </tr>\n",
              "    <tr>\n",
              "      <th>459</th>\n",
              "      <td>32</td>\n",
              "      <td>30 a 39</td>\n",
              "      <td>Do Pera</td>\n",
              "      <td>Masculino</td>\n",
              "      <td>Emprego</td>\n",
              "      <td>Adail</td>\n",
              "      <td>Sem Opiniao</td>\n",
              "      <td>Sem Opiniao</td>\n",
              "    </tr>\n",
              "    <tr>\n",
              "      <th>460</th>\n",
              "      <td>54</td>\n",
              "      <td>50 a 59</td>\n",
              "      <td>Do Pera</td>\n",
              "      <td>Feminino</td>\n",
              "      <td>Emprego</td>\n",
              "      <td>Adail</td>\n",
              "      <td>Sim</td>\n",
              "      <td>Não</td>\n",
              "    </tr>\n",
              "  </tbody>\n",
              "</table>\n",
              "</div>"
            ],
            "text/plain": [
              "     Idade    Faixa   Bairro  ... Intencao     Por Omar    Por Braga\n",
              "456     16  16 e 17  Do Pera  ...    Adail          Sim          Sim\n",
              "457     37  30 a 39  Do Pera  ...    Adail  Sem Opiniao          Sim\n",
              "458     30  30 a 39  Do Pera  ...    Adail          Sim          Não\n",
              "459     32  30 a 39  Do Pera  ...    Adail  Sem Opiniao  Sem Opiniao\n",
              "460     54  50 a 59  Do Pera  ...    Adail          Sim          Não\n",
              "\n",
              "[5 rows x 8 columns]"
            ]
          },
          "metadata": {
            "tags": []
          },
          "execution_count": 11
        }
      ]
    },
    {
      "cell_type": "markdown",
      "metadata": {
        "id": "cq9LcgDeUInH"
      },
      "source": [
        "## Divisão Populacional por Gênero"
      ]
    },
    {
      "cell_type": "code",
      "metadata": {
        "id": "CQoUTIdnS3ur",
        "outputId": "9b3dfbcf-d0ae-42c1-b0e8-89f8324f0caf",
        "colab": {
          "base_uri": "https://localhost:8080/"
        }
      },
      "source": [
        "val_genero = df[\"Genero\"].value_counts()\n",
        "val_genero"
      ],
      "execution_count": 19,
      "outputs": [
        {
          "output_type": "execute_result",
          "data": {
            "text/plain": [
              "Feminino     232\n",
              "Masculino    229\n",
              "Name: Genero, dtype: int64"
            ]
          },
          "metadata": {
            "tags": []
          },
          "execution_count": 19
        }
      ]
    },
    {
      "cell_type": "markdown",
      "metadata": {
        "id": "sZGtRdo4UOw6"
      },
      "source": [
        "## Divisão Populacional por Bairro"
      ]
    },
    {
      "cell_type": "code",
      "metadata": {
        "id": "2PmMSnWBUBN3",
        "outputId": "d969e68e-c6f5-48c7-ede6-cf67e79a7f5f",
        "colab": {
          "base_uri": "https://localhost:8080/"
        }
      },
      "source": [
        "val_bairro = df[\"Bairro\"].value_counts()\n",
        "val_bairro"
      ],
      "execution_count": 26,
      "outputs": [
        {
          "output_type": "execute_result",
          "data": {
            "text/plain": [
              "Chagas            60\n",
              "Urucu             55\n",
              "União             55\n",
              "Centro            54\n",
              "Itamarati         47\n",
              "Tauá Mirim        47\n",
              "Santa Efigênia    31\n",
              "Duque             29\n",
              "Santa Helena      28\n",
              "Do Pera           28\n",
              "Espirito Santo    23\n",
              "Z - Rural          3\n",
              "centro             1\n",
              "Name: Bairro, dtype: int64"
            ]
          },
          "metadata": {
            "tags": []
          },
          "execution_count": 26
        }
      ]
    },
    {
      "cell_type": "markdown",
      "metadata": {
        "id": "PaT0kU8bUTrS"
      },
      "source": [
        "## Divisão Populacional por Faixa Etária"
      ]
    },
    {
      "cell_type": "code",
      "metadata": {
        "id": "Hln_VKACToL0",
        "outputId": "e5d14417-38d6-4a12-a4d8-242beb034fe7",
        "colab": {
          "base_uri": "https://localhost:8080/"
        }
      },
      "source": [
        "val_idade = df[\"Idade\"].value_counts()\n",
        "val_idade"
      ],
      "execution_count": 20,
      "outputs": [
        {
          "output_type": "execute_result",
          "data": {
            "text/plain": [
              "18    29\n",
              "19    21\n",
              "21    21\n",
              "29    21\n",
              "30    17\n",
              "      ..\n",
              "68     1\n",
              "66     1\n",
              "65     1\n",
              "80     1\n",
              "91     1\n",
              "Name: Idade, Length: 61, dtype: int64"
            ]
          },
          "metadata": {
            "tags": []
          },
          "execution_count": 20
        }
      ]
    },
    {
      "cell_type": "code",
      "metadata": {
        "id": "GTzIFdtkTsYV",
        "outputId": "42ecd41e-baad-4698-aaea-cf71b8c09c0b",
        "colab": {
          "base_uri": "https://localhost:8080/"
        }
      },
      "source": [
        "val_faixa = df[\"Faixa\"].value_counts()\n",
        "val_faixa"
      ],
      "execution_count": 21,
      "outputs": [
        {
          "output_type": "execute_result",
          "data": {
            "text/plain": [
              "30 a 39    99\n",
              "18 a 21    85\n",
              "40 a 49    65\n",
              "25 a 29    63\n",
              "22 a 24    44\n",
              "50 a 59    42\n",
              "60 e +     39\n",
              "16 e 17    24\n",
              "Name: Faixa, dtype: int64"
            ]
          },
          "metadata": {
            "tags": []
          },
          "execution_count": 21
        }
      ]
    },
    {
      "cell_type": "markdown",
      "metadata": {
        "id": "xJ1kOHZhWBH7"
      },
      "source": [
        "### Tabela cruzada \"Genero\" x \"Faixa Etária\""
      ]
    },
    {
      "cell_type": "code",
      "metadata": {
        "id": "vqeFFvFwVBSt",
        "outputId": "29f13a24-1b6a-457c-e50c-7f96d16f28a5",
        "colab": {
          "base_uri": "https://localhost:8080/",
          "height": 173
        }
      },
      "source": [
        "tab02=pd.crosstab(df[\"Genero\"],df[\"Faixa\"],margins=True)\n",
        "tab02"
      ],
      "execution_count": 28,
      "outputs": [
        {
          "output_type": "execute_result",
          "data": {
            "text/html": [
              "<div>\n",
              "<style scoped>\n",
              "    .dataframe tbody tr th:only-of-type {\n",
              "        vertical-align: middle;\n",
              "    }\n",
              "\n",
              "    .dataframe tbody tr th {\n",
              "        vertical-align: top;\n",
              "    }\n",
              "\n",
              "    .dataframe thead th {\n",
              "        text-align: right;\n",
              "    }\n",
              "</style>\n",
              "<table border=\"1\" class=\"dataframe\">\n",
              "  <thead>\n",
              "    <tr style=\"text-align: right;\">\n",
              "      <th>Faixa</th>\n",
              "      <th>16 e 17</th>\n",
              "      <th>18 a 21</th>\n",
              "      <th>22 a 24</th>\n",
              "      <th>25 a 29</th>\n",
              "      <th>30 a 39</th>\n",
              "      <th>40 a 49</th>\n",
              "      <th>50 a 59</th>\n",
              "      <th>60 e +</th>\n",
              "      <th>All</th>\n",
              "    </tr>\n",
              "    <tr>\n",
              "      <th>Genero</th>\n",
              "      <th></th>\n",
              "      <th></th>\n",
              "      <th></th>\n",
              "      <th></th>\n",
              "      <th></th>\n",
              "      <th></th>\n",
              "      <th></th>\n",
              "      <th></th>\n",
              "      <th></th>\n",
              "    </tr>\n",
              "  </thead>\n",
              "  <tbody>\n",
              "    <tr>\n",
              "      <th>Feminino</th>\n",
              "      <td>14</td>\n",
              "      <td>45</td>\n",
              "      <td>22</td>\n",
              "      <td>34</td>\n",
              "      <td>47</td>\n",
              "      <td>31</td>\n",
              "      <td>17</td>\n",
              "      <td>22</td>\n",
              "      <td>232</td>\n",
              "    </tr>\n",
              "    <tr>\n",
              "      <th>Masculino</th>\n",
              "      <td>10</td>\n",
              "      <td>40</td>\n",
              "      <td>22</td>\n",
              "      <td>29</td>\n",
              "      <td>52</td>\n",
              "      <td>34</td>\n",
              "      <td>25</td>\n",
              "      <td>17</td>\n",
              "      <td>229</td>\n",
              "    </tr>\n",
              "    <tr>\n",
              "      <th>All</th>\n",
              "      <td>24</td>\n",
              "      <td>85</td>\n",
              "      <td>44</td>\n",
              "      <td>63</td>\n",
              "      <td>99</td>\n",
              "      <td>65</td>\n",
              "      <td>42</td>\n",
              "      <td>39</td>\n",
              "      <td>461</td>\n",
              "    </tr>\n",
              "  </tbody>\n",
              "</table>\n",
              "</div>"
            ],
            "text/plain": [
              "Faixa      16 e 17  18 a 21  22 a 24  25 a 29  ...  40 a 49  50 a 59  60 e +  All\n",
              "Genero                                         ...                               \n",
              "Feminino        14       45       22       34  ...       31       17      22  232\n",
              "Masculino       10       40       22       29  ...       34       25      17  229\n",
              "All             24       85       44       63  ...       65       42      39  461\n",
              "\n",
              "[3 rows x 9 columns]"
            ]
          },
          "metadata": {
            "tags": []
          },
          "execution_count": 28
        }
      ]
    },
    {
      "cell_type": "markdown",
      "metadata": {
        "id": "uMzRGMZAUWSs"
      },
      "source": [
        "## Divisão Populacional segundo Problema Prioritário"
      ]
    },
    {
      "cell_type": "code",
      "metadata": {
        "id": "6xNjS0hpTxQm",
        "outputId": "b5303654-2aaf-485b-9ec8-7694fcf4af60",
        "colab": {
          "base_uri": "https://localhost:8080/"
        }
      },
      "source": [
        "val_prioridade = df[\"Prioridade\"].value_counts()\n",
        "val_prioridade"
      ],
      "execution_count": 22,
      "outputs": [
        {
          "output_type": "execute_result",
          "data": {
            "text/plain": [
              "Emprego                     122\n",
              "Saúde                       121\n",
              "Segurança                    39\n",
              "Salário                      29\n",
              "Corrupção                    25\n",
              "Saneamento e urbanização     19\n",
              "Asfalto                      19\n",
              "Educação                     16\n",
              "Infraestrutura               16\n",
              "Renda                        14\n",
              "Outros                        9\n",
              "Administração pública         9\n",
              "Moradia                       8\n",
              "Energia                       4\n",
              "Água                          2\n",
              "Transporte                    1\n",
              "Name: Prioridade, dtype: int64"
            ]
          },
          "metadata": {
            "tags": []
          },
          "execution_count": 22
        }
      ]
    },
    {
      "cell_type": "markdown",
      "metadata": {
        "id": "y55EE02JV-Uw"
      },
      "source": [
        "### Tabela cruzada \"Prioridade em Coari\" x \"Bairro\""
      ]
    },
    {
      "cell_type": "code",
      "metadata": {
        "id": "Est3xQc-VO6i",
        "outputId": "2df171d5-7ca8-4fb6-d200-7fbb5596da0d",
        "colab": {
          "base_uri": "https://localhost:8080/",
          "height": 607
        }
      },
      "source": [
        "tab03=pd.crosstab(df[\"Prioridade\"],df[\"Bairro\"],margins=True)\n",
        "tab03"
      ],
      "execution_count": 29,
      "outputs": [
        {
          "output_type": "execute_result",
          "data": {
            "text/html": [
              "<div>\n",
              "<style scoped>\n",
              "    .dataframe tbody tr th:only-of-type {\n",
              "        vertical-align: middle;\n",
              "    }\n",
              "\n",
              "    .dataframe tbody tr th {\n",
              "        vertical-align: top;\n",
              "    }\n",
              "\n",
              "    .dataframe thead th {\n",
              "        text-align: right;\n",
              "    }\n",
              "</style>\n",
              "<table border=\"1\" class=\"dataframe\">\n",
              "  <thead>\n",
              "    <tr style=\"text-align: right;\">\n",
              "      <th>Bairro</th>\n",
              "      <th>Centro</th>\n",
              "      <th>Chagas</th>\n",
              "      <th>Do Pera</th>\n",
              "      <th>Duque</th>\n",
              "      <th>Espirito Santo</th>\n",
              "      <th>Itamarati</th>\n",
              "      <th>Santa Efigênia</th>\n",
              "      <th>Santa Helena</th>\n",
              "      <th>Tauá Mirim</th>\n",
              "      <th>União</th>\n",
              "      <th>Urucu</th>\n",
              "      <th>Z - Rural</th>\n",
              "      <th>centro</th>\n",
              "      <th>All</th>\n",
              "    </tr>\n",
              "    <tr>\n",
              "      <th>Prioridade</th>\n",
              "      <th></th>\n",
              "      <th></th>\n",
              "      <th></th>\n",
              "      <th></th>\n",
              "      <th></th>\n",
              "      <th></th>\n",
              "      <th></th>\n",
              "      <th></th>\n",
              "      <th></th>\n",
              "      <th></th>\n",
              "      <th></th>\n",
              "      <th></th>\n",
              "      <th></th>\n",
              "      <th></th>\n",
              "    </tr>\n",
              "  </thead>\n",
              "  <tbody>\n",
              "    <tr>\n",
              "      <th>Administração pública</th>\n",
              "      <td>0</td>\n",
              "      <td>2</td>\n",
              "      <td>0</td>\n",
              "      <td>0</td>\n",
              "      <td>2</td>\n",
              "      <td>2</td>\n",
              "      <td>0</td>\n",
              "      <td>0</td>\n",
              "      <td>1</td>\n",
              "      <td>1</td>\n",
              "      <td>1</td>\n",
              "      <td>0</td>\n",
              "      <td>0</td>\n",
              "      <td>9</td>\n",
              "    </tr>\n",
              "    <tr>\n",
              "      <th>Asfalto</th>\n",
              "      <td>0</td>\n",
              "      <td>4</td>\n",
              "      <td>0</td>\n",
              "      <td>3</td>\n",
              "      <td>0</td>\n",
              "      <td>5</td>\n",
              "      <td>0</td>\n",
              "      <td>2</td>\n",
              "      <td>0</td>\n",
              "      <td>1</td>\n",
              "      <td>4</td>\n",
              "      <td>0</td>\n",
              "      <td>0</td>\n",
              "      <td>19</td>\n",
              "    </tr>\n",
              "    <tr>\n",
              "      <th>Corrupção</th>\n",
              "      <td>3</td>\n",
              "      <td>3</td>\n",
              "      <td>2</td>\n",
              "      <td>3</td>\n",
              "      <td>0</td>\n",
              "      <td>2</td>\n",
              "      <td>2</td>\n",
              "      <td>1</td>\n",
              "      <td>0</td>\n",
              "      <td>6</td>\n",
              "      <td>1</td>\n",
              "      <td>2</td>\n",
              "      <td>0</td>\n",
              "      <td>25</td>\n",
              "    </tr>\n",
              "    <tr>\n",
              "      <th>Educação</th>\n",
              "      <td>3</td>\n",
              "      <td>1</td>\n",
              "      <td>1</td>\n",
              "      <td>2</td>\n",
              "      <td>0</td>\n",
              "      <td>1</td>\n",
              "      <td>0</td>\n",
              "      <td>0</td>\n",
              "      <td>3</td>\n",
              "      <td>1</td>\n",
              "      <td>4</td>\n",
              "      <td>0</td>\n",
              "      <td>0</td>\n",
              "      <td>16</td>\n",
              "    </tr>\n",
              "    <tr>\n",
              "      <th>Emprego</th>\n",
              "      <td>10</td>\n",
              "      <td>12</td>\n",
              "      <td>8</td>\n",
              "      <td>9</td>\n",
              "      <td>6</td>\n",
              "      <td>13</td>\n",
              "      <td>10</td>\n",
              "      <td>9</td>\n",
              "      <td>11</td>\n",
              "      <td>21</td>\n",
              "      <td>11</td>\n",
              "      <td>1</td>\n",
              "      <td>1</td>\n",
              "      <td>122</td>\n",
              "    </tr>\n",
              "    <tr>\n",
              "      <th>Energia</th>\n",
              "      <td>0</td>\n",
              "      <td>0</td>\n",
              "      <td>0</td>\n",
              "      <td>0</td>\n",
              "      <td>0</td>\n",
              "      <td>1</td>\n",
              "      <td>0</td>\n",
              "      <td>0</td>\n",
              "      <td>0</td>\n",
              "      <td>0</td>\n",
              "      <td>3</td>\n",
              "      <td>0</td>\n",
              "      <td>0</td>\n",
              "      <td>4</td>\n",
              "    </tr>\n",
              "    <tr>\n",
              "      <th>Infraestrutura</th>\n",
              "      <td>2</td>\n",
              "      <td>1</td>\n",
              "      <td>3</td>\n",
              "      <td>0</td>\n",
              "      <td>1</td>\n",
              "      <td>1</td>\n",
              "      <td>0</td>\n",
              "      <td>3</td>\n",
              "      <td>2</td>\n",
              "      <td>2</td>\n",
              "      <td>1</td>\n",
              "      <td>0</td>\n",
              "      <td>0</td>\n",
              "      <td>16</td>\n",
              "    </tr>\n",
              "    <tr>\n",
              "      <th>Moradia</th>\n",
              "      <td>0</td>\n",
              "      <td>1</td>\n",
              "      <td>1</td>\n",
              "      <td>0</td>\n",
              "      <td>0</td>\n",
              "      <td>2</td>\n",
              "      <td>1</td>\n",
              "      <td>0</td>\n",
              "      <td>2</td>\n",
              "      <td>0</td>\n",
              "      <td>1</td>\n",
              "      <td>0</td>\n",
              "      <td>0</td>\n",
              "      <td>8</td>\n",
              "    </tr>\n",
              "    <tr>\n",
              "      <th>Outros</th>\n",
              "      <td>1</td>\n",
              "      <td>0</td>\n",
              "      <td>1</td>\n",
              "      <td>1</td>\n",
              "      <td>0</td>\n",
              "      <td>0</td>\n",
              "      <td>0</td>\n",
              "      <td>1</td>\n",
              "      <td>3</td>\n",
              "      <td>1</td>\n",
              "      <td>1</td>\n",
              "      <td>0</td>\n",
              "      <td>0</td>\n",
              "      <td>9</td>\n",
              "    </tr>\n",
              "    <tr>\n",
              "      <th>Renda</th>\n",
              "      <td>3</td>\n",
              "      <td>3</td>\n",
              "      <td>1</td>\n",
              "      <td>0</td>\n",
              "      <td>0</td>\n",
              "      <td>1</td>\n",
              "      <td>1</td>\n",
              "      <td>1</td>\n",
              "      <td>2</td>\n",
              "      <td>2</td>\n",
              "      <td>0</td>\n",
              "      <td>0</td>\n",
              "      <td>0</td>\n",
              "      <td>14</td>\n",
              "    </tr>\n",
              "    <tr>\n",
              "      <th>Salário</th>\n",
              "      <td>5</td>\n",
              "      <td>6</td>\n",
              "      <td>1</td>\n",
              "      <td>1</td>\n",
              "      <td>3</td>\n",
              "      <td>0</td>\n",
              "      <td>3</td>\n",
              "      <td>1</td>\n",
              "      <td>1</td>\n",
              "      <td>4</td>\n",
              "      <td>4</td>\n",
              "      <td>0</td>\n",
              "      <td>0</td>\n",
              "      <td>29</td>\n",
              "    </tr>\n",
              "    <tr>\n",
              "      <th>Saneamento e urbanização</th>\n",
              "      <td>3</td>\n",
              "      <td>2</td>\n",
              "      <td>0</td>\n",
              "      <td>3</td>\n",
              "      <td>1</td>\n",
              "      <td>1</td>\n",
              "      <td>2</td>\n",
              "      <td>3</td>\n",
              "      <td>2</td>\n",
              "      <td>1</td>\n",
              "      <td>1</td>\n",
              "      <td>0</td>\n",
              "      <td>0</td>\n",
              "      <td>19</td>\n",
              "    </tr>\n",
              "    <tr>\n",
              "      <th>Saúde</th>\n",
              "      <td>15</td>\n",
              "      <td>18</td>\n",
              "      <td>8</td>\n",
              "      <td>6</td>\n",
              "      <td>7</td>\n",
              "      <td>14</td>\n",
              "      <td>11</td>\n",
              "      <td>6</td>\n",
              "      <td>11</td>\n",
              "      <td>10</td>\n",
              "      <td>15</td>\n",
              "      <td>0</td>\n",
              "      <td>0</td>\n",
              "      <td>121</td>\n",
              "    </tr>\n",
              "    <tr>\n",
              "      <th>Segurança</th>\n",
              "      <td>7</td>\n",
              "      <td>6</td>\n",
              "      <td>1</td>\n",
              "      <td>1</td>\n",
              "      <td>2</td>\n",
              "      <td>4</td>\n",
              "      <td>1</td>\n",
              "      <td>1</td>\n",
              "      <td>6</td>\n",
              "      <td>5</td>\n",
              "      <td>5</td>\n",
              "      <td>0</td>\n",
              "      <td>0</td>\n",
              "      <td>39</td>\n",
              "    </tr>\n",
              "    <tr>\n",
              "      <th>Transporte</th>\n",
              "      <td>1</td>\n",
              "      <td>0</td>\n",
              "      <td>0</td>\n",
              "      <td>0</td>\n",
              "      <td>0</td>\n",
              "      <td>0</td>\n",
              "      <td>0</td>\n",
              "      <td>0</td>\n",
              "      <td>0</td>\n",
              "      <td>0</td>\n",
              "      <td>0</td>\n",
              "      <td>0</td>\n",
              "      <td>0</td>\n",
              "      <td>1</td>\n",
              "    </tr>\n",
              "    <tr>\n",
              "      <th>Água</th>\n",
              "      <td>0</td>\n",
              "      <td>0</td>\n",
              "      <td>1</td>\n",
              "      <td>0</td>\n",
              "      <td>0</td>\n",
              "      <td>0</td>\n",
              "      <td>0</td>\n",
              "      <td>0</td>\n",
              "      <td>0</td>\n",
              "      <td>0</td>\n",
              "      <td>1</td>\n",
              "      <td>0</td>\n",
              "      <td>0</td>\n",
              "      <td>2</td>\n",
              "    </tr>\n",
              "    <tr>\n",
              "      <th>All</th>\n",
              "      <td>53</td>\n",
              "      <td>59</td>\n",
              "      <td>28</td>\n",
              "      <td>29</td>\n",
              "      <td>22</td>\n",
              "      <td>47</td>\n",
              "      <td>31</td>\n",
              "      <td>28</td>\n",
              "      <td>44</td>\n",
              "      <td>55</td>\n",
              "      <td>53</td>\n",
              "      <td>3</td>\n",
              "      <td>1</td>\n",
              "      <td>453</td>\n",
              "    </tr>\n",
              "  </tbody>\n",
              "</table>\n",
              "</div>"
            ],
            "text/plain": [
              "Bairro                    Centro  Chagas  Do Pera  ...  Z - Rural  centro  All\n",
              "Prioridade                                         ...                        \n",
              "Administração pública          0       2        0  ...          0       0    9\n",
              "Asfalto                        0       4        0  ...          0       0   19\n",
              "Corrupção                      3       3        2  ...          2       0   25\n",
              "Educação                       3       1        1  ...          0       0   16\n",
              "Emprego                       10      12        8  ...          1       1  122\n",
              "Energia                        0       0        0  ...          0       0    4\n",
              "Infraestrutura                 2       1        3  ...          0       0   16\n",
              "Moradia                        0       1        1  ...          0       0    8\n",
              "Outros                         1       0        1  ...          0       0    9\n",
              "Renda                          3       3        1  ...          0       0   14\n",
              "Salário                        5       6        1  ...          0       0   29\n",
              "Saneamento e urbanização       3       2        0  ...          0       0   19\n",
              "Saúde                         15      18        8  ...          0       0  121\n",
              "Segurança                      7       6        1  ...          0       0   39\n",
              "Transporte                     1       0        0  ...          0       0    1\n",
              "Água                           0       0        1  ...          0       0    2\n",
              "All                           53      59       28  ...          3       1  453\n",
              "\n",
              "[17 rows x 14 columns]"
            ]
          },
          "metadata": {
            "tags": []
          },
          "execution_count": 29
        }
      ]
    },
    {
      "cell_type": "markdown",
      "metadata": {
        "id": "aTf5-_AGUavp"
      },
      "source": [
        "## Divisão Populacional segundo pretenção de voto"
      ]
    },
    {
      "cell_type": "code",
      "metadata": {
        "id": "rfhBT9n6T1x7",
        "outputId": "04b6f2e7-b364-4542-894c-e663e09b0410",
        "colab": {
          "base_uri": "https://localhost:8080/"
        }
      },
      "source": [
        "val_intencao = df[\"Intencao\"].value_counts()\n",
        "val_intencao"
      ],
      "execution_count": 23,
      "outputs": [
        {
          "output_type": "execute_result",
          "data": {
            "text/plain": [
              "Adail        174\n",
              "Magalhaes    137\n",
              "Mitouso       45\n",
              "f             30\n",
              "Nulo          20\n",
              "indeciso       9\n",
              "Iran           7\n",
              "h              1\n",
              "C.T.           1\n",
              "g              1\n",
              "Name: Intencao, dtype: int64"
            ]
          },
          "metadata": {
            "tags": []
          },
          "execution_count": 23
        }
      ]
    },
    {
      "cell_type": "markdown",
      "metadata": {
        "id": "muXxFM0iV53F"
      },
      "source": [
        "### Tabela cruzada \"Intenção de Voto\" x \"Faixa Etária\""
      ]
    },
    {
      "cell_type": "code",
      "metadata": {
        "id": "M2c0Fz_YVVAZ",
        "outputId": "0cc82890-376d-4233-a4bb-774c050fdeec",
        "colab": {
          "base_uri": "https://localhost:8080/",
          "height": 421
        }
      },
      "source": [
        "tab04=pd.crosstab(df[\"Intencao\"],df[\"Faixa\"],margins=True)\n",
        "tab04"
      ],
      "execution_count": 31,
      "outputs": [
        {
          "output_type": "execute_result",
          "data": {
            "text/html": [
              "<div>\n",
              "<style scoped>\n",
              "    .dataframe tbody tr th:only-of-type {\n",
              "        vertical-align: middle;\n",
              "    }\n",
              "\n",
              "    .dataframe tbody tr th {\n",
              "        vertical-align: top;\n",
              "    }\n",
              "\n",
              "    .dataframe thead th {\n",
              "        text-align: right;\n",
              "    }\n",
              "</style>\n",
              "<table border=\"1\" class=\"dataframe\">\n",
              "  <thead>\n",
              "    <tr style=\"text-align: right;\">\n",
              "      <th>Faixa</th>\n",
              "      <th>16 e 17</th>\n",
              "      <th>18 a 21</th>\n",
              "      <th>22 a 24</th>\n",
              "      <th>25 a 29</th>\n",
              "      <th>30 a 39</th>\n",
              "      <th>40 a 49</th>\n",
              "      <th>50 a 59</th>\n",
              "      <th>60 e +</th>\n",
              "      <th>All</th>\n",
              "    </tr>\n",
              "    <tr>\n",
              "      <th>Intencao</th>\n",
              "      <th></th>\n",
              "      <th></th>\n",
              "      <th></th>\n",
              "      <th></th>\n",
              "      <th></th>\n",
              "      <th></th>\n",
              "      <th></th>\n",
              "      <th></th>\n",
              "      <th></th>\n",
              "    </tr>\n",
              "  </thead>\n",
              "  <tbody>\n",
              "    <tr>\n",
              "      <th>Adail</th>\n",
              "      <td>8</td>\n",
              "      <td>27</td>\n",
              "      <td>14</td>\n",
              "      <td>28</td>\n",
              "      <td>46</td>\n",
              "      <td>27</td>\n",
              "      <td>15</td>\n",
              "      <td>9</td>\n",
              "      <td>174</td>\n",
              "    </tr>\n",
              "    <tr>\n",
              "      <th>C.T.</th>\n",
              "      <td>0</td>\n",
              "      <td>0</td>\n",
              "      <td>1</td>\n",
              "      <td>0</td>\n",
              "      <td>0</td>\n",
              "      <td>0</td>\n",
              "      <td>0</td>\n",
              "      <td>0</td>\n",
              "      <td>1</td>\n",
              "    </tr>\n",
              "    <tr>\n",
              "      <th>Iran</th>\n",
              "      <td>2</td>\n",
              "      <td>2</td>\n",
              "      <td>0</td>\n",
              "      <td>1</td>\n",
              "      <td>1</td>\n",
              "      <td>0</td>\n",
              "      <td>1</td>\n",
              "      <td>0</td>\n",
              "      <td>7</td>\n",
              "    </tr>\n",
              "    <tr>\n",
              "      <th>Magalhaes</th>\n",
              "      <td>10</td>\n",
              "      <td>33</td>\n",
              "      <td>19</td>\n",
              "      <td>19</td>\n",
              "      <td>18</td>\n",
              "      <td>16</td>\n",
              "      <td>13</td>\n",
              "      <td>9</td>\n",
              "      <td>137</td>\n",
              "    </tr>\n",
              "    <tr>\n",
              "      <th>Mitouso</th>\n",
              "      <td>1</td>\n",
              "      <td>6</td>\n",
              "      <td>4</td>\n",
              "      <td>5</td>\n",
              "      <td>10</td>\n",
              "      <td>6</td>\n",
              "      <td>4</td>\n",
              "      <td>9</td>\n",
              "      <td>45</td>\n",
              "    </tr>\n",
              "    <tr>\n",
              "      <th>Nulo</th>\n",
              "      <td>0</td>\n",
              "      <td>5</td>\n",
              "      <td>1</td>\n",
              "      <td>4</td>\n",
              "      <td>2</td>\n",
              "      <td>4</td>\n",
              "      <td>2</td>\n",
              "      <td>2</td>\n",
              "      <td>20</td>\n",
              "    </tr>\n",
              "    <tr>\n",
              "      <th>f</th>\n",
              "      <td>0</td>\n",
              "      <td>7</td>\n",
              "      <td>2</td>\n",
              "      <td>3</td>\n",
              "      <td>9</td>\n",
              "      <td>3</td>\n",
              "      <td>1</td>\n",
              "      <td>5</td>\n",
              "      <td>30</td>\n",
              "    </tr>\n",
              "    <tr>\n",
              "      <th>g</th>\n",
              "      <td>0</td>\n",
              "      <td>1</td>\n",
              "      <td>0</td>\n",
              "      <td>0</td>\n",
              "      <td>0</td>\n",
              "      <td>0</td>\n",
              "      <td>0</td>\n",
              "      <td>0</td>\n",
              "      <td>1</td>\n",
              "    </tr>\n",
              "    <tr>\n",
              "      <th>h</th>\n",
              "      <td>0</td>\n",
              "      <td>0</td>\n",
              "      <td>1</td>\n",
              "      <td>0</td>\n",
              "      <td>0</td>\n",
              "      <td>0</td>\n",
              "      <td>0</td>\n",
              "      <td>0</td>\n",
              "      <td>1</td>\n",
              "    </tr>\n",
              "    <tr>\n",
              "      <th>indeciso</th>\n",
              "      <td>0</td>\n",
              "      <td>1</td>\n",
              "      <td>0</td>\n",
              "      <td>2</td>\n",
              "      <td>3</td>\n",
              "      <td>1</td>\n",
              "      <td>2</td>\n",
              "      <td>0</td>\n",
              "      <td>9</td>\n",
              "    </tr>\n",
              "    <tr>\n",
              "      <th>All</th>\n",
              "      <td>21</td>\n",
              "      <td>82</td>\n",
              "      <td>42</td>\n",
              "      <td>62</td>\n",
              "      <td>89</td>\n",
              "      <td>57</td>\n",
              "      <td>38</td>\n",
              "      <td>34</td>\n",
              "      <td>425</td>\n",
              "    </tr>\n",
              "  </tbody>\n",
              "</table>\n",
              "</div>"
            ],
            "text/plain": [
              "Faixa      16 e 17  18 a 21  22 a 24  25 a 29  ...  40 a 49  50 a 59  60 e +  All\n",
              "Intencao                                       ...                               \n",
              "Adail            8       27       14       28  ...       27       15       9  174\n",
              "C.T.             0        0        1        0  ...        0        0       0    1\n",
              "Iran             2        2        0        1  ...        0        1       0    7\n",
              "Magalhaes       10       33       19       19  ...       16       13       9  137\n",
              "Mitouso          1        6        4        5  ...        6        4       9   45\n",
              "Nulo             0        5        1        4  ...        4        2       2   20\n",
              "f                0        7        2        3  ...        3        1       5   30\n",
              "g                0        1        0        0  ...        0        0       0    1\n",
              "h                0        0        1        0  ...        0        0       0    1\n",
              "indeciso         0        1        0        2  ...        1        2       0    9\n",
              "All             21       82       42       62  ...       57       38      34  425\n",
              "\n",
              "[11 rows x 9 columns]"
            ]
          },
          "metadata": {
            "tags": []
          },
          "execution_count": 31
        }
      ]
    },
    {
      "cell_type": "markdown",
      "metadata": {
        "id": "JxZ_6z4hUhR2"
      },
      "source": [
        "## Divisão Populacional segundo influência Omar x Braga"
      ]
    },
    {
      "cell_type": "code",
      "metadata": {
        "id": "SjR9baqdT4ov",
        "outputId": "0a2106d4-3970-49bf-b7b2-868cab8458e2",
        "colab": {
          "base_uri": "https://localhost:8080/"
        }
      },
      "source": [
        "val_omar = df[\"Por Omar\"].value_counts()\n",
        "val_omar"
      ],
      "execution_count": 24,
      "outputs": [
        {
          "output_type": "execute_result",
          "data": {
            "text/plain": [
              "Sem Opiniao    183\n",
              "Sim            158\n",
              "Não            120\n",
              "Name: Por Omar, dtype: int64"
            ]
          },
          "metadata": {
            "tags": []
          },
          "execution_count": 24
        }
      ]
    },
    {
      "cell_type": "code",
      "metadata": {
        "id": "t_b0W2Y5T8M5",
        "outputId": "e8930b83-4f7c-4c90-bc9d-79e8f68e3f17",
        "colab": {
          "base_uri": "https://localhost:8080/"
        }
      },
      "source": [
        "val_braga = df[\"Por Braga\"].value_counts()\n",
        "val_braga"
      ],
      "execution_count": 25,
      "outputs": [
        {
          "output_type": "execute_result",
          "data": {
            "text/plain": [
              "Sim            178\n",
              "Sem Opiniao    143\n",
              "Não            138\n",
              "b                1\n",
              "Name: Por Braga, dtype: int64"
            ]
          },
          "metadata": {
            "tags": []
          },
          "execution_count": 25
        }
      ]
    },
    {
      "cell_type": "markdown",
      "metadata": {
        "id": "n9gNdMExVxUM"
      },
      "source": [
        "### Tabela cruzada \"Braga\" x \"Bairro\""
      ]
    },
    {
      "cell_type": "code",
      "metadata": {
        "id": "i0v41nlWUrF1",
        "outputId": "a354b80f-b984-4163-bd9d-300ffe7cde29",
        "colab": {
          "base_uri": "https://localhost:8080/",
          "height": 235
        }
      },
      "source": [
        "tab01=pd.crosstab(df[\"Por Braga\"],df[\"Bairro\"],margins=True)\n",
        "tab01"
      ],
      "execution_count": 32,
      "outputs": [
        {
          "output_type": "execute_result",
          "data": {
            "text/html": [
              "<div>\n",
              "<style scoped>\n",
              "    .dataframe tbody tr th:only-of-type {\n",
              "        vertical-align: middle;\n",
              "    }\n",
              "\n",
              "    .dataframe tbody tr th {\n",
              "        vertical-align: top;\n",
              "    }\n",
              "\n",
              "    .dataframe thead th {\n",
              "        text-align: right;\n",
              "    }\n",
              "</style>\n",
              "<table border=\"1\" class=\"dataframe\">\n",
              "  <thead>\n",
              "    <tr style=\"text-align: right;\">\n",
              "      <th>Bairro</th>\n",
              "      <th>Centro</th>\n",
              "      <th>Chagas</th>\n",
              "      <th>Do Pera</th>\n",
              "      <th>Duque</th>\n",
              "      <th>Espirito Santo</th>\n",
              "      <th>Itamarati</th>\n",
              "      <th>Santa Efigênia</th>\n",
              "      <th>Santa Helena</th>\n",
              "      <th>Tauá Mirim</th>\n",
              "      <th>União</th>\n",
              "      <th>Urucu</th>\n",
              "      <th>Z - Rural</th>\n",
              "      <th>centro</th>\n",
              "      <th>All</th>\n",
              "    </tr>\n",
              "    <tr>\n",
              "      <th>Por Braga</th>\n",
              "      <th></th>\n",
              "      <th></th>\n",
              "      <th></th>\n",
              "      <th></th>\n",
              "      <th></th>\n",
              "      <th></th>\n",
              "      <th></th>\n",
              "      <th></th>\n",
              "      <th></th>\n",
              "      <th></th>\n",
              "      <th></th>\n",
              "      <th></th>\n",
              "      <th></th>\n",
              "      <th></th>\n",
              "    </tr>\n",
              "  </thead>\n",
              "  <tbody>\n",
              "    <tr>\n",
              "      <th>Não</th>\n",
              "      <td>15</td>\n",
              "      <td>11</td>\n",
              "      <td>7</td>\n",
              "      <td>12</td>\n",
              "      <td>7</td>\n",
              "      <td>10</td>\n",
              "      <td>14</td>\n",
              "      <td>7</td>\n",
              "      <td>22</td>\n",
              "      <td>12</td>\n",
              "      <td>20</td>\n",
              "      <td>0</td>\n",
              "      <td>1</td>\n",
              "      <td>138</td>\n",
              "    </tr>\n",
              "    <tr>\n",
              "      <th>Sem Opiniao</th>\n",
              "      <td>15</td>\n",
              "      <td>19</td>\n",
              "      <td>11</td>\n",
              "      <td>8</td>\n",
              "      <td>8</td>\n",
              "      <td>18</td>\n",
              "      <td>7</td>\n",
              "      <td>11</td>\n",
              "      <td>11</td>\n",
              "      <td>19</td>\n",
              "      <td>14</td>\n",
              "      <td>2</td>\n",
              "      <td>0</td>\n",
              "      <td>143</td>\n",
              "    </tr>\n",
              "    <tr>\n",
              "      <th>Sim</th>\n",
              "      <td>23</td>\n",
              "      <td>30</td>\n",
              "      <td>10</td>\n",
              "      <td>9</td>\n",
              "      <td>8</td>\n",
              "      <td>19</td>\n",
              "      <td>10</td>\n",
              "      <td>10</td>\n",
              "      <td>14</td>\n",
              "      <td>23</td>\n",
              "      <td>21</td>\n",
              "      <td>1</td>\n",
              "      <td>0</td>\n",
              "      <td>178</td>\n",
              "    </tr>\n",
              "    <tr>\n",
              "      <th>b</th>\n",
              "      <td>0</td>\n",
              "      <td>0</td>\n",
              "      <td>0</td>\n",
              "      <td>0</td>\n",
              "      <td>0</td>\n",
              "      <td>0</td>\n",
              "      <td>0</td>\n",
              "      <td>0</td>\n",
              "      <td>0</td>\n",
              "      <td>1</td>\n",
              "      <td>0</td>\n",
              "      <td>0</td>\n",
              "      <td>0</td>\n",
              "      <td>1</td>\n",
              "    </tr>\n",
              "    <tr>\n",
              "      <th>All</th>\n",
              "      <td>53</td>\n",
              "      <td>60</td>\n",
              "      <td>28</td>\n",
              "      <td>29</td>\n",
              "      <td>23</td>\n",
              "      <td>47</td>\n",
              "      <td>31</td>\n",
              "      <td>28</td>\n",
              "      <td>47</td>\n",
              "      <td>55</td>\n",
              "      <td>55</td>\n",
              "      <td>3</td>\n",
              "      <td>1</td>\n",
              "      <td>460</td>\n",
              "    </tr>\n",
              "  </tbody>\n",
              "</table>\n",
              "</div>"
            ],
            "text/plain": [
              "Bairro       Centro  Chagas  Do Pera  Duque  ...  Urucu  Z - Rural  centro  All\n",
              "Por Braga                                    ...                               \n",
              "Não              15      11        7     12  ...     20          0       1  138\n",
              "Sem Opiniao      15      19       11      8  ...     14          2       0  143\n",
              "Sim              23      30       10      9  ...     21          1       0  178\n",
              "b                 0       0        0      0  ...      0          0       0    1\n",
              "All              53      60       28     29  ...     55          3       1  460\n",
              "\n",
              "[5 rows x 14 columns]"
            ]
          },
          "metadata": {
            "tags": []
          },
          "execution_count": 32
        }
      ]
    },
    {
      "cell_type": "markdown",
      "metadata": {
        "id": "ljz8s6kzV1Mp"
      },
      "source": [
        "### Tabela cruzada \"Omar\" x \"Bairro\""
      ]
    },
    {
      "cell_type": "code",
      "metadata": {
        "id": "Be2sHhtcVoyl",
        "outputId": "6a6ebf00-0bb2-484e-e3e0-f05c1e3c0d11",
        "colab": {
          "base_uri": "https://localhost:8080/",
          "height": 204
        }
      },
      "source": [
        "tab00=pd.crosstab(df[\"Por Omar\"],df[\"Bairro\"],margins=True)\n",
        "tab00\n",
        "# tabela cruzada entre influência por Braga e por Omar"
      ],
      "execution_count": 34,
      "outputs": [
        {
          "output_type": "execute_result",
          "data": {
            "text/html": [
              "<div>\n",
              "<style scoped>\n",
              "    .dataframe tbody tr th:only-of-type {\n",
              "        vertical-align: middle;\n",
              "    }\n",
              "\n",
              "    .dataframe tbody tr th {\n",
              "        vertical-align: top;\n",
              "    }\n",
              "\n",
              "    .dataframe thead th {\n",
              "        text-align: right;\n",
              "    }\n",
              "</style>\n",
              "<table border=\"1\" class=\"dataframe\">\n",
              "  <thead>\n",
              "    <tr style=\"text-align: right;\">\n",
              "      <th>Bairro</th>\n",
              "      <th>Centro</th>\n",
              "      <th>Chagas</th>\n",
              "      <th>Do Pera</th>\n",
              "      <th>Duque</th>\n",
              "      <th>Espirito Santo</th>\n",
              "      <th>Itamarati</th>\n",
              "      <th>Santa Efigênia</th>\n",
              "      <th>Santa Helena</th>\n",
              "      <th>Tauá Mirim</th>\n",
              "      <th>União</th>\n",
              "      <th>Urucu</th>\n",
              "      <th>Z - Rural</th>\n",
              "      <th>centro</th>\n",
              "      <th>All</th>\n",
              "    </tr>\n",
              "    <tr>\n",
              "      <th>Por Omar</th>\n",
              "      <th></th>\n",
              "      <th></th>\n",
              "      <th></th>\n",
              "      <th></th>\n",
              "      <th></th>\n",
              "      <th></th>\n",
              "      <th></th>\n",
              "      <th></th>\n",
              "      <th></th>\n",
              "      <th></th>\n",
              "      <th></th>\n",
              "      <th></th>\n",
              "      <th></th>\n",
              "      <th></th>\n",
              "    </tr>\n",
              "  </thead>\n",
              "  <tbody>\n",
              "    <tr>\n",
              "      <th>Não</th>\n",
              "      <td>8</td>\n",
              "      <td>17</td>\n",
              "      <td>4</td>\n",
              "      <td>10</td>\n",
              "      <td>8</td>\n",
              "      <td>11</td>\n",
              "      <td>7</td>\n",
              "      <td>4</td>\n",
              "      <td>23</td>\n",
              "      <td>11</td>\n",
              "      <td>17</td>\n",
              "      <td>0</td>\n",
              "      <td>0</td>\n",
              "      <td>120</td>\n",
              "    </tr>\n",
              "    <tr>\n",
              "      <th>Sem Opiniao</th>\n",
              "      <td>20</td>\n",
              "      <td>21</td>\n",
              "      <td>9</td>\n",
              "      <td>11</td>\n",
              "      <td>9</td>\n",
              "      <td>21</td>\n",
              "      <td>13</td>\n",
              "      <td>17</td>\n",
              "      <td>16</td>\n",
              "      <td>25</td>\n",
              "      <td>19</td>\n",
              "      <td>1</td>\n",
              "      <td>1</td>\n",
              "      <td>183</td>\n",
              "    </tr>\n",
              "    <tr>\n",
              "      <th>Sim</th>\n",
              "      <td>26</td>\n",
              "      <td>22</td>\n",
              "      <td>15</td>\n",
              "      <td>8</td>\n",
              "      <td>6</td>\n",
              "      <td>15</td>\n",
              "      <td>11</td>\n",
              "      <td>7</td>\n",
              "      <td>8</td>\n",
              "      <td>19</td>\n",
              "      <td>19</td>\n",
              "      <td>2</td>\n",
              "      <td>0</td>\n",
              "      <td>158</td>\n",
              "    </tr>\n",
              "    <tr>\n",
              "      <th>All</th>\n",
              "      <td>54</td>\n",
              "      <td>60</td>\n",
              "      <td>28</td>\n",
              "      <td>29</td>\n",
              "      <td>23</td>\n",
              "      <td>47</td>\n",
              "      <td>31</td>\n",
              "      <td>28</td>\n",
              "      <td>47</td>\n",
              "      <td>55</td>\n",
              "      <td>55</td>\n",
              "      <td>3</td>\n",
              "      <td>1</td>\n",
              "      <td>461</td>\n",
              "    </tr>\n",
              "  </tbody>\n",
              "</table>\n",
              "</div>"
            ],
            "text/plain": [
              "Bairro       Centro  Chagas  Do Pera  Duque  ...  Urucu  Z - Rural  centro  All\n",
              "Por Omar                                     ...                               \n",
              "Não               8      17        4     10  ...     17          0       0  120\n",
              "Sem Opiniao      20      21        9     11  ...     19          1       1  183\n",
              "Sim              26      22       15      8  ...     19          2       0  158\n",
              "All              54      60       28     29  ...     55          3       1  461\n",
              "\n",
              "[4 rows x 14 columns]"
            ]
          },
          "metadata": {
            "tags": []
          },
          "execution_count": 34
        }
      ]
    }
  ]
}