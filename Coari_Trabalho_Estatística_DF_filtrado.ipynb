{
  "nbformat": 4,
  "nbformat_minor": 0,
  "metadata": {
    "colab": {
      "name": "Coari - Trabalho Estatística DF filtrado",
      "provenance": [],
      "toc_visible": true
    },
    "kernelspec": {
      "name": "python3",
      "display_name": "Python 3"
    }
  },
  "cells": [
    {
      "cell_type": "markdown",
      "metadata": {
        "id": "g--ZAV3sQm8g"
      },
      "source": [
        "# Sobre o trabalho\n",
        "\n",
        "O trabalho a seguir foi feito utilizando dados obtidos de um questionário de pesquisa de intenção de voto da eleição para prefeito de Coari do ano de 2012. \n"
      ]
    },
    {
      "cell_type": "markdown",
      "metadata": {
        "id": "3zIoM5YjQU9v"
      },
      "source": [
        "# Preparação do dataframe"
      ]
    },
    {
      "cell_type": "code",
      "metadata": {
        "id": "dVbFOpm0Pfnq"
      },
      "source": [
        "import numpy as np\n",
        "import pandas as pd\n",
        "import numpy as np\n",
        "import matplotlib.pyplot as plt\n"
      ],
      "execution_count": null,
      "outputs": []
    },
    {
      "cell_type": "code",
      "metadata": {
        "id": "gsPO-dFXPlhZ",
        "outputId": "28fa442d-a656-4a91-acdc-dc2d2ec743e5",
        "colab": {
          "base_uri": "https://localhost:8080/"
        }
      },
      "source": [
        "# Download do Dataframe abaixo\n",
        "!npx degit wfsilva-uea/coari/coari_db_filtrado.csv coari_db.csv -f"
      ],
      "execution_count": null,
      "outputs": [
        {
          "output_type": "stream",
          "text": [
            "\u001b[?25l[..................] / rollbackFailedOptional: verb npm-session cfe3da0c58a99df\u001b[0m\u001b[K\r[#######...........] \\ extract:degit: verb lock using /root/.npm/_locks/staging\u001b[0m\u001b[K\r[#######...........] \\ extract:degit: verb lock using /root/.npm/_locks/staging\u001b[0m\u001b[K\r\r\u001b[K\u001b[?25hnpx: installed 1 in 0.834s\n",
            "\u001b[31m! ENOTDIR: not a directory, scandir 'coari_db.csv'\u001b[39m\n"
          ],
          "name": "stdout"
        }
      ]
    },
    {
      "cell_type": "code",
      "metadata": {
        "id": "d2C6ImBJPsAS"
      },
      "source": [
        "types = {\n",
        "  'Idade': int, \n",
        "  'Genero': str, \n",
        "  'Faixa': str, \n",
        "  'Bairro': str, \n",
        "  'Prioridade': str, \n",
        "  'Intencao': str, \n",
        "  'Por Omar': str, \n",
        "  'Por Braga': str, \n",
        "}\n",
        "# Abertura inicial do dataframe\n",
        "df = pd.read_csv('coari_db.csv', dtype=types)\n",
        "df[\"Intencao\"].replace({\n",
        "    'g': 'Desconhecido',    \n",
        "    'f': 'Nulo',    \n",
        "    'h': 'Desconhecido'\n",
        "}, inplace=True)\n"
      ],
      "execution_count": null,
      "outputs": []
    },
    {
      "cell_type": "markdown",
      "metadata": {
        "id": "EmW-RYyVQaDv"
      },
      "source": [
        "# Leitura do dataframe"
      ]
    },
    {
      "cell_type": "code",
      "metadata": {
        "id": "KibmkcI2QeST",
        "outputId": "a9755971-af11-483b-f41d-0565774a4fbf",
        "colab": {
          "base_uri": "https://localhost:8080/"
        }
      },
      "source": [
        "df.info()\n"
      ],
      "execution_count": null,
      "outputs": [
        {
          "output_type": "stream",
          "text": [
            "<class 'pandas.core.frame.DataFrame'>\n",
            "RangeIndex: 461 entries, 0 to 460\n",
            "Data columns (total 11 columns):\n",
            " #   Column        Non-Null Count  Dtype  \n",
            "---  ------        --------------  -----  \n",
            " 0   Unnamed: 0    461 non-null    int64  \n",
            " 1   Idade         461 non-null    int64  \n",
            " 2   Faixa         461 non-null    object \n",
            " 3   Bairro        461 non-null    object \n",
            " 4   Genero        461 non-null    object \n",
            " 5   Prioridade    453 non-null    object \n",
            " 6   Intencao      425 non-null    object \n",
            " 7   Por Omar      461 non-null    object \n",
            " 8   Por Braga     460 non-null    object \n",
            " 9   Escolaridade  461 non-null    object \n",
            " 10  Renda         415 non-null    float64\n",
            "dtypes: float64(1), int64(2), object(8)\n",
            "memory usage: 39.7+ KB\n"
          ],
          "name": "stdout"
        }
      ]
    },
    {
      "cell_type": "markdown",
      "metadata": {
        "id": "6kbp44WtRaXY"
      },
      "source": [
        "**Conclusão do comando info()**: a coluna \"intenção de voto\" e \"prioridades em coari\" apresentam a maior taixa de dados nulos (por conta do entrevistado não quis responder). a coluna \"votaria em quem for indicado pelo Braga\" apresenta 1 uma pessoa que não quis responder."
      ]
    },
    {
      "cell_type": "code",
      "metadata": {
        "id": "3LmYoFa0QQ5i",
        "outputId": "a5e1e1eb-d0e8-41f7-9a3f-befdc35a5c8a",
        "colab": {
          "base_uri": "https://localhost:8080/",
          "height": 306
        }
      },
      "source": [
        "df.tail() \n",
        "# aperto apenas final para confirmar total de 461 (0-460) itens presente no dataframe.\n"
      ],
      "execution_count": null,
      "outputs": [
        {
          "output_type": "execute_result",
          "data": {
            "text/html": [
              "<div>\n",
              "<style scoped>\n",
              "    .dataframe tbody tr th:only-of-type {\n",
              "        vertical-align: middle;\n",
              "    }\n",
              "\n",
              "    .dataframe tbody tr th {\n",
              "        vertical-align: top;\n",
              "    }\n",
              "\n",
              "    .dataframe thead th {\n",
              "        text-align: right;\n",
              "    }\n",
              "</style>\n",
              "<table border=\"1\" class=\"dataframe\">\n",
              "  <thead>\n",
              "    <tr style=\"text-align: right;\">\n",
              "      <th></th>\n",
              "      <th>Unnamed: 0</th>\n",
              "      <th>Idade</th>\n",
              "      <th>Faixa</th>\n",
              "      <th>Bairro</th>\n",
              "      <th>Genero</th>\n",
              "      <th>Prioridade</th>\n",
              "      <th>Intencao</th>\n",
              "      <th>Por Omar</th>\n",
              "      <th>Por Braga</th>\n",
              "      <th>Escolaridade</th>\n",
              "      <th>Renda</th>\n",
              "    </tr>\n",
              "  </thead>\n",
              "  <tbody>\n",
              "    <tr>\n",
              "      <th>456</th>\n",
              "      <td>456</td>\n",
              "      <td>16</td>\n",
              "      <td>16 e 17</td>\n",
              "      <td>Do Pera</td>\n",
              "      <td>Masculino</td>\n",
              "      <td>Segurança</td>\n",
              "      <td>Adail</td>\n",
              "      <td>Sim</td>\n",
              "      <td>Sim</td>\n",
              "      <td>Não Alfabetizado</td>\n",
              "      <td>NaN</td>\n",
              "    </tr>\n",
              "    <tr>\n",
              "      <th>457</th>\n",
              "      <td>457</td>\n",
              "      <td>37</td>\n",
              "      <td>30 a 39</td>\n",
              "      <td>Do Pera</td>\n",
              "      <td>Masculino</td>\n",
              "      <td>Infraestrutura</td>\n",
              "      <td>Adail</td>\n",
              "      <td>Sem Opinião</td>\n",
              "      <td>Sim</td>\n",
              "      <td>Fundam. Completo</td>\n",
              "      <td>700.0</td>\n",
              "    </tr>\n",
              "    <tr>\n",
              "      <th>458</th>\n",
              "      <td>458</td>\n",
              "      <td>30</td>\n",
              "      <td>30 a 39</td>\n",
              "      <td>Do Pera</td>\n",
              "      <td>Masculino</td>\n",
              "      <td>Emprego</td>\n",
              "      <td>Adail</td>\n",
              "      <td>Sim</td>\n",
              "      <td>Não</td>\n",
              "      <td>Médio Completo</td>\n",
              "      <td>1300.0</td>\n",
              "    </tr>\n",
              "    <tr>\n",
              "      <th>459</th>\n",
              "      <td>459</td>\n",
              "      <td>32</td>\n",
              "      <td>30 a 39</td>\n",
              "      <td>Do Pera</td>\n",
              "      <td>Masculino</td>\n",
              "      <td>Emprego</td>\n",
              "      <td>Adail</td>\n",
              "      <td>Sem Opinião</td>\n",
              "      <td>Sem Opinião</td>\n",
              "      <td>Fundam. Incompleto</td>\n",
              "      <td>NaN</td>\n",
              "    </tr>\n",
              "    <tr>\n",
              "      <th>460</th>\n",
              "      <td>460</td>\n",
              "      <td>54</td>\n",
              "      <td>50 a 59</td>\n",
              "      <td>Do Pera</td>\n",
              "      <td>Feminino</td>\n",
              "      <td>Emprego</td>\n",
              "      <td>Adail</td>\n",
              "      <td>Sim</td>\n",
              "      <td>Não</td>\n",
              "      <td>Fundam. Incompleto</td>\n",
              "      <td>450.0</td>\n",
              "    </tr>\n",
              "  </tbody>\n",
              "</table>\n",
              "</div>"
            ],
            "text/plain": [
              "     Unnamed: 0  Idade    Faixa  ...    Por Braga        Escolaridade   Renda\n",
              "456         456     16  16 e 17  ...          Sim    Não Alfabetizado     NaN\n",
              "457         457     37  30 a 39  ...          Sim    Fundam. Completo   700.0\n",
              "458         458     30  30 a 39  ...          Não      Médio Completo  1300.0\n",
              "459         459     32  30 a 39  ...  Sem Opinião  Fundam. Incompleto     NaN\n",
              "460         460     54  50 a 59  ...          Não  Fundam. Incompleto   450.0\n",
              "\n",
              "[5 rows x 11 columns]"
            ]
          },
          "metadata": {
            "tags": []
          },
          "execution_count": 148
        }
      ]
    },
    {
      "cell_type": "markdown",
      "metadata": {
        "id": "cq9LcgDeUInH"
      },
      "source": [
        "## Divisão Populacional por Gênero"
      ]
    },
    {
      "cell_type": "code",
      "metadata": {
        "id": "CQoUTIdnS3ur",
        "outputId": "cbd7ea19-581d-4dbf-aaa5-ae37d36ffac1",
        "colab": {
          "base_uri": "https://localhost:8080/"
        }
      },
      "source": [
        "val_genero = df[\"Genero\"].value_counts()\n",
        "val_genero"
      ],
      "execution_count": null,
      "outputs": [
        {
          "output_type": "execute_result",
          "data": {
            "text/plain": [
              "Feminino     232\n",
              "Masculino    229\n",
              "Name: Genero, dtype: int64"
            ]
          },
          "metadata": {
            "tags": []
          },
          "execution_count": 149
        }
      ]
    },
    {
      "cell_type": "code",
      "metadata": {
        "id": "MPHer2AGKHWM",
        "outputId": "cb0449d3-5b6e-4b76-dd87-1ed72fdc7ff7",
        "colab": {
          "base_uri": "https://localhost:8080/"
        }
      },
      "source": [
        "a = val_genero.to_numpy()\n",
        "print(\n",
        "    \"\\n percentil eh:\",np.percentile(a, 1),\n",
        "    \"\\n média eh:\",np.mean(a),\n",
        "    \"\\n mediana eh:\", np.median(a))\n"
      ],
      "execution_count": null,
      "outputs": [
        {
          "output_type": "stream",
          "text": [
            "\n",
            " percentil eh: 229.03 \n",
            " média eh: 230.5 \n",
            " mediana eh: 230.5\n"
          ],
          "name": "stdout"
        }
      ]
    },
    {
      "cell_type": "markdown",
      "metadata": {
        "id": "sZGtRdo4UOw6"
      },
      "source": [
        "## Divisão Populacional por Bairro"
      ]
    },
    {
      "cell_type": "code",
      "metadata": {
        "id": "2PmMSnWBUBN3",
        "outputId": "559ad5f0-8fd7-463a-f8eb-2a1b737807dd",
        "colab": {
          "base_uri": "https://localhost:8080/"
        }
      },
      "source": [
        "val_bairro = df[\"Bairro\"].value_counts()\n",
        "val_bairro"
      ],
      "execution_count": null,
      "outputs": [
        {
          "output_type": "execute_result",
          "data": {
            "text/plain": [
              "Chagas            60\n",
              "Urucu             55\n",
              "União             55\n",
              "Centro            54\n",
              "Itamarati         47\n",
              "Tauá Mirim        47\n",
              "Santa Efigênia    31\n",
              "Duque             29\n",
              "Santa Helena      28\n",
              "Do Pera           28\n",
              "Espirito Santo    23\n",
              "Z - Rural          3\n",
              "centro             1\n",
              "Name: Bairro, dtype: int64"
            ]
          },
          "metadata": {
            "tags": []
          },
          "execution_count": 151
        }
      ]
    },
    {
      "cell_type": "code",
      "metadata": {
        "id": "aEhHFaogKK2r",
        "outputId": "8740f287-4f84-49e3-de2c-21ba5e2f9879",
        "colab": {
          "base_uri": "https://localhost:8080/"
        }
      },
      "source": [
        "a = val_bairro.to_numpy()\n",
        "print(\n",
        "    \"\\n percentil eh:\",np.percentile(a, 1),\n",
        "    \"\\n média eh:\",np.mean(a),\n",
        "    \"\\n mediana eh:\", np.median(a))"
      ],
      "execution_count": null,
      "outputs": [
        {
          "output_type": "stream",
          "text": [
            "\n",
            " percentil eh: 1.24 \n",
            " média eh: 35.46153846153846 \n",
            " mediana eh: 31.0\n"
          ],
          "name": "stdout"
        }
      ]
    },
    {
      "cell_type": "markdown",
      "metadata": {
        "id": "PaT0kU8bUTrS"
      },
      "source": [
        "## Divisão Populacional por Faixa Etária"
      ]
    },
    {
      "cell_type": "code",
      "metadata": {
        "id": "Hln_VKACToL0",
        "outputId": "47c4c96f-be2c-4ae3-fb7f-ff0ed02f1023",
        "colab": {
          "base_uri": "https://localhost:8080/"
        }
      },
      "source": [
        "val_idade = df[\"Idade\"].value_counts()\n",
        "val_idade"
      ],
      "execution_count": null,
      "outputs": [
        {
          "output_type": "execute_result",
          "data": {
            "text/plain": [
              "18    29\n",
              "19    21\n",
              "21    21\n",
              "29    21\n",
              "30    17\n",
              "      ..\n",
              "68     1\n",
              "66     1\n",
              "65     1\n",
              "80     1\n",
              "91     1\n",
              "Name: Idade, Length: 61, dtype: int64"
            ]
          },
          "metadata": {
            "tags": []
          },
          "execution_count": 153
        }
      ]
    },
    {
      "cell_type": "code",
      "metadata": {
        "id": "OSPpS2J5KU2z",
        "outputId": "5b2a7f7c-fd92-435e-c210-bb7d8e661016",
        "colab": {
          "base_uri": "https://localhost:8080/"
        }
      },
      "source": [
        "a = val_idade.to_numpy()\n",
        "print(\n",
        "    \"\\n percentil eh:\",np.percentile(a, 1),\n",
        "    \"\\n média eh:\",np.mean(a),\n",
        "    \"\\n mediana eh:\", np.median(a))"
      ],
      "execution_count": null,
      "outputs": [
        {
          "output_type": "stream",
          "text": [
            "\n",
            " percentil eh: 1.0 \n",
            " média eh: 7.557377049180328 \n",
            " mediana eh: 6.0\n"
          ],
          "name": "stdout"
        }
      ]
    },
    {
      "cell_type": "code",
      "metadata": {
        "id": "GTzIFdtkTsYV",
        "outputId": "9ed247ab-06ac-4c91-f948-d1fb1612cc1f",
        "colab": {
          "base_uri": "https://localhost:8080/"
        }
      },
      "source": [
        "val_faixa = df[\"Faixa\"].value_counts()\n",
        "val_faixa"
      ],
      "execution_count": null,
      "outputs": [
        {
          "output_type": "execute_result",
          "data": {
            "text/plain": [
              "30 a 39    99\n",
              "18 a 21    85\n",
              "40 a 49    65\n",
              "25 a 29    63\n",
              "22 a 24    44\n",
              "50 a 59    42\n",
              "60 e +     39\n",
              "16 e 17    24\n",
              "Name: Faixa, dtype: int64"
            ]
          },
          "metadata": {
            "tags": []
          },
          "execution_count": 155
        }
      ]
    },
    {
      "cell_type": "markdown",
      "metadata": {
        "id": "xJ1kOHZhWBH7"
      },
      "source": [
        "### Tabela cruzada \"Genero\" x \"Faixa Etária\""
      ]
    },
    {
      "cell_type": "code",
      "metadata": {
        "id": "vqeFFvFwVBSt",
        "outputId": "1e654f30-9a63-4060-a65c-93f2665d469e",
        "colab": {
          "base_uri": "https://localhost:8080/",
          "height": 173
        }
      },
      "source": [
        "tab02=pd.crosstab(df[\"Genero\"],df[\"Faixa\"],margins=True)\n",
        "tab02"
      ],
      "execution_count": null,
      "outputs": [
        {
          "output_type": "execute_result",
          "data": {
            "text/html": [
              "<div>\n",
              "<style scoped>\n",
              "    .dataframe tbody tr th:only-of-type {\n",
              "        vertical-align: middle;\n",
              "    }\n",
              "\n",
              "    .dataframe tbody tr th {\n",
              "        vertical-align: top;\n",
              "    }\n",
              "\n",
              "    .dataframe thead th {\n",
              "        text-align: right;\n",
              "    }\n",
              "</style>\n",
              "<table border=\"1\" class=\"dataframe\">\n",
              "  <thead>\n",
              "    <tr style=\"text-align: right;\">\n",
              "      <th>Faixa</th>\n",
              "      <th>16 e 17</th>\n",
              "      <th>18 a 21</th>\n",
              "      <th>22 a 24</th>\n",
              "      <th>25 a 29</th>\n",
              "      <th>30 a 39</th>\n",
              "      <th>40 a 49</th>\n",
              "      <th>50 a 59</th>\n",
              "      <th>60 e +</th>\n",
              "      <th>All</th>\n",
              "    </tr>\n",
              "    <tr>\n",
              "      <th>Genero</th>\n",
              "      <th></th>\n",
              "      <th></th>\n",
              "      <th></th>\n",
              "      <th></th>\n",
              "      <th></th>\n",
              "      <th></th>\n",
              "      <th></th>\n",
              "      <th></th>\n",
              "      <th></th>\n",
              "    </tr>\n",
              "  </thead>\n",
              "  <tbody>\n",
              "    <tr>\n",
              "      <th>Feminino</th>\n",
              "      <td>14</td>\n",
              "      <td>45</td>\n",
              "      <td>22</td>\n",
              "      <td>34</td>\n",
              "      <td>47</td>\n",
              "      <td>31</td>\n",
              "      <td>17</td>\n",
              "      <td>22</td>\n",
              "      <td>232</td>\n",
              "    </tr>\n",
              "    <tr>\n",
              "      <th>Masculino</th>\n",
              "      <td>10</td>\n",
              "      <td>40</td>\n",
              "      <td>22</td>\n",
              "      <td>29</td>\n",
              "      <td>52</td>\n",
              "      <td>34</td>\n",
              "      <td>25</td>\n",
              "      <td>17</td>\n",
              "      <td>229</td>\n",
              "    </tr>\n",
              "    <tr>\n",
              "      <th>All</th>\n",
              "      <td>24</td>\n",
              "      <td>85</td>\n",
              "      <td>44</td>\n",
              "      <td>63</td>\n",
              "      <td>99</td>\n",
              "      <td>65</td>\n",
              "      <td>42</td>\n",
              "      <td>39</td>\n",
              "      <td>461</td>\n",
              "    </tr>\n",
              "  </tbody>\n",
              "</table>\n",
              "</div>"
            ],
            "text/plain": [
              "Faixa      16 e 17  18 a 21  22 a 24  25 a 29  ...  40 a 49  50 a 59  60 e +  All\n",
              "Genero                                         ...                               \n",
              "Feminino        14       45       22       34  ...       31       17      22  232\n",
              "Masculino       10       40       22       29  ...       34       25      17  229\n",
              "All             24       85       44       63  ...       65       42      39  461\n",
              "\n",
              "[3 rows x 9 columns]"
            ]
          },
          "metadata": {
            "tags": []
          },
          "execution_count": 156
        }
      ]
    },
    {
      "cell_type": "markdown",
      "metadata": {
        "id": "uMzRGMZAUWSs"
      },
      "source": [
        "## Divisão Populacional segundo Problema Prioritário"
      ]
    },
    {
      "cell_type": "code",
      "metadata": {
        "id": "6xNjS0hpTxQm",
        "outputId": "ca0e71b9-aee2-44cb-fbbc-2ad359671d6c",
        "colab": {
          "base_uri": "https://localhost:8080/"
        }
      },
      "source": [
        "val_prioridade = df[\"Prioridade\"].value_counts()\n",
        "val_prioridade"
      ],
      "execution_count": null,
      "outputs": [
        {
          "output_type": "execute_result",
          "data": {
            "text/plain": [
              "Emprego                     122\n",
              "Saúde                       121\n",
              "Segurança                    39\n",
              "Salário                      29\n",
              "Corrupção                    25\n",
              "Asfalto                      19\n",
              "Saneamento e urbanização     19\n",
              "Infraestrutura               16\n",
              "Educação                     16\n",
              "Renda                        14\n",
              "Outros                        9\n",
              "Administração pública         9\n",
              "Moradia                       8\n",
              "Energia                       4\n",
              "Água                          2\n",
              "Transporte                    1\n",
              "Name: Prioridade, dtype: int64"
            ]
          },
          "metadata": {
            "tags": []
          },
          "execution_count": 157
        }
      ]
    },
    {
      "cell_type": "code",
      "metadata": {
        "id": "WqTpi0MrKZDz",
        "outputId": "1aa2742d-636f-4b14-cbd5-4c2c216d4c01",
        "colab": {
          "base_uri": "https://localhost:8080/"
        }
      },
      "source": [
        "a = val_prioridade.to_numpy()\n",
        "\n",
        "print(\n",
        "    \"\\n percentil eh:\",np.percentile(a, 1),\n",
        "    \"\\n média eh:\",np.mean(a),\n",
        "    \"\\n mediana eh:\", np.median(a))"
      ],
      "execution_count": null,
      "outputs": [
        {
          "output_type": "stream",
          "text": [
            "\n",
            " percentil eh: 1.15 \n",
            " média eh: 28.3125 \n",
            " mediana eh: 16.0\n"
          ],
          "name": "stdout"
        }
      ]
    },
    {
      "cell_type": "markdown",
      "metadata": {
        "id": "y55EE02JV-Uw"
      },
      "source": [
        "### Tabela cruzada \"Prioridade em Coari\" x \"Bairro\""
      ]
    },
    {
      "cell_type": "code",
      "metadata": {
        "id": "Est3xQc-VO6i",
        "outputId": "719631a1-ddb1-4421-aebb-3651a9c3c19a",
        "colab": {
          "base_uri": "https://localhost:8080/",
          "height": 678
        }
      },
      "source": [
        "tab03=pd.crosstab(df[\"Prioridade\"],df[\"Bairro\"],margins=True)\n",
        "tab03"
      ],
      "execution_count": null,
      "outputs": [
        {
          "output_type": "execute_result",
          "data": {
            "text/html": [
              "<div>\n",
              "<style scoped>\n",
              "    .dataframe tbody tr th:only-of-type {\n",
              "        vertical-align: middle;\n",
              "    }\n",
              "\n",
              "    .dataframe tbody tr th {\n",
              "        vertical-align: top;\n",
              "    }\n",
              "\n",
              "    .dataframe thead th {\n",
              "        text-align: right;\n",
              "    }\n",
              "</style>\n",
              "<table border=\"1\" class=\"dataframe\">\n",
              "  <thead>\n",
              "    <tr style=\"text-align: right;\">\n",
              "      <th>Bairro</th>\n",
              "      <th>Centro</th>\n",
              "      <th>Chagas</th>\n",
              "      <th>Do Pera</th>\n",
              "      <th>Duque</th>\n",
              "      <th>Espirito Santo</th>\n",
              "      <th>Itamarati</th>\n",
              "      <th>Santa Efigênia</th>\n",
              "      <th>Santa Helena</th>\n",
              "      <th>Tauá Mirim</th>\n",
              "      <th>União</th>\n",
              "      <th>Urucu</th>\n",
              "      <th>Z - Rural</th>\n",
              "      <th>centro</th>\n",
              "      <th>All</th>\n",
              "    </tr>\n",
              "    <tr>\n",
              "      <th>Prioridade</th>\n",
              "      <th></th>\n",
              "      <th></th>\n",
              "      <th></th>\n",
              "      <th></th>\n",
              "      <th></th>\n",
              "      <th></th>\n",
              "      <th></th>\n",
              "      <th></th>\n",
              "      <th></th>\n",
              "      <th></th>\n",
              "      <th></th>\n",
              "      <th></th>\n",
              "      <th></th>\n",
              "      <th></th>\n",
              "    </tr>\n",
              "  </thead>\n",
              "  <tbody>\n",
              "    <tr>\n",
              "      <th>Administração pública</th>\n",
              "      <td>0</td>\n",
              "      <td>2</td>\n",
              "      <td>0</td>\n",
              "      <td>0</td>\n",
              "      <td>2</td>\n",
              "      <td>2</td>\n",
              "      <td>0</td>\n",
              "      <td>0</td>\n",
              "      <td>1</td>\n",
              "      <td>1</td>\n",
              "      <td>1</td>\n",
              "      <td>0</td>\n",
              "      <td>0</td>\n",
              "      <td>9</td>\n",
              "    </tr>\n",
              "    <tr>\n",
              "      <th>Asfalto</th>\n",
              "      <td>0</td>\n",
              "      <td>4</td>\n",
              "      <td>0</td>\n",
              "      <td>3</td>\n",
              "      <td>0</td>\n",
              "      <td>5</td>\n",
              "      <td>0</td>\n",
              "      <td>2</td>\n",
              "      <td>0</td>\n",
              "      <td>1</td>\n",
              "      <td>4</td>\n",
              "      <td>0</td>\n",
              "      <td>0</td>\n",
              "      <td>19</td>\n",
              "    </tr>\n",
              "    <tr>\n",
              "      <th>Corrupção</th>\n",
              "      <td>3</td>\n",
              "      <td>3</td>\n",
              "      <td>2</td>\n",
              "      <td>3</td>\n",
              "      <td>0</td>\n",
              "      <td>2</td>\n",
              "      <td>2</td>\n",
              "      <td>1</td>\n",
              "      <td>0</td>\n",
              "      <td>6</td>\n",
              "      <td>1</td>\n",
              "      <td>2</td>\n",
              "      <td>0</td>\n",
              "      <td>25</td>\n",
              "    </tr>\n",
              "    <tr>\n",
              "      <th>Educação</th>\n",
              "      <td>3</td>\n",
              "      <td>1</td>\n",
              "      <td>1</td>\n",
              "      <td>2</td>\n",
              "      <td>0</td>\n",
              "      <td>1</td>\n",
              "      <td>0</td>\n",
              "      <td>0</td>\n",
              "      <td>3</td>\n",
              "      <td>1</td>\n",
              "      <td>4</td>\n",
              "      <td>0</td>\n",
              "      <td>0</td>\n",
              "      <td>16</td>\n",
              "    </tr>\n",
              "    <tr>\n",
              "      <th>Emprego</th>\n",
              "      <td>10</td>\n",
              "      <td>12</td>\n",
              "      <td>8</td>\n",
              "      <td>9</td>\n",
              "      <td>6</td>\n",
              "      <td>13</td>\n",
              "      <td>10</td>\n",
              "      <td>9</td>\n",
              "      <td>11</td>\n",
              "      <td>21</td>\n",
              "      <td>11</td>\n",
              "      <td>1</td>\n",
              "      <td>1</td>\n",
              "      <td>122</td>\n",
              "    </tr>\n",
              "    <tr>\n",
              "      <th>Energia</th>\n",
              "      <td>0</td>\n",
              "      <td>0</td>\n",
              "      <td>0</td>\n",
              "      <td>0</td>\n",
              "      <td>0</td>\n",
              "      <td>1</td>\n",
              "      <td>0</td>\n",
              "      <td>0</td>\n",
              "      <td>0</td>\n",
              "      <td>0</td>\n",
              "      <td>3</td>\n",
              "      <td>0</td>\n",
              "      <td>0</td>\n",
              "      <td>4</td>\n",
              "    </tr>\n",
              "    <tr>\n",
              "      <th>Infraestrutura</th>\n",
              "      <td>2</td>\n",
              "      <td>1</td>\n",
              "      <td>3</td>\n",
              "      <td>0</td>\n",
              "      <td>1</td>\n",
              "      <td>1</td>\n",
              "      <td>0</td>\n",
              "      <td>3</td>\n",
              "      <td>2</td>\n",
              "      <td>2</td>\n",
              "      <td>1</td>\n",
              "      <td>0</td>\n",
              "      <td>0</td>\n",
              "      <td>16</td>\n",
              "    </tr>\n",
              "    <tr>\n",
              "      <th>Moradia</th>\n",
              "      <td>0</td>\n",
              "      <td>1</td>\n",
              "      <td>1</td>\n",
              "      <td>0</td>\n",
              "      <td>0</td>\n",
              "      <td>2</td>\n",
              "      <td>1</td>\n",
              "      <td>0</td>\n",
              "      <td>2</td>\n",
              "      <td>0</td>\n",
              "      <td>1</td>\n",
              "      <td>0</td>\n",
              "      <td>0</td>\n",
              "      <td>8</td>\n",
              "    </tr>\n",
              "    <tr>\n",
              "      <th>Outros</th>\n",
              "      <td>1</td>\n",
              "      <td>0</td>\n",
              "      <td>1</td>\n",
              "      <td>1</td>\n",
              "      <td>0</td>\n",
              "      <td>0</td>\n",
              "      <td>0</td>\n",
              "      <td>1</td>\n",
              "      <td>3</td>\n",
              "      <td>1</td>\n",
              "      <td>1</td>\n",
              "      <td>0</td>\n",
              "      <td>0</td>\n",
              "      <td>9</td>\n",
              "    </tr>\n",
              "    <tr>\n",
              "      <th>Renda</th>\n",
              "      <td>3</td>\n",
              "      <td>3</td>\n",
              "      <td>1</td>\n",
              "      <td>0</td>\n",
              "      <td>0</td>\n",
              "      <td>1</td>\n",
              "      <td>1</td>\n",
              "      <td>1</td>\n",
              "      <td>2</td>\n",
              "      <td>2</td>\n",
              "      <td>0</td>\n",
              "      <td>0</td>\n",
              "      <td>0</td>\n",
              "      <td>14</td>\n",
              "    </tr>\n",
              "    <tr>\n",
              "      <th>Salário</th>\n",
              "      <td>5</td>\n",
              "      <td>6</td>\n",
              "      <td>1</td>\n",
              "      <td>1</td>\n",
              "      <td>3</td>\n",
              "      <td>0</td>\n",
              "      <td>3</td>\n",
              "      <td>1</td>\n",
              "      <td>1</td>\n",
              "      <td>4</td>\n",
              "      <td>4</td>\n",
              "      <td>0</td>\n",
              "      <td>0</td>\n",
              "      <td>29</td>\n",
              "    </tr>\n",
              "    <tr>\n",
              "      <th>Saneamento e urbanização</th>\n",
              "      <td>3</td>\n",
              "      <td>2</td>\n",
              "      <td>0</td>\n",
              "      <td>3</td>\n",
              "      <td>1</td>\n",
              "      <td>1</td>\n",
              "      <td>2</td>\n",
              "      <td>3</td>\n",
              "      <td>2</td>\n",
              "      <td>1</td>\n",
              "      <td>1</td>\n",
              "      <td>0</td>\n",
              "      <td>0</td>\n",
              "      <td>19</td>\n",
              "    </tr>\n",
              "    <tr>\n",
              "      <th>Saúde</th>\n",
              "      <td>15</td>\n",
              "      <td>18</td>\n",
              "      <td>8</td>\n",
              "      <td>6</td>\n",
              "      <td>7</td>\n",
              "      <td>14</td>\n",
              "      <td>11</td>\n",
              "      <td>6</td>\n",
              "      <td>11</td>\n",
              "      <td>10</td>\n",
              "      <td>15</td>\n",
              "      <td>0</td>\n",
              "      <td>0</td>\n",
              "      <td>121</td>\n",
              "    </tr>\n",
              "    <tr>\n",
              "      <th>Segurança</th>\n",
              "      <td>7</td>\n",
              "      <td>6</td>\n",
              "      <td>1</td>\n",
              "      <td>1</td>\n",
              "      <td>2</td>\n",
              "      <td>4</td>\n",
              "      <td>1</td>\n",
              "      <td>1</td>\n",
              "      <td>6</td>\n",
              "      <td>5</td>\n",
              "      <td>5</td>\n",
              "      <td>0</td>\n",
              "      <td>0</td>\n",
              "      <td>39</td>\n",
              "    </tr>\n",
              "    <tr>\n",
              "      <th>Transporte</th>\n",
              "      <td>1</td>\n",
              "      <td>0</td>\n",
              "      <td>0</td>\n",
              "      <td>0</td>\n",
              "      <td>0</td>\n",
              "      <td>0</td>\n",
              "      <td>0</td>\n",
              "      <td>0</td>\n",
              "      <td>0</td>\n",
              "      <td>0</td>\n",
              "      <td>0</td>\n",
              "      <td>0</td>\n",
              "      <td>0</td>\n",
              "      <td>1</td>\n",
              "    </tr>\n",
              "    <tr>\n",
              "      <th>Água</th>\n",
              "      <td>0</td>\n",
              "      <td>0</td>\n",
              "      <td>1</td>\n",
              "      <td>0</td>\n",
              "      <td>0</td>\n",
              "      <td>0</td>\n",
              "      <td>0</td>\n",
              "      <td>0</td>\n",
              "      <td>0</td>\n",
              "      <td>0</td>\n",
              "      <td>1</td>\n",
              "      <td>0</td>\n",
              "      <td>0</td>\n",
              "      <td>2</td>\n",
              "    </tr>\n",
              "    <tr>\n",
              "      <th>All</th>\n",
              "      <td>53</td>\n",
              "      <td>59</td>\n",
              "      <td>28</td>\n",
              "      <td>29</td>\n",
              "      <td>22</td>\n",
              "      <td>47</td>\n",
              "      <td>31</td>\n",
              "      <td>28</td>\n",
              "      <td>44</td>\n",
              "      <td>55</td>\n",
              "      <td>53</td>\n",
              "      <td>3</td>\n",
              "      <td>1</td>\n",
              "      <td>453</td>\n",
              "    </tr>\n",
              "  </tbody>\n",
              "</table>\n",
              "</div>"
            ],
            "text/plain": [
              "Bairro                    Centro  Chagas  Do Pera  ...  Z - Rural  centro  All\n",
              "Prioridade                                         ...                        \n",
              "Administração pública          0       2        0  ...          0       0    9\n",
              "Asfalto                        0       4        0  ...          0       0   19\n",
              "Corrupção                      3       3        2  ...          2       0   25\n",
              "Educação                       3       1        1  ...          0       0   16\n",
              "Emprego                       10      12        8  ...          1       1  122\n",
              "Energia                        0       0        0  ...          0       0    4\n",
              "Infraestrutura                 2       1        3  ...          0       0   16\n",
              "Moradia                        0       1        1  ...          0       0    8\n",
              "Outros                         1       0        1  ...          0       0    9\n",
              "Renda                          3       3        1  ...          0       0   14\n",
              "Salário                        5       6        1  ...          0       0   29\n",
              "Saneamento e urbanização       3       2        0  ...          0       0   19\n",
              "Saúde                         15      18        8  ...          0       0  121\n",
              "Segurança                      7       6        1  ...          0       0   39\n",
              "Transporte                     1       0        0  ...          0       0    1\n",
              "Água                           0       0        1  ...          0       0    2\n",
              "All                           53      59       28  ...          3       1  453\n",
              "\n",
              "[17 rows x 14 columns]"
            ]
          },
          "metadata": {
            "tags": []
          },
          "execution_count": 159
        }
      ]
    },
    {
      "cell_type": "markdown",
      "metadata": {
        "id": "aTf5-_AGUavp"
      },
      "source": [
        "## Divisão Populacional segundo pretenção de voto"
      ]
    },
    {
      "cell_type": "code",
      "metadata": {
        "id": "rfhBT9n6T1x7",
        "outputId": "1191e573-230e-49c7-a69f-dc104826a1f1",
        "colab": {
          "base_uri": "https://localhost:8080/"
        }
      },
      "source": [
        "val_intencao = df[\"Intencao\"].value_counts()\n",
        "val_intencao"
      ],
      "execution_count": null,
      "outputs": [
        {
          "output_type": "execute_result",
          "data": {
            "text/plain": [
              "Adail           174\n",
              "Magalhaes       137\n",
              "Nulo             50\n",
              "Mitouso          45\n",
              "indeciso          9\n",
              "Iran              7\n",
              "Desconhecido      2\n",
              "C.T.              1\n",
              "Name: Intencao, dtype: int64"
            ]
          },
          "metadata": {
            "tags": []
          },
          "execution_count": 160
        }
      ]
    },
    {
      "cell_type": "code",
      "metadata": {
        "id": "sQo5dCoEKjVe",
        "outputId": "4d68deb3-0b05-4cb2-b407-8e59c1d5b573",
        "colab": {
          "base_uri": "https://localhost:8080/"
        }
      },
      "source": [
        "a = val_intencao.to_numpy()\n",
        "print(\n",
        "    \"\\n percentil eh:\",np.percentile(a, 1),\n",
        "    \"\\n média eh:\",np.mean(a),\n",
        "    \"\\n mediana eh:\", np.median(a))"
      ],
      "execution_count": null,
      "outputs": [
        {
          "output_type": "stream",
          "text": [
            "\n",
            " percentil eh: 1.0699999999999998 \n",
            " média eh: 53.125 \n",
            " mediana eh: 27.0\n"
          ],
          "name": "stdout"
        }
      ]
    },
    {
      "cell_type": "markdown",
      "metadata": {
        "id": "muXxFM0iV53F"
      },
      "source": [
        "### Tabela cruzada \"Intenção de Voto\" x \"Faixa Etária\""
      ]
    },
    {
      "cell_type": "code",
      "metadata": {
        "id": "M2c0Fz_YVVAZ",
        "outputId": "e2c8f385-455e-4cbc-e4a7-4a82768012a6",
        "colab": {
          "base_uri": "https://localhost:8080/",
          "height": 359
        }
      },
      "source": [
        "tab04=pd.crosstab(df[\"Intencao\"],df[\"Faixa\"],margins=True)\n",
        "tab04"
      ],
      "execution_count": null,
      "outputs": [
        {
          "output_type": "execute_result",
          "data": {
            "text/html": [
              "<div>\n",
              "<style scoped>\n",
              "    .dataframe tbody tr th:only-of-type {\n",
              "        vertical-align: middle;\n",
              "    }\n",
              "\n",
              "    .dataframe tbody tr th {\n",
              "        vertical-align: top;\n",
              "    }\n",
              "\n",
              "    .dataframe thead th {\n",
              "        text-align: right;\n",
              "    }\n",
              "</style>\n",
              "<table border=\"1\" class=\"dataframe\">\n",
              "  <thead>\n",
              "    <tr style=\"text-align: right;\">\n",
              "      <th>Faixa</th>\n",
              "      <th>16 e 17</th>\n",
              "      <th>18 a 21</th>\n",
              "      <th>22 a 24</th>\n",
              "      <th>25 a 29</th>\n",
              "      <th>30 a 39</th>\n",
              "      <th>40 a 49</th>\n",
              "      <th>50 a 59</th>\n",
              "      <th>60 e +</th>\n",
              "      <th>All</th>\n",
              "    </tr>\n",
              "    <tr>\n",
              "      <th>Intencao</th>\n",
              "      <th></th>\n",
              "      <th></th>\n",
              "      <th></th>\n",
              "      <th></th>\n",
              "      <th></th>\n",
              "      <th></th>\n",
              "      <th></th>\n",
              "      <th></th>\n",
              "      <th></th>\n",
              "    </tr>\n",
              "  </thead>\n",
              "  <tbody>\n",
              "    <tr>\n",
              "      <th>Adail</th>\n",
              "      <td>8</td>\n",
              "      <td>27</td>\n",
              "      <td>14</td>\n",
              "      <td>28</td>\n",
              "      <td>46</td>\n",
              "      <td>27</td>\n",
              "      <td>15</td>\n",
              "      <td>9</td>\n",
              "      <td>174</td>\n",
              "    </tr>\n",
              "    <tr>\n",
              "      <th>C.T.</th>\n",
              "      <td>0</td>\n",
              "      <td>0</td>\n",
              "      <td>1</td>\n",
              "      <td>0</td>\n",
              "      <td>0</td>\n",
              "      <td>0</td>\n",
              "      <td>0</td>\n",
              "      <td>0</td>\n",
              "      <td>1</td>\n",
              "    </tr>\n",
              "    <tr>\n",
              "      <th>Desconhecido</th>\n",
              "      <td>0</td>\n",
              "      <td>1</td>\n",
              "      <td>1</td>\n",
              "      <td>0</td>\n",
              "      <td>0</td>\n",
              "      <td>0</td>\n",
              "      <td>0</td>\n",
              "      <td>0</td>\n",
              "      <td>2</td>\n",
              "    </tr>\n",
              "    <tr>\n",
              "      <th>Iran</th>\n",
              "      <td>2</td>\n",
              "      <td>2</td>\n",
              "      <td>0</td>\n",
              "      <td>1</td>\n",
              "      <td>1</td>\n",
              "      <td>0</td>\n",
              "      <td>1</td>\n",
              "      <td>0</td>\n",
              "      <td>7</td>\n",
              "    </tr>\n",
              "    <tr>\n",
              "      <th>Magalhaes</th>\n",
              "      <td>10</td>\n",
              "      <td>33</td>\n",
              "      <td>19</td>\n",
              "      <td>19</td>\n",
              "      <td>18</td>\n",
              "      <td>16</td>\n",
              "      <td>13</td>\n",
              "      <td>9</td>\n",
              "      <td>137</td>\n",
              "    </tr>\n",
              "    <tr>\n",
              "      <th>Mitouso</th>\n",
              "      <td>1</td>\n",
              "      <td>6</td>\n",
              "      <td>4</td>\n",
              "      <td>5</td>\n",
              "      <td>10</td>\n",
              "      <td>6</td>\n",
              "      <td>4</td>\n",
              "      <td>9</td>\n",
              "      <td>45</td>\n",
              "    </tr>\n",
              "    <tr>\n",
              "      <th>Nulo</th>\n",
              "      <td>0</td>\n",
              "      <td>12</td>\n",
              "      <td>3</td>\n",
              "      <td>7</td>\n",
              "      <td>11</td>\n",
              "      <td>7</td>\n",
              "      <td>3</td>\n",
              "      <td>7</td>\n",
              "      <td>50</td>\n",
              "    </tr>\n",
              "    <tr>\n",
              "      <th>indeciso</th>\n",
              "      <td>0</td>\n",
              "      <td>1</td>\n",
              "      <td>0</td>\n",
              "      <td>2</td>\n",
              "      <td>3</td>\n",
              "      <td>1</td>\n",
              "      <td>2</td>\n",
              "      <td>0</td>\n",
              "      <td>9</td>\n",
              "    </tr>\n",
              "    <tr>\n",
              "      <th>All</th>\n",
              "      <td>21</td>\n",
              "      <td>82</td>\n",
              "      <td>42</td>\n",
              "      <td>62</td>\n",
              "      <td>89</td>\n",
              "      <td>57</td>\n",
              "      <td>38</td>\n",
              "      <td>34</td>\n",
              "      <td>425</td>\n",
              "    </tr>\n",
              "  </tbody>\n",
              "</table>\n",
              "</div>"
            ],
            "text/plain": [
              "Faixa         16 e 17  18 a 21  22 a 24  25 a 29  ...  40 a 49  50 a 59  60 e +  All\n",
              "Intencao                                          ...                               \n",
              "Adail               8       27       14       28  ...       27       15       9  174\n",
              "C.T.                0        0        1        0  ...        0        0       0    1\n",
              "Desconhecido        0        1        1        0  ...        0        0       0    2\n",
              "Iran                2        2        0        1  ...        0        1       0    7\n",
              "Magalhaes          10       33       19       19  ...       16       13       9  137\n",
              "Mitouso             1        6        4        5  ...        6        4       9   45\n",
              "Nulo                0       12        3        7  ...        7        3       7   50\n",
              "indeciso            0        1        0        2  ...        1        2       0    9\n",
              "All                21       82       42       62  ...       57       38      34  425\n",
              "\n",
              "[9 rows x 9 columns]"
            ]
          },
          "metadata": {
            "tags": []
          },
          "execution_count": 162
        }
      ]
    },
    {
      "cell_type": "markdown",
      "metadata": {
        "id": "JxZ_6z4hUhR2"
      },
      "source": [
        "## Divisão Populacional segundo influência Omar x Braga"
      ]
    },
    {
      "cell_type": "code",
      "metadata": {
        "id": "SjR9baqdT4ov",
        "outputId": "4ee3a343-a7c5-4b30-dcfe-bc4f6495788c",
        "colab": {
          "base_uri": "https://localhost:8080/"
        }
      },
      "source": [
        "val_omar = df[\"Por Omar\"].value_counts()\n",
        "val_omar"
      ],
      "execution_count": null,
      "outputs": [
        {
          "output_type": "execute_result",
          "data": {
            "text/plain": [
              "Sem Opinião    183\n",
              "Sim            158\n",
              "Não            120\n",
              "Name: Por Omar, dtype: int64"
            ]
          },
          "metadata": {
            "tags": []
          },
          "execution_count": 163
        }
      ]
    },
    {
      "cell_type": "code",
      "metadata": {
        "id": "t_b0W2Y5T8M5",
        "outputId": "df80da4e-ff26-4a87-c56a-ddd63055f1f2",
        "colab": {
          "base_uri": "https://localhost:8080/"
        }
      },
      "source": [
        "val_braga = df[\"Por Braga\"].value_counts()\n",
        "val_braga"
      ],
      "execution_count": null,
      "outputs": [
        {
          "output_type": "execute_result",
          "data": {
            "text/plain": [
              "Sim            178\n",
              "Sem Opinião    143\n",
              "Não            138\n",
              "b                1\n",
              "Name: Por Braga, dtype: int64"
            ]
          },
          "metadata": {
            "tags": []
          },
          "execution_count": 164
        }
      ]
    },
    {
      "cell_type": "markdown",
      "metadata": {
        "id": "n9gNdMExVxUM"
      },
      "source": [
        "### Tabela cruzada \"Braga\" x \"Bairro\""
      ]
    },
    {
      "cell_type": "code",
      "metadata": {
        "id": "i0v41nlWUrF1",
        "outputId": "64571ec8-7930-4c21-c4b1-cb724a5703ea",
        "colab": {
          "base_uri": "https://localhost:8080/",
          "height": 306
        }
      },
      "source": [
        "tab01=pd.crosstab(df[\"Por Braga\"],df[\"Bairro\"],margins=True)\n",
        "tab01"
      ],
      "execution_count": null,
      "outputs": [
        {
          "output_type": "execute_result",
          "data": {
            "text/html": [
              "<div>\n",
              "<style scoped>\n",
              "    .dataframe tbody tr th:only-of-type {\n",
              "        vertical-align: middle;\n",
              "    }\n",
              "\n",
              "    .dataframe tbody tr th {\n",
              "        vertical-align: top;\n",
              "    }\n",
              "\n",
              "    .dataframe thead th {\n",
              "        text-align: right;\n",
              "    }\n",
              "</style>\n",
              "<table border=\"1\" class=\"dataframe\">\n",
              "  <thead>\n",
              "    <tr style=\"text-align: right;\">\n",
              "      <th>Bairro</th>\n",
              "      <th>Centro</th>\n",
              "      <th>Chagas</th>\n",
              "      <th>Do Pera</th>\n",
              "      <th>Duque</th>\n",
              "      <th>Espirito Santo</th>\n",
              "      <th>Itamarati</th>\n",
              "      <th>Santa Efigênia</th>\n",
              "      <th>Santa Helena</th>\n",
              "      <th>Tauá Mirim</th>\n",
              "      <th>União</th>\n",
              "      <th>Urucu</th>\n",
              "      <th>Z - Rural</th>\n",
              "      <th>centro</th>\n",
              "      <th>All</th>\n",
              "    </tr>\n",
              "    <tr>\n",
              "      <th>Por Braga</th>\n",
              "      <th></th>\n",
              "      <th></th>\n",
              "      <th></th>\n",
              "      <th></th>\n",
              "      <th></th>\n",
              "      <th></th>\n",
              "      <th></th>\n",
              "      <th></th>\n",
              "      <th></th>\n",
              "      <th></th>\n",
              "      <th></th>\n",
              "      <th></th>\n",
              "      <th></th>\n",
              "      <th></th>\n",
              "    </tr>\n",
              "  </thead>\n",
              "  <tbody>\n",
              "    <tr>\n",
              "      <th>Não</th>\n",
              "      <td>15</td>\n",
              "      <td>11</td>\n",
              "      <td>7</td>\n",
              "      <td>12</td>\n",
              "      <td>7</td>\n",
              "      <td>10</td>\n",
              "      <td>14</td>\n",
              "      <td>7</td>\n",
              "      <td>22</td>\n",
              "      <td>12</td>\n",
              "      <td>20</td>\n",
              "      <td>0</td>\n",
              "      <td>1</td>\n",
              "      <td>138</td>\n",
              "    </tr>\n",
              "    <tr>\n",
              "      <th>Sem Opinião</th>\n",
              "      <td>15</td>\n",
              "      <td>19</td>\n",
              "      <td>11</td>\n",
              "      <td>8</td>\n",
              "      <td>8</td>\n",
              "      <td>18</td>\n",
              "      <td>7</td>\n",
              "      <td>11</td>\n",
              "      <td>11</td>\n",
              "      <td>19</td>\n",
              "      <td>14</td>\n",
              "      <td>2</td>\n",
              "      <td>0</td>\n",
              "      <td>143</td>\n",
              "    </tr>\n",
              "    <tr>\n",
              "      <th>Sim</th>\n",
              "      <td>23</td>\n",
              "      <td>30</td>\n",
              "      <td>10</td>\n",
              "      <td>9</td>\n",
              "      <td>8</td>\n",
              "      <td>19</td>\n",
              "      <td>10</td>\n",
              "      <td>10</td>\n",
              "      <td>14</td>\n",
              "      <td>23</td>\n",
              "      <td>21</td>\n",
              "      <td>1</td>\n",
              "      <td>0</td>\n",
              "      <td>178</td>\n",
              "    </tr>\n",
              "    <tr>\n",
              "      <th>b</th>\n",
              "      <td>0</td>\n",
              "      <td>0</td>\n",
              "      <td>0</td>\n",
              "      <td>0</td>\n",
              "      <td>0</td>\n",
              "      <td>0</td>\n",
              "      <td>0</td>\n",
              "      <td>0</td>\n",
              "      <td>0</td>\n",
              "      <td>1</td>\n",
              "      <td>0</td>\n",
              "      <td>0</td>\n",
              "      <td>0</td>\n",
              "      <td>1</td>\n",
              "    </tr>\n",
              "    <tr>\n",
              "      <th>All</th>\n",
              "      <td>53</td>\n",
              "      <td>60</td>\n",
              "      <td>28</td>\n",
              "      <td>29</td>\n",
              "      <td>23</td>\n",
              "      <td>47</td>\n",
              "      <td>31</td>\n",
              "      <td>28</td>\n",
              "      <td>47</td>\n",
              "      <td>55</td>\n",
              "      <td>55</td>\n",
              "      <td>3</td>\n",
              "      <td>1</td>\n",
              "      <td>460</td>\n",
              "    </tr>\n",
              "  </tbody>\n",
              "</table>\n",
              "</div>"
            ],
            "text/plain": [
              "Bairro       Centro  Chagas  Do Pera  Duque  ...  Urucu  Z - Rural  centro  All\n",
              "Por Braga                                    ...                               \n",
              "Não              15      11        7     12  ...     20          0       1  138\n",
              "Sem Opinião      15      19       11      8  ...     14          2       0  143\n",
              "Sim              23      30       10      9  ...     21          1       0  178\n",
              "b                 0       0        0      0  ...      0          0       0    1\n",
              "All              53      60       28     29  ...     55          3       1  460\n",
              "\n",
              "[5 rows x 14 columns]"
            ]
          },
          "metadata": {
            "tags": []
          },
          "execution_count": 165
        }
      ]
    },
    {
      "cell_type": "markdown",
      "metadata": {
        "id": "ljz8s6kzV1Mp"
      },
      "source": [
        "### Tabela cruzada \"Omar\" x \"Bairro\""
      ]
    },
    {
      "cell_type": "code",
      "metadata": {
        "id": "Be2sHhtcVoyl",
        "outputId": "cbd88dde-dd71-46ab-81ec-baed8d5aa27c",
        "colab": {
          "base_uri": "https://localhost:8080/",
          "height": 275
        }
      },
      "source": [
        "tab00=pd.crosstab(df[\"Por Omar\"],df[\"Bairro\"],margins=True)\n",
        "tab00\n",
        "# tabela cruzada entre influência por Braga e por Omar"
      ],
      "execution_count": null,
      "outputs": [
        {
          "output_type": "execute_result",
          "data": {
            "text/html": [
              "<div>\n",
              "<style scoped>\n",
              "    .dataframe tbody tr th:only-of-type {\n",
              "        vertical-align: middle;\n",
              "    }\n",
              "\n",
              "    .dataframe tbody tr th {\n",
              "        vertical-align: top;\n",
              "    }\n",
              "\n",
              "    .dataframe thead th {\n",
              "        text-align: right;\n",
              "    }\n",
              "</style>\n",
              "<table border=\"1\" class=\"dataframe\">\n",
              "  <thead>\n",
              "    <tr style=\"text-align: right;\">\n",
              "      <th>Bairro</th>\n",
              "      <th>Centro</th>\n",
              "      <th>Chagas</th>\n",
              "      <th>Do Pera</th>\n",
              "      <th>Duque</th>\n",
              "      <th>Espirito Santo</th>\n",
              "      <th>Itamarati</th>\n",
              "      <th>Santa Efigênia</th>\n",
              "      <th>Santa Helena</th>\n",
              "      <th>Tauá Mirim</th>\n",
              "      <th>União</th>\n",
              "      <th>Urucu</th>\n",
              "      <th>Z - Rural</th>\n",
              "      <th>centro</th>\n",
              "      <th>All</th>\n",
              "    </tr>\n",
              "    <tr>\n",
              "      <th>Por Omar</th>\n",
              "      <th></th>\n",
              "      <th></th>\n",
              "      <th></th>\n",
              "      <th></th>\n",
              "      <th></th>\n",
              "      <th></th>\n",
              "      <th></th>\n",
              "      <th></th>\n",
              "      <th></th>\n",
              "      <th></th>\n",
              "      <th></th>\n",
              "      <th></th>\n",
              "      <th></th>\n",
              "      <th></th>\n",
              "    </tr>\n",
              "  </thead>\n",
              "  <tbody>\n",
              "    <tr>\n",
              "      <th>Não</th>\n",
              "      <td>8</td>\n",
              "      <td>17</td>\n",
              "      <td>4</td>\n",
              "      <td>10</td>\n",
              "      <td>8</td>\n",
              "      <td>11</td>\n",
              "      <td>7</td>\n",
              "      <td>4</td>\n",
              "      <td>23</td>\n",
              "      <td>11</td>\n",
              "      <td>17</td>\n",
              "      <td>0</td>\n",
              "      <td>0</td>\n",
              "      <td>120</td>\n",
              "    </tr>\n",
              "    <tr>\n",
              "      <th>Sem Opinião</th>\n",
              "      <td>20</td>\n",
              "      <td>21</td>\n",
              "      <td>9</td>\n",
              "      <td>11</td>\n",
              "      <td>9</td>\n",
              "      <td>21</td>\n",
              "      <td>13</td>\n",
              "      <td>17</td>\n",
              "      <td>16</td>\n",
              "      <td>25</td>\n",
              "      <td>19</td>\n",
              "      <td>1</td>\n",
              "      <td>1</td>\n",
              "      <td>183</td>\n",
              "    </tr>\n",
              "    <tr>\n",
              "      <th>Sim</th>\n",
              "      <td>26</td>\n",
              "      <td>22</td>\n",
              "      <td>15</td>\n",
              "      <td>8</td>\n",
              "      <td>6</td>\n",
              "      <td>15</td>\n",
              "      <td>11</td>\n",
              "      <td>7</td>\n",
              "      <td>8</td>\n",
              "      <td>19</td>\n",
              "      <td>19</td>\n",
              "      <td>2</td>\n",
              "      <td>0</td>\n",
              "      <td>158</td>\n",
              "    </tr>\n",
              "    <tr>\n",
              "      <th>All</th>\n",
              "      <td>54</td>\n",
              "      <td>60</td>\n",
              "      <td>28</td>\n",
              "      <td>29</td>\n",
              "      <td>23</td>\n",
              "      <td>47</td>\n",
              "      <td>31</td>\n",
              "      <td>28</td>\n",
              "      <td>47</td>\n",
              "      <td>55</td>\n",
              "      <td>55</td>\n",
              "      <td>3</td>\n",
              "      <td>1</td>\n",
              "      <td>461</td>\n",
              "    </tr>\n",
              "  </tbody>\n",
              "</table>\n",
              "</div>"
            ],
            "text/plain": [
              "Bairro       Centro  Chagas  Do Pera  Duque  ...  Urucu  Z - Rural  centro  All\n",
              "Por Omar                                     ...                               \n",
              "Não               8      17        4     10  ...     17          0       0  120\n",
              "Sem Opinião      20      21        9     11  ...     19          1       1  183\n",
              "Sim              26      22       15      8  ...     19          2       0  158\n",
              "All              54      60       28     29  ...     55          3       1  461\n",
              "\n",
              "[4 rows x 14 columns]"
            ]
          },
          "metadata": {
            "tags": []
          },
          "execution_count": 166
        }
      ]
    },
    {
      "cell_type": "markdown",
      "metadata": {
        "id": "-goN12qB2uzh"
      },
      "source": [
        "## Divisão Populacional por Escolaridade"
      ]
    },
    {
      "cell_type": "code",
      "metadata": {
        "id": "lhHoTeIw2yBT",
        "outputId": "8ccf032e-648c-4dc0-dd72-aba70552e128",
        "colab": {
          "base_uri": "https://localhost:8080/"
        }
      },
      "source": [
        "val_escola = df[\"Escolaridade\"].value_counts()\n",
        "val_escola"
      ],
      "execution_count": null,
      "outputs": [
        {
          "output_type": "execute_result",
          "data": {
            "text/plain": [
              "Médio Completo         155\n",
              "Fundam. Incompleto     111\n",
              "Médio Incompleto        73\n",
              "Não Alfabetizado        29\n",
              "Fundam. Completo        28\n",
              "Apenas Alfabetizado     26\n",
              "Superior Incompleto     20\n",
              "Pós graduação           19\n",
              "Name: Escolaridade, dtype: int64"
            ]
          },
          "metadata": {
            "tags": []
          },
          "execution_count": 167
        }
      ]
    },
    {
      "cell_type": "code",
      "metadata": {
        "id": "lOqFtIkZKoWL",
        "outputId": "24fafb07-25e4-43fd-989f-270e762cc064",
        "colab": {
          "base_uri": "https://localhost:8080/"
        }
      },
      "source": [
        "a = val_escola.to_numpy()\n",
        "\n",
        "print(\n",
        "    \"\\n percentil eh:\",np.percentile(a, 1),\n",
        "    \"\\n média eh:\",np.mean(a),\n",
        "    \"\\n mediana eh:\", np.median(a))"
      ],
      "execution_count": null,
      "outputs": [
        {
          "output_type": "stream",
          "text": [
            "\n",
            " percentil eh: 19.069999999999997 \n",
            " média eh: 57.625 \n",
            " mediana eh: 28.5\n"
          ],
          "name": "stdout"
        }
      ]
    },
    {
      "cell_type": "markdown",
      "metadata": {
        "id": "FLUKBe8B3Ijy"
      },
      "source": [
        "### Tabela cruzada \"Escolaridade\" x \"Intencao\""
      ]
    },
    {
      "cell_type": "code",
      "metadata": {
        "id": "Jo820SR43PBX",
        "outputId": "4fbb35dd-cc9f-4abc-b4e4-7c5537be0dcf",
        "colab": {
          "base_uri": "https://localhost:8080/",
          "height": 359
        }
      },
      "source": [
        "tab07=pd.crosstab(df[\"Escolaridade\"],df[\"Intencao\"],margins=True)\n",
        "tab07"
      ],
      "execution_count": null,
      "outputs": [
        {
          "output_type": "execute_result",
          "data": {
            "text/html": [
              "<div>\n",
              "<style scoped>\n",
              "    .dataframe tbody tr th:only-of-type {\n",
              "        vertical-align: middle;\n",
              "    }\n",
              "\n",
              "    .dataframe tbody tr th {\n",
              "        vertical-align: top;\n",
              "    }\n",
              "\n",
              "    .dataframe thead th {\n",
              "        text-align: right;\n",
              "    }\n",
              "</style>\n",
              "<table border=\"1\" class=\"dataframe\">\n",
              "  <thead>\n",
              "    <tr style=\"text-align: right;\">\n",
              "      <th>Intencao</th>\n",
              "      <th>Adail</th>\n",
              "      <th>C.T.</th>\n",
              "      <th>Desconhecido</th>\n",
              "      <th>Iran</th>\n",
              "      <th>Magalhaes</th>\n",
              "      <th>Mitouso</th>\n",
              "      <th>Nulo</th>\n",
              "      <th>indeciso</th>\n",
              "      <th>All</th>\n",
              "    </tr>\n",
              "    <tr>\n",
              "      <th>Escolaridade</th>\n",
              "      <th></th>\n",
              "      <th></th>\n",
              "      <th></th>\n",
              "      <th></th>\n",
              "      <th></th>\n",
              "      <th></th>\n",
              "      <th></th>\n",
              "      <th></th>\n",
              "      <th></th>\n",
              "    </tr>\n",
              "  </thead>\n",
              "  <tbody>\n",
              "    <tr>\n",
              "      <th>Apenas Alfabetizado</th>\n",
              "      <td>19</td>\n",
              "      <td>0</td>\n",
              "      <td>0</td>\n",
              "      <td>0</td>\n",
              "      <td>3</td>\n",
              "      <td>0</td>\n",
              "      <td>0</td>\n",
              "      <td>0</td>\n",
              "      <td>22</td>\n",
              "    </tr>\n",
              "    <tr>\n",
              "      <th>Fundam. Completo</th>\n",
              "      <td>14</td>\n",
              "      <td>0</td>\n",
              "      <td>0</td>\n",
              "      <td>0</td>\n",
              "      <td>10</td>\n",
              "      <td>2</td>\n",
              "      <td>2</td>\n",
              "      <td>0</td>\n",
              "      <td>28</td>\n",
              "    </tr>\n",
              "    <tr>\n",
              "      <th>Fundam. Incompleto</th>\n",
              "      <td>47</td>\n",
              "      <td>1</td>\n",
              "      <td>0</td>\n",
              "      <td>1</td>\n",
              "      <td>27</td>\n",
              "      <td>7</td>\n",
              "      <td>16</td>\n",
              "      <td>2</td>\n",
              "      <td>101</td>\n",
              "    </tr>\n",
              "    <tr>\n",
              "      <th>Médio Completo</th>\n",
              "      <td>53</td>\n",
              "      <td>0</td>\n",
              "      <td>1</td>\n",
              "      <td>3</td>\n",
              "      <td>47</td>\n",
              "      <td>20</td>\n",
              "      <td>20</td>\n",
              "      <td>3</td>\n",
              "      <td>147</td>\n",
              "    </tr>\n",
              "    <tr>\n",
              "      <th>Médio Incompleto</th>\n",
              "      <td>30</td>\n",
              "      <td>0</td>\n",
              "      <td>0</td>\n",
              "      <td>3</td>\n",
              "      <td>24</td>\n",
              "      <td>3</td>\n",
              "      <td>5</td>\n",
              "      <td>2</td>\n",
              "      <td>67</td>\n",
              "    </tr>\n",
              "    <tr>\n",
              "      <th>Não Alfabetizado</th>\n",
              "      <td>7</td>\n",
              "      <td>0</td>\n",
              "      <td>0</td>\n",
              "      <td>0</td>\n",
              "      <td>5</td>\n",
              "      <td>8</td>\n",
              "      <td>2</td>\n",
              "      <td>0</td>\n",
              "      <td>22</td>\n",
              "    </tr>\n",
              "    <tr>\n",
              "      <th>Pós graduação</th>\n",
              "      <td>2</td>\n",
              "      <td>0</td>\n",
              "      <td>1</td>\n",
              "      <td>0</td>\n",
              "      <td>11</td>\n",
              "      <td>2</td>\n",
              "      <td>2</td>\n",
              "      <td>1</td>\n",
              "      <td>19</td>\n",
              "    </tr>\n",
              "    <tr>\n",
              "      <th>Superior Incompleto</th>\n",
              "      <td>2</td>\n",
              "      <td>0</td>\n",
              "      <td>0</td>\n",
              "      <td>0</td>\n",
              "      <td>10</td>\n",
              "      <td>3</td>\n",
              "      <td>3</td>\n",
              "      <td>1</td>\n",
              "      <td>19</td>\n",
              "    </tr>\n",
              "    <tr>\n",
              "      <th>All</th>\n",
              "      <td>174</td>\n",
              "      <td>1</td>\n",
              "      <td>2</td>\n",
              "      <td>7</td>\n",
              "      <td>137</td>\n",
              "      <td>45</td>\n",
              "      <td>50</td>\n",
              "      <td>9</td>\n",
              "      <td>425</td>\n",
              "    </tr>\n",
              "  </tbody>\n",
              "</table>\n",
              "</div>"
            ],
            "text/plain": [
              "Intencao             Adail  C.T.  Desconhecido  ...  Nulo  indeciso  All\n",
              "Escolaridade                                    ...                     \n",
              "Apenas Alfabetizado     19     0             0  ...     0         0   22\n",
              "Fundam. Completo        14     0             0  ...     2         0   28\n",
              "Fundam. Incompleto      47     1             0  ...    16         2  101\n",
              "Médio Completo          53     0             1  ...    20         3  147\n",
              "Médio Incompleto        30     0             0  ...     5         2   67\n",
              "Não Alfabetizado         7     0             0  ...     2         0   22\n",
              "Pós graduação            2     0             1  ...     2         1   19\n",
              "Superior Incompleto      2     0             0  ...     3         1   19\n",
              "All                    174     1             2  ...    50         9  425\n",
              "\n",
              "[9 rows x 9 columns]"
            ]
          },
          "metadata": {
            "tags": []
          },
          "execution_count": 169
        }
      ]
    },
    {
      "cell_type": "markdown",
      "metadata": {
        "id": "6sonbtW9V8ZO"
      },
      "source": [
        "## Divisão Populacional por Renda"
      ]
    },
    {
      "cell_type": "code",
      "metadata": {
        "id": "CIMii9eUXPnJ",
        "outputId": "9c8e8284-8e65-4bc3-a0da-04f428e01769",
        "colab": {
          "base_uri": "https://localhost:8080/"
        }
      },
      "source": [
        "val_renda = df[\"Renda\"].value_counts()\n",
        "val_renda"
      ],
      "execution_count": null,
      "outputs": [
        {
          "output_type": "execute_result",
          "data": {
            "text/plain": [
              "650.0     91\n",
              "1000.0    41\n",
              "1300.0    38\n",
              "600.0     25\n",
              "2000.0    24\n",
              "          ..\n",
              "135.0      1\n",
              "980.0      1\n",
              "120.0      1\n",
              "240.0      1\n",
              "640.0      1\n",
              "Name: Renda, Length: 64, dtype: int64"
            ]
          },
          "metadata": {
            "tags": []
          },
          "execution_count": 174
        }
      ]
    },
    {
      "cell_type": "code",
      "metadata": {
        "id": "LbFooDSXXVV8",
        "outputId": "f2d117b0-69c7-4711-a0c1-decbc6a3c0bc",
        "colab": {
          "base_uri": "https://localhost:8080/"
        }
      },
      "source": [
        "a = val_renda.to_numpy()\n",
        "\n",
        "print(\n",
        "    \"\\n percentil eh:\",np.percentile(a, 1),\n",
        "    \"\\n média eh:\",np.mean(a),\n",
        "    \"\\n mediana eh:\", np.median(a))"
      ],
      "execution_count": null,
      "outputs": [
        {
          "output_type": "stream",
          "text": [
            "\n",
            " percentil eh: 1.0 \n",
            " média eh: 6.484375 \n",
            " mediana eh: 1.0\n"
          ],
          "name": "stdout"
        }
      ]
    },
    {
      "cell_type": "markdown",
      "metadata": {
        "id": "PiGePEdTWAYI"
      },
      "source": [
        "#### Dados Cruzados de Renda por Faixa Etária"
      ]
    },
    {
      "cell_type": "code",
      "metadata": {
        "id": "Jda_XegeV_Gf",
        "outputId": "9809f2e2-cd05-45da-e48d-b70a22905fd1",
        "colab": {
          "base_uri": "https://localhost:8080/"
        }
      },
      "source": [
        "df_faixa_renda = df.groupby(by=['Faixa'])['Renda'].mean()\n",
        "df_faixa_renda"
      ],
      "execution_count": null,
      "outputs": [
        {
          "output_type": "execute_result",
          "data": {
            "text/plain": [
              "Faixa\n",
              "16 e 17    1387.000000\n",
              "18 a 21    1204.589041\n",
              "22 a 24    1101.615385\n",
              "25 a 29    1307.965517\n",
              "30 a 39    2953.720430\n",
              "40 a 49    1659.034483\n",
              "50 a 59    1368.184211\n",
              "60 e +     1070.833333\n",
              "Name: Renda, dtype: float64"
            ]
          },
          "metadata": {
            "tags": []
          },
          "execution_count": 170
        }
      ]
    },
    {
      "cell_type": "code",
      "metadata": {
        "id": "ugnarNqkWQ60",
        "outputId": "2ef5e582-9447-4e58-c1e7-53d2980b40ab",
        "colab": {
          "base_uri": "https://localhost:8080/",
          "height": 497
        }
      },
      "source": [
        "df_faixa_renda_plot = df_faixa_renda.to_frame(name='Renda média')\n",
        "ax = df_faixa_renda_plot.plot.bar(y='Renda média', rot=0, figsize=(10, 8))\n",
        "for p in ax.patches:\n",
        "    ax.annotate('%.2f' % p.get_height(), (p.get_x() * .99, p.get_height() * 1.009))"
      ],
      "execution_count": null,
      "outputs": [
        {
          "output_type": "display_data",
          "data": {
            "image/png": "[encoded data removed]",
            "text/plain": [
              "<Figure size 720x576 with 1 Axes>"
            ]
          },
          "metadata": {
            "tags": [],
            "needs_background": "light"
          }
        }
      ]
    },
    {
      "cell_type": "markdown",
      "metadata": {
        "id": "rEzMg7-TWeBf"
      },
      "source": [
        "### Dados Cruzados Renda por Faixa Etária por Intenção de Voto"
      ]
    },
    {
      "cell_type": "code",
      "metadata": {
        "id": "jZQ7cewtWiFx",
        "outputId": "284d4322-3dd6-47b3-b1e2-fbd1040a2ed4",
        "colab": {
          "base_uri": "https://localhost:8080/",
          "height": 328
        }
      },
      "source": [
        "\n",
        "df_faixa_renda = df.groupby(by=['Faixa', 'Intencao'])['Renda'].mean().to_frame().reset_index()\n",
        "pd.pivot_table(df_faixa_renda, values='Renda', index='Intencao', columns='Faixa', fill_value='-', margins=True)"
      ],
      "execution_count": null,
      "outputs": [
        {
          "output_type": "execute_result",
          "data": {
            "text/html": [
              "<div>\n",
              "<style scoped>\n",
              "    .dataframe tbody tr th:only-of-type {\n",
              "        vertical-align: middle;\n",
              "    }\n",
              "\n",
              "    .dataframe tbody tr th {\n",
              "        vertical-align: top;\n",
              "    }\n",
              "\n",
              "    .dataframe thead th {\n",
              "        text-align: right;\n",
              "    }\n",
              "</style>\n",
              "<table border=\"1\" class=\"dataframe\">\n",
              "  <thead>\n",
              "    <tr style=\"text-align: right;\">\n",
              "      <th>Faixa</th>\n",
              "      <th>16 e 17</th>\n",
              "      <th>18 a 21</th>\n",
              "      <th>22 a 24</th>\n",
              "      <th>25 a 29</th>\n",
              "      <th>30 a 39</th>\n",
              "      <th>40 a 49</th>\n",
              "      <th>50 a 59</th>\n",
              "      <th>60 e +</th>\n",
              "      <th>All</th>\n",
              "    </tr>\n",
              "    <tr>\n",
              "      <th>Intencao</th>\n",
              "      <th></th>\n",
              "      <th></th>\n",
              "      <th></th>\n",
              "      <th></th>\n",
              "      <th></th>\n",
              "      <th></th>\n",
              "      <th></th>\n",
              "      <th></th>\n",
              "      <th></th>\n",
              "    </tr>\n",
              "  </thead>\n",
              "  <tbody>\n",
              "    <tr>\n",
              "      <th>Adail</th>\n",
              "      <td>1070</td>\n",
              "      <td>941.391</td>\n",
              "      <td>740.214</td>\n",
              "      <td>1195.38</td>\n",
              "      <td>4426.07</td>\n",
              "      <td>1070.17</td>\n",
              "      <td>1715.38</td>\n",
              "      <td>816.667</td>\n",
              "      <td>1496.91</td>\n",
              "    </tr>\n",
              "    <tr>\n",
              "      <th>Desconhecido</th>\n",
              "      <td>-</td>\n",
              "      <td>883</td>\n",
              "      <td>-</td>\n",
              "      <td>-</td>\n",
              "      <td>-</td>\n",
              "      <td>-</td>\n",
              "      <td>-</td>\n",
              "      <td>-</td>\n",
              "      <td>883</td>\n",
              "    </tr>\n",
              "    <tr>\n",
              "      <th>Iran</th>\n",
              "      <td>500</td>\n",
              "      <td>650</td>\n",
              "      <td>-</td>\n",
              "      <td>500</td>\n",
              "      <td>2000</td>\n",
              "      <td>-</td>\n",
              "      <td>3141</td>\n",
              "      <td>-</td>\n",
              "      <td>1358.2</td>\n",
              "    </tr>\n",
              "    <tr>\n",
              "      <th>Magalhaes</th>\n",
              "      <td>1943.75</td>\n",
              "      <td>1422.5</td>\n",
              "      <td>1041.67</td>\n",
              "      <td>1344.44</td>\n",
              "      <td>2063.06</td>\n",
              "      <td>1446.88</td>\n",
              "      <td>965.385</td>\n",
              "      <td>1833.33</td>\n",
              "      <td>1507.63</td>\n",
              "    </tr>\n",
              "    <tr>\n",
              "      <th>Mitouso</th>\n",
              "      <td>100</td>\n",
              "      <td>1090</td>\n",
              "      <td>3800</td>\n",
              "      <td>1020</td>\n",
              "      <td>1316.67</td>\n",
              "      <td>2900</td>\n",
              "      <td>2200</td>\n",
              "      <td>906.25</td>\n",
              "      <td>1666.61</td>\n",
              "    </tr>\n",
              "    <tr>\n",
              "      <th>Nulo</th>\n",
              "      <td>-</td>\n",
              "      <td>1442</td>\n",
              "      <td>675</td>\n",
              "      <td>856.4</td>\n",
              "      <td>1319</td>\n",
              "      <td>3518.57</td>\n",
              "      <td>825</td>\n",
              "      <td>714.286</td>\n",
              "      <td>1335.75</td>\n",
              "    </tr>\n",
              "    <tr>\n",
              "      <th>indeciso</th>\n",
              "      <td>-</td>\n",
              "      <td>1300</td>\n",
              "      <td>-</td>\n",
              "      <td>5150</td>\n",
              "      <td>1150</td>\n",
              "      <td>1800</td>\n",
              "      <td>475</td>\n",
              "      <td>-</td>\n",
              "      <td>1975</td>\n",
              "    </tr>\n",
              "    <tr>\n",
              "      <th>All</th>\n",
              "      <td>903.438</td>\n",
              "      <td>1104.13</td>\n",
              "      <td>1564.22</td>\n",
              "      <td>1677.7</td>\n",
              "      <td>2045.8</td>\n",
              "      <td>2147.12</td>\n",
              "      <td>1553.63</td>\n",
              "      <td>1067.63</td>\n",
              "      <td>1530.2</td>\n",
              "    </tr>\n",
              "  </tbody>\n",
              "</table>\n",
              "</div>"
            ],
            "text/plain": [
              "Faixa         16 e 17  18 a 21  22 a 24  ...  50 a 59   60 e +      All\n",
              "Intencao                                 ...                           \n",
              "Adail            1070  941.391  740.214  ...  1715.38  816.667  1496.91\n",
              "Desconhecido        -      883        -  ...        -        -      883\n",
              "Iran              500      650        -  ...     3141        -   1358.2\n",
              "Magalhaes     1943.75   1422.5  1041.67  ...  965.385  1833.33  1507.63\n",
              "Mitouso           100     1090     3800  ...     2200   906.25  1666.61\n",
              "Nulo                -     1442      675  ...      825  714.286  1335.75\n",
              "indeciso            -     1300        -  ...      475        -     1975\n",
              "All           903.438  1104.13  1564.22  ...  1553.63  1067.63   1530.2\n",
              "\n",
              "[8 rows x 9 columns]"
            ]
          },
          "metadata": {
            "tags": []
          },
          "execution_count": 172
        }
      ]
    }
  ]
}