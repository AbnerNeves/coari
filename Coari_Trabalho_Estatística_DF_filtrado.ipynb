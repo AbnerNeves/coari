{
  "nbformat": 4,
  "nbformat_minor": 0,
  "metadata": {
    "colab": {
      "name": "Coari_Trabalho_Estatística_DF_filtrado.ipynb",
      "provenance": [],
      "collapsed_sections": [],
      "toc_visible": true
    },
    "kernelspec": {
      "name": "python3",
      "display_name": "Python 3"
    }
  },
  "cells": [
    {
      "cell_type": "markdown",
      "metadata": {
        "id": "g--ZAV3sQm8g"
      },
      "source": [
        "# Sobre o trabalho\n",
        "\n",
        "O trabalho a seguir foi feito utilizando dados obtidos de um questionário de pesquisa de intenção de voto da eleição para prefeito de Coari do ano de 2012. \n"
      ]
    },
    {
      "cell_type": "markdown",
      "metadata": {
        "id": "3zIoM5YjQU9v"
      },
      "source": [
        "# Preparação do dataframe"
      ]
    },
    {
      "cell_type": "code",
      "metadata": {
        "id": "dVbFOpm0Pfnq"
      },
      "source": [
        "import numpy as np\n",
        "import pandas as pd\n",
        "import numpy as np\n",
        "import seaborn as sns\n",
        "import matplotlib.pyplot as plt\n",
        "from scipy.stats import binom, nbinom, poisson, uniform, expon, norm \n",
        "import statistics as st\n",
        "import plotly.express as px\n",
        "import plotly.figure_factory as ff\n",
        "import plotly.graph_objects as go"
      ],
      "execution_count": 1,
      "outputs": []
    },
    {
      "cell_type": "code",
      "metadata": {
        "id": "gsPO-dFXPlhZ",
        "outputId": "6ae9a6f1-8365-4f10-bae1-4ae982ae89c1",
        "colab": {
          "base_uri": "https://localhost:8080/"
        }
      },
      "source": [
        "# Download do Dataframe abaixo\n",
        "!npx degit wfsilva-uea/coari/coari_db_filtrado.csv coari_db.csv -f"
      ],
      "execution_count": 2,
      "outputs": [
        {
          "output_type": "stream",
          "text": [
            "\u001b[K\u001b[?25hnpx: installed 1 in 2.425s\n",
            "\u001b[36m> cloned \u001b[1mwfsilva-uea/coari\u001b[22m#\u001b[1mmaster\u001b[22m to coari_db.csv\u001b[39m\n"
          ],
          "name": "stdout"
        }
      ]
    },
    {
      "cell_type": "code",
      "metadata": {
        "id": "d2C6ImBJPsAS"
      },
      "source": [
        "types = {\n",
        "  'Idade': int, \n",
        "  'Genero': str, \n",
        "  'Faixa': str, \n",
        "  'Bairro': str, \n",
        "  'Prioridade': str, \n",
        "  'Intencao': str, \n",
        "  'Por Omar': str, \n",
        "  'Por Braga': str, \n",
        "}\n",
        "# Abertura inicial do dataframe\n",
        "df = pd.read_csv('coari_db.csv', dtype=types)\n",
        "df[\"Intencao\"].replace({\n",
        "    'g': 'Outros',    \n",
        "    'f': 'Nulo',    \n",
        "    'h': 'Outros'\n",
        "}, inplace=True)\n",
        "df2 = df.copy()"
      ],
      "execution_count": 3,
      "outputs": []
    },
    {
      "cell_type": "markdown",
      "metadata": {
        "id": "HEBIZEuKoflL"
      },
      "source": [
        "## Preparação de Funções\n"
      ]
    },
    {
      "cell_type": "code",
      "metadata": {
        "id": "VHmXPOWZoiNu"
      },
      "source": [
        "# Coeficiente de variação\n",
        "\n",
        "def cv(n):\n",
        "  return round(100*st.stdev(n)/st.mean(n), 2)\n"
      ],
      "execution_count": 4,
      "outputs": []
    },
    {
      "cell_type": "markdown",
      "metadata": {
        "id": "EmW-RYyVQaDv"
      },
      "source": [
        "# Leitura do dataframe"
      ]
    },
    {
      "cell_type": "code",
      "metadata": {
        "id": "KibmkcI2QeST",
        "outputId": "7d76ada9-866c-4aa9-e55c-f7a586827750",
        "colab": {
          "base_uri": "https://localhost:8080/"
        }
      },
      "source": [
        "df.info()\n"
      ],
      "execution_count": 5,
      "outputs": [
        {
          "output_type": "stream",
          "text": [
            "<class 'pandas.core.frame.DataFrame'>\n",
            "RangeIndex: 461 entries, 0 to 460\n",
            "Data columns (total 11 columns):\n",
            " #   Column        Non-Null Count  Dtype  \n",
            "---  ------        --------------  -----  \n",
            " 0   Unnamed: 0    461 non-null    int64  \n",
            " 1   Idade         461 non-null    int64  \n",
            " 2   Faixa         461 non-null    object \n",
            " 3   Bairro        461 non-null    object \n",
            " 4   Genero        461 non-null    object \n",
            " 5   Prioridade    453 non-null    object \n",
            " 6   Intencao      425 non-null    object \n",
            " 7   Por Omar      461 non-null    object \n",
            " 8   Por Braga     460 non-null    object \n",
            " 9   Escolaridade  461 non-null    object \n",
            " 10  Renda         415 non-null    float64\n",
            "dtypes: float64(1), int64(2), object(8)\n",
            "memory usage: 39.7+ KB\n"
          ],
          "name": "stdout"
        }
      ]
    },
    {
      "cell_type": "markdown",
      "metadata": {
        "id": "6kbp44WtRaXY"
      },
      "source": [
        "**Conclusão do comando info()**: a coluna \"intenção de voto\" e \"prioridades em coari\" apresentam a maior taixa de dados nulos (por conta do entrevistado não quis responder). a coluna \"votaria em quem for indicado pelo Braga\" apresenta 1 uma pessoa que não quis responder."
      ]
    },
    {
      "cell_type": "code",
      "metadata": {
        "id": "3LmYoFa0QQ5i",
        "outputId": "495811a5-ee3a-4014-f785-b9bd5ac2a73b",
        "colab": {
          "base_uri": "https://localhost:8080/",
          "height": 204
        }
      },
      "source": [
        "df.tail() \n",
        "# aperto apenas final para confirmar total de 461 (0-460) itens presente no dataframe.\n"
      ],
      "execution_count": 6,
      "outputs": [
        {
          "output_type": "execute_result",
          "data": {
            "text/html": [
              "<div>\n",
              "<style scoped>\n",
              "    .dataframe tbody tr th:only-of-type {\n",
              "        vertical-align: middle;\n",
              "    }\n",
              "\n",
              "    .dataframe tbody tr th {\n",
              "        vertical-align: top;\n",
              "    }\n",
              "\n",
              "    .dataframe thead th {\n",
              "        text-align: right;\n",
              "    }\n",
              "</style>\n",
              "<table border=\"1\" class=\"dataframe\">\n",
              "  <thead>\n",
              "    <tr style=\"text-align: right;\">\n",
              "      <th></th>\n",
              "      <th>Unnamed: 0</th>\n",
              "      <th>Idade</th>\n",
              "      <th>Faixa</th>\n",
              "      <th>Bairro</th>\n",
              "      <th>Genero</th>\n",
              "      <th>Prioridade</th>\n",
              "      <th>Intencao</th>\n",
              "      <th>Por Omar</th>\n",
              "      <th>Por Braga</th>\n",
              "      <th>Escolaridade</th>\n",
              "      <th>Renda</th>\n",
              "    </tr>\n",
              "  </thead>\n",
              "  <tbody>\n",
              "    <tr>\n",
              "      <th>456</th>\n",
              "      <td>456</td>\n",
              "      <td>16</td>\n",
              "      <td>16 e 17</td>\n",
              "      <td>Do Pera</td>\n",
              "      <td>Masculino</td>\n",
              "      <td>Segurança</td>\n",
              "      <td>Adail</td>\n",
              "      <td>Sim</td>\n",
              "      <td>Sim</td>\n",
              "      <td>Não Alfabetizado</td>\n",
              "      <td>NaN</td>\n",
              "    </tr>\n",
              "    <tr>\n",
              "      <th>457</th>\n",
              "      <td>457</td>\n",
              "      <td>37</td>\n",
              "      <td>30 a 39</td>\n",
              "      <td>Do Pera</td>\n",
              "      <td>Masculino</td>\n",
              "      <td>Infraestrutura</td>\n",
              "      <td>Adail</td>\n",
              "      <td>Sem Opinião</td>\n",
              "      <td>Sim</td>\n",
              "      <td>Fundam. Completo</td>\n",
              "      <td>700.0</td>\n",
              "    </tr>\n",
              "    <tr>\n",
              "      <th>458</th>\n",
              "      <td>458</td>\n",
              "      <td>30</td>\n",
              "      <td>30 a 39</td>\n",
              "      <td>Do Pera</td>\n",
              "      <td>Masculino</td>\n",
              "      <td>Emprego</td>\n",
              "      <td>Adail</td>\n",
              "      <td>Sim</td>\n",
              "      <td>Não</td>\n",
              "      <td>Médio Completo</td>\n",
              "      <td>1300.0</td>\n",
              "    </tr>\n",
              "    <tr>\n",
              "      <th>459</th>\n",
              "      <td>459</td>\n",
              "      <td>32</td>\n",
              "      <td>30 a 39</td>\n",
              "      <td>Do Pera</td>\n",
              "      <td>Masculino</td>\n",
              "      <td>Emprego</td>\n",
              "      <td>Adail</td>\n",
              "      <td>Sem Opinião</td>\n",
              "      <td>Sem Opinião</td>\n",
              "      <td>Fundam. Incompleto</td>\n",
              "      <td>NaN</td>\n",
              "    </tr>\n",
              "    <tr>\n",
              "      <th>460</th>\n",
              "      <td>460</td>\n",
              "      <td>54</td>\n",
              "      <td>50 a 59</td>\n",
              "      <td>Do Pera</td>\n",
              "      <td>Feminino</td>\n",
              "      <td>Emprego</td>\n",
              "      <td>Adail</td>\n",
              "      <td>Sim</td>\n",
              "      <td>Não</td>\n",
              "      <td>Fundam. Incompleto</td>\n",
              "      <td>450.0</td>\n",
              "    </tr>\n",
              "  </tbody>\n",
              "</table>\n",
              "</div>"
            ],
            "text/plain": [
              "     Unnamed: 0  Idade    Faixa  ...    Por Braga        Escolaridade   Renda\n",
              "456         456     16  16 e 17  ...          Sim    Não Alfabetizado     NaN\n",
              "457         457     37  30 a 39  ...          Sim    Fundam. Completo   700.0\n",
              "458         458     30  30 a 39  ...          Não      Médio Completo  1300.0\n",
              "459         459     32  30 a 39  ...  Sem Opinião  Fundam. Incompleto     NaN\n",
              "460         460     54  50 a 59  ...          Não  Fundam. Incompleto   450.0\n",
              "\n",
              "[5 rows x 11 columns]"
            ]
          },
          "metadata": {
            "tags": []
          },
          "execution_count": 6
        }
      ]
    },
    {
      "cell_type": "markdown",
      "metadata": {
        "id": "cq9LcgDeUInH"
      },
      "source": [
        "## Divisão Populacional por Gênero"
      ]
    },
    {
      "cell_type": "code",
      "metadata": {
        "id": "CQoUTIdnS3ur",
        "outputId": "ef1e42b5-edbf-41d3-f28e-ab087b6b139b",
        "colab": {
          "base_uri": "https://localhost:8080/"
        }
      },
      "source": [
        "val_genero = df[\"Genero\"].value_counts()\n",
        "val_genero"
      ],
      "execution_count": 7,
      "outputs": [
        {
          "output_type": "execute_result",
          "data": {
            "text/plain": [
              "Feminino     232\n",
              "Masculino    229\n",
              "Name: Genero, dtype: int64"
            ]
          },
          "metadata": {
            "tags": []
          },
          "execution_count": 7
        }
      ]
    },
    {
      "cell_type": "code",
      "metadata": {
        "id": "MPHer2AGKHWM",
        "outputId": "c340f99b-c214-4edb-85db-0e4aaa2bbb0c",
        "colab": {
          "base_uri": "https://localhost:8080/",
          "height": 296
        }
      },
      "source": [
        "sns.histplot(df2[\"Genero\"])"
      ],
      "execution_count": 8,
      "outputs": [
        {
          "output_type": "execute_result",
          "data": {
            "text/plain": [
              "<matplotlib.axes._subplots.AxesSubplot at 0x7f952f779d68>"
            ]
          },
          "metadata": {
            "tags": []
          },
          "execution_count": 8
        },
        {
          "output_type": "display_data",
          "data": {
            "image/png": "[encoded data removed]",
            "text/plain": [
              "<Figure size 432x288 with 1 Axes>"
            ]
          },
          "metadata": {
            "tags": [],
            "needs_background": "light"
          }
        }
      ]
    },
    {
      "cell_type": "code",
      "metadata": {
        "id": "miySU2XTovZy",
        "outputId": "ce0f6ecc-80fa-493c-c8e5-028f3586ed7a",
        "colab": {
          "base_uri": "https://localhost:8080/",
          "height": 542
        }
      },
      "source": [
        "qt9 = val_genero\n",
        "fig = go.Figure(data=[go.Pie(labels=qt9.keys(),values=qt9.values,title=\"Divisão por Gênero\")])\n",
        "fig.show()"
      ],
      "execution_count": 45,
      "outputs": [
        {
          "output_type": "display_data",
          "data": {
            "text/html": [
              "<html>\n",
              "<head><meta charset=\"utf-8\" /></head>\n",
              "<body>\n",
              "    <div>\n",
              "            <script src=\"https://cdnjs.cloudflare.com/ajax/libs/mathjax/2.7.5/MathJax.js?config=TeX-AMS-MML_SVG\"></script><script type=\"text/javascript\">if (window.MathJax) {MathJax.Hub.Config({SVG: {font: \"STIX-Web\"}});}</script>\n",
              "                <script type=\"text/javascript\">window.PlotlyConfig = {MathJaxConfig: 'local'};</script>\n",
              "        <script src=\"https://cdn.plot.ly/plotly-latest.min.js\"></script>    \n",
              "            <div id=\"6d51e5bc-2455-416f-b7f2-e0f1d10f4dca\" class=\"plotly-graph-div\" style=\"height:525px; width:100%;\"></div>\n",
              "            <script type=\"text/javascript\">\n",
              "                \n",
              "                    window.PLOTLYENV=window.PLOTLYENV || {};\n",
              "                    \n",
              "                if (document.getElementById(\"6d51e5bc-2455-416f-b7f2-e0f1d10f4dca\")) {\n",
              "                    Plotly.newPlot(\n",
              "                        '6d51e5bc-2455-416f-b7f2-e0f1d10f4dca',\n",
              "                        [{\"labels\": [\"Feminino\", \"Masculino\"], \"title\": {\"text\": \"Divis\\u00e3o por G\\u00eanero\"}, \"type\": \"pie\", \"values\": [232, 229]}],\n",
              "                        {\"template\": {\"data\": {\"bar\": [{\"error_x\": {\"color\": \"#2a3f5f\"}, \"error_y\": {\"color\": \"#2a3f5f\"}, \"marker\": {\"line\": {\"color\": \"#E5ECF6\", \"width\": 0.5}}, \"type\": \"bar\"}], \"barpolar\": [{\"marker\": {\"line\": {\"color\": \"#E5ECF6\", \"width\": 0.5}}, \"type\": \"barpolar\"}], \"carpet\": [{\"aaxis\": {\"endlinecolor\": \"#2a3f5f\", \"gridcolor\": \"white\", \"linecolor\": \"white\", \"minorgridcolor\": \"white\", \"startlinecolor\": \"#2a3f5f\"}, \"baxis\": {\"endlinecolor\": \"#2a3f5f\", \"gridcolor\": \"white\", \"linecolor\": \"white\", \"minorgridcolor\": \"white\", \"startlinecolor\": \"#2a3f5f\"}, \"type\": \"carpet\"}], \"choropleth\": [{\"colorbar\": {\"outlinewidth\": 0, \"ticks\": \"\"}, \"type\": \"choropleth\"}], \"contour\": [{\"colorbar\": {\"outlinewidth\": 0, \"ticks\": \"\"}, \"colorscale\": [[0.0, \"#0d0887\"], [0.1111111111111111, \"#46039f\"], [0.2222222222222222, \"#7201a8\"], [0.3333333333333333, \"#9c179e\"], [0.4444444444444444, \"#bd3786\"], [0.5555555555555556, \"#d8576b\"], [0.6666666666666666, \"#ed7953\"], [0.7777777777777778, \"#fb9f3a\"], [0.8888888888888888, \"#fdca26\"], [1.0, \"#f0f921\"]], \"type\": \"contour\"}], \"contourcarpet\": [{\"colorbar\": {\"outlinewidth\": 0, \"ticks\": \"\"}, \"type\": \"contourcarpet\"}], \"heatmap\": [{\"colorbar\": {\"outlinewidth\": 0, \"ticks\": \"\"}, \"colorscale\": [[0.0, \"#0d0887\"], [0.1111111111111111, \"#46039f\"], [0.2222222222222222, \"#7201a8\"], [0.3333333333333333, \"#9c179e\"], [0.4444444444444444, \"#bd3786\"], [0.5555555555555556, \"#d8576b\"], [0.6666666666666666, \"#ed7953\"], [0.7777777777777778, \"#fb9f3a\"], [0.8888888888888888, \"#fdca26\"], [1.0, \"#f0f921\"]], \"type\": \"heatmap\"}], \"heatmapgl\": [{\"colorbar\": {\"outlinewidth\": 0, \"ticks\": \"\"}, \"colorscale\": [[0.0, \"#0d0887\"], [0.1111111111111111, \"#46039f\"], [0.2222222222222222, \"#7201a8\"], [0.3333333333333333, \"#9c179e\"], [0.4444444444444444, \"#bd3786\"], [0.5555555555555556, \"#d8576b\"], [0.6666666666666666, \"#ed7953\"], [0.7777777777777778, \"#fb9f3a\"], [0.8888888888888888, \"#fdca26\"], [1.0, \"#f0f921\"]], \"type\": \"heatmapgl\"}], \"histogram\": [{\"marker\": {\"colorbar\": {\"outlinewidth\": 0, \"ticks\": \"\"}}, \"type\": \"histogram\"}], \"histogram2d\": [{\"colorbar\": {\"outlinewidth\": 0, \"ticks\": \"\"}, \"colorscale\": [[0.0, \"#0d0887\"], [0.1111111111111111, \"#46039f\"], [0.2222222222222222, \"#7201a8\"], [0.3333333333333333, \"#9c179e\"], [0.4444444444444444, \"#bd3786\"], [0.5555555555555556, \"#d8576b\"], [0.6666666666666666, \"#ed7953\"], [0.7777777777777778, \"#fb9f3a\"], [0.8888888888888888, \"#fdca26\"], [1.0, \"#f0f921\"]], \"type\": \"histogram2d\"}], \"histogram2dcontour\": [{\"colorbar\": {\"outlinewidth\": 0, \"ticks\": \"\"}, \"colorscale\": [[0.0, \"#0d0887\"], [0.1111111111111111, \"#46039f\"], [0.2222222222222222, \"#7201a8\"], [0.3333333333333333, \"#9c179e\"], [0.4444444444444444, \"#bd3786\"], [0.5555555555555556, \"#d8576b\"], [0.6666666666666666, \"#ed7953\"], [0.7777777777777778, \"#fb9f3a\"], [0.8888888888888888, \"#fdca26\"], [1.0, \"#f0f921\"]], \"type\": \"histogram2dcontour\"}], \"mesh3d\": [{\"colorbar\": {\"outlinewidth\": 0, \"ticks\": \"\"}, \"type\": \"mesh3d\"}], \"parcoords\": [{\"line\": {\"colorbar\": {\"outlinewidth\": 0, \"ticks\": \"\"}}, \"type\": \"parcoords\"}], \"pie\": [{\"automargin\": true, \"type\": \"pie\"}], \"scatter\": [{\"marker\": {\"colorbar\": {\"outlinewidth\": 0, \"ticks\": \"\"}}, \"type\": \"scatter\"}], \"scatter3d\": [{\"line\": {\"colorbar\": {\"outlinewidth\": 0, \"ticks\": \"\"}}, \"marker\": {\"colorbar\": {\"outlinewidth\": 0, \"ticks\": \"\"}}, \"type\": \"scatter3d\"}], \"scattercarpet\": [{\"marker\": {\"colorbar\": {\"outlinewidth\": 0, \"ticks\": \"\"}}, \"type\": \"scattercarpet\"}], \"scattergeo\": [{\"marker\": {\"colorbar\": {\"outlinewidth\": 0, \"ticks\": \"\"}}, \"type\": \"scattergeo\"}], \"scattergl\": [{\"marker\": {\"colorbar\": {\"outlinewidth\": 0, \"ticks\": \"\"}}, \"type\": \"scattergl\"}], \"scattermapbox\": [{\"marker\": {\"colorbar\": {\"outlinewidth\": 0, \"ticks\": \"\"}}, \"type\": \"scattermapbox\"}], \"scatterpolar\": [{\"marker\": {\"colorbar\": {\"outlinewidth\": 0, \"ticks\": \"\"}}, \"type\": \"scatterpolar\"}], \"scatterpolargl\": [{\"marker\": {\"colorbar\": {\"outlinewidth\": 0, \"ticks\": \"\"}}, \"type\": \"scatterpolargl\"}], \"scatterternary\": [{\"marker\": {\"colorbar\": {\"outlinewidth\": 0, \"ticks\": \"\"}}, \"type\": \"scatterternary\"}], \"surface\": [{\"colorbar\": {\"outlinewidth\": 0, \"ticks\": \"\"}, \"colorscale\": [[0.0, \"#0d0887\"], [0.1111111111111111, \"#46039f\"], [0.2222222222222222, \"#7201a8\"], [0.3333333333333333, \"#9c179e\"], [0.4444444444444444, \"#bd3786\"], [0.5555555555555556, \"#d8576b\"], [0.6666666666666666, \"#ed7953\"], [0.7777777777777778, \"#fb9f3a\"], [0.8888888888888888, \"#fdca26\"], [1.0, \"#f0f921\"]], \"type\": \"surface\"}], \"table\": [{\"cells\": {\"fill\": {\"color\": \"#EBF0F8\"}, \"line\": {\"color\": \"white\"}}, \"header\": {\"fill\": {\"color\": \"#C8D4E3\"}, \"line\": {\"color\": \"white\"}}, \"type\": \"table\"}]}, \"layout\": {\"annotationdefaults\": {\"arrowcolor\": \"#2a3f5f\", \"arrowhead\": 0, \"arrowwidth\": 1}, \"coloraxis\": {\"colorbar\": {\"outlinewidth\": 0, \"ticks\": \"\"}}, \"colorscale\": {\"diverging\": [[0, \"#8e0152\"], [0.1, \"#c51b7d\"], [0.2, \"#de77ae\"], [0.3, \"#f1b6da\"], [0.4, \"#fde0ef\"], [0.5, \"#f7f7f7\"], [0.6, \"#e6f5d0\"], [0.7, \"#b8e186\"], [0.8, \"#7fbc41\"], [0.9, \"#4d9221\"], [1, \"#276419\"]], \"sequential\": [[0.0, \"#0d0887\"], [0.1111111111111111, \"#46039f\"], [0.2222222222222222, \"#7201a8\"], [0.3333333333333333, \"#9c179e\"], [0.4444444444444444, \"#bd3786\"], [0.5555555555555556, \"#d8576b\"], [0.6666666666666666, \"#ed7953\"], [0.7777777777777778, \"#fb9f3a\"], [0.8888888888888888, \"#fdca26\"], [1.0, \"#f0f921\"]], \"sequentialminus\": [[0.0, \"#0d0887\"], [0.1111111111111111, \"#46039f\"], [0.2222222222222222, \"#7201a8\"], [0.3333333333333333, \"#9c179e\"], [0.4444444444444444, \"#bd3786\"], [0.5555555555555556, \"#d8576b\"], [0.6666666666666666, \"#ed7953\"], [0.7777777777777778, \"#fb9f3a\"], [0.8888888888888888, \"#fdca26\"], [1.0, \"#f0f921\"]]}, \"colorway\": [\"#636efa\", \"#EF553B\", \"#00cc96\", \"#ab63fa\", \"#FFA15A\", \"#19d3f3\", \"#FF6692\", \"#B6E880\", \"#FF97FF\", \"#FECB52\"], \"font\": {\"color\": \"#2a3f5f\"}, \"geo\": {\"bgcolor\": \"white\", \"lakecolor\": \"white\", \"landcolor\": \"#E5ECF6\", \"showlakes\": true, \"showland\": true, \"subunitcolor\": \"white\"}, \"hoverlabel\": {\"align\": \"left\"}, \"hovermode\": \"closest\", \"mapbox\": {\"style\": \"light\"}, \"paper_bgcolor\": \"white\", \"plot_bgcolor\": \"#E5ECF6\", \"polar\": {\"angularaxis\": {\"gridcolor\": \"white\", \"linecolor\": \"white\", \"ticks\": \"\"}, \"bgcolor\": \"#E5ECF6\", \"radialaxis\": {\"gridcolor\": \"white\", \"linecolor\": \"white\", \"ticks\": \"\"}}, \"scene\": {\"xaxis\": {\"backgroundcolor\": \"#E5ECF6\", \"gridcolor\": \"white\", \"gridwidth\": 2, \"linecolor\": \"white\", \"showbackground\": true, \"ticks\": \"\", \"zerolinecolor\": \"white\"}, \"yaxis\": {\"backgroundcolor\": \"#E5ECF6\", \"gridcolor\": \"white\", \"gridwidth\": 2, \"linecolor\": \"white\", \"showbackground\": true, \"ticks\": \"\", \"zerolinecolor\": \"white\"}, \"zaxis\": {\"backgroundcolor\": \"#E5ECF6\", \"gridcolor\": \"white\", \"gridwidth\": 2, \"linecolor\": \"white\", \"showbackground\": true, \"ticks\": \"\", \"zerolinecolor\": \"white\"}}, \"shapedefaults\": {\"line\": {\"color\": \"#2a3f5f\"}}, \"ternary\": {\"aaxis\": {\"gridcolor\": \"white\", \"linecolor\": \"white\", \"ticks\": \"\"}, \"baxis\": {\"gridcolor\": \"white\", \"linecolor\": \"white\", \"ticks\": \"\"}, \"bgcolor\": \"#E5ECF6\", \"caxis\": {\"gridcolor\": \"white\", \"linecolor\": \"white\", \"ticks\": \"\"}}, \"title\": {\"x\": 0.05}, \"xaxis\": {\"automargin\": true, \"gridcolor\": \"white\", \"linecolor\": \"white\", \"ticks\": \"\", \"title\": {\"standoff\": 15}, \"zerolinecolor\": \"white\", \"zerolinewidth\": 2}, \"yaxis\": {\"automargin\": true, \"gridcolor\": \"white\", \"linecolor\": \"white\", \"ticks\": \"\", \"title\": {\"standoff\": 15}, \"zerolinecolor\": \"white\", \"zerolinewidth\": 2}}}},\n",
              "                        {\"responsive\": true}\n",
              "                    ).then(function(){\n",
              "                            \n",
              "var gd = document.getElementById('6d51e5bc-2455-416f-b7f2-e0f1d10f4dca');\n",
              "var x = new MutationObserver(function (mutations, observer) {{\n",
              "        var display = window.getComputedStyle(gd).display;\n",
              "        if (!display || display === 'none') {{\n",
              "            console.log([gd, 'removed!']);\n",
              "            Plotly.purge(gd);\n",
              "            observer.disconnect();\n",
              "        }}\n",
              "}});\n",
              "\n",
              "// Listen for the removal of the full notebook cells\n",
              "var notebookContainer = gd.closest('#notebook-container');\n",
              "if (notebookContainer) {{\n",
              "    x.observe(notebookContainer, {childList: true});\n",
              "}}\n",
              "\n",
              "// Listen for the clearing of the current output cell\n",
              "var outputEl = gd.closest('.output');\n",
              "if (outputEl) {{\n",
              "    x.observe(outputEl, {childList: true});\n",
              "}}\n",
              "\n",
              "                        })\n",
              "                };\n",
              "                \n",
              "            </script>\n",
              "        </div>\n",
              "</body>\n",
              "</html>"
            ]
          },
          "metadata": {
            "tags": []
          }
        }
      ]
    },
    {
      "cell_type": "markdown",
      "metadata": {
        "id": "sZGtRdo4UOw6"
      },
      "source": [
        "## Divisão Populacional por Bairro"
      ]
    },
    {
      "cell_type": "code",
      "metadata": {
        "id": "2PmMSnWBUBN3",
        "outputId": "0a4cb24f-fdc8-4eaf-9ecc-989f222c2deb",
        "colab": {
          "base_uri": "https://localhost:8080/"
        }
      },
      "source": [
        "val_bairro = df[\"Bairro\"].value_counts()\n",
        "val_bairro"
      ],
      "execution_count": 9,
      "outputs": [
        {
          "output_type": "execute_result",
          "data": {
            "text/plain": [
              "Chagas            60\n",
              "União             55\n",
              "Urucu             55\n",
              "Centro            54\n",
              "Itamarati         47\n",
              "Tauá Mirim        47\n",
              "Santa Efigênia    31\n",
              "Duque             29\n",
              "Santa Helena      28\n",
              "Do Pera           28\n",
              "Espirito Santo    23\n",
              "Z - Rural          3\n",
              "centro             1\n",
              "Name: Bairro, dtype: int64"
            ]
          },
          "metadata": {
            "tags": []
          },
          "execution_count": 9
        }
      ]
    },
    {
      "cell_type": "code",
      "metadata": {
        "id": "gZHUhAkfopDu",
        "outputId": "a2c084d3-839d-47bc-fd93-8c92c874ffca",
        "colab": {
          "base_uri": "https://localhost:8080/",
          "height": 542
        }
      },
      "source": [
        "qt9 = val_bairro\n",
        "fig = go.Figure(data=[go.Pie(labels=qt9.keys(),values=qt9.values,title=\"Divisão por Bairro\")])\n",
        "fig.show()"
      ],
      "execution_count": 44,
      "outputs": [
        {
          "output_type": "display_data",
          "data": {
            "text/html": [
              "<html>\n",
              "<head><meta charset=\"utf-8\" /></head>\n",
              "<body>\n",
              "    <div>\n",
              "            <script src=\"https://cdnjs.cloudflare.com/ajax/libs/mathjax/2.7.5/MathJax.js?config=TeX-AMS-MML_SVG\"></script><script type=\"text/javascript\">if (window.MathJax) {MathJax.Hub.Config({SVG: {font: \"STIX-Web\"}});}</script>\n",
              "                <script type=\"text/javascript\">window.PlotlyConfig = {MathJaxConfig: 'local'};</script>\n",
              "        <script src=\"https://cdn.plot.ly/plotly-latest.min.js\"></script>    \n",
              "            <div id=\"3b15ffd1-b9c0-4202-8823-9b7844a59530\" class=\"plotly-graph-div\" style=\"height:525px; width:100%;\"></div>\n",
              "            <script type=\"text/javascript\">\n",
              "                \n",
              "                    window.PLOTLYENV=window.PLOTLYENV || {};\n",
              "                    \n",
              "                if (document.getElementById(\"3b15ffd1-b9c0-4202-8823-9b7844a59530\")) {\n",
              "                    Plotly.newPlot(\n",
              "                        '3b15ffd1-b9c0-4202-8823-9b7844a59530',\n",
              "                        [{\"labels\": [\"Chagas\", \"Uni\\u00e3o\", \"Urucu\", \"Centro\", \"Itamarati\", \"Tau\\u00e1 Mirim\", \"Santa Efig\\u00eania\", \"Duque\", \"Santa Helena\", \"Do Pera\", \"Espirito Santo\", \"Z - Rural\", \"centro\"], \"title\": {\"text\": \"Divis\\u00e3o por Bairro\"}, \"type\": \"pie\", \"values\": [60, 55, 55, 54, 47, 47, 31, 29, 28, 28, 23, 3, 1]}],\n",
              "                        {\"template\": {\"data\": {\"bar\": [{\"error_x\": {\"color\": \"#2a3f5f\"}, \"error_y\": {\"color\": \"#2a3f5f\"}, \"marker\": {\"line\": {\"color\": \"#E5ECF6\", \"width\": 0.5}}, \"type\": \"bar\"}], \"barpolar\": [{\"marker\": {\"line\": {\"color\": \"#E5ECF6\", \"width\": 0.5}}, \"type\": \"barpolar\"}], \"carpet\": [{\"aaxis\": {\"endlinecolor\": \"#2a3f5f\", \"gridcolor\": \"white\", \"linecolor\": \"white\", \"minorgridcolor\": \"white\", \"startlinecolor\": \"#2a3f5f\"}, \"baxis\": {\"endlinecolor\": \"#2a3f5f\", \"gridcolor\": \"white\", \"linecolor\": \"white\", \"minorgridcolor\": \"white\", \"startlinecolor\": \"#2a3f5f\"}, \"type\": \"carpet\"}], \"choropleth\": [{\"colorbar\": {\"outlinewidth\": 0, \"ticks\": \"\"}, \"type\": \"choropleth\"}], \"contour\": [{\"colorbar\": {\"outlinewidth\": 0, \"ticks\": \"\"}, \"colorscale\": [[0.0, \"#0d0887\"], [0.1111111111111111, \"#46039f\"], [0.2222222222222222, \"#7201a8\"], [0.3333333333333333, \"#9c179e\"], [0.4444444444444444, \"#bd3786\"], [0.5555555555555556, \"#d8576b\"], [0.6666666666666666, \"#ed7953\"], [0.7777777777777778, \"#fb9f3a\"], [0.8888888888888888, \"#fdca26\"], [1.0, \"#f0f921\"]], \"type\": \"contour\"}], \"contourcarpet\": [{\"colorbar\": {\"outlinewidth\": 0, \"ticks\": \"\"}, \"type\": \"contourcarpet\"}], \"heatmap\": [{\"colorbar\": {\"outlinewidth\": 0, \"ticks\": \"\"}, \"colorscale\": [[0.0, \"#0d0887\"], [0.1111111111111111, \"#46039f\"], [0.2222222222222222, \"#7201a8\"], [0.3333333333333333, \"#9c179e\"], [0.4444444444444444, \"#bd3786\"], [0.5555555555555556, \"#d8576b\"], [0.6666666666666666, \"#ed7953\"], [0.7777777777777778, \"#fb9f3a\"], [0.8888888888888888, \"#fdca26\"], [1.0, \"#f0f921\"]], \"type\": \"heatmap\"}], \"heatmapgl\": [{\"colorbar\": {\"outlinewidth\": 0, \"ticks\": \"\"}, \"colorscale\": [[0.0, \"#0d0887\"], [0.1111111111111111, \"#46039f\"], [0.2222222222222222, \"#7201a8\"], [0.3333333333333333, \"#9c179e\"], [0.4444444444444444, \"#bd3786\"], [0.5555555555555556, \"#d8576b\"], [0.6666666666666666, \"#ed7953\"], [0.7777777777777778, \"#fb9f3a\"], [0.8888888888888888, \"#fdca26\"], [1.0, \"#f0f921\"]], \"type\": \"heatmapgl\"}], \"histogram\": [{\"marker\": {\"colorbar\": {\"outlinewidth\": 0, \"ticks\": \"\"}}, \"type\": \"histogram\"}], \"histogram2d\": [{\"colorbar\": {\"outlinewidth\": 0, \"ticks\": \"\"}, \"colorscale\": [[0.0, \"#0d0887\"], [0.1111111111111111, \"#46039f\"], [0.2222222222222222, \"#7201a8\"], [0.3333333333333333, \"#9c179e\"], [0.4444444444444444, \"#bd3786\"], [0.5555555555555556, \"#d8576b\"], [0.6666666666666666, \"#ed7953\"], [0.7777777777777778, \"#fb9f3a\"], [0.8888888888888888, \"#fdca26\"], [1.0, \"#f0f921\"]], \"type\": \"histogram2d\"}], \"histogram2dcontour\": [{\"colorbar\": {\"outlinewidth\": 0, \"ticks\": \"\"}, \"colorscale\": [[0.0, \"#0d0887\"], [0.1111111111111111, \"#46039f\"], [0.2222222222222222, \"#7201a8\"], [0.3333333333333333, \"#9c179e\"], [0.4444444444444444, \"#bd3786\"], [0.5555555555555556, \"#d8576b\"], [0.6666666666666666, \"#ed7953\"], [0.7777777777777778, \"#fb9f3a\"], [0.8888888888888888, \"#fdca26\"], [1.0, \"#f0f921\"]], \"type\": \"histogram2dcontour\"}], \"mesh3d\": [{\"colorbar\": {\"outlinewidth\": 0, \"ticks\": \"\"}, \"type\": \"mesh3d\"}], \"parcoords\": [{\"line\": {\"colorbar\": {\"outlinewidth\": 0, \"ticks\": \"\"}}, \"type\": \"parcoords\"}], \"pie\": [{\"automargin\": true, \"type\": \"pie\"}], \"scatter\": [{\"marker\": {\"colorbar\": {\"outlinewidth\": 0, \"ticks\": \"\"}}, \"type\": \"scatter\"}], \"scatter3d\": [{\"line\": {\"colorbar\": {\"outlinewidth\": 0, \"ticks\": \"\"}}, \"marker\": {\"colorbar\": {\"outlinewidth\": 0, \"ticks\": \"\"}}, \"type\": \"scatter3d\"}], \"scattercarpet\": [{\"marker\": {\"colorbar\": {\"outlinewidth\": 0, \"ticks\": \"\"}}, \"type\": \"scattercarpet\"}], \"scattergeo\": [{\"marker\": {\"colorbar\": {\"outlinewidth\": 0, \"ticks\": \"\"}}, \"type\": \"scattergeo\"}], \"scattergl\": [{\"marker\": {\"colorbar\": {\"outlinewidth\": 0, \"ticks\": \"\"}}, \"type\": \"scattergl\"}], \"scattermapbox\": [{\"marker\": {\"colorbar\": {\"outlinewidth\": 0, \"ticks\": \"\"}}, \"type\": \"scattermapbox\"}], \"scatterpolar\": [{\"marker\": {\"colorbar\": {\"outlinewidth\": 0, \"ticks\": \"\"}}, \"type\": \"scatterpolar\"}], \"scatterpolargl\": [{\"marker\": {\"colorbar\": {\"outlinewidth\": 0, \"ticks\": \"\"}}, \"type\": \"scatterpolargl\"}], \"scatterternary\": [{\"marker\": {\"colorbar\": {\"outlinewidth\": 0, \"ticks\": \"\"}}, \"type\": \"scatterternary\"}], \"surface\": [{\"colorbar\": {\"outlinewidth\": 0, \"ticks\": \"\"}, \"colorscale\": [[0.0, \"#0d0887\"], [0.1111111111111111, \"#46039f\"], [0.2222222222222222, \"#7201a8\"], [0.3333333333333333, \"#9c179e\"], [0.4444444444444444, \"#bd3786\"], [0.5555555555555556, \"#d8576b\"], [0.6666666666666666, \"#ed7953\"], [0.7777777777777778, \"#fb9f3a\"], [0.8888888888888888, \"#fdca26\"], [1.0, \"#f0f921\"]], \"type\": \"surface\"}], \"table\": [{\"cells\": {\"fill\": {\"color\": \"#EBF0F8\"}, \"line\": {\"color\": \"white\"}}, \"header\": {\"fill\": {\"color\": \"#C8D4E3\"}, \"line\": {\"color\": \"white\"}}, \"type\": \"table\"}]}, \"layout\": {\"annotationdefaults\": {\"arrowcolor\": \"#2a3f5f\", \"arrowhead\": 0, \"arrowwidth\": 1}, \"coloraxis\": {\"colorbar\": {\"outlinewidth\": 0, \"ticks\": \"\"}}, \"colorscale\": {\"diverging\": [[0, \"#8e0152\"], [0.1, \"#c51b7d\"], [0.2, \"#de77ae\"], [0.3, \"#f1b6da\"], [0.4, \"#fde0ef\"], [0.5, \"#f7f7f7\"], [0.6, \"#e6f5d0\"], [0.7, \"#b8e186\"], [0.8, \"#7fbc41\"], [0.9, \"#4d9221\"], [1, \"#276419\"]], \"sequential\": [[0.0, \"#0d0887\"], [0.1111111111111111, \"#46039f\"], [0.2222222222222222, \"#7201a8\"], [0.3333333333333333, \"#9c179e\"], [0.4444444444444444, \"#bd3786\"], [0.5555555555555556, \"#d8576b\"], [0.6666666666666666, \"#ed7953\"], [0.7777777777777778, \"#fb9f3a\"], [0.8888888888888888, \"#fdca26\"], [1.0, \"#f0f921\"]], \"sequentialminus\": [[0.0, \"#0d0887\"], [0.1111111111111111, \"#46039f\"], [0.2222222222222222, \"#7201a8\"], [0.3333333333333333, \"#9c179e\"], [0.4444444444444444, \"#bd3786\"], [0.5555555555555556, \"#d8576b\"], [0.6666666666666666, \"#ed7953\"], [0.7777777777777778, \"#fb9f3a\"], [0.8888888888888888, \"#fdca26\"], [1.0, \"#f0f921\"]]}, \"colorway\": [\"#636efa\", \"#EF553B\", \"#00cc96\", \"#ab63fa\", \"#FFA15A\", \"#19d3f3\", \"#FF6692\", \"#B6E880\", \"#FF97FF\", \"#FECB52\"], \"font\": {\"color\": \"#2a3f5f\"}, \"geo\": {\"bgcolor\": \"white\", \"lakecolor\": \"white\", \"landcolor\": \"#E5ECF6\", \"showlakes\": true, \"showland\": true, \"subunitcolor\": \"white\"}, \"hoverlabel\": {\"align\": \"left\"}, \"hovermode\": \"closest\", \"mapbox\": {\"style\": \"light\"}, \"paper_bgcolor\": \"white\", \"plot_bgcolor\": \"#E5ECF6\", \"polar\": {\"angularaxis\": {\"gridcolor\": \"white\", \"linecolor\": \"white\", \"ticks\": \"\"}, \"bgcolor\": \"#E5ECF6\", \"radialaxis\": {\"gridcolor\": \"white\", \"linecolor\": \"white\", \"ticks\": \"\"}}, \"scene\": {\"xaxis\": {\"backgroundcolor\": \"#E5ECF6\", \"gridcolor\": \"white\", \"gridwidth\": 2, \"linecolor\": \"white\", \"showbackground\": true, \"ticks\": \"\", \"zerolinecolor\": \"white\"}, \"yaxis\": {\"backgroundcolor\": \"#E5ECF6\", \"gridcolor\": \"white\", \"gridwidth\": 2, \"linecolor\": \"white\", \"showbackground\": true, \"ticks\": \"\", \"zerolinecolor\": \"white\"}, \"zaxis\": {\"backgroundcolor\": \"#E5ECF6\", \"gridcolor\": \"white\", \"gridwidth\": 2, \"linecolor\": \"white\", \"showbackground\": true, \"ticks\": \"\", \"zerolinecolor\": \"white\"}}, \"shapedefaults\": {\"line\": {\"color\": \"#2a3f5f\"}}, \"ternary\": {\"aaxis\": {\"gridcolor\": \"white\", \"linecolor\": \"white\", \"ticks\": \"\"}, \"baxis\": {\"gridcolor\": \"white\", \"linecolor\": \"white\", \"ticks\": \"\"}, \"bgcolor\": \"#E5ECF6\", \"caxis\": {\"gridcolor\": \"white\", \"linecolor\": \"white\", \"ticks\": \"\"}}, \"title\": {\"x\": 0.05}, \"xaxis\": {\"automargin\": true, \"gridcolor\": \"white\", \"linecolor\": \"white\", \"ticks\": \"\", \"title\": {\"standoff\": 15}, \"zerolinecolor\": \"white\", \"zerolinewidth\": 2}, \"yaxis\": {\"automargin\": true, \"gridcolor\": \"white\", \"linecolor\": \"white\", \"ticks\": \"\", \"title\": {\"standoff\": 15}, \"zerolinecolor\": \"white\", \"zerolinewidth\": 2}}}},\n",
              "                        {\"responsive\": true}\n",
              "                    ).then(function(){\n",
              "                            \n",
              "var gd = document.getElementById('3b15ffd1-b9c0-4202-8823-9b7844a59530');\n",
              "var x = new MutationObserver(function (mutations, observer) {{\n",
              "        var display = window.getComputedStyle(gd).display;\n",
              "        if (!display || display === 'none') {{\n",
              "            console.log([gd, 'removed!']);\n",
              "            Plotly.purge(gd);\n",
              "            observer.disconnect();\n",
              "        }}\n",
              "}});\n",
              "\n",
              "// Listen for the removal of the full notebook cells\n",
              "var notebookContainer = gd.closest('#notebook-container');\n",
              "if (notebookContainer) {{\n",
              "    x.observe(notebookContainer, {childList: true});\n",
              "}}\n",
              "\n",
              "// Listen for the clearing of the current output cell\n",
              "var outputEl = gd.closest('.output');\n",
              "if (outputEl) {{\n",
              "    x.observe(outputEl, {childList: true});\n",
              "}}\n",
              "\n",
              "                        })\n",
              "                };\n",
              "                \n",
              "            </script>\n",
              "        </div>\n",
              "</body>\n",
              "</html>"
            ]
          },
          "metadata": {
            "tags": []
          }
        }
      ]
    },
    {
      "cell_type": "markdown",
      "metadata": {
        "id": "PaT0kU8bUTrS"
      },
      "source": [
        "## Divisão Populacional por Faixa Etária"
      ]
    },
    {
      "cell_type": "code",
      "metadata": {
        "id": "Hln_VKACToL0",
        "outputId": "3b9b60ab-6c72-403d-d12d-21e7adc40392",
        "colab": {
          "base_uri": "https://localhost:8080/"
        }
      },
      "source": [
        "val_idade = df[\"Idade\"].value_counts()\n",
        "val_idade"
      ],
      "execution_count": 10,
      "outputs": [
        {
          "output_type": "execute_result",
          "data": {
            "text/plain": [
              "18    29\n",
              "19    21\n",
              "21    21\n",
              "29    21\n",
              "30    17\n",
              "      ..\n",
              "68     1\n",
              "66     1\n",
              "65     1\n",
              "80     1\n",
              "91     1\n",
              "Name: Idade, Length: 61, dtype: int64"
            ]
          },
          "metadata": {
            "tags": []
          },
          "execution_count": 10
        }
      ]
    },
    {
      "cell_type": "code",
      "metadata": {
        "id": "OSPpS2J5KU2z",
        "outputId": "dd2e7f96-4187-4c07-fce6-358f6a11b12e",
        "colab": {
          "base_uri": "https://localhost:8080/",
          "height": 384
        }
      },
      "source": [
        "sns.distplot(df[\"Idade\"], kde=True)"
      ],
      "execution_count": 11,
      "outputs": [
        {
          "output_type": "stream",
          "text": [
            "/usr/local/lib/python3.6/dist-packages/seaborn/distributions.py:2551: FutureWarning:\n",
            "\n",
            "`distplot` is a deprecated function and will be removed in a future version. Please adapt your code to use either `displot` (a figure-level function with similar flexibility) or `histplot` (an axes-level function for histograms).\n",
            "\n"
          ],
          "name": "stderr"
        },
        {
          "output_type": "execute_result",
          "data": {
            "text/plain": [
              "<matplotlib.axes._subplots.AxesSubplot at 0x7f952e43c6a0>"
            ]
          },
          "metadata": {
            "tags": []
          },
          "execution_count": 11
        },
        {
          "output_type": "display_data",
          "data": {
            "image/png": "[encoded data removed]",
            "text/plain": [
              "<Figure size 432x288 with 1 Axes>"
            ]
          },
          "metadata": {
            "tags": [],
            "needs_background": "light"
          }
        }
      ]
    },
    {
      "cell_type": "code",
      "metadata": {
        "id": "QSqSA3L9nYEP",
        "outputId": "fcbc83d0-2c8d-41cb-caca-c12345c38081",
        "colab": {
          "base_uri": "https://localhost:8080/",
          "height": 542
        }
      },
      "source": [
        "fig = px.histogram(df['Idade'],\"Idade\")\n",
        "fig.show()"
      ],
      "execution_count": 12,
      "outputs": [
        {
          "output_type": "display_data",
          "data": {
            "text/html": [
              "<html>\n",
              "<head><meta charset=\"utf-8\" /></head>\n",
              "<body>\n",
              "    <div>\n",
              "            <script src=\"https://cdnjs.cloudflare.com/ajax/libs/mathjax/2.7.5/MathJax.js?config=TeX-AMS-MML_SVG\"></script><script type=\"text/javascript\">if (window.MathJax) {MathJax.Hub.Config({SVG: {font: \"STIX-Web\"}});}</script>\n",
              "                <script type=\"text/javascript\">window.PlotlyConfig = {MathJaxConfig: 'local'};</script>\n",
              "        <script src=\"https://cdn.plot.ly/plotly-latest.min.js\"></script>    \n",
              "            <div id=\"df204f82-d1fa-4721-9225-3ccb9b149e00\" class=\"plotly-graph-div\" style=\"height:525px; width:100%;\"></div>\n",
              "            <script type=\"text/javascript\">\n",
              "                \n",
              "                    window.PLOTLYENV=window.PLOTLYENV || {};\n",
              "                    \n",
              "                if (document.getElementById(\"df204f82-d1fa-4721-9225-3ccb9b149e00\")) {\n",
              "                    Plotly.newPlot(\n",
              "                        'df204f82-d1fa-4721-9225-3ccb9b149e00',\n",
              "                        [{\"alignmentgroup\": \"True\", \"bingroup\": \"x\", \"hoverlabel\": {\"namelength\": 0}, \"hovertemplate\": \"Idade=%{x}<br>count=%{y}\", \"legendgroup\": \"\", \"marker\": {\"color\": \"#636efa\"}, \"name\": \"\", \"offsetgroup\": \"\", \"orientation\": \"v\", \"showlegend\": false, \"type\": \"histogram\", \"x\": [42, 48, 22, 19, 34, 27, 30, 25, 54, 35, 37, 19, 26, 41, 32, 33, 20, 58, 48, 58, 23, 46, 39, 38, 51, 23, 38, 38, 57, 29, 22, 19, 32, 36, 32, 21, 50, 16, 52, 22, 41, 32, 30, 18, 21, 35, 59, 64, 33, 20, 50, 20, 30, 40, 21, 21, 21, 22, 32, 18, 50, 16, 33, 55, 24, 21, 30, 19, 24, 19, 28, 28, 24, 39, 21, 17, 43, 34, 28, 21, 23, 17, 18, 18, 36, 32, 16, 31, 33, 27, 28, 33, 40, 31, 35, 19, 27, 21, 28, 16, 31, 40, 27, 18, 24, 26, 18, 21, 27, 41, 44, 60, 37, 32, 48, 26, 33, 43, 25, 33, 22, 35, 33, 29, 51, 44, 55, 17, 20, 21, 18, 49, 62, 70, 63, 19, 73, 41, 23, 18, 17, 48, 36, 21, 40, 36, 17, 22, 18, 18, 47, 40, 27, 53, 33, 23, 22, 17, 16, 23, 40, 36, 22, 54, 30, 18, 49, 35, 24, 36, 47, 50, 24, 27, 43, 20, 45, 21, 23, 19, 48, 49, 26, 20, 29, 26, 23, 28, 26, 41, 22, 29, 16, 28, 29, 18, 28, 24, 28, 29, 37, 22, 29, 28, 18, 29, 22, 28, 27, 29, 27, 27, 16, 32, 26, 29, 27, 18, 17, 24, 20, 25, 19, 19, 21, 22, 49, 39, 38, 54, 19, 20, 31, 32, 30, 28, 29, 23, 19, 23, 51, 51, 27, 18, 30, 18, 27, 17, 18, 21, 32, 73, 32, 61, 30, 30, 50, 34, 51, 53, 33, 34, 42, 60, 35, 46, 32, 42, 42, 33, 53, 30, 48, 34, 40, 57, 39, 31, 16, 36, 21, 24, 54, 60, 16, 18, 24, 29, 26, 20, 29, 29, 63, 40, 64, 53, 36, 45, 55, 38, 59, 45, 45, 34, 31, 34, 37, 52, 64, 41, 78, 46, 38, 33, 60, 50, 91, 49, 60, 43, 64, 31, 54, 41, 40, 43, 26, 43, 59, 30, 51, 63, 50, 40, 61, 33, 43, 67, 66, 38, 62, 45, 46, 62, 19, 30, 39, 30, 22, 41, 63, 31, 57, 18, 29, 29, 20, 18, 29, 18, 16, 16, 22, 19, 30, 18, 19, 16, 43, 45, 32, 23, 79, 32, 32, 20, 43, 19, 80, 40, 43, 21, 75, 77, 38, 24, 63, 33, 62, 21, 25, 50, 50, 50, 19, 40, 30, 61, 53, 25, 60, 46, 39, 39, 69, 29, 17, 18, 49, 23, 61, 42, 44, 30, 39, 24, 35, 29, 60, 21, 65, 19, 16, 22, 21, 40, 29, 17, 24, 28, 18, 24, 19, 19, 18, 25, 22, 18, 20, 18, 58, 19, 49, 20, 18, 55, 25, 20, 21, 18, 23, 68, 24, 34, 29, 37, 16, 37, 30, 32, 54], \"xaxis\": \"x\", \"yaxis\": \"y\"}],\n",
              "                        {\"barmode\": \"relative\", \"legend\": {\"tracegroupgap\": 0}, \"margin\": {\"t\": 60}, \"template\": {\"data\": {\"bar\": [{\"error_x\": {\"color\": \"#2a3f5f\"}, \"error_y\": {\"color\": \"#2a3f5f\"}, \"marker\": {\"line\": {\"color\": \"#E5ECF6\", \"width\": 0.5}}, \"type\": \"bar\"}], \"barpolar\": [{\"marker\": {\"line\": {\"color\": \"#E5ECF6\", \"width\": 0.5}}, \"type\": \"barpolar\"}], \"carpet\": [{\"aaxis\": {\"endlinecolor\": \"#2a3f5f\", \"gridcolor\": \"white\", \"linecolor\": \"white\", \"minorgridcolor\": \"white\", \"startlinecolor\": \"#2a3f5f\"}, \"baxis\": {\"endlinecolor\": \"#2a3f5f\", \"gridcolor\": \"white\", \"linecolor\": \"white\", \"minorgridcolor\": \"white\", \"startlinecolor\": \"#2a3f5f\"}, \"type\": \"carpet\"}], \"choropleth\": [{\"colorbar\": {\"outlinewidth\": 0, \"ticks\": \"\"}, \"type\": \"choropleth\"}], \"contour\": [{\"colorbar\": {\"outlinewidth\": 0, \"ticks\": \"\"}, \"colorscale\": [[0.0, \"#0d0887\"], [0.1111111111111111, \"#46039f\"], [0.2222222222222222, \"#7201a8\"], [0.3333333333333333, \"#9c179e\"], [0.4444444444444444, \"#bd3786\"], [0.5555555555555556, \"#d8576b\"], [0.6666666666666666, \"#ed7953\"], [0.7777777777777778, \"#fb9f3a\"], [0.8888888888888888, \"#fdca26\"], [1.0, \"#f0f921\"]], \"type\": \"contour\"}], \"contourcarpet\": [{\"colorbar\": {\"outlinewidth\": 0, \"ticks\": \"\"}, \"type\": \"contourcarpet\"}], \"heatmap\": [{\"colorbar\": {\"outlinewidth\": 0, \"ticks\": \"\"}, \"colorscale\": [[0.0, \"#0d0887\"], [0.1111111111111111, \"#46039f\"], [0.2222222222222222, \"#7201a8\"], [0.3333333333333333, \"#9c179e\"], [0.4444444444444444, \"#bd3786\"], [0.5555555555555556, \"#d8576b\"], [0.6666666666666666, \"#ed7953\"], [0.7777777777777778, \"#fb9f3a\"], [0.8888888888888888, \"#fdca26\"], [1.0, \"#f0f921\"]], \"type\": \"heatmap\"}], \"heatmapgl\": [{\"colorbar\": {\"outlinewidth\": 0, \"ticks\": \"\"}, \"colorscale\": [[0.0, \"#0d0887\"], [0.1111111111111111, \"#46039f\"], [0.2222222222222222, \"#7201a8\"], [0.3333333333333333, \"#9c179e\"], [0.4444444444444444, \"#bd3786\"], [0.5555555555555556, \"#d8576b\"], [0.6666666666666666, \"#ed7953\"], [0.7777777777777778, \"#fb9f3a\"], [0.8888888888888888, \"#fdca26\"], [1.0, \"#f0f921\"]], \"type\": \"heatmapgl\"}], \"histogram\": [{\"marker\": {\"colorbar\": {\"outlinewidth\": 0, \"ticks\": \"\"}}, \"type\": \"histogram\"}], \"histogram2d\": [{\"colorbar\": {\"outlinewidth\": 0, \"ticks\": \"\"}, \"colorscale\": [[0.0, \"#0d0887\"], [0.1111111111111111, \"#46039f\"], [0.2222222222222222, \"#7201a8\"], [0.3333333333333333, \"#9c179e\"], [0.4444444444444444, \"#bd3786\"], [0.5555555555555556, \"#d8576b\"], [0.6666666666666666, \"#ed7953\"], [0.7777777777777778, \"#fb9f3a\"], [0.8888888888888888, \"#fdca26\"], [1.0, \"#f0f921\"]], \"type\": \"histogram2d\"}], \"histogram2dcontour\": [{\"colorbar\": {\"outlinewidth\": 0, \"ticks\": \"\"}, \"colorscale\": [[0.0, \"#0d0887\"], [0.1111111111111111, \"#46039f\"], [0.2222222222222222, \"#7201a8\"], [0.3333333333333333, \"#9c179e\"], [0.4444444444444444, \"#bd3786\"], [0.5555555555555556, \"#d8576b\"], [0.6666666666666666, \"#ed7953\"], [0.7777777777777778, \"#fb9f3a\"], [0.8888888888888888, \"#fdca26\"], [1.0, \"#f0f921\"]], \"type\": \"histogram2dcontour\"}], \"mesh3d\": [{\"colorbar\": {\"outlinewidth\": 0, \"ticks\": \"\"}, \"type\": \"mesh3d\"}], \"parcoords\": [{\"line\": {\"colorbar\": {\"outlinewidth\": 0, \"ticks\": \"\"}}, \"type\": \"parcoords\"}], \"pie\": [{\"automargin\": true, \"type\": \"pie\"}], \"scatter\": [{\"marker\": {\"colorbar\": {\"outlinewidth\": 0, \"ticks\": \"\"}}, \"type\": \"scatter\"}], \"scatter3d\": [{\"line\": {\"colorbar\": {\"outlinewidth\": 0, \"ticks\": \"\"}}, \"marker\": {\"colorbar\": {\"outlinewidth\": 0, \"ticks\": \"\"}}, \"type\": \"scatter3d\"}], \"scattercarpet\": [{\"marker\": {\"colorbar\": {\"outlinewidth\": 0, \"ticks\": \"\"}}, \"type\": \"scattercarpet\"}], \"scattergeo\": [{\"marker\": {\"colorbar\": {\"outlinewidth\": 0, \"ticks\": \"\"}}, \"type\": \"scattergeo\"}], \"scattergl\": [{\"marker\": {\"colorbar\": {\"outlinewidth\": 0, \"ticks\": \"\"}}, \"type\": \"scattergl\"}], \"scattermapbox\": [{\"marker\": {\"colorbar\": {\"outlinewidth\": 0, \"ticks\": \"\"}}, \"type\": \"scattermapbox\"}], \"scatterpolar\": [{\"marker\": {\"colorbar\": {\"outlinewidth\": 0, \"ticks\": \"\"}}, \"type\": \"scatterpolar\"}], \"scatterpolargl\": [{\"marker\": {\"colorbar\": {\"outlinewidth\": 0, \"ticks\": \"\"}}, \"type\": \"scatterpolargl\"}], \"scatterternary\": [{\"marker\": {\"colorbar\": {\"outlinewidth\": 0, \"ticks\": \"\"}}, \"type\": \"scatterternary\"}], \"surface\": [{\"colorbar\": {\"outlinewidth\": 0, \"ticks\": \"\"}, \"colorscale\": [[0.0, \"#0d0887\"], [0.1111111111111111, \"#46039f\"], [0.2222222222222222, \"#7201a8\"], [0.3333333333333333, \"#9c179e\"], [0.4444444444444444, \"#bd3786\"], [0.5555555555555556, \"#d8576b\"], [0.6666666666666666, \"#ed7953\"], [0.7777777777777778, \"#fb9f3a\"], [0.8888888888888888, \"#fdca26\"], [1.0, \"#f0f921\"]], \"type\": \"surface\"}], \"table\": [{\"cells\": {\"fill\": {\"color\": \"#EBF0F8\"}, \"line\": {\"color\": \"white\"}}, \"header\": {\"fill\": {\"color\": \"#C8D4E3\"}, \"line\": {\"color\": \"white\"}}, \"type\": \"table\"}]}, \"layout\": {\"annotationdefaults\": {\"arrowcolor\": \"#2a3f5f\", \"arrowhead\": 0, \"arrowwidth\": 1}, \"coloraxis\": {\"colorbar\": {\"outlinewidth\": 0, \"ticks\": \"\"}}, \"colorscale\": {\"diverging\": [[0, \"#8e0152\"], [0.1, \"#c51b7d\"], [0.2, \"#de77ae\"], [0.3, \"#f1b6da\"], [0.4, \"#fde0ef\"], [0.5, \"#f7f7f7\"], [0.6, \"#e6f5d0\"], [0.7, \"#b8e186\"], [0.8, \"#7fbc41\"], [0.9, \"#4d9221\"], [1, \"#276419\"]], \"sequential\": [[0.0, \"#0d0887\"], [0.1111111111111111, \"#46039f\"], [0.2222222222222222, \"#7201a8\"], [0.3333333333333333, \"#9c179e\"], [0.4444444444444444, \"#bd3786\"], [0.5555555555555556, \"#d8576b\"], [0.6666666666666666, \"#ed7953\"], [0.7777777777777778, \"#fb9f3a\"], [0.8888888888888888, \"#fdca26\"], [1.0, \"#f0f921\"]], \"sequentialminus\": [[0.0, \"#0d0887\"], [0.1111111111111111, \"#46039f\"], [0.2222222222222222, \"#7201a8\"], [0.3333333333333333, \"#9c179e\"], [0.4444444444444444, \"#bd3786\"], [0.5555555555555556, \"#d8576b\"], [0.6666666666666666, \"#ed7953\"], [0.7777777777777778, \"#fb9f3a\"], [0.8888888888888888, \"#fdca26\"], [1.0, \"#f0f921\"]]}, \"colorway\": [\"#636efa\", \"#EF553B\", \"#00cc96\", \"#ab63fa\", \"#FFA15A\", \"#19d3f3\", \"#FF6692\", \"#B6E880\", \"#FF97FF\", \"#FECB52\"], \"font\": {\"color\": \"#2a3f5f\"}, \"geo\": {\"bgcolor\": \"white\", \"lakecolor\": \"white\", \"landcolor\": \"#E5ECF6\", \"showlakes\": true, \"showland\": true, \"subunitcolor\": \"white\"}, \"hoverlabel\": {\"align\": \"left\"}, \"hovermode\": \"closest\", \"mapbox\": {\"style\": \"light\"}, \"paper_bgcolor\": \"white\", \"plot_bgcolor\": \"#E5ECF6\", \"polar\": {\"angularaxis\": {\"gridcolor\": \"white\", \"linecolor\": \"white\", \"ticks\": \"\"}, \"bgcolor\": \"#E5ECF6\", \"radialaxis\": {\"gridcolor\": \"white\", \"linecolor\": \"white\", \"ticks\": \"\"}}, \"scene\": {\"xaxis\": {\"backgroundcolor\": \"#E5ECF6\", \"gridcolor\": \"white\", \"gridwidth\": 2, \"linecolor\": \"white\", \"showbackground\": true, \"ticks\": \"\", \"zerolinecolor\": \"white\"}, \"yaxis\": {\"backgroundcolor\": \"#E5ECF6\", \"gridcolor\": \"white\", \"gridwidth\": 2, \"linecolor\": \"white\", \"showbackground\": true, \"ticks\": \"\", \"zerolinecolor\": \"white\"}, \"zaxis\": {\"backgroundcolor\": \"#E5ECF6\", \"gridcolor\": \"white\", \"gridwidth\": 2, \"linecolor\": \"white\", \"showbackground\": true, \"ticks\": \"\", \"zerolinecolor\": \"white\"}}, \"shapedefaults\": {\"line\": {\"color\": \"#2a3f5f\"}}, \"ternary\": {\"aaxis\": {\"gridcolor\": \"white\", \"linecolor\": \"white\", \"ticks\": \"\"}, \"baxis\": {\"gridcolor\": \"white\", \"linecolor\": \"white\", \"ticks\": \"\"}, \"bgcolor\": \"#E5ECF6\", \"caxis\": {\"gridcolor\": \"white\", \"linecolor\": \"white\", \"ticks\": \"\"}}, \"title\": {\"x\": 0.05}, \"xaxis\": {\"automargin\": true, \"gridcolor\": \"white\", \"linecolor\": \"white\", \"ticks\": \"\", \"title\": {\"standoff\": 15}, \"zerolinecolor\": \"white\", \"zerolinewidth\": 2}, \"yaxis\": {\"automargin\": true, \"gridcolor\": \"white\", \"linecolor\": \"white\", \"ticks\": \"\", \"title\": {\"standoff\": 15}, \"zerolinecolor\": \"white\", \"zerolinewidth\": 2}}}, \"xaxis\": {\"anchor\": \"y\", \"domain\": [0.0, 1.0], \"title\": {\"text\": \"Idade\"}}, \"yaxis\": {\"anchor\": \"x\", \"domain\": [0.0, 1.0], \"title\": {\"text\": \"count\"}}},\n",
              "                        {\"responsive\": true}\n",
              "                    ).then(function(){\n",
              "                            \n",
              "var gd = document.getElementById('df204f82-d1fa-4721-9225-3ccb9b149e00');\n",
              "var x = new MutationObserver(function (mutations, observer) {{\n",
              "        var display = window.getComputedStyle(gd).display;\n",
              "        if (!display || display === 'none') {{\n",
              "            console.log([gd, 'removed!']);\n",
              "            Plotly.purge(gd);\n",
              "            observer.disconnect();\n",
              "        }}\n",
              "}});\n",
              "\n",
              "// Listen for the removal of the full notebook cells\n",
              "var notebookContainer = gd.closest('#notebook-container');\n",
              "if (notebookContainer) {{\n",
              "    x.observe(notebookContainer, {childList: true});\n",
              "}}\n",
              "\n",
              "// Listen for the clearing of the current output cell\n",
              "var outputEl = gd.closest('.output');\n",
              "if (outputEl) {{\n",
              "    x.observe(outputEl, {childList: true});\n",
              "}}\n",
              "\n",
              "                        })\n",
              "                };\n",
              "                \n",
              "            </script>\n",
              "        </div>\n",
              "</body>\n",
              "</html>"
            ]
          },
          "metadata": {
            "tags": []
          }
        }
      ]
    },
    {
      "cell_type": "code",
      "metadata": {
        "id": "GTzIFdtkTsYV",
        "outputId": "e3b3d9c4-532e-4c3f-da06-43ee8eadff11",
        "colab": {
          "base_uri": "https://localhost:8080/"
        }
      },
      "source": [
        "val_faixa = df[\"Faixa\"].value_counts()\n",
        "val_faixa"
      ],
      "execution_count": 13,
      "outputs": [
        {
          "output_type": "execute_result",
          "data": {
            "text/plain": [
              "30 a 39    99\n",
              "18 a 21    85\n",
              "40 a 49    65\n",
              "25 a 29    63\n",
              "22 a 24    44\n",
              "50 a 59    42\n",
              "60 e +     39\n",
              "16 e 17    24\n",
              "Name: Faixa, dtype: int64"
            ]
          },
          "metadata": {
            "tags": []
          },
          "execution_count": 13
        }
      ]
    },
    {
      "cell_type": "code",
      "metadata": {
        "id": "hB2svdUqnQBH",
        "outputId": "1c09c31c-3f3a-4ee1-f0c3-5cbf1cc1ff3f",
        "colab": {
          "base_uri": "https://localhost:8080/",
          "height": 592
        }
      },
      "source": [
        "plt.figure(figsize=(5,10))\n",
        "sns.boxplot(data=df[\"Idade\"],orient=\"v\", width=0.5)\n",
        "plt.show()"
      ],
      "execution_count": 14,
      "outputs": [
        {
          "output_type": "display_data",
          "data": {
            "image/png": "[encoded data removed]",
            "text/plain": [
              "<Figure size 360x720 with 1 Axes>"
            ]
          },
          "metadata": {
            "tags": [],
            "needs_background": "light"
          }
        }
      ]
    },
    {
      "cell_type": "code",
      "metadata": {
        "id": "nPrmxNc9nh7W",
        "outputId": "b29f630f-d934-45c1-9182-f42ac082ce82",
        "colab": {
          "base_uri": "https://localhost:8080/",
          "height": 542
        }
      },
      "source": [
        "fig = px.box(df, y='Idade')\n",
        "fig.show()"
      ],
      "execution_count": 15,
      "outputs": [
        {
          "output_type": "display_data",
          "data": {
            "text/html": [
              "<html>\n",
              "<head><meta charset=\"utf-8\" /></head>\n",
              "<body>\n",
              "    <div>\n",
              "            <script src=\"https://cdnjs.cloudflare.com/ajax/libs/mathjax/2.7.5/MathJax.js?config=TeX-AMS-MML_SVG\"></script><script type=\"text/javascript\">if (window.MathJax) {MathJax.Hub.Config({SVG: {font: \"STIX-Web\"}});}</script>\n",
              "                <script type=\"text/javascript\">window.PlotlyConfig = {MathJaxConfig: 'local'};</script>\n",
              "        <script src=\"https://cdn.plot.ly/plotly-latest.min.js\"></script>    \n",
              "            <div id=\"88742529-9b88-4022-9647-aec34daed629\" class=\"plotly-graph-div\" style=\"height:525px; width:100%;\"></div>\n",
              "            <script type=\"text/javascript\">\n",
              "                \n",
              "                    window.PLOTLYENV=window.PLOTLYENV || {};\n",
              "                    \n",
              "                if (document.getElementById(\"88742529-9b88-4022-9647-aec34daed629\")) {\n",
              "                    Plotly.newPlot(\n",
              "                        '88742529-9b88-4022-9647-aec34daed629',\n",
              "                        [{\"alignmentgroup\": \"True\", \"hoverlabel\": {\"namelength\": 0}, \"hovertemplate\": \"Idade=%{y}\", \"legendgroup\": \"\", \"marker\": {\"color\": \"#636efa\"}, \"name\": \"\", \"notched\": false, \"offsetgroup\": \"\", \"orientation\": \"v\", \"showlegend\": false, \"type\": \"box\", \"x0\": \" \", \"xaxis\": \"x\", \"y\": [42, 48, 22, 19, 34, 27, 30, 25, 54, 35, 37, 19, 26, 41, 32, 33, 20, 58, 48, 58, 23, 46, 39, 38, 51, 23, 38, 38, 57, 29, 22, 19, 32, 36, 32, 21, 50, 16, 52, 22, 41, 32, 30, 18, 21, 35, 59, 64, 33, 20, 50, 20, 30, 40, 21, 21, 21, 22, 32, 18, 50, 16, 33, 55, 24, 21, 30, 19, 24, 19, 28, 28, 24, 39, 21, 17, 43, 34, 28, 21, 23, 17, 18, 18, 36, 32, 16, 31, 33, 27, 28, 33, 40, 31, 35, 19, 27, 21, 28, 16, 31, 40, 27, 18, 24, 26, 18, 21, 27, 41, 44, 60, 37, 32, 48, 26, 33, 43, 25, 33, 22, 35, 33, 29, 51, 44, 55, 17, 20, 21, 18, 49, 62, 70, 63, 19, 73, 41, 23, 18, 17, 48, 36, 21, 40, 36, 17, 22, 18, 18, 47, 40, 27, 53, 33, 23, 22, 17, 16, 23, 40, 36, 22, 54, 30, 18, 49, 35, 24, 36, 47, 50, 24, 27, 43, 20, 45, 21, 23, 19, 48, 49, 26, 20, 29, 26, 23, 28, 26, 41, 22, 29, 16, 28, 29, 18, 28, 24, 28, 29, 37, 22, 29, 28, 18, 29, 22, 28, 27, 29, 27, 27, 16, 32, 26, 29, 27, 18, 17, 24, 20, 25, 19, 19, 21, 22, 49, 39, 38, 54, 19, 20, 31, 32, 30, 28, 29, 23, 19, 23, 51, 51, 27, 18, 30, 18, 27, 17, 18, 21, 32, 73, 32, 61, 30, 30, 50, 34, 51, 53, 33, 34, 42, 60, 35, 46, 32, 42, 42, 33, 53, 30, 48, 34, 40, 57, 39, 31, 16, 36, 21, 24, 54, 60, 16, 18, 24, 29, 26, 20, 29, 29, 63, 40, 64, 53, 36, 45, 55, 38, 59, 45, 45, 34, 31, 34, 37, 52, 64, 41, 78, 46, 38, 33, 60, 50, 91, 49, 60, 43, 64, 31, 54, 41, 40, 43, 26, 43, 59, 30, 51, 63, 50, 40, 61, 33, 43, 67, 66, 38, 62, 45, 46, 62, 19, 30, 39, 30, 22, 41, 63, 31, 57, 18, 29, 29, 20, 18, 29, 18, 16, 16, 22, 19, 30, 18, 19, 16, 43, 45, 32, 23, 79, 32, 32, 20, 43, 19, 80, 40, 43, 21, 75, 77, 38, 24, 63, 33, 62, 21, 25, 50, 50, 50, 19, 40, 30, 61, 53, 25, 60, 46, 39, 39, 69, 29, 17, 18, 49, 23, 61, 42, 44, 30, 39, 24, 35, 29, 60, 21, 65, 19, 16, 22, 21, 40, 29, 17, 24, 28, 18, 24, 19, 19, 18, 25, 22, 18, 20, 18, 58, 19, 49, 20, 18, 55, 25, 20, 21, 18, 23, 68, 24, 34, 29, 37, 16, 37, 30, 32, 54], \"y0\": \" \", \"yaxis\": \"y\"}],\n",
              "                        {\"boxmode\": \"group\", \"legend\": {\"tracegroupgap\": 0}, \"margin\": {\"t\": 60}, \"template\": {\"data\": {\"bar\": [{\"error_x\": {\"color\": \"#2a3f5f\"}, \"error_y\": {\"color\": \"#2a3f5f\"}, \"marker\": {\"line\": {\"color\": \"#E5ECF6\", \"width\": 0.5}}, \"type\": \"bar\"}], \"barpolar\": [{\"marker\": {\"line\": {\"color\": \"#E5ECF6\", \"width\": 0.5}}, \"type\": \"barpolar\"}], \"carpet\": [{\"aaxis\": {\"endlinecolor\": \"#2a3f5f\", \"gridcolor\": \"white\", \"linecolor\": \"white\", \"minorgridcolor\": \"white\", \"startlinecolor\": \"#2a3f5f\"}, \"baxis\": {\"endlinecolor\": \"#2a3f5f\", \"gridcolor\": \"white\", \"linecolor\": \"white\", \"minorgridcolor\": \"white\", \"startlinecolor\": \"#2a3f5f\"}, \"type\": \"carpet\"}], \"choropleth\": [{\"colorbar\": {\"outlinewidth\": 0, \"ticks\": \"\"}, \"type\": \"choropleth\"}], \"contour\": [{\"colorbar\": {\"outlinewidth\": 0, \"ticks\": \"\"}, \"colorscale\": [[0.0, \"#0d0887\"], [0.1111111111111111, \"#46039f\"], [0.2222222222222222, \"#7201a8\"], [0.3333333333333333, \"#9c179e\"], [0.4444444444444444, \"#bd3786\"], [0.5555555555555556, \"#d8576b\"], [0.6666666666666666, \"#ed7953\"], [0.7777777777777778, \"#fb9f3a\"], [0.8888888888888888, \"#fdca26\"], [1.0, \"#f0f921\"]], \"type\": \"contour\"}], \"contourcarpet\": [{\"colorbar\": {\"outlinewidth\": 0, \"ticks\": \"\"}, \"type\": \"contourcarpet\"}], \"heatmap\": [{\"colorbar\": {\"outlinewidth\": 0, \"ticks\": \"\"}, \"colorscale\": [[0.0, \"#0d0887\"], [0.1111111111111111, \"#46039f\"], [0.2222222222222222, \"#7201a8\"], [0.3333333333333333, \"#9c179e\"], [0.4444444444444444, \"#bd3786\"], [0.5555555555555556, \"#d8576b\"], [0.6666666666666666, \"#ed7953\"], [0.7777777777777778, \"#fb9f3a\"], [0.8888888888888888, \"#fdca26\"], [1.0, \"#f0f921\"]], \"type\": \"heatmap\"}], \"heatmapgl\": [{\"colorbar\": {\"outlinewidth\": 0, \"ticks\": \"\"}, \"colorscale\": [[0.0, \"#0d0887\"], [0.1111111111111111, \"#46039f\"], [0.2222222222222222, \"#7201a8\"], [0.3333333333333333, \"#9c179e\"], [0.4444444444444444, \"#bd3786\"], [0.5555555555555556, \"#d8576b\"], [0.6666666666666666, \"#ed7953\"], [0.7777777777777778, \"#fb9f3a\"], [0.8888888888888888, \"#fdca26\"], [1.0, \"#f0f921\"]], \"type\": \"heatmapgl\"}], \"histogram\": [{\"marker\": {\"colorbar\": {\"outlinewidth\": 0, \"ticks\": \"\"}}, \"type\": \"histogram\"}], \"histogram2d\": [{\"colorbar\": {\"outlinewidth\": 0, \"ticks\": \"\"}, \"colorscale\": [[0.0, \"#0d0887\"], [0.1111111111111111, \"#46039f\"], [0.2222222222222222, \"#7201a8\"], [0.3333333333333333, \"#9c179e\"], [0.4444444444444444, \"#bd3786\"], [0.5555555555555556, \"#d8576b\"], [0.6666666666666666, \"#ed7953\"], [0.7777777777777778, \"#fb9f3a\"], [0.8888888888888888, \"#fdca26\"], [1.0, \"#f0f921\"]], \"type\": \"histogram2d\"}], \"histogram2dcontour\": [{\"colorbar\": {\"outlinewidth\": 0, \"ticks\": \"\"}, \"colorscale\": [[0.0, \"#0d0887\"], [0.1111111111111111, \"#46039f\"], [0.2222222222222222, \"#7201a8\"], [0.3333333333333333, \"#9c179e\"], [0.4444444444444444, \"#bd3786\"], [0.5555555555555556, \"#d8576b\"], [0.6666666666666666, \"#ed7953\"], [0.7777777777777778, \"#fb9f3a\"], [0.8888888888888888, \"#fdca26\"], [1.0, \"#f0f921\"]], \"type\": \"histogram2dcontour\"}], \"mesh3d\": [{\"colorbar\": {\"outlinewidth\": 0, \"ticks\": \"\"}, \"type\": \"mesh3d\"}], \"parcoords\": [{\"line\": {\"colorbar\": {\"outlinewidth\": 0, \"ticks\": \"\"}}, \"type\": \"parcoords\"}], \"pie\": [{\"automargin\": true, \"type\": \"pie\"}], \"scatter\": [{\"marker\": {\"colorbar\": {\"outlinewidth\": 0, \"ticks\": \"\"}}, \"type\": \"scatter\"}], \"scatter3d\": [{\"line\": {\"colorbar\": {\"outlinewidth\": 0, \"ticks\": \"\"}}, \"marker\": {\"colorbar\": {\"outlinewidth\": 0, \"ticks\": \"\"}}, \"type\": \"scatter3d\"}], \"scattercarpet\": [{\"marker\": {\"colorbar\": {\"outlinewidth\": 0, \"ticks\": \"\"}}, \"type\": \"scattercarpet\"}], \"scattergeo\": [{\"marker\": {\"colorbar\": {\"outlinewidth\": 0, \"ticks\": \"\"}}, \"type\": \"scattergeo\"}], \"scattergl\": [{\"marker\": {\"colorbar\": {\"outlinewidth\": 0, \"ticks\": \"\"}}, \"type\": \"scattergl\"}], \"scattermapbox\": [{\"marker\": {\"colorbar\": {\"outlinewidth\": 0, \"ticks\": \"\"}}, \"type\": \"scattermapbox\"}], \"scatterpolar\": [{\"marker\": {\"colorbar\": {\"outlinewidth\": 0, \"ticks\": \"\"}}, \"type\": \"scatterpolar\"}], \"scatterpolargl\": [{\"marker\": {\"colorbar\": {\"outlinewidth\": 0, \"ticks\": \"\"}}, \"type\": \"scatterpolargl\"}], \"scatterternary\": [{\"marker\": {\"colorbar\": {\"outlinewidth\": 0, \"ticks\": \"\"}}, \"type\": \"scatterternary\"}], \"surface\": [{\"colorbar\": {\"outlinewidth\": 0, \"ticks\": \"\"}, \"colorscale\": [[0.0, \"#0d0887\"], [0.1111111111111111, \"#46039f\"], [0.2222222222222222, \"#7201a8\"], [0.3333333333333333, \"#9c179e\"], [0.4444444444444444, \"#bd3786\"], [0.5555555555555556, \"#d8576b\"], [0.6666666666666666, \"#ed7953\"], [0.7777777777777778, \"#fb9f3a\"], [0.8888888888888888, \"#fdca26\"], [1.0, \"#f0f921\"]], \"type\": \"surface\"}], \"table\": [{\"cells\": {\"fill\": {\"color\": \"#EBF0F8\"}, \"line\": {\"color\": \"white\"}}, \"header\": {\"fill\": {\"color\": \"#C8D4E3\"}, \"line\": {\"color\": \"white\"}}, \"type\": \"table\"}]}, \"layout\": {\"annotationdefaults\": {\"arrowcolor\": \"#2a3f5f\", \"arrowhead\": 0, \"arrowwidth\": 1}, \"coloraxis\": {\"colorbar\": {\"outlinewidth\": 0, \"ticks\": \"\"}}, \"colorscale\": {\"diverging\": [[0, \"#8e0152\"], [0.1, \"#c51b7d\"], [0.2, \"#de77ae\"], [0.3, \"#f1b6da\"], [0.4, \"#fde0ef\"], [0.5, \"#f7f7f7\"], [0.6, \"#e6f5d0\"], [0.7, \"#b8e186\"], [0.8, \"#7fbc41\"], [0.9, \"#4d9221\"], [1, \"#276419\"]], \"sequential\": [[0.0, \"#0d0887\"], [0.1111111111111111, \"#46039f\"], [0.2222222222222222, \"#7201a8\"], [0.3333333333333333, \"#9c179e\"], [0.4444444444444444, \"#bd3786\"], [0.5555555555555556, \"#d8576b\"], [0.6666666666666666, \"#ed7953\"], [0.7777777777777778, \"#fb9f3a\"], [0.8888888888888888, \"#fdca26\"], [1.0, \"#f0f921\"]], \"sequentialminus\": [[0.0, \"#0d0887\"], [0.1111111111111111, \"#46039f\"], [0.2222222222222222, \"#7201a8\"], [0.3333333333333333, \"#9c179e\"], [0.4444444444444444, \"#bd3786\"], [0.5555555555555556, \"#d8576b\"], [0.6666666666666666, \"#ed7953\"], [0.7777777777777778, \"#fb9f3a\"], [0.8888888888888888, \"#fdca26\"], [1.0, \"#f0f921\"]]}, \"colorway\": [\"#636efa\", \"#EF553B\", \"#00cc96\", \"#ab63fa\", \"#FFA15A\", \"#19d3f3\", \"#FF6692\", \"#B6E880\", \"#FF97FF\", \"#FECB52\"], \"font\": {\"color\": \"#2a3f5f\"}, \"geo\": {\"bgcolor\": \"white\", \"lakecolor\": \"white\", \"landcolor\": \"#E5ECF6\", \"showlakes\": true, \"showland\": true, \"subunitcolor\": \"white\"}, \"hoverlabel\": {\"align\": \"left\"}, \"hovermode\": \"closest\", \"mapbox\": {\"style\": \"light\"}, \"paper_bgcolor\": \"white\", \"plot_bgcolor\": \"#E5ECF6\", \"polar\": {\"angularaxis\": {\"gridcolor\": \"white\", \"linecolor\": \"white\", \"ticks\": \"\"}, \"bgcolor\": \"#E5ECF6\", \"radialaxis\": {\"gridcolor\": \"white\", \"linecolor\": \"white\", \"ticks\": \"\"}}, \"scene\": {\"xaxis\": {\"backgroundcolor\": \"#E5ECF6\", \"gridcolor\": \"white\", \"gridwidth\": 2, \"linecolor\": \"white\", \"showbackground\": true, \"ticks\": \"\", \"zerolinecolor\": \"white\"}, \"yaxis\": {\"backgroundcolor\": \"#E5ECF6\", \"gridcolor\": \"white\", \"gridwidth\": 2, \"linecolor\": \"white\", \"showbackground\": true, \"ticks\": \"\", \"zerolinecolor\": \"white\"}, \"zaxis\": {\"backgroundcolor\": \"#E5ECF6\", \"gridcolor\": \"white\", \"gridwidth\": 2, \"linecolor\": \"white\", \"showbackground\": true, \"ticks\": \"\", \"zerolinecolor\": \"white\"}}, \"shapedefaults\": {\"line\": {\"color\": \"#2a3f5f\"}}, \"ternary\": {\"aaxis\": {\"gridcolor\": \"white\", \"linecolor\": \"white\", \"ticks\": \"\"}, \"baxis\": {\"gridcolor\": \"white\", \"linecolor\": \"white\", \"ticks\": \"\"}, \"bgcolor\": \"#E5ECF6\", \"caxis\": {\"gridcolor\": \"white\", \"linecolor\": \"white\", \"ticks\": \"\"}}, \"title\": {\"x\": 0.05}, \"xaxis\": {\"automargin\": true, \"gridcolor\": \"white\", \"linecolor\": \"white\", \"ticks\": \"\", \"title\": {\"standoff\": 15}, \"zerolinecolor\": \"white\", \"zerolinewidth\": 2}, \"yaxis\": {\"automargin\": true, \"gridcolor\": \"white\", \"linecolor\": \"white\", \"ticks\": \"\", \"title\": {\"standoff\": 15}, \"zerolinecolor\": \"white\", \"zerolinewidth\": 2}}}, \"xaxis\": {\"anchor\": \"y\", \"domain\": [0.0, 1.0]}, \"yaxis\": {\"anchor\": \"x\", \"domain\": [0.0, 1.0], \"title\": {\"text\": \"Idade\"}}},\n",
              "                        {\"responsive\": true}\n",
              "                    ).then(function(){\n",
              "                            \n",
              "var gd = document.getElementById('88742529-9b88-4022-9647-aec34daed629');\n",
              "var x = new MutationObserver(function (mutations, observer) {{\n",
              "        var display = window.getComputedStyle(gd).display;\n",
              "        if (!display || display === 'none') {{\n",
              "            console.log([gd, 'removed!']);\n",
              "            Plotly.purge(gd);\n",
              "            observer.disconnect();\n",
              "        }}\n",
              "}});\n",
              "\n",
              "// Listen for the removal of the full notebook cells\n",
              "var notebookContainer = gd.closest('#notebook-container');\n",
              "if (notebookContainer) {{\n",
              "    x.observe(notebookContainer, {childList: true});\n",
              "}}\n",
              "\n",
              "// Listen for the clearing of the current output cell\n",
              "var outputEl = gd.closest('.output');\n",
              "if (outputEl) {{\n",
              "    x.observe(outputEl, {childList: true});\n",
              "}}\n",
              "\n",
              "                        })\n",
              "                };\n",
              "                \n",
              "            </script>\n",
              "        </div>\n",
              "</body>\n",
              "</html>"
            ]
          },
          "metadata": {
            "tags": []
          }
        }
      ]
    },
    {
      "cell_type": "code",
      "metadata": {
        "id": "JTufWAtUnlFQ",
        "outputId": "1e88dc12-4363-4d46-c521-27688e721f32",
        "colab": {
          "base_uri": "https://localhost:8080/"
        }
      },
      "source": [
        "\"média, mediana, moda, desvio-padrão, coeficiente de variação e simetria das variáveis quantitativas\"\n",
        "print(f\"Média aritmética: {df2.Idade.mean():.2f}\")\n",
        "print(f\"Médiana: {df2.Idade.median()}\")\n",
        "print(f\"Moda: {st.mode(df2.Idade)}\")\n",
        "print(f\"Desvio Padrão: {st.stdev(df2.Idade):.2f}\")\n",
        "print(f\"Média Harmonica: {(st.harmonic_mean(df2.Idade)):.2f}\")\n",
        "print(f'Coeficiente de Variação: {cv(df2.Idade):.2f}')\n",
        "print('Quartil: (Min, Q1, Q2, Q3, Max) ', np.quantile(df2.Idade, [0, 0.25, 0.5, 0.75, 1]))"
      ],
      "execution_count": 16,
      "outputs": [
        {
          "output_type": "stream",
          "text": [
            "Média aritmética: 34.18\n",
            "Médiana: 30.0\n",
            "Moda: 18\n",
            "Desvio Padrão: 14.67\n",
            "Média Harmonica: 28.92\n",
            "Coeficiente de Variação: 42.93\n",
            "Quartil: (Min, Q1, Q2, Q3, Max)  [16. 22. 30. 43. 91.]\n"
          ],
          "name": "stdout"
        }
      ]
    },
    {
      "cell_type": "markdown",
      "metadata": {
        "id": "xJ1kOHZhWBH7"
      },
      "source": [
        "### Tabela cruzada \"Genero\" x \"Faixa Etária\""
      ]
    },
    {
      "cell_type": "code",
      "metadata": {
        "id": "vqeFFvFwVBSt",
        "outputId": "cf493127-8c4f-4784-c26e-54e520f85f9a",
        "colab": {
          "base_uri": "https://localhost:8080/",
          "height": 173
        }
      },
      "source": [
        "tab02=pd.crosstab(df[\"Genero\"],df[\"Faixa\"],margins=True)\n",
        "tab02"
      ],
      "execution_count": 17,
      "outputs": [
        {
          "output_type": "execute_result",
          "data": {
            "text/html": [
              "<div>\n",
              "<style scoped>\n",
              "    .dataframe tbody tr th:only-of-type {\n",
              "        vertical-align: middle;\n",
              "    }\n",
              "\n",
              "    .dataframe tbody tr th {\n",
              "        vertical-align: top;\n",
              "    }\n",
              "\n",
              "    .dataframe thead th {\n",
              "        text-align: right;\n",
              "    }\n",
              "</style>\n",
              "<table border=\"1\" class=\"dataframe\">\n",
              "  <thead>\n",
              "    <tr style=\"text-align: right;\">\n",
              "      <th>Faixa</th>\n",
              "      <th>16 e 17</th>\n",
              "      <th>18 a 21</th>\n",
              "      <th>22 a 24</th>\n",
              "      <th>25 a 29</th>\n",
              "      <th>30 a 39</th>\n",
              "      <th>40 a 49</th>\n",
              "      <th>50 a 59</th>\n",
              "      <th>60 e +</th>\n",
              "      <th>All</th>\n",
              "    </tr>\n",
              "    <tr>\n",
              "      <th>Genero</th>\n",
              "      <th></th>\n",
              "      <th></th>\n",
              "      <th></th>\n",
              "      <th></th>\n",
              "      <th></th>\n",
              "      <th></th>\n",
              "      <th></th>\n",
              "      <th></th>\n",
              "      <th></th>\n",
              "    </tr>\n",
              "  </thead>\n",
              "  <tbody>\n",
              "    <tr>\n",
              "      <th>Feminino</th>\n",
              "      <td>14</td>\n",
              "      <td>45</td>\n",
              "      <td>22</td>\n",
              "      <td>34</td>\n",
              "      <td>47</td>\n",
              "      <td>31</td>\n",
              "      <td>17</td>\n",
              "      <td>22</td>\n",
              "      <td>232</td>\n",
              "    </tr>\n",
              "    <tr>\n",
              "      <th>Masculino</th>\n",
              "      <td>10</td>\n",
              "      <td>40</td>\n",
              "      <td>22</td>\n",
              "      <td>29</td>\n",
              "      <td>52</td>\n",
              "      <td>34</td>\n",
              "      <td>25</td>\n",
              "      <td>17</td>\n",
              "      <td>229</td>\n",
              "    </tr>\n",
              "    <tr>\n",
              "      <th>All</th>\n",
              "      <td>24</td>\n",
              "      <td>85</td>\n",
              "      <td>44</td>\n",
              "      <td>63</td>\n",
              "      <td>99</td>\n",
              "      <td>65</td>\n",
              "      <td>42</td>\n",
              "      <td>39</td>\n",
              "      <td>461</td>\n",
              "    </tr>\n",
              "  </tbody>\n",
              "</table>\n",
              "</div>"
            ],
            "text/plain": [
              "Faixa      16 e 17  18 a 21  22 a 24  25 a 29  ...  40 a 49  50 a 59  60 e +  All\n",
              "Genero                                         ...                               \n",
              "Feminino        14       45       22       34  ...       31       17      22  232\n",
              "Masculino       10       40       22       29  ...       34       25      17  229\n",
              "All             24       85       44       63  ...       65       42      39  461\n",
              "\n",
              "[3 rows x 9 columns]"
            ]
          },
          "metadata": {
            "tags": []
          },
          "execution_count": 17
        }
      ]
    },
    {
      "cell_type": "markdown",
      "metadata": {
        "id": "uMzRGMZAUWSs"
      },
      "source": [
        "## Divisão Populacional segundo Problema Prioritário"
      ]
    },
    {
      "cell_type": "code",
      "metadata": {
        "id": "6xNjS0hpTxQm",
        "outputId": "64bddcd6-e977-46ff-c682-12e0849131d5",
        "colab": {
          "base_uri": "https://localhost:8080/"
        }
      },
      "source": [
        "val_prioridade = df[\"Prioridade\"].value_counts()\n",
        "val_prioridade"
      ],
      "execution_count": 18,
      "outputs": [
        {
          "output_type": "execute_result",
          "data": {
            "text/plain": [
              "Emprego                     122\n",
              "Saúde                       121\n",
              "Segurança                    39\n",
              "Salário                      29\n",
              "Corrupção                    25\n",
              "Asfalto                      19\n",
              "Saneamento e urbanização     19\n",
              "Infraestrutura               16\n",
              "Educação                     16\n",
              "Renda                        14\n",
              "Administração pública         9\n",
              "Outros                        9\n",
              "Moradia                       8\n",
              "Energia                       4\n",
              "Água                          2\n",
              "Transporte                    1\n",
              "Name: Prioridade, dtype: int64"
            ]
          },
          "metadata": {
            "tags": []
          },
          "execution_count": 18
        }
      ]
    },
    {
      "cell_type": "code",
      "metadata": {
        "id": "WqTpi0MrKZDz",
        "outputId": "f03a521e-93ce-4a1d-dc22-8f30bfdf6a37",
        "colab": {
          "base_uri": "https://localhost:8080/",
          "height": 542
        }
      },
      "source": [
        "fig = px.histogram(df['Prioridade'],\"Prioridade\")\n",
        "fig.show()"
      ],
      "execution_count": 46,
      "outputs": [
        {
          "output_type": "display_data",
          "data": {
            "text/html": [
              "<html>\n",
              "<head><meta charset=\"utf-8\" /></head>\n",
              "<body>\n",
              "    <div>\n",
              "            <script src=\"https://cdnjs.cloudflare.com/ajax/libs/mathjax/2.7.5/MathJax.js?config=TeX-AMS-MML_SVG\"></script><script type=\"text/javascript\">if (window.MathJax) {MathJax.Hub.Config({SVG: {font: \"STIX-Web\"}});}</script>\n",
              "                <script type=\"text/javascript\">window.PlotlyConfig = {MathJaxConfig: 'local'};</script>\n",
              "        <script src=\"https://cdn.plot.ly/plotly-latest.min.js\"></script>    \n",
              "            <div id=\"5aaa8b2c-b729-44ed-95ce-dd3f6c6bfd46\" class=\"plotly-graph-div\" style=\"height:525px; width:100%;\"></div>\n",
              "            <script type=\"text/javascript\">\n",
              "                \n",
              "                    window.PLOTLYENV=window.PLOTLYENV || {};\n",
              "                    \n",
              "                if (document.getElementById(\"5aaa8b2c-b729-44ed-95ce-dd3f6c6bfd46\")) {\n",
              "                    Plotly.newPlot(\n",
              "                        '5aaa8b2c-b729-44ed-95ce-dd3f6c6bfd46',\n",
              "                        [{\"alignmentgroup\": \"True\", \"bingroup\": \"x\", \"hoverlabel\": {\"namelength\": 0}, \"hovertemplate\": \"Prioridade=%{x}<br>count=%{y}\", \"legendgroup\": \"\", \"marker\": {\"color\": \"#636efa\"}, \"name\": \"\", \"offsetgroup\": \"\", \"orientation\": \"v\", \"showlegend\": false, \"type\": \"histogram\", \"x\": [\"Sal\\u00e1rio\", \"Asfalto\", \"Seguran\\u00e7a\", \"Emprego\", \"Emprego\", \"Sa\\u00fade\", \"Corrup\\u00e7\\u00e3o\", \"Asfalto\", \"Saneamento e urbaniza\\u00e7\\u00e3o\", \"Emprego\", \"Sa\\u00fade\", \"Sal\\u00e1rio\", \"Emprego\", \"Renda\", \"Administra\\u00e7\\u00e3o p\\u00fablica\", \"Corrup\\u00e7\\u00e3o\", \"Emprego\", \"Corrup\\u00e7\\u00e3o\", \"Sal\\u00e1rio\", \"Sa\\u00fade\", \"Sa\\u00fade\", \"Seguran\\u00e7a\", \"Asfalto\", \"Sa\\u00fade\", \"Infraestrutura\", \"Emprego\", \"Sal\\u00e1rio\", \"Renda\", \"Saneamento e urbaniza\\u00e7\\u00e3o\", \"Sa\\u00fade\", \"Asfalto\", \"Corrup\\u00e7\\u00e3o\", \"Sal\\u00e1rio\", \"Outros\", \"Educa\\u00e7\\u00e3o\", \"Emprego\", \"Emprego\", \"Renda\", \"Sa\\u00fade\", \"Sal\\u00e1rio\", \"Emprego\", \"Sa\\u00fade\", \"Emprego\", \"Saneamento e urbaniza\\u00e7\\u00e3o\", \"Sa\\u00fade\", \"Renda\", \"Saneamento e urbaniza\\u00e7\\u00e3o\", \"Sal\\u00e1rio\", \"Saneamento e urbaniza\\u00e7\\u00e3o\", \"Emprego\", \"Renda\", \"Administra\\u00e7\\u00e3o p\\u00fablica\", \"Renda\", \"Saneamento e urbaniza\\u00e7\\u00e3o\", \"Seguran\\u00e7a\", \"Sal\\u00e1rio\", \"Sa\\u00fade\", \"Emprego\", \"Seguran\\u00e7a\", \"Energia\", \"Sa\\u00fade\", \"Sa\\u00fade\", \"Infraestrutura\", \"Seguran\\u00e7a\", \"Seguran\\u00e7a\", \"Asfalto\", null, \"Seguran\\u00e7a\", \"Sal\\u00e1rio\", \"Emprego\", \"Sal\\u00e1rio\", \"Sa\\u00fade\", \"Sal\\u00e1rio\", \"Seguran\\u00e7a\", \"Sa\\u00fade\", \"Seguran\\u00e7a\", \"Infraestrutura\", \"Emprego\", \"Asfalto\", \"Seguran\\u00e7a\", \"Sa\\u00fade\", null, \"Sa\\u00fade\", \"Emprego\", null, \"Sa\\u00fade\", \"Administra\\u00e7\\u00e3o p\\u00fablica\", null, \"Seguran\\u00e7a\", \"Infraestrutura\", \"Corrup\\u00e7\\u00e3o\", \"Emprego\", \"Sa\\u00fade\", \"Sa\\u00fade\", \"Saneamento e urbaniza\\u00e7\\u00e3o\", \"Emprego\", \"Emprego\", \"Asfalto\", \"Corrup\\u00e7\\u00e3o\", \"Sa\\u00fade\", \"Seguran\\u00e7a\", \"Moradia\", \"Emprego\", null, \"Saneamento e urbaniza\\u00e7\\u00e3o\", \"Emprego\", \"Emprego\", \"Sa\\u00fade\", \"Saneamento e urbaniza\\u00e7\\u00e3o\", \"Seguran\\u00e7a\", \"Seguran\\u00e7a\", \"Educa\\u00e7\\u00e3o\", \"Sa\\u00fade\", \"Educa\\u00e7\\u00e3o\", \"Moradia\", \"Infraestrutura\", \"Sa\\u00fade\", \"Seguran\\u00e7a\", \"Sa\\u00fade\", \"Emprego\", \"Emprego\", \"Sa\\u00fade\", \"Asfalto\", \"Sal\\u00e1rio\", \"Sal\\u00e1rio\", \"Emprego\", \"Sa\\u00fade\", \"Sa\\u00fade\", \"Seguran\\u00e7a\", \"Sa\\u00fade\", \"Energia\", \"Emprego\", \"Sa\\u00fade\", \"Seguran\\u00e7a\", \"Educa\\u00e7\\u00e3o\", \"Emprego\", \"Sa\\u00fade\", \"Emprego\", \"Sal\\u00e1rio\", \"Asfalto\", \"Emprego\", \"Sal\\u00e1rio\", \"Sa\\u00fade\", \"Emprego\", \"Seguran\\u00e7a\", \"Moradia\", \"Moradia\", \"Sa\\u00fade\", \"Sa\\u00fade\", \"Emprego\", \"Sa\\u00fade\", \"Educa\\u00e7\\u00e3o\", \"Asfalto\", \"Saneamento e urbaniza\\u00e7\\u00e3o\", \"Sal\\u00e1rio\", \"Sal\\u00e1rio\", \"Emprego\", \"Sal\\u00e1rio\", \"Outros\", \"Moradia\", \"Emprego\", \"Emprego\", \"Transporte\", \"Sa\\u00fade\", \"Emprego\", \"Sa\\u00fade\", \"Emprego\", \"Emprego\", \"Sa\\u00fade\", \"Sa\\u00fade\", \"Corrup\\u00e7\\u00e3o\", \"Moradia\", \"Emprego\", \"Emprego\", \"Sa\\u00fade\", \"Sa\\u00fade\", \"Emprego\", \"Sa\\u00fade\", \"Educa\\u00e7\\u00e3o\", \"Outros\", \"Corrup\\u00e7\\u00e3o\", \"Corrup\\u00e7\\u00e3o\", \"Emprego\", \"Emprego\", \"Seguran\\u00e7a\", \"Sa\\u00fade\", \"Sal\\u00e1rio\", \"Renda\", \"Sa\\u00fade\", \"Emprego\", \"Emprego\", \"Sa\\u00fade\", \"Administra\\u00e7\\u00e3o p\\u00fablica\", \"Sa\\u00fade\", \"Renda\", \"Saneamento e urbaniza\\u00e7\\u00e3o\", \"Renda\", \"Seguran\\u00e7a\", \"Educa\\u00e7\\u00e3o\", \"Emprego\", \"Sa\\u00fade\", \"Administra\\u00e7\\u00e3o p\\u00fablica\", \"Sal\\u00e1rio\", \"Emprego\", \"Infraestrutura\", \"Corrup\\u00e7\\u00e3o\", \"Seguran\\u00e7a\", \"Infraestrutura\", \"Sa\\u00fade\", \"Emprego\", \"Sa\\u00fade\", \"Sa\\u00fade\", \"Renda\", \"Seguran\\u00e7a\", \"Emprego\", \"Emprego\", \"Sa\\u00fade\", \"Emprego\", \"Emprego\", \"Educa\\u00e7\\u00e3o\", \"Emprego\", \"Moradia\", \"Corrup\\u00e7\\u00e3o\", \"Corrup\\u00e7\\u00e3o\", \"Seguran\\u00e7a\", \"Emprego\", \"Emprego\", \"Saneamento e urbaniza\\u00e7\\u00e3o\", \"Sa\\u00fade\", \"Seguran\\u00e7a\", \"Emprego\", \"Emprego\", \"Sa\\u00fade\", \"Corrup\\u00e7\\u00e3o\", \"Sa\\u00fade\", \"Emprego\", \"Outros\", \"Emprego\", \"Seguran\\u00e7a\", \"Sa\\u00fade\", \"Emprego\", \"Emprego\", \"Energia\", \"Educa\\u00e7\\u00e3o\", \"Infraestrutura\", \"Seguran\\u00e7a\", \"Sal\\u00e1rio\", \"Educa\\u00e7\\u00e3o\", \"Emprego\", \"Emprego\", \"Emprego\", \"Sa\\u00fade\", \"Sa\\u00fade\", \"Sa\\u00fade\", \"Saneamento e urbaniza\\u00e7\\u00e3o\", \"Sal\\u00e1rio\", \"Emprego\", \"Sa\\u00fade\", \"Renda\", \"Emprego\", \"Sa\\u00fade\", \"Sa\\u00fade\", \"Saneamento e urbaniza\\u00e7\\u00e3o\", \"Sa\\u00fade\", null, \"Sa\\u00fade\", \"Sa\\u00fade\", \"Emprego\", \"Sa\\u00fade\", \"Emprego\", \"Sa\\u00fade\", \"Sal\\u00e1rio\", \"Emprego\", \"Outros\", \"Emprego\", \"Seguran\\u00e7a\", \"Asfalto\", \"Sa\\u00fade\", \"Asfalto\", \"Sa\\u00fade\", \"Sal\\u00e1rio\", \"Seguran\\u00e7a\", \"Renda\", \"Emprego\", \"Sal\\u00e1rio\", \"Infraestrutura\", \"Infraestrutura\", \"Outros\", \"Emprego\", \"Sa\\u00fade\", \"Sa\\u00fade\", \"Sa\\u00fade\", \"Moradia\", \"Emprego\", \"Asfalto\", null, \"Sa\\u00fade\", \"Emprego\", \"Corrup\\u00e7\\u00e3o\", \"Emprego\", \"Asfalto\", \"Emprego\", \"Administra\\u00e7\\u00e3o p\\u00fablica\", \"Corrup\\u00e7\\u00e3o\", null, \"Sa\\u00fade\", \"Sa\\u00fade\", \"Educa\\u00e7\\u00e3o\", \"Emprego\", \"Infraestrutura\", \"Emprego\", \"Administra\\u00e7\\u00e3o p\\u00fablica\", \"Corrup\\u00e7\\u00e3o\", \"Sa\\u00fade\", \"Asfalto\", \"Corrup\\u00e7\\u00e3o\", \"Emprego\", \"Emprego\", \"Sa\\u00fade\", \"Seguran\\u00e7a\", \"Sa\\u00fade\", \"Outros\", \"Emprego\", \"Sa\\u00fade\", \"Sal\\u00e1rio\", \"Sa\\u00fade\", \"Emprego\", \"Sa\\u00fade\", \"Sa\\u00fade\", \"Educa\\u00e7\\u00e3o\", \"Sa\\u00fade\", \"Asfalto\", \"Sal\\u00e1rio\", \"Emprego\", \"Saneamento e urbaniza\\u00e7\\u00e3o\", \"Sa\\u00fade\", \"Sa\\u00fade\", \"Emprego\", \"Sa\\u00fade\", \"Emprego\", \"Asfalto\", \"Sa\\u00fade\", \"Outros\", \"Emprego\", \"Emprego\", \"Sa\\u00fade\", \"Sa\\u00fade\", \"Sa\\u00fade\", \"Educa\\u00e7\\u00e3o\", \"Sal\\u00e1rio\", \"Sa\\u00fade\", \"\\u00c1gua\", \"Seguran\\u00e7a\", \"Seguran\\u00e7a\", \"Corrup\\u00e7\\u00e3o\", \"Corrup\\u00e7\\u00e3o\", \"Emprego\", \"Energia\", \"Corrup\\u00e7\\u00e3o\", \"Emprego\", \"Seguran\\u00e7a\", \"Corrup\\u00e7\\u00e3o\", \"Emprego\", \"Sa\\u00fade\", \"Sa\\u00fade\", \"Educa\\u00e7\\u00e3o\", \"Infraestrutura\", \"Corrup\\u00e7\\u00e3o\", \"Sa\\u00fade\", \"Sa\\u00fade\", \"Sa\\u00fade\", \"Corrup\\u00e7\\u00e3o\", \"Sa\\u00fade\", \"Emprego\", \"Emprego\", \"Emprego\", \"Seguran\\u00e7a\", \"Emprego\", \"Emprego\", \"Emprego\", \"Sa\\u00fade\", \"Educa\\u00e7\\u00e3o\", \"Sa\\u00fade\", \"Emprego\", \"Sa\\u00fade\", \"Sa\\u00fade\", \"Sa\\u00fade\", \"Emprego\", \"Emprego\", \"Emprego\", \"Emprego\", \"Sa\\u00fade\", \"Educa\\u00e7\\u00e3o\", \"Emprego\", \"Sa\\u00fade\", \"Sa\\u00fade\", \"Seguran\\u00e7a\", \"Asfalto\", \"Sa\\u00fade\", \"Sa\\u00fade\", \"Sa\\u00fade\", \"Emprego\", \"Sa\\u00fade\", \"Sa\\u00fade\", \"Emprego\", \"Sa\\u00fade\", \"Emprego\", \"Emprego\", \"Emprego\", \"Emprego\", \"Emprego\", \"Sa\\u00fade\", \"Corrup\\u00e7\\u00e3o\", \"Sa\\u00fade\", \"Emprego\", \"Seguran\\u00e7a\", \"Emprego\", \"Emprego\", \"Saneamento e urbaniza\\u00e7\\u00e3o\", \"Infraestrutura\", \"Sa\\u00fade\", \"Emprego\", \"Infraestrutura\", \"Infraestrutura\", \"Saneamento e urbaniza\\u00e7\\u00e3o\", \"Corrup\\u00e7\\u00e3o\", \"Sa\\u00fade\", \"Sa\\u00fade\", \"Sa\\u00fade\", \"Saneamento e urbaniza\\u00e7\\u00e3o\", \"Renda\", \"Emprego\", \"Sa\\u00fade\", \"Emprego\", \"Emprego\", \"Emprego\", \"Emprego\", \"Seguran\\u00e7a\", \"Sal\\u00e1rio\", \"Emprego\", \"Sa\\u00fade\", \"Saneamento e urbaniza\\u00e7\\u00e3o\", \"Asfalto\", \"Sa\\u00fade\", \"Seguran\\u00e7a\", \"Administra\\u00e7\\u00e3o p\\u00fablica\", \"Sa\\u00fade\", \"Seguran\\u00e7a\", \"Emprego\", \"Administra\\u00e7\\u00e3o p\\u00fablica\", \"Sa\\u00fade\", \"Outros\", \"Renda\", \"Emprego\", \"Sa\\u00fade\", \"\\u00c1gua\", \"Seguran\\u00e7a\", \"Infraestrutura\", \"Emprego\", \"Emprego\", \"Emprego\"], \"xaxis\": \"x\", \"yaxis\": \"y\"}],\n",
              "                        {\"barmode\": \"relative\", \"legend\": {\"tracegroupgap\": 0}, \"margin\": {\"t\": 60}, \"template\": {\"data\": {\"bar\": [{\"error_x\": {\"color\": \"#2a3f5f\"}, \"error_y\": {\"color\": \"#2a3f5f\"}, \"marker\": {\"line\": {\"color\": \"#E5ECF6\", \"width\": 0.5}}, \"type\": \"bar\"}], \"barpolar\": [{\"marker\": {\"line\": {\"color\": \"#E5ECF6\", \"width\": 0.5}}, \"type\": \"barpolar\"}], \"carpet\": [{\"aaxis\": {\"endlinecolor\": \"#2a3f5f\", \"gridcolor\": \"white\", \"linecolor\": \"white\", \"minorgridcolor\": \"white\", \"startlinecolor\": \"#2a3f5f\"}, \"baxis\": {\"endlinecolor\": \"#2a3f5f\", \"gridcolor\": \"white\", \"linecolor\": \"white\", \"minorgridcolor\": \"white\", \"startlinecolor\": \"#2a3f5f\"}, \"type\": \"carpet\"}], \"choropleth\": [{\"colorbar\": {\"outlinewidth\": 0, \"ticks\": \"\"}, \"type\": \"choropleth\"}], \"contour\": [{\"colorbar\": {\"outlinewidth\": 0, \"ticks\": \"\"}, \"colorscale\": [[0.0, \"#0d0887\"], [0.1111111111111111, \"#46039f\"], [0.2222222222222222, \"#7201a8\"], [0.3333333333333333, \"#9c179e\"], [0.4444444444444444, \"#bd3786\"], [0.5555555555555556, \"#d8576b\"], [0.6666666666666666, \"#ed7953\"], [0.7777777777777778, \"#fb9f3a\"], [0.8888888888888888, \"#fdca26\"], [1.0, \"#f0f921\"]], \"type\": \"contour\"}], \"contourcarpet\": [{\"colorbar\": {\"outlinewidth\": 0, \"ticks\": \"\"}, \"type\": \"contourcarpet\"}], \"heatmap\": [{\"colorbar\": {\"outlinewidth\": 0, \"ticks\": \"\"}, \"colorscale\": [[0.0, \"#0d0887\"], [0.1111111111111111, \"#46039f\"], [0.2222222222222222, \"#7201a8\"], [0.3333333333333333, \"#9c179e\"], [0.4444444444444444, \"#bd3786\"], [0.5555555555555556, \"#d8576b\"], [0.6666666666666666, \"#ed7953\"], [0.7777777777777778, \"#fb9f3a\"], [0.8888888888888888, \"#fdca26\"], [1.0, \"#f0f921\"]], \"type\": \"heatmap\"}], \"heatmapgl\": [{\"colorbar\": {\"outlinewidth\": 0, \"ticks\": \"\"}, \"colorscale\": [[0.0, \"#0d0887\"], [0.1111111111111111, \"#46039f\"], [0.2222222222222222, \"#7201a8\"], [0.3333333333333333, \"#9c179e\"], [0.4444444444444444, \"#bd3786\"], [0.5555555555555556, \"#d8576b\"], [0.6666666666666666, \"#ed7953\"], [0.7777777777777778, \"#fb9f3a\"], [0.8888888888888888, \"#fdca26\"], [1.0, \"#f0f921\"]], \"type\": \"heatmapgl\"}], \"histogram\": [{\"marker\": {\"colorbar\": {\"outlinewidth\": 0, \"ticks\": \"\"}}, \"type\": \"histogram\"}], \"histogram2d\": [{\"colorbar\": {\"outlinewidth\": 0, \"ticks\": \"\"}, \"colorscale\": [[0.0, \"#0d0887\"], [0.1111111111111111, \"#46039f\"], [0.2222222222222222, \"#7201a8\"], [0.3333333333333333, \"#9c179e\"], [0.4444444444444444, \"#bd3786\"], [0.5555555555555556, \"#d8576b\"], [0.6666666666666666, \"#ed7953\"], [0.7777777777777778, \"#fb9f3a\"], [0.8888888888888888, \"#fdca26\"], [1.0, \"#f0f921\"]], \"type\": \"histogram2d\"}], \"histogram2dcontour\": [{\"colorbar\": {\"outlinewidth\": 0, \"ticks\": \"\"}, \"colorscale\": [[0.0, \"#0d0887\"], [0.1111111111111111, \"#46039f\"], [0.2222222222222222, \"#7201a8\"], [0.3333333333333333, \"#9c179e\"], [0.4444444444444444, \"#bd3786\"], [0.5555555555555556, \"#d8576b\"], [0.6666666666666666, \"#ed7953\"], [0.7777777777777778, \"#fb9f3a\"], [0.8888888888888888, \"#fdca26\"], [1.0, \"#f0f921\"]], \"type\": \"histogram2dcontour\"}], \"mesh3d\": [{\"colorbar\": {\"outlinewidth\": 0, \"ticks\": \"\"}, \"type\": \"mesh3d\"}], \"parcoords\": [{\"line\": {\"colorbar\": {\"outlinewidth\": 0, \"ticks\": \"\"}}, \"type\": \"parcoords\"}], \"pie\": [{\"automargin\": true, \"type\": \"pie\"}], \"scatter\": [{\"marker\": {\"colorbar\": {\"outlinewidth\": 0, \"ticks\": \"\"}}, \"type\": \"scatter\"}], \"scatter3d\": [{\"line\": {\"colorbar\": {\"outlinewidth\": 0, \"ticks\": \"\"}}, \"marker\": {\"colorbar\": {\"outlinewidth\": 0, \"ticks\": \"\"}}, \"type\": \"scatter3d\"}], \"scattercarpet\": [{\"marker\": {\"colorbar\": {\"outlinewidth\": 0, \"ticks\": \"\"}}, \"type\": \"scattercarpet\"}], \"scattergeo\": [{\"marker\": {\"colorbar\": {\"outlinewidth\": 0, \"ticks\": \"\"}}, \"type\": \"scattergeo\"}], \"scattergl\": [{\"marker\": {\"colorbar\": {\"outlinewidth\": 0, \"ticks\": \"\"}}, \"type\": \"scattergl\"}], \"scattermapbox\": [{\"marker\": {\"colorbar\": {\"outlinewidth\": 0, \"ticks\": \"\"}}, \"type\": \"scattermapbox\"}], \"scatterpolar\": [{\"marker\": {\"colorbar\": {\"outlinewidth\": 0, \"ticks\": \"\"}}, \"type\": \"scatterpolar\"}], \"scatterpolargl\": [{\"marker\": {\"colorbar\": {\"outlinewidth\": 0, \"ticks\": \"\"}}, \"type\": \"scatterpolargl\"}], \"scatterternary\": [{\"marker\": {\"colorbar\": {\"outlinewidth\": 0, \"ticks\": \"\"}}, \"type\": \"scatterternary\"}], \"surface\": [{\"colorbar\": {\"outlinewidth\": 0, \"ticks\": \"\"}, \"colorscale\": [[0.0, \"#0d0887\"], [0.1111111111111111, \"#46039f\"], [0.2222222222222222, \"#7201a8\"], [0.3333333333333333, \"#9c179e\"], [0.4444444444444444, \"#bd3786\"], [0.5555555555555556, \"#d8576b\"], [0.6666666666666666, \"#ed7953\"], [0.7777777777777778, \"#fb9f3a\"], [0.8888888888888888, \"#fdca26\"], [1.0, \"#f0f921\"]], \"type\": \"surface\"}], \"table\": [{\"cells\": {\"fill\": {\"color\": \"#EBF0F8\"}, \"line\": {\"color\": \"white\"}}, \"header\": {\"fill\": {\"color\": \"#C8D4E3\"}, \"line\": {\"color\": \"white\"}}, \"type\": \"table\"}]}, \"layout\": {\"annotationdefaults\": {\"arrowcolor\": \"#2a3f5f\", \"arrowhead\": 0, \"arrowwidth\": 1}, \"coloraxis\": {\"colorbar\": {\"outlinewidth\": 0, \"ticks\": \"\"}}, \"colorscale\": {\"diverging\": [[0, \"#8e0152\"], [0.1, \"#c51b7d\"], [0.2, \"#de77ae\"], [0.3, \"#f1b6da\"], [0.4, \"#fde0ef\"], [0.5, \"#f7f7f7\"], [0.6, \"#e6f5d0\"], [0.7, \"#b8e186\"], [0.8, \"#7fbc41\"], [0.9, \"#4d9221\"], [1, \"#276419\"]], \"sequential\": [[0.0, \"#0d0887\"], [0.1111111111111111, \"#46039f\"], [0.2222222222222222, \"#7201a8\"], [0.3333333333333333, \"#9c179e\"], [0.4444444444444444, \"#bd3786\"], [0.5555555555555556, \"#d8576b\"], [0.6666666666666666, \"#ed7953\"], [0.7777777777777778, \"#fb9f3a\"], [0.8888888888888888, \"#fdca26\"], [1.0, \"#f0f921\"]], \"sequentialminus\": [[0.0, \"#0d0887\"], [0.1111111111111111, \"#46039f\"], [0.2222222222222222, \"#7201a8\"], [0.3333333333333333, \"#9c179e\"], [0.4444444444444444, \"#bd3786\"], [0.5555555555555556, \"#d8576b\"], [0.6666666666666666, \"#ed7953\"], [0.7777777777777778, \"#fb9f3a\"], [0.8888888888888888, \"#fdca26\"], [1.0, \"#f0f921\"]]}, \"colorway\": [\"#636efa\", \"#EF553B\", \"#00cc96\", \"#ab63fa\", \"#FFA15A\", \"#19d3f3\", \"#FF6692\", \"#B6E880\", \"#FF97FF\", \"#FECB52\"], \"font\": {\"color\": \"#2a3f5f\"}, \"geo\": {\"bgcolor\": \"white\", \"lakecolor\": \"white\", \"landcolor\": \"#E5ECF6\", \"showlakes\": true, \"showland\": true, \"subunitcolor\": \"white\"}, \"hoverlabel\": {\"align\": \"left\"}, \"hovermode\": \"closest\", \"mapbox\": {\"style\": \"light\"}, \"paper_bgcolor\": \"white\", \"plot_bgcolor\": \"#E5ECF6\", \"polar\": {\"angularaxis\": {\"gridcolor\": \"white\", \"linecolor\": \"white\", \"ticks\": \"\"}, \"bgcolor\": \"#E5ECF6\", \"radialaxis\": {\"gridcolor\": \"white\", \"linecolor\": \"white\", \"ticks\": \"\"}}, \"scene\": {\"xaxis\": {\"backgroundcolor\": \"#E5ECF6\", \"gridcolor\": \"white\", \"gridwidth\": 2, \"linecolor\": \"white\", \"showbackground\": true, \"ticks\": \"\", \"zerolinecolor\": \"white\"}, \"yaxis\": {\"backgroundcolor\": \"#E5ECF6\", \"gridcolor\": \"white\", \"gridwidth\": 2, \"linecolor\": \"white\", \"showbackground\": true, \"ticks\": \"\", \"zerolinecolor\": \"white\"}, \"zaxis\": {\"backgroundcolor\": \"#E5ECF6\", \"gridcolor\": \"white\", \"gridwidth\": 2, \"linecolor\": \"white\", \"showbackground\": true, \"ticks\": \"\", \"zerolinecolor\": \"white\"}}, \"shapedefaults\": {\"line\": {\"color\": \"#2a3f5f\"}}, \"ternary\": {\"aaxis\": {\"gridcolor\": \"white\", \"linecolor\": \"white\", \"ticks\": \"\"}, \"baxis\": {\"gridcolor\": \"white\", \"linecolor\": \"white\", \"ticks\": \"\"}, \"bgcolor\": \"#E5ECF6\", \"caxis\": {\"gridcolor\": \"white\", \"linecolor\": \"white\", \"ticks\": \"\"}}, \"title\": {\"x\": 0.05}, \"xaxis\": {\"automargin\": true, \"gridcolor\": \"white\", \"linecolor\": \"white\", \"ticks\": \"\", \"title\": {\"standoff\": 15}, \"zerolinecolor\": \"white\", \"zerolinewidth\": 2}, \"yaxis\": {\"automargin\": true, \"gridcolor\": \"white\", \"linecolor\": \"white\", \"ticks\": \"\", \"title\": {\"standoff\": 15}, \"zerolinecolor\": \"white\", \"zerolinewidth\": 2}}}, \"xaxis\": {\"anchor\": \"y\", \"domain\": [0.0, 1.0], \"title\": {\"text\": \"Prioridade\"}}, \"yaxis\": {\"anchor\": \"x\", \"domain\": [0.0, 1.0], \"title\": {\"text\": \"count\"}}},\n",
              "                        {\"responsive\": true}\n",
              "                    ).then(function(){\n",
              "                            \n",
              "var gd = document.getElementById('5aaa8b2c-b729-44ed-95ce-dd3f6c6bfd46');\n",
              "var x = new MutationObserver(function (mutations, observer) {{\n",
              "        var display = window.getComputedStyle(gd).display;\n",
              "        if (!display || display === 'none') {{\n",
              "            console.log([gd, 'removed!']);\n",
              "            Plotly.purge(gd);\n",
              "            observer.disconnect();\n",
              "        }}\n",
              "}});\n",
              "\n",
              "// Listen for the removal of the full notebook cells\n",
              "var notebookContainer = gd.closest('#notebook-container');\n",
              "if (notebookContainer) {{\n",
              "    x.observe(notebookContainer, {childList: true});\n",
              "}}\n",
              "\n",
              "// Listen for the clearing of the current output cell\n",
              "var outputEl = gd.closest('.output');\n",
              "if (outputEl) {{\n",
              "    x.observe(outputEl, {childList: true});\n",
              "}}\n",
              "\n",
              "                        })\n",
              "                };\n",
              "                \n",
              "            </script>\n",
              "        </div>\n",
              "</body>\n",
              "</html>"
            ]
          },
          "metadata": {
            "tags": []
          }
        }
      ]
    },
    {
      "cell_type": "code",
      "metadata": {
        "id": "rncCYOONpBRR",
        "outputId": "dba36980-296c-47a8-bb4c-20823b70897c",
        "colab": {
          "base_uri": "https://localhost:8080/",
          "height": 542
        }
      },
      "source": [
        "qt9 = val_prioridade\n",
        "fig = go.Figure(data=[go.Pie(labels=qt9.keys(),values=qt9.values,title=\"Divisão por Prioridade\")])\n",
        "fig.show()"
      ],
      "execution_count": 47,
      "outputs": [
        {
          "output_type": "display_data",
          "data": {
            "text/html": [
              "<html>\n",
              "<head><meta charset=\"utf-8\" /></head>\n",
              "<body>\n",
              "    <div>\n",
              "            <script src=\"https://cdnjs.cloudflare.com/ajax/libs/mathjax/2.7.5/MathJax.js?config=TeX-AMS-MML_SVG\"></script><script type=\"text/javascript\">if (window.MathJax) {MathJax.Hub.Config({SVG: {font: \"STIX-Web\"}});}</script>\n",
              "                <script type=\"text/javascript\">window.PlotlyConfig = {MathJaxConfig: 'local'};</script>\n",
              "        <script src=\"https://cdn.plot.ly/plotly-latest.min.js\"></script>    \n",
              "            <div id=\"0eb5f868-f0c3-4b9e-82bd-b8139398da0f\" class=\"plotly-graph-div\" style=\"height:525px; width:100%;\"></div>\n",
              "            <script type=\"text/javascript\">\n",
              "                \n",
              "                    window.PLOTLYENV=window.PLOTLYENV || {};\n",
              "                    \n",
              "                if (document.getElementById(\"0eb5f868-f0c3-4b9e-82bd-b8139398da0f\")) {\n",
              "                    Plotly.newPlot(\n",
              "                        '0eb5f868-f0c3-4b9e-82bd-b8139398da0f',\n",
              "                        [{\"labels\": [\"Emprego\", \"Sa\\u00fade\", \"Seguran\\u00e7a\", \"Sal\\u00e1rio\", \"Corrup\\u00e7\\u00e3o\", \"Asfalto\", \"Saneamento e urbaniza\\u00e7\\u00e3o\", \"Infraestrutura\", \"Educa\\u00e7\\u00e3o\", \"Renda\", \"Administra\\u00e7\\u00e3o p\\u00fablica\", \"Outros\", \"Moradia\", \"Energia\", \"\\u00c1gua\", \"Transporte\"], \"title\": {\"text\": \"Divis\\u00e3o por Bairro\"}, \"type\": \"pie\", \"values\": [122, 121, 39, 29, 25, 19, 19, 16, 16, 14, 9, 9, 8, 4, 2, 1]}],\n",
              "                        {\"template\": {\"data\": {\"bar\": [{\"error_x\": {\"color\": \"#2a3f5f\"}, \"error_y\": {\"color\": \"#2a3f5f\"}, \"marker\": {\"line\": {\"color\": \"#E5ECF6\", \"width\": 0.5}}, \"type\": \"bar\"}], \"barpolar\": [{\"marker\": {\"line\": {\"color\": \"#E5ECF6\", \"width\": 0.5}}, \"type\": \"barpolar\"}], \"carpet\": [{\"aaxis\": {\"endlinecolor\": \"#2a3f5f\", \"gridcolor\": \"white\", \"linecolor\": \"white\", \"minorgridcolor\": \"white\", \"startlinecolor\": \"#2a3f5f\"}, \"baxis\": {\"endlinecolor\": \"#2a3f5f\", \"gridcolor\": \"white\", \"linecolor\": \"white\", \"minorgridcolor\": \"white\", \"startlinecolor\": \"#2a3f5f\"}, \"type\": \"carpet\"}], \"choropleth\": [{\"colorbar\": {\"outlinewidth\": 0, \"ticks\": \"\"}, \"type\": \"choropleth\"}], \"contour\": [{\"colorbar\": {\"outlinewidth\": 0, \"ticks\": \"\"}, \"colorscale\": [[0.0, \"#0d0887\"], [0.1111111111111111, \"#46039f\"], [0.2222222222222222, \"#7201a8\"], [0.3333333333333333, \"#9c179e\"], [0.4444444444444444, \"#bd3786\"], [0.5555555555555556, \"#d8576b\"], [0.6666666666666666, \"#ed7953\"], [0.7777777777777778, \"#fb9f3a\"], [0.8888888888888888, \"#fdca26\"], [1.0, \"#f0f921\"]], \"type\": \"contour\"}], \"contourcarpet\": [{\"colorbar\": {\"outlinewidth\": 0, \"ticks\": \"\"}, \"type\": \"contourcarpet\"}], \"heatmap\": [{\"colorbar\": {\"outlinewidth\": 0, \"ticks\": \"\"}, \"colorscale\": [[0.0, \"#0d0887\"], [0.1111111111111111, \"#46039f\"], [0.2222222222222222, \"#7201a8\"], [0.3333333333333333, \"#9c179e\"], [0.4444444444444444, \"#bd3786\"], [0.5555555555555556, \"#d8576b\"], [0.6666666666666666, \"#ed7953\"], [0.7777777777777778, \"#fb9f3a\"], [0.8888888888888888, \"#fdca26\"], [1.0, \"#f0f921\"]], \"type\": \"heatmap\"}], \"heatmapgl\": [{\"colorbar\": {\"outlinewidth\": 0, \"ticks\": \"\"}, \"colorscale\": [[0.0, \"#0d0887\"], [0.1111111111111111, \"#46039f\"], [0.2222222222222222, \"#7201a8\"], [0.3333333333333333, \"#9c179e\"], [0.4444444444444444, \"#bd3786\"], [0.5555555555555556, \"#d8576b\"], [0.6666666666666666, \"#ed7953\"], [0.7777777777777778, \"#fb9f3a\"], [0.8888888888888888, \"#fdca26\"], [1.0, \"#f0f921\"]], \"type\": \"heatmapgl\"}], \"histogram\": [{\"marker\": {\"colorbar\": {\"outlinewidth\": 0, \"ticks\": \"\"}}, \"type\": \"histogram\"}], \"histogram2d\": [{\"colorbar\": {\"outlinewidth\": 0, \"ticks\": \"\"}, \"colorscale\": [[0.0, \"#0d0887\"], [0.1111111111111111, \"#46039f\"], [0.2222222222222222, \"#7201a8\"], [0.3333333333333333, \"#9c179e\"], [0.4444444444444444, \"#bd3786\"], [0.5555555555555556, \"#d8576b\"], [0.6666666666666666, \"#ed7953\"], [0.7777777777777778, \"#fb9f3a\"], [0.8888888888888888, \"#fdca26\"], [1.0, \"#f0f921\"]], \"type\": \"histogram2d\"}], \"histogram2dcontour\": [{\"colorbar\": {\"outlinewidth\": 0, \"ticks\": \"\"}, \"colorscale\": [[0.0, \"#0d0887\"], [0.1111111111111111, \"#46039f\"], [0.2222222222222222, \"#7201a8\"], [0.3333333333333333, \"#9c179e\"], [0.4444444444444444, \"#bd3786\"], [0.5555555555555556, \"#d8576b\"], [0.6666666666666666, \"#ed7953\"], [0.7777777777777778, \"#fb9f3a\"], [0.8888888888888888, \"#fdca26\"], [1.0, \"#f0f921\"]], \"type\": \"histogram2dcontour\"}], \"mesh3d\": [{\"colorbar\": {\"outlinewidth\": 0, \"ticks\": \"\"}, \"type\": \"mesh3d\"}], \"parcoords\": [{\"line\": {\"colorbar\": {\"outlinewidth\": 0, \"ticks\": \"\"}}, \"type\": \"parcoords\"}], \"pie\": [{\"automargin\": true, \"type\": \"pie\"}], \"scatter\": [{\"marker\": {\"colorbar\": {\"outlinewidth\": 0, \"ticks\": \"\"}}, \"type\": \"scatter\"}], \"scatter3d\": [{\"line\": {\"colorbar\": {\"outlinewidth\": 0, \"ticks\": \"\"}}, \"marker\": {\"colorbar\": {\"outlinewidth\": 0, \"ticks\": \"\"}}, \"type\": \"scatter3d\"}], \"scattercarpet\": [{\"marker\": {\"colorbar\": {\"outlinewidth\": 0, \"ticks\": \"\"}}, \"type\": \"scattercarpet\"}], \"scattergeo\": [{\"marker\": {\"colorbar\": {\"outlinewidth\": 0, \"ticks\": \"\"}}, \"type\": \"scattergeo\"}], \"scattergl\": [{\"marker\": {\"colorbar\": {\"outlinewidth\": 0, \"ticks\": \"\"}}, \"type\": \"scattergl\"}], \"scattermapbox\": [{\"marker\": {\"colorbar\": {\"outlinewidth\": 0, \"ticks\": \"\"}}, \"type\": \"scattermapbox\"}], \"scatterpolar\": [{\"marker\": {\"colorbar\": {\"outlinewidth\": 0, \"ticks\": \"\"}}, \"type\": \"scatterpolar\"}], \"scatterpolargl\": [{\"marker\": {\"colorbar\": {\"outlinewidth\": 0, \"ticks\": \"\"}}, \"type\": \"scatterpolargl\"}], \"scatterternary\": [{\"marker\": {\"colorbar\": {\"outlinewidth\": 0, \"ticks\": \"\"}}, \"type\": \"scatterternary\"}], \"surface\": [{\"colorbar\": {\"outlinewidth\": 0, \"ticks\": \"\"}, \"colorscale\": [[0.0, \"#0d0887\"], [0.1111111111111111, \"#46039f\"], [0.2222222222222222, \"#7201a8\"], [0.3333333333333333, \"#9c179e\"], [0.4444444444444444, \"#bd3786\"], [0.5555555555555556, \"#d8576b\"], [0.6666666666666666, \"#ed7953\"], [0.7777777777777778, \"#fb9f3a\"], [0.8888888888888888, \"#fdca26\"], [1.0, \"#f0f921\"]], \"type\": \"surface\"}], \"table\": [{\"cells\": {\"fill\": {\"color\": \"#EBF0F8\"}, \"line\": {\"color\": \"white\"}}, \"header\": {\"fill\": {\"color\": \"#C8D4E3\"}, \"line\": {\"color\": \"white\"}}, \"type\": \"table\"}]}, \"layout\": {\"annotationdefaults\": {\"arrowcolor\": \"#2a3f5f\", \"arrowhead\": 0, \"arrowwidth\": 1}, \"coloraxis\": {\"colorbar\": {\"outlinewidth\": 0, \"ticks\": \"\"}}, \"colorscale\": {\"diverging\": [[0, \"#8e0152\"], [0.1, \"#c51b7d\"], [0.2, \"#de77ae\"], [0.3, \"#f1b6da\"], [0.4, \"#fde0ef\"], [0.5, \"#f7f7f7\"], [0.6, \"#e6f5d0\"], [0.7, \"#b8e186\"], [0.8, \"#7fbc41\"], [0.9, \"#4d9221\"], [1, \"#276419\"]], \"sequential\": [[0.0, \"#0d0887\"], [0.1111111111111111, \"#46039f\"], [0.2222222222222222, \"#7201a8\"], [0.3333333333333333, \"#9c179e\"], [0.4444444444444444, \"#bd3786\"], [0.5555555555555556, \"#d8576b\"], [0.6666666666666666, \"#ed7953\"], [0.7777777777777778, \"#fb9f3a\"], [0.8888888888888888, \"#fdca26\"], [1.0, \"#f0f921\"]], \"sequentialminus\": [[0.0, \"#0d0887\"], [0.1111111111111111, \"#46039f\"], [0.2222222222222222, \"#7201a8\"], [0.3333333333333333, \"#9c179e\"], [0.4444444444444444, \"#bd3786\"], [0.5555555555555556, \"#d8576b\"], [0.6666666666666666, \"#ed7953\"], [0.7777777777777778, \"#fb9f3a\"], [0.8888888888888888, \"#fdca26\"], [1.0, \"#f0f921\"]]}, \"colorway\": [\"#636efa\", \"#EF553B\", \"#00cc96\", \"#ab63fa\", \"#FFA15A\", \"#19d3f3\", \"#FF6692\", \"#B6E880\", \"#FF97FF\", \"#FECB52\"], \"font\": {\"color\": \"#2a3f5f\"}, \"geo\": {\"bgcolor\": \"white\", \"lakecolor\": \"white\", \"landcolor\": \"#E5ECF6\", \"showlakes\": true, \"showland\": true, \"subunitcolor\": \"white\"}, \"hoverlabel\": {\"align\": \"left\"}, \"hovermode\": \"closest\", \"mapbox\": {\"style\": \"light\"}, \"paper_bgcolor\": \"white\", \"plot_bgcolor\": \"#E5ECF6\", \"polar\": {\"angularaxis\": {\"gridcolor\": \"white\", \"linecolor\": \"white\", \"ticks\": \"\"}, \"bgcolor\": \"#E5ECF6\", \"radialaxis\": {\"gridcolor\": \"white\", \"linecolor\": \"white\", \"ticks\": \"\"}}, \"scene\": {\"xaxis\": {\"backgroundcolor\": \"#E5ECF6\", \"gridcolor\": \"white\", \"gridwidth\": 2, \"linecolor\": \"white\", \"showbackground\": true, \"ticks\": \"\", \"zerolinecolor\": \"white\"}, \"yaxis\": {\"backgroundcolor\": \"#E5ECF6\", \"gridcolor\": \"white\", \"gridwidth\": 2, \"linecolor\": \"white\", \"showbackground\": true, \"ticks\": \"\", \"zerolinecolor\": \"white\"}, \"zaxis\": {\"backgroundcolor\": \"#E5ECF6\", \"gridcolor\": \"white\", \"gridwidth\": 2, \"linecolor\": \"white\", \"showbackground\": true, \"ticks\": \"\", \"zerolinecolor\": \"white\"}}, \"shapedefaults\": {\"line\": {\"color\": \"#2a3f5f\"}}, \"ternary\": {\"aaxis\": {\"gridcolor\": \"white\", \"linecolor\": \"white\", \"ticks\": \"\"}, \"baxis\": {\"gridcolor\": \"white\", \"linecolor\": \"white\", \"ticks\": \"\"}, \"bgcolor\": \"#E5ECF6\", \"caxis\": {\"gridcolor\": \"white\", \"linecolor\": \"white\", \"ticks\": \"\"}}, \"title\": {\"x\": 0.05}, \"xaxis\": {\"automargin\": true, \"gridcolor\": \"white\", \"linecolor\": \"white\", \"ticks\": \"\", \"title\": {\"standoff\": 15}, \"zerolinecolor\": \"white\", \"zerolinewidth\": 2}, \"yaxis\": {\"automargin\": true, \"gridcolor\": \"white\", \"linecolor\": \"white\", \"ticks\": \"\", \"title\": {\"standoff\": 15}, \"zerolinecolor\": \"white\", \"zerolinewidth\": 2}}}},\n",
              "                        {\"responsive\": true}\n",
              "                    ).then(function(){\n",
              "                            \n",
              "var gd = document.getElementById('0eb5f868-f0c3-4b9e-82bd-b8139398da0f');\n",
              "var x = new MutationObserver(function (mutations, observer) {{\n",
              "        var display = window.getComputedStyle(gd).display;\n",
              "        if (!display || display === 'none') {{\n",
              "            console.log([gd, 'removed!']);\n",
              "            Plotly.purge(gd);\n",
              "            observer.disconnect();\n",
              "        }}\n",
              "}});\n",
              "\n",
              "// Listen for the removal of the full notebook cells\n",
              "var notebookContainer = gd.closest('#notebook-container');\n",
              "if (notebookContainer) {{\n",
              "    x.observe(notebookContainer, {childList: true});\n",
              "}}\n",
              "\n",
              "// Listen for the clearing of the current output cell\n",
              "var outputEl = gd.closest('.output');\n",
              "if (outputEl) {{\n",
              "    x.observe(outputEl, {childList: true});\n",
              "}}\n",
              "\n",
              "                        })\n",
              "                };\n",
              "                \n",
              "            </script>\n",
              "        </div>\n",
              "</body>\n",
              "</html>"
            ]
          },
          "metadata": {
            "tags": []
          }
        }
      ]
    },
    {
      "cell_type": "markdown",
      "metadata": {
        "id": "y55EE02JV-Uw"
      },
      "source": [
        "### Tabela cruzada \"Prioridade em Coari\" x \"Bairro\""
      ]
    },
    {
      "cell_type": "code",
      "metadata": {
        "id": "Est3xQc-VO6i",
        "outputId": "edb43a2a-d350-4e28-d94b-d595a22512f5",
        "colab": {
          "base_uri": "https://localhost:8080/",
          "height": 658
        }
      },
      "source": [
        "tab03=pd.crosstab(df2[\"Prioridade\"],df2[\"Bairro\"],margins=True)\n",
        "tab03"
      ],
      "execution_count": 20,
      "outputs": [
        {
          "output_type": "execute_result",
          "data": {
            "text/html": [
              "<div>\n",
              "<style scoped>\n",
              "    .dataframe tbody tr th:only-of-type {\n",
              "        vertical-align: middle;\n",
              "    }\n",
              "\n",
              "    .dataframe tbody tr th {\n",
              "        vertical-align: top;\n",
              "    }\n",
              "\n",
              "    .dataframe thead th {\n",
              "        text-align: right;\n",
              "    }\n",
              "</style>\n",
              "<table border=\"1\" class=\"dataframe\">\n",
              "  <thead>\n",
              "    <tr style=\"text-align: right;\">\n",
              "      <th>Bairro</th>\n",
              "      <th>Centro</th>\n",
              "      <th>Chagas</th>\n",
              "      <th>Do Pera</th>\n",
              "      <th>Duque</th>\n",
              "      <th>Espirito Santo</th>\n",
              "      <th>Itamarati</th>\n",
              "      <th>Santa Efigênia</th>\n",
              "      <th>Santa Helena</th>\n",
              "      <th>Tauá Mirim</th>\n",
              "      <th>União</th>\n",
              "      <th>Urucu</th>\n",
              "      <th>Z - Rural</th>\n",
              "      <th>centro</th>\n",
              "      <th>All</th>\n",
              "    </tr>\n",
              "    <tr>\n",
              "      <th>Prioridade</th>\n",
              "      <th></th>\n",
              "      <th></th>\n",
              "      <th></th>\n",
              "      <th></th>\n",
              "      <th></th>\n",
              "      <th></th>\n",
              "      <th></th>\n",
              "      <th></th>\n",
              "      <th></th>\n",
              "      <th></th>\n",
              "      <th></th>\n",
              "      <th></th>\n",
              "      <th></th>\n",
              "      <th></th>\n",
              "    </tr>\n",
              "  </thead>\n",
              "  <tbody>\n",
              "    <tr>\n",
              "      <th>Administração pública</th>\n",
              "      <td>0</td>\n",
              "      <td>2</td>\n",
              "      <td>0</td>\n",
              "      <td>0</td>\n",
              "      <td>2</td>\n",
              "      <td>2</td>\n",
              "      <td>0</td>\n",
              "      <td>0</td>\n",
              "      <td>1</td>\n",
              "      <td>1</td>\n",
              "      <td>1</td>\n",
              "      <td>0</td>\n",
              "      <td>0</td>\n",
              "      <td>9</td>\n",
              "    </tr>\n",
              "    <tr>\n",
              "      <th>Asfalto</th>\n",
              "      <td>0</td>\n",
              "      <td>4</td>\n",
              "      <td>0</td>\n",
              "      <td>3</td>\n",
              "      <td>0</td>\n",
              "      <td>5</td>\n",
              "      <td>0</td>\n",
              "      <td>2</td>\n",
              "      <td>0</td>\n",
              "      <td>1</td>\n",
              "      <td>4</td>\n",
              "      <td>0</td>\n",
              "      <td>0</td>\n",
              "      <td>19</td>\n",
              "    </tr>\n",
              "    <tr>\n",
              "      <th>Corrupção</th>\n",
              "      <td>3</td>\n",
              "      <td>3</td>\n",
              "      <td>2</td>\n",
              "      <td>3</td>\n",
              "      <td>0</td>\n",
              "      <td>2</td>\n",
              "      <td>2</td>\n",
              "      <td>1</td>\n",
              "      <td>0</td>\n",
              "      <td>6</td>\n",
              "      <td>1</td>\n",
              "      <td>2</td>\n",
              "      <td>0</td>\n",
              "      <td>25</td>\n",
              "    </tr>\n",
              "    <tr>\n",
              "      <th>Educação</th>\n",
              "      <td>3</td>\n",
              "      <td>1</td>\n",
              "      <td>1</td>\n",
              "      <td>2</td>\n",
              "      <td>0</td>\n",
              "      <td>1</td>\n",
              "      <td>0</td>\n",
              "      <td>0</td>\n",
              "      <td>3</td>\n",
              "      <td>1</td>\n",
              "      <td>4</td>\n",
              "      <td>0</td>\n",
              "      <td>0</td>\n",
              "      <td>16</td>\n",
              "    </tr>\n",
              "    <tr>\n",
              "      <th>Emprego</th>\n",
              "      <td>10</td>\n",
              "      <td>12</td>\n",
              "      <td>8</td>\n",
              "      <td>9</td>\n",
              "      <td>6</td>\n",
              "      <td>13</td>\n",
              "      <td>10</td>\n",
              "      <td>9</td>\n",
              "      <td>11</td>\n",
              "      <td>21</td>\n",
              "      <td>11</td>\n",
              "      <td>1</td>\n",
              "      <td>1</td>\n",
              "      <td>122</td>\n",
              "    </tr>\n",
              "    <tr>\n",
              "      <th>Energia</th>\n",
              "      <td>0</td>\n",
              "      <td>0</td>\n",
              "      <td>0</td>\n",
              "      <td>0</td>\n",
              "      <td>0</td>\n",
              "      <td>1</td>\n",
              "      <td>0</td>\n",
              "      <td>0</td>\n",
              "      <td>0</td>\n",
              "      <td>0</td>\n",
              "      <td>3</td>\n",
              "      <td>0</td>\n",
              "      <td>0</td>\n",
              "      <td>4</td>\n",
              "    </tr>\n",
              "    <tr>\n",
              "      <th>Infraestrutura</th>\n",
              "      <td>2</td>\n",
              "      <td>1</td>\n",
              "      <td>3</td>\n",
              "      <td>0</td>\n",
              "      <td>1</td>\n",
              "      <td>1</td>\n",
              "      <td>0</td>\n",
              "      <td>3</td>\n",
              "      <td>2</td>\n",
              "      <td>2</td>\n",
              "      <td>1</td>\n",
              "      <td>0</td>\n",
              "      <td>0</td>\n",
              "      <td>16</td>\n",
              "    </tr>\n",
              "    <tr>\n",
              "      <th>Moradia</th>\n",
              "      <td>0</td>\n",
              "      <td>1</td>\n",
              "      <td>1</td>\n",
              "      <td>0</td>\n",
              "      <td>0</td>\n",
              "      <td>2</td>\n",
              "      <td>1</td>\n",
              "      <td>0</td>\n",
              "      <td>2</td>\n",
              "      <td>0</td>\n",
              "      <td>1</td>\n",
              "      <td>0</td>\n",
              "      <td>0</td>\n",
              "      <td>8</td>\n",
              "    </tr>\n",
              "    <tr>\n",
              "      <th>Outros</th>\n",
              "      <td>1</td>\n",
              "      <td>0</td>\n",
              "      <td>1</td>\n",
              "      <td>1</td>\n",
              "      <td>0</td>\n",
              "      <td>0</td>\n",
              "      <td>0</td>\n",
              "      <td>1</td>\n",
              "      <td>3</td>\n",
              "      <td>1</td>\n",
              "      <td>1</td>\n",
              "      <td>0</td>\n",
              "      <td>0</td>\n",
              "      <td>9</td>\n",
              "    </tr>\n",
              "    <tr>\n",
              "      <th>Renda</th>\n",
              "      <td>3</td>\n",
              "      <td>3</td>\n",
              "      <td>1</td>\n",
              "      <td>0</td>\n",
              "      <td>0</td>\n",
              "      <td>1</td>\n",
              "      <td>1</td>\n",
              "      <td>1</td>\n",
              "      <td>2</td>\n",
              "      <td>2</td>\n",
              "      <td>0</td>\n",
              "      <td>0</td>\n",
              "      <td>0</td>\n",
              "      <td>14</td>\n",
              "    </tr>\n",
              "    <tr>\n",
              "      <th>Salário</th>\n",
              "      <td>5</td>\n",
              "      <td>6</td>\n",
              "      <td>1</td>\n",
              "      <td>1</td>\n",
              "      <td>3</td>\n",
              "      <td>0</td>\n",
              "      <td>3</td>\n",
              "      <td>1</td>\n",
              "      <td>1</td>\n",
              "      <td>4</td>\n",
              "      <td>4</td>\n",
              "      <td>0</td>\n",
              "      <td>0</td>\n",
              "      <td>29</td>\n",
              "    </tr>\n",
              "    <tr>\n",
              "      <th>Saneamento e urbanização</th>\n",
              "      <td>3</td>\n",
              "      <td>2</td>\n",
              "      <td>0</td>\n",
              "      <td>3</td>\n",
              "      <td>1</td>\n",
              "      <td>1</td>\n",
              "      <td>2</td>\n",
              "      <td>3</td>\n",
              "      <td>2</td>\n",
              "      <td>1</td>\n",
              "      <td>1</td>\n",
              "      <td>0</td>\n",
              "      <td>0</td>\n",
              "      <td>19</td>\n",
              "    </tr>\n",
              "    <tr>\n",
              "      <th>Saúde</th>\n",
              "      <td>15</td>\n",
              "      <td>18</td>\n",
              "      <td>8</td>\n",
              "      <td>6</td>\n",
              "      <td>7</td>\n",
              "      <td>14</td>\n",
              "      <td>11</td>\n",
              "      <td>6</td>\n",
              "      <td>11</td>\n",
              "      <td>10</td>\n",
              "      <td>15</td>\n",
              "      <td>0</td>\n",
              "      <td>0</td>\n",
              "      <td>121</td>\n",
              "    </tr>\n",
              "    <tr>\n",
              "      <th>Segurança</th>\n",
              "      <td>7</td>\n",
              "      <td>6</td>\n",
              "      <td>1</td>\n",
              "      <td>1</td>\n",
              "      <td>2</td>\n",
              "      <td>4</td>\n",
              "      <td>1</td>\n",
              "      <td>1</td>\n",
              "      <td>6</td>\n",
              "      <td>5</td>\n",
              "      <td>5</td>\n",
              "      <td>0</td>\n",
              "      <td>0</td>\n",
              "      <td>39</td>\n",
              "    </tr>\n",
              "    <tr>\n",
              "      <th>Transporte</th>\n",
              "      <td>1</td>\n",
              "      <td>0</td>\n",
              "      <td>0</td>\n",
              "      <td>0</td>\n",
              "      <td>0</td>\n",
              "      <td>0</td>\n",
              "      <td>0</td>\n",
              "      <td>0</td>\n",
              "      <td>0</td>\n",
              "      <td>0</td>\n",
              "      <td>0</td>\n",
              "      <td>0</td>\n",
              "      <td>0</td>\n",
              "      <td>1</td>\n",
              "    </tr>\n",
              "    <tr>\n",
              "      <th>Água</th>\n",
              "      <td>0</td>\n",
              "      <td>0</td>\n",
              "      <td>1</td>\n",
              "      <td>0</td>\n",
              "      <td>0</td>\n",
              "      <td>0</td>\n",
              "      <td>0</td>\n",
              "      <td>0</td>\n",
              "      <td>0</td>\n",
              "      <td>0</td>\n",
              "      <td>1</td>\n",
              "      <td>0</td>\n",
              "      <td>0</td>\n",
              "      <td>2</td>\n",
              "    </tr>\n",
              "    <tr>\n",
              "      <th>All</th>\n",
              "      <td>53</td>\n",
              "      <td>59</td>\n",
              "      <td>28</td>\n",
              "      <td>29</td>\n",
              "      <td>22</td>\n",
              "      <td>47</td>\n",
              "      <td>31</td>\n",
              "      <td>28</td>\n",
              "      <td>44</td>\n",
              "      <td>55</td>\n",
              "      <td>53</td>\n",
              "      <td>3</td>\n",
              "      <td>1</td>\n",
              "      <td>453</td>\n",
              "    </tr>\n",
              "  </tbody>\n",
              "</table>\n",
              "</div>"
            ],
            "text/plain": [
              "Bairro                    Centro  Chagas  Do Pera  ...  Z - Rural  centro  All\n",
              "Prioridade                                         ...                        \n",
              "Administração pública          0       2        0  ...          0       0    9\n",
              "Asfalto                        0       4        0  ...          0       0   19\n",
              "Corrupção                      3       3        2  ...          2       0   25\n",
              "Educação                       3       1        1  ...          0       0   16\n",
              "Emprego                       10      12        8  ...          1       1  122\n",
              "Energia                        0       0        0  ...          0       0    4\n",
              "Infraestrutura                 2       1        3  ...          0       0   16\n",
              "Moradia                        0       1        1  ...          0       0    8\n",
              "Outros                         1       0        1  ...          0       0    9\n",
              "Renda                          3       3        1  ...          0       0   14\n",
              "Salário                        5       6        1  ...          0       0   29\n",
              "Saneamento e urbanização       3       2        0  ...          0       0   19\n",
              "Saúde                         15      18        8  ...          0       0  121\n",
              "Segurança                      7       6        1  ...          0       0   39\n",
              "Transporte                     1       0        0  ...          0       0    1\n",
              "Água                           0       0        1  ...          0       0    2\n",
              "All                           53      59       28  ...          3       1  453\n",
              "\n",
              "[17 rows x 14 columns]"
            ]
          },
          "metadata": {
            "tags": []
          },
          "execution_count": 20
        }
      ]
    },
    {
      "cell_type": "markdown",
      "metadata": {
        "id": "aTf5-_AGUavp"
      },
      "source": [
        "## Divisão Populacional segundo pretenção de voto"
      ]
    },
    {
      "cell_type": "code",
      "metadata": {
        "id": "rfhBT9n6T1x7",
        "outputId": "9bbc8aab-0530-432d-c030-8adc9d9db7f6",
        "colab": {
          "base_uri": "https://localhost:8080/"
        }
      },
      "source": [
        "val_intencao = df[\"Intencao\"].value_counts()\n",
        "val_intencao"
      ],
      "execution_count": 21,
      "outputs": [
        {
          "output_type": "execute_result",
          "data": {
            "text/plain": [
              "Adail        174\n",
              "Magalhaes    137\n",
              "Nulo          50\n",
              "Mitouso       45\n",
              "indeciso       9\n",
              "Iran           7\n",
              "Outros         2\n",
              "C.T.           1\n",
              "Name: Intencao, dtype: int64"
            ]
          },
          "metadata": {
            "tags": []
          },
          "execution_count": 21
        }
      ]
    },
    {
      "cell_type": "code",
      "metadata": {
        "id": "2ZywzwwUpI9-",
        "outputId": "0bde9fa6-cc82-4130-e8a1-71c3799a17f2",
        "colab": {
          "base_uri": "https://localhost:8080/",
          "height": 542
        }
      },
      "source": [
        "# Percentual de Intenção de Votos\n",
        "fig = go.Figure(data=[go.Pie(labels=df2['Intencao'].value_counts().keys(), values = df2['Intencao'].value_counts().values, pull=[0.2])])\n",
        "fig.show()"
      ],
      "execution_count": 22,
      "outputs": [
        {
          "output_type": "display_data",
          "data": {
            "text/html": [
              "<html>\n",
              "<head><meta charset=\"utf-8\" /></head>\n",
              "<body>\n",
              "    <div>\n",
              "            <script src=\"https://cdnjs.cloudflare.com/ajax/libs/mathjax/2.7.5/MathJax.js?config=TeX-AMS-MML_SVG\"></script><script type=\"text/javascript\">if (window.MathJax) {MathJax.Hub.Config({SVG: {font: \"STIX-Web\"}});}</script>\n",
              "                <script type=\"text/javascript\">window.PlotlyConfig = {MathJaxConfig: 'local'};</script>\n",
              "        <script src=\"https://cdn.plot.ly/plotly-latest.min.js\"></script>    \n",
              "            <div id=\"34ac07c4-5f16-4951-a333-2fc88221788a\" class=\"plotly-graph-div\" style=\"height:525px; width:100%;\"></div>\n",
              "            <script type=\"text/javascript\">\n",
              "                \n",
              "                    window.PLOTLYENV=window.PLOTLYENV || {};\n",
              "                    \n",
              "                if (document.getElementById(\"34ac07c4-5f16-4951-a333-2fc88221788a\")) {\n",
              "                    Plotly.newPlot(\n",
              "                        '34ac07c4-5f16-4951-a333-2fc88221788a',\n",
              "                        [{\"labels\": [\"Adail\", \"Magalhaes\", \"Nulo\", \"Mitouso\", \"indeciso\", \"Iran\", \"Outros\", \"C.T.\"], \"pull\": [0.2], \"type\": \"pie\", \"values\": [174, 137, 50, 45, 9, 7, 2, 1]}],\n",
              "                        {\"template\": {\"data\": {\"bar\": [{\"error_x\": {\"color\": \"#2a3f5f\"}, \"error_y\": {\"color\": \"#2a3f5f\"}, \"marker\": {\"line\": {\"color\": \"#E5ECF6\", \"width\": 0.5}}, \"type\": \"bar\"}], \"barpolar\": [{\"marker\": {\"line\": {\"color\": \"#E5ECF6\", \"width\": 0.5}}, \"type\": \"barpolar\"}], \"carpet\": [{\"aaxis\": {\"endlinecolor\": \"#2a3f5f\", \"gridcolor\": \"white\", \"linecolor\": \"white\", \"minorgridcolor\": \"white\", \"startlinecolor\": \"#2a3f5f\"}, \"baxis\": {\"endlinecolor\": \"#2a3f5f\", \"gridcolor\": \"white\", \"linecolor\": \"white\", \"minorgridcolor\": \"white\", \"startlinecolor\": \"#2a3f5f\"}, \"type\": \"carpet\"}], \"choropleth\": [{\"colorbar\": {\"outlinewidth\": 0, \"ticks\": \"\"}, \"type\": \"choropleth\"}], \"contour\": [{\"colorbar\": {\"outlinewidth\": 0, \"ticks\": \"\"}, \"colorscale\": [[0.0, \"#0d0887\"], [0.1111111111111111, \"#46039f\"], [0.2222222222222222, \"#7201a8\"], [0.3333333333333333, \"#9c179e\"], [0.4444444444444444, \"#bd3786\"], [0.5555555555555556, \"#d8576b\"], [0.6666666666666666, \"#ed7953\"], [0.7777777777777778, \"#fb9f3a\"], [0.8888888888888888, \"#fdca26\"], [1.0, \"#f0f921\"]], \"type\": \"contour\"}], \"contourcarpet\": [{\"colorbar\": {\"outlinewidth\": 0, \"ticks\": \"\"}, \"type\": \"contourcarpet\"}], \"heatmap\": [{\"colorbar\": {\"outlinewidth\": 0, \"ticks\": \"\"}, \"colorscale\": [[0.0, \"#0d0887\"], [0.1111111111111111, \"#46039f\"], [0.2222222222222222, \"#7201a8\"], [0.3333333333333333, \"#9c179e\"], [0.4444444444444444, \"#bd3786\"], [0.5555555555555556, \"#d8576b\"], [0.6666666666666666, \"#ed7953\"], [0.7777777777777778, \"#fb9f3a\"], [0.8888888888888888, \"#fdca26\"], [1.0, \"#f0f921\"]], \"type\": \"heatmap\"}], \"heatmapgl\": [{\"colorbar\": {\"outlinewidth\": 0, \"ticks\": \"\"}, \"colorscale\": [[0.0, \"#0d0887\"], [0.1111111111111111, \"#46039f\"], [0.2222222222222222, \"#7201a8\"], [0.3333333333333333, \"#9c179e\"], [0.4444444444444444, \"#bd3786\"], [0.5555555555555556, \"#d8576b\"], [0.6666666666666666, \"#ed7953\"], [0.7777777777777778, \"#fb9f3a\"], [0.8888888888888888, \"#fdca26\"], [1.0, \"#f0f921\"]], \"type\": \"heatmapgl\"}], \"histogram\": [{\"marker\": {\"colorbar\": {\"outlinewidth\": 0, \"ticks\": \"\"}}, \"type\": \"histogram\"}], \"histogram2d\": [{\"colorbar\": {\"outlinewidth\": 0, \"ticks\": \"\"}, \"colorscale\": [[0.0, \"#0d0887\"], [0.1111111111111111, \"#46039f\"], [0.2222222222222222, \"#7201a8\"], [0.3333333333333333, \"#9c179e\"], [0.4444444444444444, \"#bd3786\"], [0.5555555555555556, \"#d8576b\"], [0.6666666666666666, \"#ed7953\"], [0.7777777777777778, \"#fb9f3a\"], [0.8888888888888888, \"#fdca26\"], [1.0, \"#f0f921\"]], \"type\": \"histogram2d\"}], \"histogram2dcontour\": [{\"colorbar\": {\"outlinewidth\": 0, \"ticks\": \"\"}, \"colorscale\": [[0.0, \"#0d0887\"], [0.1111111111111111, \"#46039f\"], [0.2222222222222222, \"#7201a8\"], [0.3333333333333333, \"#9c179e\"], [0.4444444444444444, \"#bd3786\"], [0.5555555555555556, \"#d8576b\"], [0.6666666666666666, \"#ed7953\"], [0.7777777777777778, \"#fb9f3a\"], [0.8888888888888888, \"#fdca26\"], [1.0, \"#f0f921\"]], \"type\": \"histogram2dcontour\"}], \"mesh3d\": [{\"colorbar\": {\"outlinewidth\": 0, \"ticks\": \"\"}, \"type\": \"mesh3d\"}], \"parcoords\": [{\"line\": {\"colorbar\": {\"outlinewidth\": 0, \"ticks\": \"\"}}, \"type\": \"parcoords\"}], \"pie\": [{\"automargin\": true, \"type\": \"pie\"}], \"scatter\": [{\"marker\": {\"colorbar\": {\"outlinewidth\": 0, \"ticks\": \"\"}}, \"type\": \"scatter\"}], \"scatter3d\": [{\"line\": {\"colorbar\": {\"outlinewidth\": 0, \"ticks\": \"\"}}, \"marker\": {\"colorbar\": {\"outlinewidth\": 0, \"ticks\": \"\"}}, \"type\": \"scatter3d\"}], \"scattercarpet\": [{\"marker\": {\"colorbar\": {\"outlinewidth\": 0, \"ticks\": \"\"}}, \"type\": \"scattercarpet\"}], \"scattergeo\": [{\"marker\": {\"colorbar\": {\"outlinewidth\": 0, \"ticks\": \"\"}}, \"type\": \"scattergeo\"}], \"scattergl\": [{\"marker\": {\"colorbar\": {\"outlinewidth\": 0, \"ticks\": \"\"}}, \"type\": \"scattergl\"}], \"scattermapbox\": [{\"marker\": {\"colorbar\": {\"outlinewidth\": 0, \"ticks\": \"\"}}, \"type\": \"scattermapbox\"}], \"scatterpolar\": [{\"marker\": {\"colorbar\": {\"outlinewidth\": 0, \"ticks\": \"\"}}, \"type\": \"scatterpolar\"}], \"scatterpolargl\": [{\"marker\": {\"colorbar\": {\"outlinewidth\": 0, \"ticks\": \"\"}}, \"type\": \"scatterpolargl\"}], \"scatterternary\": [{\"marker\": {\"colorbar\": {\"outlinewidth\": 0, \"ticks\": \"\"}}, \"type\": \"scatterternary\"}], \"surface\": [{\"colorbar\": {\"outlinewidth\": 0, \"ticks\": \"\"}, \"colorscale\": [[0.0, \"#0d0887\"], [0.1111111111111111, \"#46039f\"], [0.2222222222222222, \"#7201a8\"], [0.3333333333333333, \"#9c179e\"], [0.4444444444444444, \"#bd3786\"], [0.5555555555555556, \"#d8576b\"], [0.6666666666666666, \"#ed7953\"], [0.7777777777777778, \"#fb9f3a\"], [0.8888888888888888, \"#fdca26\"], [1.0, \"#f0f921\"]], \"type\": \"surface\"}], \"table\": [{\"cells\": {\"fill\": {\"color\": \"#EBF0F8\"}, \"line\": {\"color\": \"white\"}}, \"header\": {\"fill\": {\"color\": \"#C8D4E3\"}, \"line\": {\"color\": \"white\"}}, \"type\": \"table\"}]}, \"layout\": {\"annotationdefaults\": {\"arrowcolor\": \"#2a3f5f\", \"arrowhead\": 0, \"arrowwidth\": 1}, \"coloraxis\": {\"colorbar\": {\"outlinewidth\": 0, \"ticks\": \"\"}}, \"colorscale\": {\"diverging\": [[0, \"#8e0152\"], [0.1, \"#c51b7d\"], [0.2, \"#de77ae\"], [0.3, \"#f1b6da\"], [0.4, \"#fde0ef\"], [0.5, \"#f7f7f7\"], [0.6, \"#e6f5d0\"], [0.7, \"#b8e186\"], [0.8, \"#7fbc41\"], [0.9, \"#4d9221\"], [1, \"#276419\"]], \"sequential\": [[0.0, \"#0d0887\"], [0.1111111111111111, \"#46039f\"], [0.2222222222222222, \"#7201a8\"], [0.3333333333333333, \"#9c179e\"], [0.4444444444444444, \"#bd3786\"], [0.5555555555555556, \"#d8576b\"], [0.6666666666666666, \"#ed7953\"], [0.7777777777777778, \"#fb9f3a\"], [0.8888888888888888, \"#fdca26\"], [1.0, \"#f0f921\"]], \"sequentialminus\": [[0.0, \"#0d0887\"], [0.1111111111111111, \"#46039f\"], [0.2222222222222222, \"#7201a8\"], [0.3333333333333333, \"#9c179e\"], [0.4444444444444444, \"#bd3786\"], [0.5555555555555556, \"#d8576b\"], [0.6666666666666666, \"#ed7953\"], [0.7777777777777778, \"#fb9f3a\"], [0.8888888888888888, \"#fdca26\"], [1.0, \"#f0f921\"]]}, \"colorway\": [\"#636efa\", \"#EF553B\", \"#00cc96\", \"#ab63fa\", \"#FFA15A\", \"#19d3f3\", \"#FF6692\", \"#B6E880\", \"#FF97FF\", \"#FECB52\"], \"font\": {\"color\": \"#2a3f5f\"}, \"geo\": {\"bgcolor\": \"white\", \"lakecolor\": \"white\", \"landcolor\": \"#E5ECF6\", \"showlakes\": true, \"showland\": true, \"subunitcolor\": \"white\"}, \"hoverlabel\": {\"align\": \"left\"}, \"hovermode\": \"closest\", \"mapbox\": {\"style\": \"light\"}, \"paper_bgcolor\": \"white\", \"plot_bgcolor\": \"#E5ECF6\", \"polar\": {\"angularaxis\": {\"gridcolor\": \"white\", \"linecolor\": \"white\", \"ticks\": \"\"}, \"bgcolor\": \"#E5ECF6\", \"radialaxis\": {\"gridcolor\": \"white\", \"linecolor\": \"white\", \"ticks\": \"\"}}, \"scene\": {\"xaxis\": {\"backgroundcolor\": \"#E5ECF6\", \"gridcolor\": \"white\", \"gridwidth\": 2, \"linecolor\": \"white\", \"showbackground\": true, \"ticks\": \"\", \"zerolinecolor\": \"white\"}, \"yaxis\": {\"backgroundcolor\": \"#E5ECF6\", \"gridcolor\": \"white\", \"gridwidth\": 2, \"linecolor\": \"white\", \"showbackground\": true, \"ticks\": \"\", \"zerolinecolor\": \"white\"}, \"zaxis\": {\"backgroundcolor\": \"#E5ECF6\", \"gridcolor\": \"white\", \"gridwidth\": 2, \"linecolor\": \"white\", \"showbackground\": true, \"ticks\": \"\", \"zerolinecolor\": \"white\"}}, \"shapedefaults\": {\"line\": {\"color\": \"#2a3f5f\"}}, \"ternary\": {\"aaxis\": {\"gridcolor\": \"white\", \"linecolor\": \"white\", \"ticks\": \"\"}, \"baxis\": {\"gridcolor\": \"white\", \"linecolor\": \"white\", \"ticks\": \"\"}, \"bgcolor\": \"#E5ECF6\", \"caxis\": {\"gridcolor\": \"white\", \"linecolor\": \"white\", \"ticks\": \"\"}}, \"title\": {\"x\": 0.05}, \"xaxis\": {\"automargin\": true, \"gridcolor\": \"white\", \"linecolor\": \"white\", \"ticks\": \"\", \"title\": {\"standoff\": 15}, \"zerolinecolor\": \"white\", \"zerolinewidth\": 2}, \"yaxis\": {\"automargin\": true, \"gridcolor\": \"white\", \"linecolor\": \"white\", \"ticks\": \"\", \"title\": {\"standoff\": 15}, \"zerolinecolor\": \"white\", \"zerolinewidth\": 2}}}},\n",
              "                        {\"responsive\": true}\n",
              "                    ).then(function(){\n",
              "                            \n",
              "var gd = document.getElementById('34ac07c4-5f16-4951-a333-2fc88221788a');\n",
              "var x = new MutationObserver(function (mutations, observer) {{\n",
              "        var display = window.getComputedStyle(gd).display;\n",
              "        if (!display || display === 'none') {{\n",
              "            console.log([gd, 'removed!']);\n",
              "            Plotly.purge(gd);\n",
              "            observer.disconnect();\n",
              "        }}\n",
              "}});\n",
              "\n",
              "// Listen for the removal of the full notebook cells\n",
              "var notebookContainer = gd.closest('#notebook-container');\n",
              "if (notebookContainer) {{\n",
              "    x.observe(notebookContainer, {childList: true});\n",
              "}}\n",
              "\n",
              "// Listen for the clearing of the current output cell\n",
              "var outputEl = gd.closest('.output');\n",
              "if (outputEl) {{\n",
              "    x.observe(outputEl, {childList: true});\n",
              "}}\n",
              "\n",
              "                        })\n",
              "                };\n",
              "                \n",
              "            </script>\n",
              "        </div>\n",
              "</body>\n",
              "</html>"
            ]
          },
          "metadata": {
            "tags": []
          }
        }
      ]
    },
    {
      "cell_type": "code",
      "metadata": {
        "id": "sQo5dCoEKjVe",
        "outputId": "9ad4b89b-4528-4093-efa5-9f6edd2576c7",
        "colab": {
          "base_uri": "https://localhost:8080/",
          "height": 542
        }
      },
      "source": [
        "fig = go.Figure(data=[go.Pie(labels=val_intencao.keys(),values=val_intencao.values)])\n",
        "fig.show()"
      ],
      "execution_count": 23,
      "outputs": [
        {
          "output_type": "display_data",
          "data": {
            "text/html": [
              "<html>\n",
              "<head><meta charset=\"utf-8\" /></head>\n",
              "<body>\n",
              "    <div>\n",
              "            <script src=\"https://cdnjs.cloudflare.com/ajax/libs/mathjax/2.7.5/MathJax.js?config=TeX-AMS-MML_SVG\"></script><script type=\"text/javascript\">if (window.MathJax) {MathJax.Hub.Config({SVG: {font: \"STIX-Web\"}});}</script>\n",
              "                <script type=\"text/javascript\">window.PlotlyConfig = {MathJaxConfig: 'local'};</script>\n",
              "        <script src=\"https://cdn.plot.ly/plotly-latest.min.js\"></script>    \n",
              "            <div id=\"01ab2d91-2a48-4dcb-bfc7-6f32d9271615\" class=\"plotly-graph-div\" style=\"height:525px; width:100%;\"></div>\n",
              "            <script type=\"text/javascript\">\n",
              "                \n",
              "                    window.PLOTLYENV=window.PLOTLYENV || {};\n",
              "                    \n",
              "                if (document.getElementById(\"01ab2d91-2a48-4dcb-bfc7-6f32d9271615\")) {\n",
              "                    Plotly.newPlot(\n",
              "                        '01ab2d91-2a48-4dcb-bfc7-6f32d9271615',\n",
              "                        [{\"labels\": [\"Adail\", \"Magalhaes\", \"Nulo\", \"Mitouso\", \"indeciso\", \"Iran\", \"Outros\", \"C.T.\"], \"type\": \"pie\", \"values\": [174, 137, 50, 45, 9, 7, 2, 1]}],\n",
              "                        {\"template\": {\"data\": {\"bar\": [{\"error_x\": {\"color\": \"#2a3f5f\"}, \"error_y\": {\"color\": \"#2a3f5f\"}, \"marker\": {\"line\": {\"color\": \"#E5ECF6\", \"width\": 0.5}}, \"type\": \"bar\"}], \"barpolar\": [{\"marker\": {\"line\": {\"color\": \"#E5ECF6\", \"width\": 0.5}}, \"type\": \"barpolar\"}], \"carpet\": [{\"aaxis\": {\"endlinecolor\": \"#2a3f5f\", \"gridcolor\": \"white\", \"linecolor\": \"white\", \"minorgridcolor\": \"white\", \"startlinecolor\": \"#2a3f5f\"}, \"baxis\": {\"endlinecolor\": \"#2a3f5f\", \"gridcolor\": \"white\", \"linecolor\": \"white\", \"minorgridcolor\": \"white\", \"startlinecolor\": \"#2a3f5f\"}, \"type\": \"carpet\"}], \"choropleth\": [{\"colorbar\": {\"outlinewidth\": 0, \"ticks\": \"\"}, \"type\": \"choropleth\"}], \"contour\": [{\"colorbar\": {\"outlinewidth\": 0, \"ticks\": \"\"}, \"colorscale\": [[0.0, \"#0d0887\"], [0.1111111111111111, \"#46039f\"], [0.2222222222222222, \"#7201a8\"], [0.3333333333333333, \"#9c179e\"], [0.4444444444444444, \"#bd3786\"], [0.5555555555555556, \"#d8576b\"], [0.6666666666666666, \"#ed7953\"], [0.7777777777777778, \"#fb9f3a\"], [0.8888888888888888, \"#fdca26\"], [1.0, \"#f0f921\"]], \"type\": \"contour\"}], \"contourcarpet\": [{\"colorbar\": {\"outlinewidth\": 0, \"ticks\": \"\"}, \"type\": \"contourcarpet\"}], \"heatmap\": [{\"colorbar\": {\"outlinewidth\": 0, \"ticks\": \"\"}, \"colorscale\": [[0.0, \"#0d0887\"], [0.1111111111111111, \"#46039f\"], [0.2222222222222222, \"#7201a8\"], [0.3333333333333333, \"#9c179e\"], [0.4444444444444444, \"#bd3786\"], [0.5555555555555556, \"#d8576b\"], [0.6666666666666666, \"#ed7953\"], [0.7777777777777778, \"#fb9f3a\"], [0.8888888888888888, \"#fdca26\"], [1.0, \"#f0f921\"]], \"type\": \"heatmap\"}], \"heatmapgl\": [{\"colorbar\": {\"outlinewidth\": 0, \"ticks\": \"\"}, \"colorscale\": [[0.0, \"#0d0887\"], [0.1111111111111111, \"#46039f\"], [0.2222222222222222, \"#7201a8\"], [0.3333333333333333, \"#9c179e\"], [0.4444444444444444, \"#bd3786\"], [0.5555555555555556, \"#d8576b\"], [0.6666666666666666, \"#ed7953\"], [0.7777777777777778, \"#fb9f3a\"], [0.8888888888888888, \"#fdca26\"], [1.0, \"#f0f921\"]], \"type\": \"heatmapgl\"}], \"histogram\": [{\"marker\": {\"colorbar\": {\"outlinewidth\": 0, \"ticks\": \"\"}}, \"type\": \"histogram\"}], \"histogram2d\": [{\"colorbar\": {\"outlinewidth\": 0, \"ticks\": \"\"}, \"colorscale\": [[0.0, \"#0d0887\"], [0.1111111111111111, \"#46039f\"], [0.2222222222222222, \"#7201a8\"], [0.3333333333333333, \"#9c179e\"], [0.4444444444444444, \"#bd3786\"], [0.5555555555555556, \"#d8576b\"], [0.6666666666666666, \"#ed7953\"], [0.7777777777777778, \"#fb9f3a\"], [0.8888888888888888, \"#fdca26\"], [1.0, \"#f0f921\"]], \"type\": \"histogram2d\"}], \"histogram2dcontour\": [{\"colorbar\": {\"outlinewidth\": 0, \"ticks\": \"\"}, \"colorscale\": [[0.0, \"#0d0887\"], [0.1111111111111111, \"#46039f\"], [0.2222222222222222, \"#7201a8\"], [0.3333333333333333, \"#9c179e\"], [0.4444444444444444, \"#bd3786\"], [0.5555555555555556, \"#d8576b\"], [0.6666666666666666, \"#ed7953\"], [0.7777777777777778, \"#fb9f3a\"], [0.8888888888888888, \"#fdca26\"], [1.0, \"#f0f921\"]], \"type\": \"histogram2dcontour\"}], \"mesh3d\": [{\"colorbar\": {\"outlinewidth\": 0, \"ticks\": \"\"}, \"type\": \"mesh3d\"}], \"parcoords\": [{\"line\": {\"colorbar\": {\"outlinewidth\": 0, \"ticks\": \"\"}}, \"type\": \"parcoords\"}], \"pie\": [{\"automargin\": true, \"type\": \"pie\"}], \"scatter\": [{\"marker\": {\"colorbar\": {\"outlinewidth\": 0, \"ticks\": \"\"}}, \"type\": \"scatter\"}], \"scatter3d\": [{\"line\": {\"colorbar\": {\"outlinewidth\": 0, \"ticks\": \"\"}}, \"marker\": {\"colorbar\": {\"outlinewidth\": 0, \"ticks\": \"\"}}, \"type\": \"scatter3d\"}], \"scattercarpet\": [{\"marker\": {\"colorbar\": {\"outlinewidth\": 0, \"ticks\": \"\"}}, \"type\": \"scattercarpet\"}], \"scattergeo\": [{\"marker\": {\"colorbar\": {\"outlinewidth\": 0, \"ticks\": \"\"}}, \"type\": \"scattergeo\"}], \"scattergl\": [{\"marker\": {\"colorbar\": {\"outlinewidth\": 0, \"ticks\": \"\"}}, \"type\": \"scattergl\"}], \"scattermapbox\": [{\"marker\": {\"colorbar\": {\"outlinewidth\": 0, \"ticks\": \"\"}}, \"type\": \"scattermapbox\"}], \"scatterpolar\": [{\"marker\": {\"colorbar\": {\"outlinewidth\": 0, \"ticks\": \"\"}}, \"type\": \"scatterpolar\"}], \"scatterpolargl\": [{\"marker\": {\"colorbar\": {\"outlinewidth\": 0, \"ticks\": \"\"}}, \"type\": \"scatterpolargl\"}], \"scatterternary\": [{\"marker\": {\"colorbar\": {\"outlinewidth\": 0, \"ticks\": \"\"}}, \"type\": \"scatterternary\"}], \"surface\": [{\"colorbar\": {\"outlinewidth\": 0, \"ticks\": \"\"}, \"colorscale\": [[0.0, \"#0d0887\"], [0.1111111111111111, \"#46039f\"], [0.2222222222222222, \"#7201a8\"], [0.3333333333333333, \"#9c179e\"], [0.4444444444444444, \"#bd3786\"], [0.5555555555555556, \"#d8576b\"], [0.6666666666666666, \"#ed7953\"], [0.7777777777777778, \"#fb9f3a\"], [0.8888888888888888, \"#fdca26\"], [1.0, \"#f0f921\"]], \"type\": \"surface\"}], \"table\": [{\"cells\": {\"fill\": {\"color\": \"#EBF0F8\"}, \"line\": {\"color\": \"white\"}}, \"header\": {\"fill\": {\"color\": \"#C8D4E3\"}, \"line\": {\"color\": \"white\"}}, \"type\": \"table\"}]}, \"layout\": {\"annotationdefaults\": {\"arrowcolor\": \"#2a3f5f\", \"arrowhead\": 0, \"arrowwidth\": 1}, \"coloraxis\": {\"colorbar\": {\"outlinewidth\": 0, \"ticks\": \"\"}}, \"colorscale\": {\"diverging\": [[0, \"#8e0152\"], [0.1, \"#c51b7d\"], [0.2, \"#de77ae\"], [0.3, \"#f1b6da\"], [0.4, \"#fde0ef\"], [0.5, \"#f7f7f7\"], [0.6, \"#e6f5d0\"], [0.7, \"#b8e186\"], [0.8, \"#7fbc41\"], [0.9, \"#4d9221\"], [1, \"#276419\"]], \"sequential\": [[0.0, \"#0d0887\"], [0.1111111111111111, \"#46039f\"], [0.2222222222222222, \"#7201a8\"], [0.3333333333333333, \"#9c179e\"], [0.4444444444444444, \"#bd3786\"], [0.5555555555555556, \"#d8576b\"], [0.6666666666666666, \"#ed7953\"], [0.7777777777777778, \"#fb9f3a\"], [0.8888888888888888, \"#fdca26\"], [1.0, \"#f0f921\"]], \"sequentialminus\": [[0.0, \"#0d0887\"], [0.1111111111111111, \"#46039f\"], [0.2222222222222222, \"#7201a8\"], [0.3333333333333333, \"#9c179e\"], [0.4444444444444444, \"#bd3786\"], [0.5555555555555556, \"#d8576b\"], [0.6666666666666666, \"#ed7953\"], [0.7777777777777778, \"#fb9f3a\"], [0.8888888888888888, \"#fdca26\"], [1.0, \"#f0f921\"]]}, \"colorway\": [\"#636efa\", \"#EF553B\", \"#00cc96\", \"#ab63fa\", \"#FFA15A\", \"#19d3f3\", \"#FF6692\", \"#B6E880\", \"#FF97FF\", \"#FECB52\"], \"font\": {\"color\": \"#2a3f5f\"}, \"geo\": {\"bgcolor\": \"white\", \"lakecolor\": \"white\", \"landcolor\": \"#E5ECF6\", \"showlakes\": true, \"showland\": true, \"subunitcolor\": \"white\"}, \"hoverlabel\": {\"align\": \"left\"}, \"hovermode\": \"closest\", \"mapbox\": {\"style\": \"light\"}, \"paper_bgcolor\": \"white\", \"plot_bgcolor\": \"#E5ECF6\", \"polar\": {\"angularaxis\": {\"gridcolor\": \"white\", \"linecolor\": \"white\", \"ticks\": \"\"}, \"bgcolor\": \"#E5ECF6\", \"radialaxis\": {\"gridcolor\": \"white\", \"linecolor\": \"white\", \"ticks\": \"\"}}, \"scene\": {\"xaxis\": {\"backgroundcolor\": \"#E5ECF6\", \"gridcolor\": \"white\", \"gridwidth\": 2, \"linecolor\": \"white\", \"showbackground\": true, \"ticks\": \"\", \"zerolinecolor\": \"white\"}, \"yaxis\": {\"backgroundcolor\": \"#E5ECF6\", \"gridcolor\": \"white\", \"gridwidth\": 2, \"linecolor\": \"white\", \"showbackground\": true, \"ticks\": \"\", \"zerolinecolor\": \"white\"}, \"zaxis\": {\"backgroundcolor\": \"#E5ECF6\", \"gridcolor\": \"white\", \"gridwidth\": 2, \"linecolor\": \"white\", \"showbackground\": true, \"ticks\": \"\", \"zerolinecolor\": \"white\"}}, \"shapedefaults\": {\"line\": {\"color\": \"#2a3f5f\"}}, \"ternary\": {\"aaxis\": {\"gridcolor\": \"white\", \"linecolor\": \"white\", \"ticks\": \"\"}, \"baxis\": {\"gridcolor\": \"white\", \"linecolor\": \"white\", \"ticks\": \"\"}, \"bgcolor\": \"#E5ECF6\", \"caxis\": {\"gridcolor\": \"white\", \"linecolor\": \"white\", \"ticks\": \"\"}}, \"title\": {\"x\": 0.05}, \"xaxis\": {\"automargin\": true, \"gridcolor\": \"white\", \"linecolor\": \"white\", \"ticks\": \"\", \"title\": {\"standoff\": 15}, \"zerolinecolor\": \"white\", \"zerolinewidth\": 2}, \"yaxis\": {\"automargin\": true, \"gridcolor\": \"white\", \"linecolor\": \"white\", \"ticks\": \"\", \"title\": {\"standoff\": 15}, \"zerolinecolor\": \"white\", \"zerolinewidth\": 2}}}},\n",
              "                        {\"responsive\": true}\n",
              "                    ).then(function(){\n",
              "                            \n",
              "var gd = document.getElementById('01ab2d91-2a48-4dcb-bfc7-6f32d9271615');\n",
              "var x = new MutationObserver(function (mutations, observer) {{\n",
              "        var display = window.getComputedStyle(gd).display;\n",
              "        if (!display || display === 'none') {{\n",
              "            console.log([gd, 'removed!']);\n",
              "            Plotly.purge(gd);\n",
              "            observer.disconnect();\n",
              "        }}\n",
              "}});\n",
              "\n",
              "// Listen for the removal of the full notebook cells\n",
              "var notebookContainer = gd.closest('#notebook-container');\n",
              "if (notebookContainer) {{\n",
              "    x.observe(notebookContainer, {childList: true});\n",
              "}}\n",
              "\n",
              "// Listen for the clearing of the current output cell\n",
              "var outputEl = gd.closest('.output');\n",
              "if (outputEl) {{\n",
              "    x.observe(outputEl, {childList: true});\n",
              "}}\n",
              "\n",
              "                        })\n",
              "                };\n",
              "                \n",
              "            </script>\n",
              "        </div>\n",
              "</body>\n",
              "</html>"
            ]
          },
          "metadata": {
            "tags": []
          }
        }
      ]
    },
    {
      "cell_type": "code",
      "metadata": {
        "id": "t-nUMq1vo7Tl",
        "outputId": "eb073326-9ddf-42bc-ee22-178865f644ad",
        "colab": {
          "base_uri": "https://localhost:8080/",
          "height": 542
        }
      },
      "source": [
        "intencao_adail = df2.query('`Intencao` == \"Adail\"')\n",
        "intencao_magalhaes = df2.query('`Intencao` == \"Magalhaes\"')\n",
        "intencao_mitouso = df2.query('`Intencao` == \"Mitouso\"')\n",
        "intencao_nulo = df2.query('`Intencao` == \"Nulo\"')\n",
        "intencao_indeciso = df2.query('`Intencao` == \"indeciso\"')\n",
        "hist_data = [intencao_adail.Faixa.value_counts(),intencao_magalhaes.Faixa.value_counts(),intencao_mitouso.Faixa.value_counts()]\n",
        "labels = [\"Adail\", \"Magalhaes\", \"Mitouso\"]\n",
        "fig = ff.create_distplot(hist_data,labels, bin_size=.2, show_rug=False)\n",
        "fig.show()"
      ],
      "execution_count": 24,
      "outputs": [
        {
          "output_type": "display_data",
          "data": {
            "text/html": [
              "<html>\n",
              "<head><meta charset=\"utf-8\" /></head>\n",
              "<body>\n",
              "    <div>\n",
              "            <script src=\"https://cdnjs.cloudflare.com/ajax/libs/mathjax/2.7.5/MathJax.js?config=TeX-AMS-MML_SVG\"></script><script type=\"text/javascript\">if (window.MathJax) {MathJax.Hub.Config({SVG: {font: \"STIX-Web\"}});}</script>\n",
              "                <script type=\"text/javascript\">window.PlotlyConfig = {MathJaxConfig: 'local'};</script>\n",
              "        <script src=\"https://cdn.plot.ly/plotly-latest.min.js\"></script>    \n",
              "            <div id=\"8ee9aeec-d5a7-41cb-b6c7-af21a0f31439\" class=\"plotly-graph-div\" style=\"height:525px; width:100%;\"></div>\n",
              "            <script type=\"text/javascript\">\n",
              "                \n",
              "                    window.PLOTLYENV=window.PLOTLYENV || {};\n",
              "                    \n",
              "                if (document.getElementById(\"8ee9aeec-d5a7-41cb-b6c7-af21a0f31439\")) {\n",
              "                    Plotly.newPlot(\n",
              "                        '8ee9aeec-d5a7-41cb-b6c7-af21a0f31439',\n",
              "                        [{\"autobinx\": false, \"histnorm\": \"probability density\", \"legendgroup\": \"Adail\", \"marker\": {\"color\": \"rgb(31, 119, 180)\"}, \"name\": \"Adail\", \"opacity\": 0.7, \"type\": \"histogram\", \"x\": [46, 28, 27, 27, 15, 14, 9, 8], \"xaxis\": \"x\", \"xbins\": {\"end\": 46.0, \"size\": 0.2, \"start\": 8.0}, \"yaxis\": \"y\"}, {\"autobinx\": false, \"histnorm\": \"probability density\", \"legendgroup\": \"Magalhaes\", \"marker\": {\"color\": \"rgb(255, 127, 14)\"}, \"name\": \"Magalhaes\", \"opacity\": 0.7, \"type\": \"histogram\", \"x\": [33, 19, 19, 18, 16, 13, 10, 9], \"xaxis\": \"x\", \"xbins\": {\"end\": 33.0, \"size\": 0.2, \"start\": 9.0}, \"yaxis\": \"y\"}, {\"autobinx\": false, \"histnorm\": \"probability density\", \"legendgroup\": \"Mitouso\", \"marker\": {\"color\": \"rgb(44, 160, 44)\"}, \"name\": \"Mitouso\", \"opacity\": 0.7, \"type\": \"histogram\", \"x\": [10, 9, 6, 6, 5, 4, 4, 1], \"xaxis\": \"x\", \"xbins\": {\"end\": 10.0, \"size\": 0.2, \"start\": 1.0}, \"yaxis\": \"y\"}, {\"legendgroup\": \"Adail\", \"marker\": {\"color\": \"rgb(31, 119, 180)\"}, \"mode\": \"lines\", \"name\": \"Adail\", \"showlegend\": false, \"type\": \"scatter\", \"x\": [8.0, 8.076, 8.152, 8.228, 8.304, 8.38, 8.456, 8.532, 8.608, 8.684, 8.76, 8.836, 8.912, 8.988, 9.064, 9.14, 9.216, 9.292, 9.368, 9.443999999999999, 9.52, 9.596, 9.672, 9.748, 9.824, 9.9, 9.975999999999999, 10.052, 10.128, 10.204, 10.28, 10.356, 10.432, 10.508, 10.584, 10.66, 10.736, 10.812, 10.888, 10.964, 11.04, 11.116, 11.192, 11.268, 11.344, 11.42, 11.496, 11.572, 11.648, 11.724, 11.8, 11.876, 11.952, 12.027999999999999, 12.104, 12.18, 12.256, 12.332, 12.408000000000001, 12.484, 12.559999999999999, 12.636, 12.712, 12.788, 12.864, 12.940000000000001, 13.016, 13.091999999999999, 13.168, 13.244, 13.32, 13.396, 13.472000000000001, 13.548, 13.623999999999999, 13.7, 13.776, 13.852, 13.928, 14.004, 14.08, 14.155999999999999, 14.232, 14.308, 14.384, 14.46, 14.536, 14.612, 14.687999999999999, 14.764, 14.84, 14.916, 14.992, 15.068, 15.144, 15.219999999999999, 15.296, 15.372, 15.448, 15.524000000000001, 15.6, 15.676, 15.751999999999999, 15.828, 15.904, 15.98, 16.055999999999997, 16.131999999999998, 16.208, 16.284, 16.36, 16.436, 16.512, 16.588, 16.664, 16.740000000000002, 16.816000000000003, 16.892, 16.968, 17.044, 17.119999999999997, 17.195999999999998, 17.272, 17.348, 17.424, 17.5, 17.576, 17.652, 17.728, 17.804000000000002, 17.880000000000003, 17.956, 18.032, 18.108, 18.183999999999997, 18.259999999999998, 18.336, 18.412, 18.488, 18.564, 18.64, 18.716, 18.792, 18.868000000000002, 18.944000000000003, 19.02, 19.096, 19.172, 19.247999999999998, 19.323999999999998, 19.4, 19.476, 19.552, 19.628, 19.704, 19.78, 19.856, 19.932000000000002, 20.008, 20.084, 20.16, 20.236, 20.311999999999998, 20.387999999999998, 20.464, 20.54, 20.616, 20.692, 20.768, 20.844, 20.92, 20.996000000000002, 21.072, 21.148, 21.224, 21.3, 21.375999999999998, 21.451999999999998, 21.528, 21.604, 21.68, 21.756, 21.832, 21.908, 21.984, 22.060000000000002, 22.136, 22.212, 22.288, 22.364, 22.439999999999998, 22.516, 22.592, 22.668, 22.744, 22.82, 22.896, 22.972, 23.048000000000002, 23.124000000000002, 23.2, 23.276, 23.352, 23.428, 23.503999999999998, 23.58, 23.656, 23.732, 23.808, 23.884, 23.96, 24.036, 24.112, 24.188, 24.264, 24.34, 24.416, 24.492, 24.568, 24.644, 24.72, 24.796, 24.872, 24.948, 25.024, 25.1, 25.176, 25.252, 25.328, 25.404, 25.48, 25.556, 25.632, 25.708, 25.784, 25.86, 25.936, 26.012, 26.088, 26.164, 26.24, 26.316, 26.392, 26.468, 26.544, 26.62, 26.696, 26.772, 26.848, 26.924, 27.0, 27.076, 27.152, 27.228, 27.304, 27.38, 27.456, 27.532, 27.608, 27.684, 27.76, 27.836, 27.912, 27.988, 28.064, 28.14, 28.216, 28.292, 28.368, 28.444, 28.52, 28.596, 28.672, 28.748, 28.824, 28.9, 28.976, 29.052, 29.128, 29.204, 29.28, 29.356, 29.432, 29.508, 29.584, 29.66, 29.736, 29.812, 29.888, 29.964, 30.04, 30.116, 30.192, 30.268, 30.344, 30.42, 30.496, 30.572, 30.648, 30.724, 30.8, 30.876, 30.952, 31.028, 31.104, 31.18, 31.256, 31.332, 31.408, 31.484, 31.56, 31.636, 31.712, 31.788, 31.864, 31.94, 32.016, 32.092, 32.168, 32.244, 32.32, 32.396, 32.472, 32.548, 32.623999999999995, 32.7, 32.775999999999996, 32.852000000000004, 32.928, 33.004000000000005, 33.08, 33.156, 33.232, 33.308, 33.384, 33.46, 33.536, 33.611999999999995, 33.688, 33.763999999999996, 33.84, 33.916, 33.992000000000004, 34.068, 34.144, 34.22, 34.296, 34.372, 34.448, 34.524, 34.6, 34.676, 34.751999999999995, 34.828, 34.903999999999996, 34.980000000000004, 35.056, 35.132000000000005, 35.208, 35.284, 35.36, 35.436, 35.512, 35.588, 35.664, 35.739999999999995, 35.816, 35.891999999999996, 35.968, 36.044, 36.120000000000005, 36.196, 36.272, 36.348, 36.424, 36.5, 36.576, 36.652, 36.728, 36.804, 36.879999999999995, 36.956, 37.032, 37.108000000000004, 37.184, 37.260000000000005, 37.336, 37.412, 37.488, 37.564, 37.64, 37.716, 37.792, 37.867999999999995, 37.944, 38.019999999999996, 38.096000000000004, 38.172, 38.248000000000005, 38.324, 38.4, 38.476, 38.552, 38.628, 38.704, 38.78, 38.856, 38.932, 39.007999999999996, 39.084, 39.16, 39.236000000000004, 39.312, 39.388000000000005, 39.464, 39.54, 39.616, 39.692, 39.768, 39.844, 39.92, 39.995999999999995, 40.072, 40.148, 40.224, 40.3, 40.376, 40.452, 40.528, 40.604, 40.68, 40.756, 40.832, 40.908, 40.984, 41.06, 41.136, 41.212, 41.288, 41.364, 41.44, 41.516, 41.592, 41.668, 41.744, 41.82, 41.896, 41.972, 42.048, 42.124, 42.2, 42.276, 42.352, 42.428, 42.504, 42.58, 42.656, 42.732, 42.808, 42.884, 42.96, 43.036, 43.112, 43.188, 43.264, 43.34, 43.416, 43.492, 43.568, 43.644, 43.72, 43.796, 43.872, 43.948, 44.024, 44.1, 44.176, 44.252, 44.328, 44.404, 44.48, 44.556, 44.632, 44.708, 44.784, 44.86, 44.936, 45.012, 45.088, 45.164, 45.24, 45.316, 45.392, 45.468, 45.544, 45.62, 45.696, 45.772, 45.848, 45.924], \"xaxis\": \"x\", \"y\": [0.021874339779259518, 0.02196776378355478, 0.02206037727600417, 0.02215217198240228, 0.02224313984633012, 0.02233327303160328, 0.022422563924619856, 0.022511005136606595, 0.022598589505761543, 0.022685310099291804, 0.022771160215344873, 0.02285613338483206, 0.022940223373142804, 0.023023424181748398, 0.02310573004969401, 0.023187135454977772, 0.023267635115815748, 0.02334722399179191, 0.023425897284891885, 0.02350365044041977, 0.02358047914779699, 0.023656379341242508, 0.023731347200333604, 0.023805379150446587, 0.023878471863076883, 0.023950622256037887, 0.024021827493538272, 0.024092084986137276, 0.02416139239057769, 0.024229747609496366, 0.02429714879101205, 0.024363594328190425, 0.024429082858386533, 0.024493613262464388, 0.024557184663894137, 0.024619796427726957, 0.02468144815944788, 0.02474213970370707, 0.024801871142929914, 0.024860642795806485, 0.02491845521566099, 0.02497530918870193, 0.025031205732153606, 0.025086146092269973, 0.025140131742231692, 0.02519316437992732, 0.025245245925619778, 0.025296378519499257, 0.02534656451912368, 0.025395806496748195, 0.02544410723654484, 0.025491469731714053, 0.0255378971814894, 0.025583392988037187, 0.025627960753252556, 0.02567160427545388, 0.02571432754597721, 0.0257561347456727, 0.02579703024130487, 0.025837018581858818, 0.02587610449475444, 0.02591429288197074, 0.02595158881608254, 0.025987997536211775, 0.026023524443895798, 0.026058175098875046, 0.026091955214802474, 0.026124870654877418, 0.02615692742740633, 0.02618813168129304, 0.026218489701461328, 0.026248007904212372, 0.026276692832519998, 0.026304551151266557, 0.026331589642422156, 0.026357815200170456, 0.026383234825983704, 0.026407855623650202, 0.026431684794257247, 0.026454729631132566, 0.026476997514747407, 0.026498495907584487, 0.026519232348973937, 0.02653921444990047, 0.026558449887785086, 0.026576946401244483, 0.026594711784831613, 0.026611753883760574, 0.026628080588619242, 0.02664369983007304, 0.026658619573563126, 0.026672847814002427, 0.026686392570472967, 0.026699261880927843, 0.02671146379690118, 0.026723006378229656, 0.026733897687788857, 0.026744145786247942, 0.026753758726846006, 0.02676274455019355, 0.02677111127910244, 0.026778866913447746, 0.02678601942506479, 0.02679257675268487, 0.02679854679691279, 0.026803937415249716, 0.02680875641716454, 0.026813011559216948, 0.026816710540235662, 0.026819860996554742, 0.026822470497311405, 0.02682454653980827, 0.026826096544943334, 0.02682712785271058, 0.026827647717774253, 0.026827663305119924, 0.026827181685785, 0.026826209832671866, 0.026824754616446223, 0.026822822801523555, 0.026820421042146377, 0.0268175558785549, 0.026814233733253846, 0.026810460907377726, 0.026806243577157312, 0.026801587790489495, 0.02679649946361301, 0.02679098437789225, 0.026785048176711353, 0.026778696362480762, 0.026771934293758213, 0.026764767182486247, 0.02675720009134799, 0.02674923793124326, 0.026740885458886428, 0.026732147274528006, 0.02672302781980132, 0.026713531375695855, 0.02670366206065862, 0.02669342382882496, 0.026682820468379845, 0.026671855600050993, 0.026660532675734715, 0.02664885497725554, 0.026636825615260356, 0.02662444752824799, 0.026611723481734788, 0.026598656067556806, 0.02658524770330912, 0.026571500631922592, 0.02655741692137846, 0.026542998464560805, 0.026528246979247168, 0.02651316400823721, 0.026497750919619277, 0.02648200890717481, 0.02646593899092015, 0.026449542017785443, 0.026432818662430163, 0.02641576942819451, 0.02639839464818628, 0.026380694486502092, 0.026362668939582355, 0.02634431783769884, 0.026325640846573854, 0.026306637469129875, 0.02628730704736826, 0.026267648764375803, 0.026247661646457657, 0.026227344565395026, 0.026206696240826076, 0.02618571524274824, 0.02616439999414026, 0.02614274877370191, 0.026120759718709523, 0.026098430827985172, 0.02607575996497748, 0.02605274486095166, 0.026029383118286602, 0.026005672213876604, 0.025981609502635134, 0.025957192221098314, 0.02593241749112532, 0.02590728232369308, 0.0258817836227825, 0.02585591818935341, 0.02582968272540532, 0.025803073838121023, 0.02577608804409007, 0.025748721773608933, 0.02572097137505493, 0.025692833119330415, 0.025664303204374374, 0.025635377759737753, 0.025606052851219457, 0.025576324485559524, 0.02554618861518606, 0.02551564114301243, 0.02548467792728132, 0.02545329478645198, 0.025421487504127233, 0.025389251834016417, 0.025356583504931002, 0.02532347822580878, 0.02528993169076336, 0.025255939584154972, 0.02522149758567908, 0.025186601375468933, 0.025151246639208445, 0.02511542907325154, 0.025079144389744297, 0.025042388321746167, 0.025005156628346396, 0.02496744509977204, 0.024929249562483755, 0.02489056588425567, 0.02485138997923555, 0.024811717812981703, 0.024771545407472752, 0.024730868846086745, 0.024689684278545867, 0.02464798792582323, 0.024605776085008073, 0.024563045134125817, 0.02451979153690949, 0.024476011847519005, 0.024431702715204853, 0.024386860888912742, 0.024341483221825916, 0.024295566675841786, 0.02424910832597952, 0.02420210536471551, 0.0241545551062435, 0.02410645499065616, 0.024057802588045234, 0.024008595602517124, 0.023958831876121023, 0.023908509392686763, 0.02385762628156957, 0.023806180821298935, 0.023754171443129003, 0.02370159673448789, 0.023648455442323406, 0.023594746476342715, 0.023540468912143668, 0.023485621994235383, 0.023430205138946048, 0.023374217937215704, 0.023317660157272036, 0.023260531747187237, 0.02320283283731403, 0.023144563742599183, 0.023085724964772777, 0.02302631719441157, 0.02296634131287518, 0.022905798394113417, 0.022844689706343693, 0.02278301671359715, 0.022720781077132435, 0.022657984656716153, 0.022594629511768966, 0.022530717902376627, 0.022466252290165186, 0.022401235339039663, 0.02233566991578578, 0.022269559090534265, 0.02220290613708736, 0.022135714533107375, 0.022067987960167092, 0.021999730303662028, 0.021930945652584605, 0.021861638299160373, 0.021791812738346576, 0.021721473667193448, 0.021650625984068583, 0.021579274787745097, 0.021507425376354056, 0.021435083246202108, 0.021362254090454995, 0.02128894379768798, 0.021215158450304153, 0.021140904322821816, 0.021066187880032124, 0.0209910157750282, 0.020915394847107315, 0.020839332119547405, 0.020762834797259627, 0.020685910264318555, 0.020608566081371765, 0.020530809982930637, 0.020452649874544208, 0.0203740938298582, 0.02029515008756111, 0.02021582704821964, 0.020136133271005524, 0.020056077470316222, 0.019975668512291617, 0.019894915411229324, 0.019813827325900975, 0.019732413555772044, 0.01965068353712789, 0.019568646839108625, 0.019486313159655558, 0.019403692321371988, 0.019320794267301225, 0.019237629056624666, 0.01915420686028301, 0.019070537956523317, 0.01898663272637531, 0.01890250164905973, 0.018818155297331905, 0.01873360433276381, 0.018648859500967643, 0.01856393162676429, 0.0184788316092998, 0.018393570417113248, 0.0183081590831592, 0.01822260869978826, 0.018136930413688846, 0.018051135420793743, 0.01796523496115468, 0.017879240313788455, 0.017793162791497882, 0.01770701373567108, 0.017620804511062495, 0.017534546500558947, 0.017448251099934493, 0.017361929712596962, 0.01727559374433021, 0.017189254598034897, 0.01710292366847176, 0.017016612337010215, 0.0169303319663862, 0.016844093895472163, 0.016757909434062836, 0.016671789857679965, 0.01658574640239932, 0.01649979025970335, 0.016413932571362456, 0.016328184424348573, 0.016242556845783563, 0.016157060797926375, 0.01607170717320122, 0.01598650678927066, 0.015901470384155857, 0.01581660861140769, 0.015731932035331124, 0.015647451126265977, 0.015563176255927002, 0.015479117692805812, 0.015395285597637691, 0.015311690018935746, 0.015228340888595216, 0.015145248017570305, 0.015062421091626371, 0.014979869667169502, 0.014897603167156362, 0.01481563087708619, 0.014733961941077565, 0.014652605358031921, 0.014571569977886051, 0.014490864497955688, 0.014410497459372049, 0.014330477243613414, 0.014250812069133477, 0.014171509988088348, 0.014092578883163821, 0.0140140264645047, 0.013935860266747509, 0.013858087646158366, 0.013780715777877128, 0.013703751653269449, 0.01362720207738771, 0.013551073666542223, 0.013475372845983725, 0.013400105847698199, 0.013325278708314877, 0.01325089726712849, 0.013176967164236313, 0.01310349383879093, 0.013030482527369137, 0.012957938262457714, 0.012885865871056406, 0.012814269973398539, 0.01274315498178967, 0.012672525099564205, 0.012602384320160661, 0.012532736426314953, 0.012463584989372395, 0.01239493336871779, 0.012326784711323799, 0.012259141951417096, 0.012192007810262187, 0.01212538479606246, 0.012059275203977812, 0.011993681116258705, 0.01192860440249555, 0.011864046719983245, 0.011800009514199601, 0.011736494019397328, 0.011673501259308251, 0.011611032047959104, 0.011549086990597715, 0.011487666484728478, 0.011426770721256092, 0.011366399685736125, 0.011306553159731334, 0.01124723072227222, 0.011188431751420487, 0.01113015542593395, 0.011072400727031346, 0.011015166440255362, 0.010958451157432499, 0.010902253278727759, 0.010846571014792713, 0.010791402389004915, 0.010736745239797002, 0.01068259722307348, 0.010628955814713317, 0.01057581831315634, 0.01052318184207146, 0.010471043353104583, 0.010419399628704201, 0.010368247285022497, 0.010317582774889762, 0.010267402390859905, 0.01021770226832497, 0.01016847838869618, 0.010119726582649329, 0.010071442533432265, 0.010023621780231928, 0.009976259721598768, 0.009929351618926026, 0.009882892599981543, 0.009836877662489588, 0.00979130167776036, 0.009746159394364616, 0.009701445441850988, 0.009657154334503558, 0.009613280475137041, 0.009569818158927323, 0.009526761577274579, 0.009484104821696704, 0.009441841887750328, 0.009399966678977094, 0.009358473010872599, 0.009317354614875413, 0.009276605142373875, 0.00923621816872796, 0.009196187197303878, 0.00915650566351882, 0.009117166938893483, 0.009078164335109822, 0.00903949110807164, 0.009001140461965625, 0.00896310555332033, 0.00892537949506079, 0.008887955360556359, 0.008850826187659474, 0.00881398498273294, 0.008777424724663519, 0.00874113836885949, 0.00870511885122996, 0.008669359092143714, 0.008633852000365375, 0.008598590476966797, 0.00856356741921144, 0.008528775724409774, 0.008494208293743545, 0.008459858036056955, 0.008425717871612701, 0.008391780735810987, 0.008358039582869571, 0.008324487389462981, 0.008291117158319063, 0.008257921921771065, 0.008224894745263583, 0.00819202873081052, 0.008159317020403588, 0.008126752799369554, 0.008094329299674803, 0.008062039803175611, 0.008029877644812692, 0.007997836215748597, 0.007965908966446514, 0.007934089409689243, 0.007902371123536978, 0.007870747754222711, 0.007839213018984032, 0.007807760708830221, 0.007776384691243556, 0.007745078912813754, 0.007713837401804638, 0.007682654270651983, 0.0076515237183918325, 0.007620440033018247, 0.007589397593769924, 0.007558390873344754, 0.007527414440041817, 0.007496462959830088], \"yaxis\": \"y\"}, {\"legendgroup\": \"Magalhaes\", \"marker\": {\"color\": \"rgb(255, 127, 14)\"}, \"mode\": \"lines\", \"name\": \"Magalhaes\", \"showlegend\": false, \"type\": \"scatter\", \"x\": [9.0, 9.048, 9.096, 9.144, 9.192, 9.24, 9.288, 9.336, 9.384, 9.432, 9.48, 9.528, 9.576, 9.624, 9.672, 9.72, 9.768, 9.816, 9.864, 9.912, 9.96, 10.008, 10.056000000000001, 10.104, 10.152, 10.2, 10.248, 10.296, 10.344, 10.392, 10.44, 10.488, 10.536, 10.584, 10.632, 10.68, 10.728, 10.776, 10.824, 10.872, 10.92, 10.968, 11.016, 11.064, 11.112, 11.16, 11.208, 11.256, 11.304, 11.352, 11.4, 11.448, 11.496, 11.544, 11.592, 11.64, 11.688, 11.736, 11.783999999999999, 11.832, 11.879999999999999, 11.928, 11.975999999999999, 12.024000000000001, 12.072, 12.120000000000001, 12.168, 12.216000000000001, 12.264, 12.312, 12.36, 12.408, 12.456, 12.504, 12.552, 12.6, 12.648, 12.696, 12.744, 12.792, 12.84, 12.888, 12.936, 12.984, 13.032, 13.08, 13.128, 13.176, 13.224, 13.272, 13.32, 13.368, 13.416, 13.464, 13.512, 13.559999999999999, 13.608, 13.655999999999999, 13.704, 13.751999999999999, 13.8, 13.847999999999999, 13.896, 13.943999999999999, 13.992, 14.04, 14.088000000000001, 14.136, 14.184000000000001, 14.232, 14.280000000000001, 14.328, 14.376000000000001, 14.424, 14.472000000000001, 14.52, 14.568, 14.616, 14.664, 14.712, 14.76, 14.808, 14.856, 14.904, 14.952, 15.0, 15.048, 15.096, 15.144, 15.192, 15.24, 15.288, 15.336, 15.384, 15.432, 15.48, 15.527999999999999, 15.576, 15.623999999999999, 15.672, 15.719999999999999, 15.768, 15.815999999999999, 15.864, 15.911999999999999, 15.96, 16.008, 16.056, 16.104, 16.152, 16.2, 16.248, 16.296, 16.344, 16.392, 16.44, 16.488, 16.536, 16.584, 16.631999999999998, 16.68, 16.728, 16.776, 16.823999999999998, 16.872, 16.92, 16.968, 17.016, 17.064, 17.112000000000002, 17.16, 17.208, 17.256, 17.304000000000002, 17.352, 17.4, 17.448, 17.496000000000002, 17.544, 17.592, 17.64, 17.688000000000002, 17.736, 17.784, 17.832, 17.880000000000003, 17.928, 17.976, 18.024, 18.072, 18.119999999999997, 18.168, 18.216, 18.264, 18.311999999999998, 18.36, 18.408, 18.456, 18.503999999999998, 18.552, 18.6, 18.648, 18.695999999999998, 18.744, 18.792, 18.84, 18.887999999999998, 18.936, 18.984, 19.032, 19.08, 19.128, 19.176000000000002, 19.224, 19.272, 19.32, 19.368000000000002, 19.416, 19.464, 19.512, 19.560000000000002, 19.608, 19.656, 19.704, 19.752000000000002, 19.8, 19.848, 19.896, 19.944000000000003, 19.992, 20.04, 20.088, 20.136, 20.183999999999997, 20.232, 20.28, 20.328, 20.375999999999998, 20.424, 20.472, 20.52, 20.567999999999998, 20.616, 20.664, 20.712, 20.759999999999998, 20.808, 20.856, 20.904, 20.951999999999998, 21.0, 21.048000000000002, 21.096, 21.144, 21.192, 21.240000000000002, 21.288, 21.336, 21.384, 21.432000000000002, 21.48, 21.528, 21.576, 21.624000000000002, 21.672, 21.72, 21.768, 21.816000000000003, 21.864, 21.912, 21.96, 22.008, 22.055999999999997, 22.104, 22.152, 22.2, 22.247999999999998, 22.296, 22.344, 22.392, 22.439999999999998, 22.488, 22.536, 22.584, 22.631999999999998, 22.68, 22.728, 22.776, 22.823999999999998, 22.872, 22.92, 22.968, 23.016, 23.064, 23.112000000000002, 23.16, 23.208, 23.256, 23.304000000000002, 23.352, 23.4, 23.448, 23.496000000000002, 23.544, 23.592, 23.64, 23.688000000000002, 23.736, 23.784, 23.832, 23.880000000000003, 23.928, 23.976, 24.024, 24.072, 24.119999999999997, 24.168, 24.216, 24.264, 24.311999999999998, 24.36, 24.408, 24.456, 24.503999999999998, 24.552, 24.6, 24.648, 24.695999999999998, 24.744, 24.792, 24.84, 24.887999999999998, 24.936, 24.984, 25.032, 25.08, 25.128, 25.176, 25.224, 25.272, 25.32, 25.368, 25.416, 25.464, 25.512, 25.56, 25.608, 25.656, 25.704, 25.752, 25.8, 25.848, 25.896, 25.944, 25.992, 26.04, 26.088, 26.136, 26.184, 26.232, 26.28, 26.328, 26.376, 26.424, 26.472, 26.52, 26.568, 26.616, 26.664, 26.712, 26.76, 26.808, 26.856, 26.904, 26.952, 27.0, 27.048, 27.096, 27.144, 27.192, 27.24, 27.288, 27.336, 27.384, 27.432, 27.48, 27.528, 27.576, 27.624, 27.672, 27.72, 27.768, 27.816, 27.864, 27.912, 27.96, 28.008, 28.056, 28.104, 28.152, 28.2, 28.248, 28.296, 28.344, 28.392, 28.44, 28.488, 28.536, 28.584, 28.632, 28.68, 28.728, 28.776, 28.824, 28.872, 28.92, 28.968, 29.016, 29.064, 29.112, 29.16, 29.208, 29.256, 29.304, 29.352, 29.4, 29.448, 29.496, 29.544, 29.592, 29.64, 29.688, 29.736, 29.784, 29.832, 29.88, 29.928, 29.976, 30.024, 30.072, 30.12, 30.168, 30.216, 30.264, 30.312, 30.36, 30.408, 30.456, 30.504, 30.552, 30.6, 30.648, 30.696, 30.744, 30.792, 30.84, 30.888, 30.936, 30.984, 31.032, 31.08, 31.128, 31.176, 31.224, 31.272, 31.32, 31.368, 31.416, 31.464, 31.512, 31.56, 31.608, 31.656, 31.704, 31.752, 31.8, 31.848, 31.896, 31.944, 31.992, 32.04, 32.088, 32.135999999999996, 32.184, 32.232, 32.28, 32.328, 32.376000000000005, 32.424, 32.472, 32.519999999999996, 32.568, 32.616, 32.664, 32.712, 32.760000000000005, 32.808, 32.856, 32.903999999999996, 32.952], \"xaxis\": \"x\", \"y\": [0.035461087461427857, 0.03567304995304853, 0.03588444785808932, 0.036095264797656915, 0.03630548449169328, 0.036515090758900484, 0.03672406751653773, 0.03693239878009196, 0.03714006866282315, 0.037347061375185786, 0.03755336122412818, 0.03775895261227111, 0.037963820036967744, 0.03816794808924697, 0.03837132145264187, 0.038573924901906004, 0.03877574330161959, 0.038976761604688256, 0.039176964850736906, 0.039376338164401545, 0.03957486675352198, 0.03977253590723826, 0.039969330993994336, 0.0401652374594517, 0.04036024082431695, 0.040554326682086375, 0.040747480696711295, 0.040939688600187915, 0.04113093619007544, 0.04132120932694647, 0.04151049393177351, 0.04169877598325601, 0.041886041515091774, 0.04207227661319733, 0.04225746741288156, 0.04244160009597685, 0.042624660887932694, 0.04280663605487583, 0.04298751190064216, 0.04316727476378462, 0.04334591101456221, 0.043523407051914834, 0.04369974930042876, 0.043874924207298036, 0.04404891823928614, 0.04422171787969356, 0.04439330962533606, 0.044563679983538426, 0.04473281546914933, 0.044900702601581875, 0.045067327901885286, 0.04523267788985259, 0.04539673908116959, 0.04555949798461014, 0.0457209410992827, 0.04588105491193346, 0.046039825894310854, 0.04619724050059666, 0.04635328516490851, 0.046507946298878756, 0.046661210289314775, 0.04681306349594536, 0.046963492249258006, 0.04711248284843189, 0.04726002155937122, 0.04740609461284349, 0.047550688202727016, 0.04769378848437266, 0.047835381573083396, 0.047975453542716665, 0.04811399042441315, 0.04825097820545636, 0.04838640282826681, 0.04852025018953468, 0.048652506139494754, 0.04878315648134709, 0.048912186970827116, 0.049039583315928295, 0.04916533117678068, 0.04928941616568857, 0.049411823847329873, 0.049532539739120425, 0.049651549311745535, 0.04976883798986141, 0.04988439115296895, 0.049998194136461734, 0.050110232232850625, 0.05022049069316658, 0.05032895472854353, 0.05043560951198263, 0.050540440180299524, 0.05064343183625557, 0.050744569550874113, 0.05084383836594257, 0.05094122329670106, 0.05103670933471792, 0.05113028145095241, 0.05122192459900476, 0.05131162371855326, 0.051399363738978375, 0.05148512958317316, 0.05156890617153929, 0.05165067842616812, 0.051730431275205414, 0.051808149657398585, 0.05188381852682503, 0.05195742285780001, 0.05202894764996199, 0.05209837793353384, 0.052165698774757185, 0.05223089528149798, 0.0522939526090205, 0.05235485596592701, 0.05241359062026011, 0.05247014190576492, 0.052524495228307294, 0.052576636072445226, 0.0526265500081491, 0.05267422269766751, 0.05271963990253435, 0.05276278749071313, 0.052803651443874125, 0.05284221786479981, 0.05287847298491417, 0.05291240317193078, 0.05294399493761487, 0.05297323494565425, 0.05300011001963391, 0.05302460715110865, 0.053046713507768684, 0.05306641644169203, 0.053083703497678485, 0.05309856242165873, 0.05311098116917307, 0.053120947913913204, 0.05312845105632138, 0.053133479232239954, 0.05313602132160552, 0.053136066457180754, 0.05313360403331753, 0.05312862371474451, 0.05312111544537275, 0.053111069457112095, 0.053098476278691874, 0.05308332674447886, 0.053065612003285335, 0.053045323527160584, 0.053022453120158394, 0.052996992927073897, 0.052968935442142234, 0.05293827351769225, 0.05290500037274781, 0.05286910960156992, 0.05283059518213214, 0.052789451484522486, 0.05274567327926445, 0.05269925574555035, 0.052650194479379436, 0.052598485501594267, 0.0525441252658081, 0.05248711066621616, 0.05242743904528428, 0.052365108201307686, 0.05230011639583342, 0.052232462360939584, 0.05216214530636459, 0.05208916492648026, 0.05201352140710191, 0.05193521543212921, 0.051854248190011616, 0.051770621380032064, 0.05168433721840283, 0.051595398444167793, 0.05150380832490519, 0.05140957066222497, 0.05131268979705552, 0.05121317061471398, 0.051111018549755215, 0.05100623959059386, 0.05089884028389484, 0.050788827738727275, 0.05067620963047721, 0.050560994204514584, 0.05044319027960993, 0.050322807251097126, 0.050199855093777425, 0.05007434436456177, 0.04994628620484687, 0.04981569234262246, 0.04968257509430564, 0.04954694736629991, 0.049408822656275386, 0.04926821505416806, 0.049125139242895174, 0.04897961049878453, 0.048831644691715886, 0.04868125828497214, 0.048528468334798874, 0.048373292489670705, 0.04821574898926319, 0.04805585666312916, 0.047893634929078804, 0.04772910379126248, 0.047562283837956305, 0.04739319623905002, 0.047221862743237156, 0.0470483056749076, 0.046872547930743275, 0.04669461297601738, 0.04651452484059794, 0.04633230811465678, 0.046147987944085304, 0.04596159002561846, 0.04577314060166835, 0.045582666454869795, 0.045390194902339434, 0.04519575378965114, 0.044999371484529774, 0.04480107687026612, 0.04460089933885614, 0.04439886878386705, 0.04419501559303401, 0.04398937064059043, 0.04378196527933576, 0.0435728313324447, 0.043362001085021154, 0.04314950727540198, 0.04293538308621397, 0.042719662135189365, 0.04250237846574376, 0.04228356653732179, 0.04206326121551523, 0.04184149776195884, 0.04161831182400885, 0.04139373942420995, 0.04116781694955597, 0.04094058114054979, 0.04071206908006889, 0.04048231818204159, 0.04025136617994083, 0.04001925111510091, 0.03978601132486396, 0.039551685430562235, 0.039316312325342835, 0.03907993116184107, 0.038842581339709456, 0.038604302493008995, 0.03836513447746918, 0.03812511735762414, 0.0378842913938312, 0.03764269702917944, 0.037400374876294905, 0.037157365704049684, 0.036913710424181914, 0.03666945007783395, 0.03642462582201604, 0.03617927891600241, 0.035933450707667014, 0.03568718261976685, 0.03544051613617928, 0.03519349278810117, 0.03494615414021679, 0.03469854177684236, 0.034450697288053785, 0.034202662255805205, 0.03395447824004579, 0.03370618676484151, 0.03345782930450966, 0.033209447269772645, 0.03296108199393877, 0.03271277471911669, 0.03246456658247071, 0.03221649860252394, 0.03196861166551598, 0.03172094651182255, 0.031473543722442994, 0.0312264437055633, 0.030979686683200534, 0.030733312677935807, 0.030487361499741922, 0.030241872732912067, 0.02999688572309623, 0.02975243956445114, 0.029508573086910204, 0.02926532484357899, 0.029022733098262758, 0.028780835813131414, 0.028539670636527754, 0.028299274890924476, 0.028059685561035552, 0.027820939282087384, 0.027583072328254705, 0.027346120601266347, 0.027110119619186378, 0.026875104505374836, 0.02664110997763293, 0.026408170337537593, 0.026176319459969576, 0.02594559078283956, 0.02571601729701617, 0.02548763153646041, 0.025260465568570093, 0.025034550984738238, 0.024809918891128654, 0.02458659989967289, 0.02436462411929124, 0.02414402114734139, 0.023924820061297637, 0.02370704941066347, 0.02349073720912057, 0.02327591092691659, 0.02306259748349429, 0.022850823240364346, 0.02264061399422393, 0.02243199497032343, 0.02222499081608261, 0.022019625594958556, 0.02181592278056661, 0.021613905251056047, 0.02141359528374141, 0.021215014549991223, 0.021018184110374556, 0.02082312441006683, 0.02062985527451518, 0.0204383959053643, 0.02024876487664324, 0.020060980131213248, 0.01987505897747701, 0.019691018086349606, 0.019508873488490733, 0.01932864057179818, 0.01915033407916234, 0.01897396810648119, 0.018799556100935283, 0.0186271108595219, 0.018456644527847788, 0.018288168599179384, 0.01812169391374961, 0.017957230658319914, 0.017794788365996614, 0.01763437591629969, 0.017476001535483007, 0.01731967279710415, 0.017165396622842197, 0.017013179283561584, 0.016863026400620325, 0.016714942947420455, 0.01656893325119872, 0.01642500099505506, 0.016283149220217164, 0.016143380328538057, 0.016005696085224817, 0.015870097621795625, 0.015736585439262655, 0.015605159411537955, 0.01547581878905978, 0.015348562202636359, 0.015223387667504333, 0.015100292587598617, 0.014979273760031104, 0.014860327379774536, 0.0147434490445489, 0.014628633759906612, 0.014515875944513737, 0.014405169435623361, 0.01429650749473811, 0.014189882813458147, 0.014085287519511294, 0.013982713182961522, 0.013882150822592473, 0.013783590912462148, 0.013687023388625284, 0.013592437656019432, 0.013499822595511394, 0.013409166571099747, 0.013320457437270021, 0.013233682546498529, 0.01314882875690089, 0.013065882440021536, 0.012984829488760051, 0.012905655325430577, 0.012828344909950195, 0.012752882748152344, 0.012679252900221163, 0.012607438989242936, 0.012537424209870328, 0.012469191337095568, 0.012402722735128432, 0.01233800036637488, 0.012275005800512417, 0.012213720223657914, 0.012154124447623921, 0.012096198919259326, 0.012039923729870167, 0.011985278624716704, 0.011932243012582387, 0.011880795975410844, 0.011830916278006599, 0.011782582377795617, 0.011735772434641384, 0.011690464320712596, 0.011646635630398307, 0.01160426369026649, 0.01156332556906196, 0.011523798087739573, 0.011485657829528729, 0.011448881150025179, 0.01141344418730597, 0.011379322872063807, 0.011346492937756613, 0.011314929930768488, 0.011284609220578076, 0.01125550600993044, 0.011227595345008539, 0.011200852125600489, 0.01117525111525869, 0.01115076695144704, 0.011127374155672429, 0.011105047143596775, 0.011083760235125766, 0.011063487664470711, 0.011044203590179715, 0.011025882105134563, 0.011008497246509697, 0.010992023005689635, 0.010976433338141333, 0.010961702173237919, 0.010947803424030296, 0.010934710996963167, 0.010922398801532082, 0.010910840759878006, 0.010900010816316237, 0.010889882946796171, 0.010880431168288759, 0.010871629548098357, 0.010863452213095825, 0.01085587335886966, 0.010848867258792106, 0.010842408272997152, 0.010836470857267357, 0.010831029571826578, 0.010826059090035678, 0.010821534206988215, 0.010817429848003442, 0.010813721077013644, 0.010810383104843262, 0.010807391297376925, 0.010804721183613898, 0.010802348463606247, 0.010800249016278267, 0.01079839890712467, 0.01079677439578502, 0.010795351943492192, 0.010794108220392416, 0.01079302011273467, 0.010792064729927258, 0.010791219411459402, 0.01079046173368574, 0.010789769516471728, 0.010789120829698007, 0.010788493999621738, 0.010787867615093163, 0.010787220533625595, 0.010786531887317022, 0.010785781088621806, 0.010784947835970829, 0.01078401211923852, 0.010782954225055428, 0.010781754741964803, 0.01078039456542198, 0.010778854902635296, 0.01077711727724728, 0.010775163533855093, 0.010772975842369142, 0.010770536702208866, 0.010767828946334832, 0.010764835745116297, 0.010761540610033465, 0.010757927397213771, 0.010753980310801542, 0.01074968390616056, 0.010745023092908996, 0.010739983137786359, 0.010734549667352093, 0.010728708670515669, 0.010722446500897896, 0.010715749879023446, 0.010708605894344464, 0.010701002007095456, 0.01069292604997948, 0.010684366229685846, 0.010675311128239702, 0.01066574970418371, 0.0106556712935924, 0.010645065610919576, 0.010633922749679421, 0.010622233182961965, 0.010609987763783567, 0.010597177725273306, 0.010583794680696078], \"yaxis\": \"y\"}, {\"legendgroup\": \"Mitouso\", \"marker\": {\"color\": \"rgb(44, 160, 44)\"}, \"mode\": \"lines\", \"name\": \"Mitouso\", \"showlegend\": false, \"type\": \"scatter\", \"x\": [1.0, 1.018, 1.036, 1.054, 1.072, 1.09, 1.108, 1.126, 1.144, 1.162, 1.18, 1.198, 1.216, 1.234, 1.252, 1.27, 1.288, 1.306, 1.324, 1.342, 1.3599999999999999, 1.3780000000000001, 1.396, 1.414, 1.432, 1.45, 1.468, 1.486, 1.504, 1.522, 1.54, 1.558, 1.576, 1.5939999999999999, 1.612, 1.63, 1.6480000000000001, 1.666, 1.6840000000000002, 1.702, 1.72, 1.738, 1.756, 1.774, 1.792, 1.81, 1.8279999999999998, 1.846, 1.8639999999999999, 1.8820000000000001, 1.9, 1.9180000000000001, 1.936, 1.954, 1.972, 1.99, 2.008, 2.026, 2.044, 2.0620000000000003, 2.08, 2.098, 2.116, 2.134, 2.152, 2.17, 2.1879999999999997, 2.206, 2.224, 2.242, 2.26, 2.278, 2.2960000000000003, 2.314, 2.332, 2.35, 2.3680000000000003, 2.386, 2.404, 2.4219999999999997, 2.44, 2.458, 2.476, 2.4939999999999998, 2.512, 2.5300000000000002, 2.548, 2.566, 2.584, 2.6020000000000003, 2.62, 2.638, 2.6559999999999997, 2.674, 2.692, 2.71, 2.7279999999999998, 2.746, 2.7640000000000002, 2.782, 2.8, 2.818, 2.8360000000000003, 2.854, 2.872, 2.8899999999999997, 2.908, 2.926, 2.944, 2.9619999999999997, 2.98, 2.998, 3.016, 3.034, 3.052, 3.07, 3.088, 3.106, 3.124, 3.142, 3.16, 3.178, 3.196, 3.214, 3.232, 3.25, 3.268, 3.286, 3.304, 3.322, 3.34, 3.358, 3.376, 3.394, 3.412, 3.43, 3.448, 3.466, 3.484, 3.502, 3.52, 3.538, 3.556, 3.574, 3.592, 3.61, 3.628, 3.646, 3.664, 3.682, 3.7, 3.718, 3.736, 3.754, 3.772, 3.79, 3.808, 3.826, 3.844, 3.862, 3.88, 3.898, 3.916, 3.934, 3.952, 3.97, 3.988, 4.006, 4.024, 4.042, 4.0600000000000005, 4.077999999999999, 4.096, 4.114, 4.132, 4.15, 4.168, 4.186, 4.204000000000001, 4.2219999999999995, 4.24, 4.258, 4.276, 4.2940000000000005, 4.311999999999999, 4.33, 4.348, 4.366, 4.384, 4.402, 4.42, 4.438000000000001, 4.4559999999999995, 4.474, 4.492, 4.51, 4.5280000000000005, 4.545999999999999, 4.564, 4.582, 4.6, 4.618, 4.636, 4.654, 4.672000000000001, 4.6899999999999995, 4.708, 4.726, 4.744, 4.7620000000000005, 4.779999999999999, 4.798, 4.816, 4.834, 4.852, 4.87, 4.888, 4.906000000000001, 4.9239999999999995, 4.942, 4.96, 4.978, 4.996, 5.014, 5.032, 5.05, 5.068, 5.086, 5.104, 5.122, 5.14, 5.158, 5.176, 5.194, 5.212, 5.23, 5.248, 5.266, 5.284, 5.302, 5.32, 5.338, 5.356, 5.374, 5.392, 5.41, 5.428, 5.446, 5.464, 5.482, 5.5, 5.518, 5.536, 5.554, 5.572, 5.59, 5.608, 5.626, 5.644, 5.662, 5.68, 5.698, 5.716, 5.734, 5.752, 5.77, 5.788, 5.806, 5.824, 5.842, 5.86, 5.878, 5.896, 5.914, 5.932, 5.95, 5.968, 5.986, 6.004, 6.022, 6.04, 6.058, 6.076, 6.094, 6.112, 6.13, 6.148, 6.166, 6.184, 6.202, 6.22, 6.238, 6.256, 6.274, 6.292, 6.31, 6.328, 6.346, 6.364, 6.382, 6.4, 6.418, 6.436, 6.454, 6.472, 6.49, 6.508, 6.526, 6.544, 6.562, 6.58, 6.598, 6.616, 6.634, 6.652, 6.67, 6.688, 6.706, 6.724, 6.742, 6.76, 6.778, 6.796, 6.814, 6.832, 6.85, 6.868, 6.886, 6.904, 6.922, 6.94, 6.958, 6.976, 6.994, 7.012, 7.03, 7.048, 7.066, 7.084, 7.102, 7.12, 7.138, 7.156, 7.174, 7.192, 7.21, 7.228, 7.246, 7.264, 7.282, 7.3, 7.318, 7.336, 7.354, 7.372, 7.39, 7.408, 7.426, 7.444, 7.462, 7.48, 7.498, 7.516, 7.534, 7.552, 7.57, 7.588, 7.606, 7.624, 7.642, 7.66, 7.678, 7.696, 7.714, 7.732, 7.75, 7.768, 7.786, 7.804, 7.822, 7.84, 7.858, 7.876, 7.894, 7.912, 7.93, 7.948, 7.966, 7.984, 8.001999999999999, 8.02, 8.038, 8.056000000000001, 8.074, 8.091999999999999, 8.11, 8.128, 8.146, 8.164, 8.182, 8.2, 8.218, 8.236, 8.254, 8.272, 8.29, 8.308, 8.326, 8.344000000000001, 8.362, 8.379999999999999, 8.398, 8.416, 8.434000000000001, 8.452, 8.469999999999999, 8.488, 8.506, 8.524000000000001, 8.542, 8.559999999999999, 8.578, 8.596, 8.614, 8.632, 8.65, 8.668, 8.686, 8.704, 8.722000000000001, 8.74, 8.758, 8.776, 8.794, 8.812000000000001, 8.83, 8.847999999999999, 8.866, 8.884, 8.902000000000001, 8.92, 8.937999999999999, 8.956, 8.974, 8.992, 9.01, 9.028, 9.046, 9.064, 9.082, 9.1, 9.118, 9.136, 9.154, 9.172, 9.19, 9.208, 9.226, 9.244, 9.262, 9.28, 9.298, 9.316, 9.334, 9.352, 9.37, 9.388, 9.406, 9.424, 9.442, 9.46, 9.478, 9.496, 9.514, 9.532, 9.55, 9.568, 9.586, 9.604, 9.622, 9.64, 9.658, 9.676, 9.694, 9.712, 9.73, 9.748, 9.766, 9.784, 9.802, 9.82, 9.838, 9.856, 9.874, 9.892, 9.91, 9.928, 9.946, 9.964, 9.982], \"xaxis\": \"x\", \"y\": [0.04582437555415929, 0.04614889866435978, 0.046474863673884384, 0.046802282506023744, 0.04713116703822551, 0.04746152908836679, 0.04779338040082161, 0.048126732632331345, 0.04846159733768568, 0.04879798595522236, 0.04913590979215416, 0.04947538000973134, 0.04981640760824875, 0.05015900341190603, 0.05050317805353052, 0.05084894195917191, 0.0511963053325781, 0.05154527813956242, 0.051895870092271375, 0.05224809063336357, 0.05260194892010955, 0.05295745380842319, 0.05331461383683498, 0.053673437210417695, 0.054033931784675526, 0.05439610504940715, 0.05475996411255401, 0.055125515684044744, 0.055492766059647015, 0.05586172110483794, 0.05623238623870449, 0.056604766417885484, 0.056978866120566365, 0.05735468933053847, 0.0577322395213346, 0.05811151964045197, 0.058492532093675005, 0.05887527872950902, 0.059259760823736844, 0.059645979064109934, 0.060033933535185977, 0.060423623703324394, 0.060815048401851646, 0.06120820581640778, 0.06160309347048622, 0.061999708211177985, 0.06239804619513216, 0.06279810287474384, 0.06319987298458109, 0.06360335052806237, 0.06400852876439521, 0.06441540019578763, 0.06482395655494329, 0.06523418879285096, 0.06564608706687955, 0.06605964072918885, 0.06647483831546672, 0.0668916675340033, 0.06731011525511177, 0.06773016750090644, 0.06815180943544734, 0.06857502535526158, 0.06899979868025038, 0.06942611194499138, 0.06985394679044528, 0.07028328395607546, 0.07071410327238956, 0.07114638365391084, 0.07158010309258823, 0.07201523865165232, 0.07245176645992546, 0.07288966170659299, 0.07332889863644318, 0.07376945054558236, 0.07421128977763222, 0.07465438772041535, 0.0750987148031353, 0.07554424049405667, 0.07599093329869112, 0.076438760758494, 0.07688768945007682, 0.07733768498494008, 0.07778871200973043, 0.07824073420702674, 0.07869371429665777, 0.0791476140375557, 0.079602394230148, 0.08005801471929011, 0.08051443439774174, 0.08097161121018841, 0.08142950215780992, 0.08188806330339737, 0.0823472497770192, 0.08280701578223715, 0.0832673146028725, 0.0837280986103224, 0.08418931927142582, 0.08465092715687857, 0.08511287195019605, 0.08557510245722257, 0.0860375666161851, 0.08650021150828983, 0.08696298336885831, 0.0874258275990012, 0.08788868877782578, 0.08835151067517423, 0.08881423626488837, 0.089276807738597, 0.08973916652002141, 0.09020125327979381, 0.09066300795078386, 0.09112436974392771, 0.09158527716455354, 0.09204566802919797, 0.09250547948290606, 0.09296464801700889, 0.09342310948737119, 0.09388079913310193, 0.09433765159571972, 0.09479360093876564, 0.09524858066785466, 0.0957025237511574, 0.09615536264030336, 0.0966070292916963, 0.0970574551882326, 0.09750657136141275, 0.0979543084138362, 0.09840059654206933, 0.09884536555987587, 0.09928854492179974, 0.09973006374708854, 0.10016985084394732, 0.10060783473411085, 0.10104394367772279, 0.10147810569851037, 0.10191024860924212, 0.10234030003745673, 0.10276818745145067, 0.10319383818651189, 0.10361717947138709, 0.10403813845496934, 0.10445664223319351, 0.1048726178761256, 0.1052859924552334, 0.10569669307082459, 0.10610464687963846, 0.10650978112257824, 0.10691202315256933, 0.10731130046253036, 0.10770754071344234, 0.10810067176250203, 0.10849062169134571, 0.10887731883432855, 0.10926069180684528, 0.1096406695336782, 0.1100171812773578, 0.11039015666652137, 0.11075952572425572, 0.11112521889640835, 0.11148716707985404, 0.11184530165070097, 0.11219955449242264, 0.11254985802390051, 0.11289614522736366, 0.11323834967620987, 0.1135764055626947, 0.11391024772547345, 0.11423981167698205, 0.11456503363064245, 0.11488585052787824, 0.11520220006492635, 0.1155140207194306, 0.1158212517768039, 0.11612383335634362, 0.11642170643708824, 0.1167148128833999, 0.11700309547026073, 0.11728649790826827, 0.11756496486831758, 0.11783844200595635, 0.11810687598540054, 0.11837021450319689, 0.11862840631152034, 0.11888140124109349, 0.11912915022371573, 0.1193716053143899, 0.11960871971303463, 0.11984044778577035, 0.1200667450857673, 0.1202875683736446, 0.12050287563740875, 0.12071262611192052, 0.12091678029788006, 0.12111529998031917, 0.12130814824659053, 0.12149528950384418, 0.12167668949598083, 0.12185231532007341, 0.1220221354422464, 0.12218611971300472, 0.12234423938200334, 0.12249646711224867, 0.1226427769937238, 0.12278314455642982, 0.1229175467828351, 0.1230459621197253, 0.12316837048944748, 0.12328475330054063, 0.12339509345774681, 0.12349937537139655, 0.12359758496616223, 0.1236897096891745, 0.12377573851749574, 0.12385566196494613, 0.12392947208827744, 0.12399716249269019, 0.1240587283366901, 0.1241141663362806, 0.124163474768487, 0.1242066534742107, 0.12424370386040934, 0.12427462890160146, 0.12429943314069325, 0.12431812268912537, 0.12433070522633947, 0.12433718999856207, 0.12433758781690592, 0.12433191105478833, 0.12432017364466655, 0.1243023910740898, 0.12427858038106981, 0.12424876014876966, 0.12421295049951322, 0.12417117308811614, 0.12412345109454094, 0.12406980921587808, 0.12401027365765621, 0.1239448721244843, 0.12387363381002907, 0.12379658938633135, 0.12371377099246592, 0.1236252122225484, 0.1235309481130947, 0.12343101512973739, 0.12332545115330518, 0.12321429546527007, 0.12309758873256951, 0.122975372991809, 0.12284769163285215, 0.1227145893818051, 0.12257611228340284, 0.12243230768280472, 0.12228322420680744, 0.12212891174448348, 0.12196942142725359, 0.1218048056084026, 0.12163511784204664, 0.12146041286156285, 0.12128074655748959, 0.12109617595490839, 0.12090675919031743, 0.12071255548800708, 0.12051362513594872, 0.12031002946120758, 0.12010183080489104, 0.11988909249664423, 0.11967187882870453, 0.11945025502952766, 0.11922428723699671, 0.11899404247122783, 0.11875958860698481, 0.11852099434571557, 0.11827832918722438, 0.11803166340099244, 0.1177810679971614, 0.11752661469719324, 0.1172683759042206, 0.11700642467310181, 0.1167408346801957, 0.11647168019286946, 0.11619903603875616, 0.11592297757477478, 0.11564358065593006, 0.11536092160390543, 0.11507507717546576, 0.1147861245306847, 0.11449414120101234, 0.11419920505719937, 0.11390139427709298, 0.11360078731332056, 0.11329746286087752, 0.11299149982463495, 0.11268297728678343, 0.11237197447422939, 0.11205857072595968, 0.11174284546039147, 0.11142487814272324, 0.1111047482523036, 0.11078253525003351, 0.11045831854581989, 0.1101321774660953, 0.10980419122142095, 0.10947443887418962, 0.10914299930644399, 0.10880995118782744, 0.10847537294368324, 0.10813934272331832, 0.10780193836844774, 0.10746323738183618, 0.1071233168961518, 0.10678225364304926, 0.10644012392249663, 0.10609700357236267, 0.10575296793827983, 0.10540809184379775, 0.10506244956084376, 0.10471611478050412, 0.104369160584142, 0.10402165941486656, 0.1036736830493677, 0.1033253025701311, 0.10297658833804774, 0.10262760996543174, 0.10227843628946078, 0.10192913534605211, 0.10157977434418819, 0.10123041964070452, 0.10088113671555304, 0.10053199014755312, 0.1001830435906434, 0.09983435975064578, 0.09948600036255394, 0.09913802616835737, 0.09879049689541308, 0.09844347123537485, 0.09809700682369159, 0.09775116021968476, 0.09740598688721458, 0.0970615411759455, 0.09671787630321947, 0.09637504433654666, 0.09603309617672186, 0.09569208154157496, 0.09535204895036405, 0.09501304570881774, 0.0946751178948347, 0.09433831034484708, 0.09400266664085416, 0.09366822909813247, 0.09333503875362804, 0.09300313535503615, 0.09267255735057342, 0.09234334187944669, 0.09201552476302334, 0.09168914049670579, 0.09136422224251466, 0.0910408018223824, 0.09071890971216078, 0.09039857503634365, 0.09007982556350701, 0.08976268770246747, 0.08944718649916009, 0.08913334563423565, 0.08882118742137773, 0.08851073280633902, 0.08820200136669562, 0.08789501131231894, 0.08758977948656234, 0.08728632136816153, 0.08698465107384513, 0.0866847813616535, 0.08638672363496126, 0.08609048794720084, 0.08579608300728228, 0.08550351618570469, 0.08521279352135412, 0.08492391972898357, 0.08463689820736735, 0.08435173104812581, 0.08406841904521177, 0.08378696170505323, 0.08350735725734411, 0.08322960266647547, 0.08295369364359939, 0.08267962465931626, 0.08240738895697758, 0.08213697856659422, 0.08186838431934125, 0.08160159586264865, 0.08133660167586855, 0.08107338908650763, 0.08081194428701431, 0.08055225235210928, 0.08029429725664765, 0.08003806189400138, 0.07978352809494932, 0.07953067664706316, 0.07927948731457553, 0.07902993885871844, 0.078782009058518, 0.07853567473203256, 0.07829091175801992, 0.07804769509802044, 0.07780599881884133, 0.07756579611542755, 0.07732705933410576, 0.0770897599961854, 0.07685386882190248, 0.0766193557546912, 0.07638618998576747, 0.07615433997900936, 0.07592377349611891, 0.07569445762204939, 0.07546635879068209, 0.0752394428107371, 0.07501367489190157, 0.07478901967115967, 0.074565441239308, 0.07434290316763988, 0.07412136853478264, 0.07390079995367108, 0.07368115959864117, 0.0734624092326272, 0.07324451023444614, 0.07302742362615265, 0.07281111010044837, 0.07259553004812931, 0.07238064358555439, 0.07216641058211971, 0.07195279068772116, 0.07173974336019044, 0.0715272278926871, 0.0713152034410315, 0.07110362905096251, 0.07089246368530389, 0.07068166625102362, 0.0704711956261713, 0.07026101068667709, 0.07005107033299797, 0.06984133351659534, 0.06963175926622955, 0.0694223067140564, 0.06921293512151078, 0.06900360390496374, 0.06879427266113784, 0.06858490119226784, 0.06837544953099184, 0.06816587796496064, 0.06795614706115097, 0.06774621768987009, 0.06753605104843893, 0.06732560868454117, 0.06711485251922623, 0.06690374486955387, 0.06669224847086919, 0.06648032649869613, 0.06626794259023894, 0.0660550608654808, 0.06584164594786829, 0.06562766298457283, 0.0654130776663187, 0.0651978562467677, 0.06498196556145222, 0.06476537304624734, 0.06454804675537335, 0.06432995537892129, 0.06411106825989292, 0.06389135541074831, 0.06367078752945367, 0.06344933601502285, 0.0632269729825462, 0.06300367127770073, 0.0627794044907362, 0.06255414696993161, 0.06232787383451732, 0.062100560987058816, 0.06187218512529701, 0.06164272375344241, 0.061412155192919315, 0.06118045859255658, 0.06094761393822366, 0.060713602061908206, 0.06047840465023449, 0.060242004252420614, 0.06000438428767357, 0.05976552905202131, 0.05952542372458185, 0.05928405437326868, 0.059041407959933734, 0.05879747234494797, 0.05855223629122073, 0.05830568946766002, 0.058057822452074435, 0.057808626733519775, 0.05755809471409243, 0.057306219710172246, 0.05705299595311869, 0.0567984185894231, 0.05654248368032097, 0.05628518820086928], \"yaxis\": \"y\"}],\n",
              "                        {\"barmode\": \"overlay\", \"hovermode\": \"closest\", \"legend\": {\"traceorder\": \"reversed\"}, \"template\": {\"data\": {\"bar\": [{\"error_x\": {\"color\": \"#2a3f5f\"}, \"error_y\": {\"color\": \"#2a3f5f\"}, \"marker\": {\"line\": {\"color\": \"#E5ECF6\", \"width\": 0.5}}, \"type\": \"bar\"}], \"barpolar\": [{\"marker\": {\"line\": {\"color\": \"#E5ECF6\", \"width\": 0.5}}, \"type\": \"barpolar\"}], \"carpet\": [{\"aaxis\": {\"endlinecolor\": \"#2a3f5f\", \"gridcolor\": \"white\", \"linecolor\": \"white\", \"minorgridcolor\": \"white\", \"startlinecolor\": \"#2a3f5f\"}, \"baxis\": {\"endlinecolor\": \"#2a3f5f\", \"gridcolor\": \"white\", \"linecolor\": \"white\", \"minorgridcolor\": \"white\", \"startlinecolor\": \"#2a3f5f\"}, \"type\": \"carpet\"}], \"choropleth\": [{\"colorbar\": {\"outlinewidth\": 0, \"ticks\": \"\"}, \"type\": \"choropleth\"}], \"contour\": [{\"colorbar\": {\"outlinewidth\": 0, \"ticks\": \"\"}, \"colorscale\": [[0.0, \"#0d0887\"], [0.1111111111111111, \"#46039f\"], [0.2222222222222222, \"#7201a8\"], [0.3333333333333333, \"#9c179e\"], [0.4444444444444444, \"#bd3786\"], [0.5555555555555556, \"#d8576b\"], [0.6666666666666666, \"#ed7953\"], [0.7777777777777778, \"#fb9f3a\"], [0.8888888888888888, \"#fdca26\"], [1.0, \"#f0f921\"]], \"type\": \"contour\"}], \"contourcarpet\": [{\"colorbar\": {\"outlinewidth\": 0, \"ticks\": \"\"}, \"type\": \"contourcarpet\"}], \"heatmap\": [{\"colorbar\": {\"outlinewidth\": 0, \"ticks\": \"\"}, \"colorscale\": [[0.0, \"#0d0887\"], [0.1111111111111111, \"#46039f\"], [0.2222222222222222, \"#7201a8\"], [0.3333333333333333, \"#9c179e\"], [0.4444444444444444, \"#bd3786\"], [0.5555555555555556, \"#d8576b\"], [0.6666666666666666, \"#ed7953\"], [0.7777777777777778, \"#fb9f3a\"], [0.8888888888888888, \"#fdca26\"], [1.0, \"#f0f921\"]], \"type\": \"heatmap\"}], \"heatmapgl\": [{\"colorbar\": {\"outlinewidth\": 0, \"ticks\": \"\"}, \"colorscale\": [[0.0, \"#0d0887\"], [0.1111111111111111, \"#46039f\"], [0.2222222222222222, \"#7201a8\"], [0.3333333333333333, \"#9c179e\"], [0.4444444444444444, \"#bd3786\"], [0.5555555555555556, \"#d8576b\"], [0.6666666666666666, \"#ed7953\"], [0.7777777777777778, \"#fb9f3a\"], [0.8888888888888888, \"#fdca26\"], [1.0, \"#f0f921\"]], \"type\": \"heatmapgl\"}], \"histogram\": [{\"marker\": {\"colorbar\": {\"outlinewidth\": 0, \"ticks\": \"\"}}, \"type\": \"histogram\"}], \"histogram2d\": [{\"colorbar\": {\"outlinewidth\": 0, \"ticks\": \"\"}, \"colorscale\": [[0.0, \"#0d0887\"], [0.1111111111111111, \"#46039f\"], [0.2222222222222222, \"#7201a8\"], [0.3333333333333333, \"#9c179e\"], [0.4444444444444444, \"#bd3786\"], [0.5555555555555556, \"#d8576b\"], [0.6666666666666666, \"#ed7953\"], [0.7777777777777778, \"#fb9f3a\"], [0.8888888888888888, \"#fdca26\"], [1.0, \"#f0f921\"]], \"type\": \"histogram2d\"}], \"histogram2dcontour\": [{\"colorbar\": {\"outlinewidth\": 0, \"ticks\": \"\"}, \"colorscale\": [[0.0, \"#0d0887\"], [0.1111111111111111, \"#46039f\"], [0.2222222222222222, \"#7201a8\"], [0.3333333333333333, \"#9c179e\"], [0.4444444444444444, \"#bd3786\"], [0.5555555555555556, \"#d8576b\"], [0.6666666666666666, \"#ed7953\"], [0.7777777777777778, \"#fb9f3a\"], [0.8888888888888888, \"#fdca26\"], [1.0, \"#f0f921\"]], \"type\": \"histogram2dcontour\"}], \"mesh3d\": [{\"colorbar\": {\"outlinewidth\": 0, \"ticks\": \"\"}, \"type\": \"mesh3d\"}], \"parcoords\": [{\"line\": {\"colorbar\": {\"outlinewidth\": 0, \"ticks\": \"\"}}, \"type\": \"parcoords\"}], \"pie\": [{\"automargin\": true, \"type\": \"pie\"}], \"scatter\": [{\"marker\": {\"colorbar\": {\"outlinewidth\": 0, \"ticks\": \"\"}}, \"type\": \"scatter\"}], \"scatter3d\": [{\"line\": {\"colorbar\": {\"outlinewidth\": 0, \"ticks\": \"\"}}, \"marker\": {\"colorbar\": {\"outlinewidth\": 0, \"ticks\": \"\"}}, \"type\": \"scatter3d\"}], \"scattercarpet\": [{\"marker\": {\"colorbar\": {\"outlinewidth\": 0, \"ticks\": \"\"}}, \"type\": \"scattercarpet\"}], \"scattergeo\": [{\"marker\": {\"colorbar\": {\"outlinewidth\": 0, \"ticks\": \"\"}}, \"type\": \"scattergeo\"}], \"scattergl\": [{\"marker\": {\"colorbar\": {\"outlinewidth\": 0, \"ticks\": \"\"}}, \"type\": \"scattergl\"}], \"scattermapbox\": [{\"marker\": {\"colorbar\": {\"outlinewidth\": 0, \"ticks\": \"\"}}, \"type\": \"scattermapbox\"}], \"scatterpolar\": [{\"marker\": {\"colorbar\": {\"outlinewidth\": 0, \"ticks\": \"\"}}, \"type\": \"scatterpolar\"}], \"scatterpolargl\": [{\"marker\": {\"colorbar\": {\"outlinewidth\": 0, \"ticks\": \"\"}}, \"type\": \"scatterpolargl\"}], \"scatterternary\": [{\"marker\": {\"colorbar\": {\"outlinewidth\": 0, \"ticks\": \"\"}}, \"type\": \"scatterternary\"}], \"surface\": [{\"colorbar\": {\"outlinewidth\": 0, \"ticks\": \"\"}, \"colorscale\": [[0.0, \"#0d0887\"], [0.1111111111111111, \"#46039f\"], [0.2222222222222222, \"#7201a8\"], [0.3333333333333333, \"#9c179e\"], [0.4444444444444444, \"#bd3786\"], [0.5555555555555556, \"#d8576b\"], [0.6666666666666666, \"#ed7953\"], [0.7777777777777778, \"#fb9f3a\"], [0.8888888888888888, \"#fdca26\"], [1.0, \"#f0f921\"]], \"type\": \"surface\"}], \"table\": [{\"cells\": {\"fill\": {\"color\": \"#EBF0F8\"}, \"line\": {\"color\": \"white\"}}, \"header\": {\"fill\": {\"color\": \"#C8D4E3\"}, \"line\": {\"color\": \"white\"}}, \"type\": \"table\"}]}, \"layout\": {\"annotationdefaults\": {\"arrowcolor\": \"#2a3f5f\", \"arrowhead\": 0, \"arrowwidth\": 1}, \"coloraxis\": {\"colorbar\": {\"outlinewidth\": 0, \"ticks\": \"\"}}, \"colorscale\": {\"diverging\": [[0, \"#8e0152\"], [0.1, \"#c51b7d\"], [0.2, \"#de77ae\"], [0.3, \"#f1b6da\"], [0.4, \"#fde0ef\"], [0.5, \"#f7f7f7\"], [0.6, \"#e6f5d0\"], [0.7, \"#b8e186\"], [0.8, \"#7fbc41\"], [0.9, \"#4d9221\"], [1, \"#276419\"]], \"sequential\": [[0.0, \"#0d0887\"], [0.1111111111111111, \"#46039f\"], [0.2222222222222222, \"#7201a8\"], [0.3333333333333333, \"#9c179e\"], [0.4444444444444444, \"#bd3786\"], [0.5555555555555556, \"#d8576b\"], [0.6666666666666666, \"#ed7953\"], [0.7777777777777778, \"#fb9f3a\"], [0.8888888888888888, \"#fdca26\"], [1.0, \"#f0f921\"]], \"sequentialminus\": [[0.0, \"#0d0887\"], [0.1111111111111111, \"#46039f\"], [0.2222222222222222, \"#7201a8\"], [0.3333333333333333, \"#9c179e\"], [0.4444444444444444, \"#bd3786\"], [0.5555555555555556, \"#d8576b\"], [0.6666666666666666, \"#ed7953\"], [0.7777777777777778, \"#fb9f3a\"], [0.8888888888888888, \"#fdca26\"], [1.0, \"#f0f921\"]]}, \"colorway\": [\"#636efa\", \"#EF553B\", \"#00cc96\", \"#ab63fa\", \"#FFA15A\", \"#19d3f3\", \"#FF6692\", \"#B6E880\", \"#FF97FF\", \"#FECB52\"], \"font\": {\"color\": \"#2a3f5f\"}, \"geo\": {\"bgcolor\": \"white\", \"lakecolor\": \"white\", \"landcolor\": \"#E5ECF6\", \"showlakes\": true, \"showland\": true, \"subunitcolor\": \"white\"}, \"hoverlabel\": {\"align\": \"left\"}, \"hovermode\": \"closest\", \"mapbox\": {\"style\": \"light\"}, \"paper_bgcolor\": \"white\", \"plot_bgcolor\": \"#E5ECF6\", \"polar\": {\"angularaxis\": {\"gridcolor\": \"white\", \"linecolor\": \"white\", \"ticks\": \"\"}, \"bgcolor\": \"#E5ECF6\", \"radialaxis\": {\"gridcolor\": \"white\", \"linecolor\": \"white\", \"ticks\": \"\"}}, \"scene\": {\"xaxis\": {\"backgroundcolor\": \"#E5ECF6\", \"gridcolor\": \"white\", \"gridwidth\": 2, \"linecolor\": \"white\", \"showbackground\": true, \"ticks\": \"\", \"zerolinecolor\": \"white\"}, \"yaxis\": {\"backgroundcolor\": \"#E5ECF6\", \"gridcolor\": \"white\", \"gridwidth\": 2, \"linecolor\": \"white\", \"showbackground\": true, \"ticks\": \"\", \"zerolinecolor\": \"white\"}, \"zaxis\": {\"backgroundcolor\": \"#E5ECF6\", \"gridcolor\": \"white\", \"gridwidth\": 2, \"linecolor\": \"white\", \"showbackground\": true, \"ticks\": \"\", \"zerolinecolor\": \"white\"}}, \"shapedefaults\": {\"line\": {\"color\": \"#2a3f5f\"}}, \"ternary\": {\"aaxis\": {\"gridcolor\": \"white\", \"linecolor\": \"white\", \"ticks\": \"\"}, \"baxis\": {\"gridcolor\": \"white\", \"linecolor\": \"white\", \"ticks\": \"\"}, \"bgcolor\": \"#E5ECF6\", \"caxis\": {\"gridcolor\": \"white\", \"linecolor\": \"white\", \"ticks\": \"\"}}, \"title\": {\"x\": 0.05}, \"xaxis\": {\"automargin\": true, \"gridcolor\": \"white\", \"linecolor\": \"white\", \"ticks\": \"\", \"title\": {\"standoff\": 15}, \"zerolinecolor\": \"white\", \"zerolinewidth\": 2}, \"yaxis\": {\"automargin\": true, \"gridcolor\": \"white\", \"linecolor\": \"white\", \"ticks\": \"\", \"title\": {\"standoff\": 15}, \"zerolinecolor\": \"white\", \"zerolinewidth\": 2}}}, \"xaxis\": {\"anchor\": \"y2\", \"domain\": [0.0, 1.0], \"zeroline\": false}, \"yaxis\": {\"anchor\": \"free\", \"domain\": [0.0, 1], \"position\": 0.0}},\n",
              "                        {\"responsive\": true}\n",
              "                    ).then(function(){\n",
              "                            \n",
              "var gd = document.getElementById('8ee9aeec-d5a7-41cb-b6c7-af21a0f31439');\n",
              "var x = new MutationObserver(function (mutations, observer) {{\n",
              "        var display = window.getComputedStyle(gd).display;\n",
              "        if (!display || display === 'none') {{\n",
              "            console.log([gd, 'removed!']);\n",
              "            Plotly.purge(gd);\n",
              "            observer.disconnect();\n",
              "        }}\n",
              "}});\n",
              "\n",
              "// Listen for the removal of the full notebook cells\n",
              "var notebookContainer = gd.closest('#notebook-container');\n",
              "if (notebookContainer) {{\n",
              "    x.observe(notebookContainer, {childList: true});\n",
              "}}\n",
              "\n",
              "// Listen for the clearing of the current output cell\n",
              "var outputEl = gd.closest('.output');\n",
              "if (outputEl) {{\n",
              "    x.observe(outputEl, {childList: true});\n",
              "}}\n",
              "\n",
              "                        })\n",
              "                };\n",
              "                \n",
              "            </script>\n",
              "        </div>\n",
              "</body>\n",
              "</html>"
            ]
          },
          "metadata": {
            "tags": []
          }
        }
      ]
    },
    {
      "cell_type": "markdown",
      "metadata": {
        "id": "muXxFM0iV53F"
      },
      "source": [
        "### Tabela cruzada \"Intenção de Voto\" x \"Faixa Etária\""
      ]
    },
    {
      "cell_type": "code",
      "metadata": {
        "id": "M2c0Fz_YVVAZ",
        "outputId": "504bfe9e-8c2a-495d-d918-cb3ec12155be",
        "colab": {
          "base_uri": "https://localhost:8080/",
          "height": 359
        }
      },
      "source": [
        "tab04=pd.crosstab(df[\"Intencao\"],df[\"Faixa\"],margins=True)\n",
        "tab04"
      ],
      "execution_count": 25,
      "outputs": [
        {
          "output_type": "execute_result",
          "data": {
            "text/html": [
              "<div>\n",
              "<style scoped>\n",
              "    .dataframe tbody tr th:only-of-type {\n",
              "        vertical-align: middle;\n",
              "    }\n",
              "\n",
              "    .dataframe tbody tr th {\n",
              "        vertical-align: top;\n",
              "    }\n",
              "\n",
              "    .dataframe thead th {\n",
              "        text-align: right;\n",
              "    }\n",
              "</style>\n",
              "<table border=\"1\" class=\"dataframe\">\n",
              "  <thead>\n",
              "    <tr style=\"text-align: right;\">\n",
              "      <th>Faixa</th>\n",
              "      <th>16 e 17</th>\n",
              "      <th>18 a 21</th>\n",
              "      <th>22 a 24</th>\n",
              "      <th>25 a 29</th>\n",
              "      <th>30 a 39</th>\n",
              "      <th>40 a 49</th>\n",
              "      <th>50 a 59</th>\n",
              "      <th>60 e +</th>\n",
              "      <th>All</th>\n",
              "    </tr>\n",
              "    <tr>\n",
              "      <th>Intencao</th>\n",
              "      <th></th>\n",
              "      <th></th>\n",
              "      <th></th>\n",
              "      <th></th>\n",
              "      <th></th>\n",
              "      <th></th>\n",
              "      <th></th>\n",
              "      <th></th>\n",
              "      <th></th>\n",
              "    </tr>\n",
              "  </thead>\n",
              "  <tbody>\n",
              "    <tr>\n",
              "      <th>Adail</th>\n",
              "      <td>8</td>\n",
              "      <td>27</td>\n",
              "      <td>14</td>\n",
              "      <td>28</td>\n",
              "      <td>46</td>\n",
              "      <td>27</td>\n",
              "      <td>15</td>\n",
              "      <td>9</td>\n",
              "      <td>174</td>\n",
              "    </tr>\n",
              "    <tr>\n",
              "      <th>C.T.</th>\n",
              "      <td>0</td>\n",
              "      <td>0</td>\n",
              "      <td>1</td>\n",
              "      <td>0</td>\n",
              "      <td>0</td>\n",
              "      <td>0</td>\n",
              "      <td>0</td>\n",
              "      <td>0</td>\n",
              "      <td>1</td>\n",
              "    </tr>\n",
              "    <tr>\n",
              "      <th>Iran</th>\n",
              "      <td>2</td>\n",
              "      <td>2</td>\n",
              "      <td>0</td>\n",
              "      <td>1</td>\n",
              "      <td>1</td>\n",
              "      <td>0</td>\n",
              "      <td>1</td>\n",
              "      <td>0</td>\n",
              "      <td>7</td>\n",
              "    </tr>\n",
              "    <tr>\n",
              "      <th>Magalhaes</th>\n",
              "      <td>10</td>\n",
              "      <td>33</td>\n",
              "      <td>19</td>\n",
              "      <td>19</td>\n",
              "      <td>18</td>\n",
              "      <td>16</td>\n",
              "      <td>13</td>\n",
              "      <td>9</td>\n",
              "      <td>137</td>\n",
              "    </tr>\n",
              "    <tr>\n",
              "      <th>Mitouso</th>\n",
              "      <td>1</td>\n",
              "      <td>6</td>\n",
              "      <td>4</td>\n",
              "      <td>5</td>\n",
              "      <td>10</td>\n",
              "      <td>6</td>\n",
              "      <td>4</td>\n",
              "      <td>9</td>\n",
              "      <td>45</td>\n",
              "    </tr>\n",
              "    <tr>\n",
              "      <th>Nulo</th>\n",
              "      <td>0</td>\n",
              "      <td>12</td>\n",
              "      <td>3</td>\n",
              "      <td>7</td>\n",
              "      <td>11</td>\n",
              "      <td>7</td>\n",
              "      <td>3</td>\n",
              "      <td>7</td>\n",
              "      <td>50</td>\n",
              "    </tr>\n",
              "    <tr>\n",
              "      <th>Outros</th>\n",
              "      <td>0</td>\n",
              "      <td>1</td>\n",
              "      <td>1</td>\n",
              "      <td>0</td>\n",
              "      <td>0</td>\n",
              "      <td>0</td>\n",
              "      <td>0</td>\n",
              "      <td>0</td>\n",
              "      <td>2</td>\n",
              "    </tr>\n",
              "    <tr>\n",
              "      <th>indeciso</th>\n",
              "      <td>0</td>\n",
              "      <td>1</td>\n",
              "      <td>0</td>\n",
              "      <td>2</td>\n",
              "      <td>3</td>\n",
              "      <td>1</td>\n",
              "      <td>2</td>\n",
              "      <td>0</td>\n",
              "      <td>9</td>\n",
              "    </tr>\n",
              "    <tr>\n",
              "      <th>All</th>\n",
              "      <td>21</td>\n",
              "      <td>82</td>\n",
              "      <td>42</td>\n",
              "      <td>62</td>\n",
              "      <td>89</td>\n",
              "      <td>57</td>\n",
              "      <td>38</td>\n",
              "      <td>34</td>\n",
              "      <td>425</td>\n",
              "    </tr>\n",
              "  </tbody>\n",
              "</table>\n",
              "</div>"
            ],
            "text/plain": [
              "Faixa      16 e 17  18 a 21  22 a 24  25 a 29  ...  40 a 49  50 a 59  60 e +  All\n",
              "Intencao                                       ...                               \n",
              "Adail            8       27       14       28  ...       27       15       9  174\n",
              "C.T.             0        0        1        0  ...        0        0       0    1\n",
              "Iran             2        2        0        1  ...        0        1       0    7\n",
              "Magalhaes       10       33       19       19  ...       16       13       9  137\n",
              "Mitouso          1        6        4        5  ...        6        4       9   45\n",
              "Nulo             0       12        3        7  ...        7        3       7   50\n",
              "Outros           0        1        1        0  ...        0        0       0    2\n",
              "indeciso         0        1        0        2  ...        1        2       0    9\n",
              "All             21       82       42       62  ...       57       38      34  425\n",
              "\n",
              "[9 rows x 9 columns]"
            ]
          },
          "metadata": {
            "tags": []
          },
          "execution_count": 25
        }
      ]
    },
    {
      "cell_type": "markdown",
      "metadata": {
        "id": "9dOpMsg3pgf_"
      },
      "source": [
        "### Gráfico de Intenção x Gênero"
      ]
    },
    {
      "cell_type": "code",
      "metadata": {
        "id": "F6qisBvgpeQS",
        "outputId": "10382ec6-f611-43da-c1a2-32a9adfd9fc5",
        "colab": {
          "base_uri": "https://localhost:8080/",
          "height": 542
        }
      },
      "source": [
        "fig = go.Figure()\n",
        "fig.add_trace(go.Bar(\n",
        "    x=df.query('`Genero` == \"Feminino\"')['Intencao'].value_counts().keys(),\n",
        "    y=df.query('`Genero` == \"Feminino\"')['Intencao'].value_counts().values,\n",
        "    name='Voto Feminino',\n",
        "    marker_color='pink'\n",
        "))\n",
        "fig.add_trace(go.Bar(\n",
        "    x=df.query('`Genero` == \"Masculino\"')['Intencao'].value_counts().keys(),\n",
        "    y=df.query('`Genero` == \"Masculino\"')['Intencao'].value_counts().values,\n",
        "    name='Voto Masculino',\n",
        "    marker_color='lightblue'\n",
        "))\n",
        "\n",
        "# Here we modify the tickangle of the xaxis, resulting in rotated labels.\n",
        "fig.update_layout(barmode='group', xaxis_tickangle=-45)\n",
        "fig.show()"
      ],
      "execution_count": 49,
      "outputs": [
        {
          "output_type": "display_data",
          "data": {
            "text/html": [
              "<html>\n",
              "<head><meta charset=\"utf-8\" /></head>\n",
              "<body>\n",
              "    <div>\n",
              "            <script src=\"https://cdnjs.cloudflare.com/ajax/libs/mathjax/2.7.5/MathJax.js?config=TeX-AMS-MML_SVG\"></script><script type=\"text/javascript\">if (window.MathJax) {MathJax.Hub.Config({SVG: {font: \"STIX-Web\"}});}</script>\n",
              "                <script type=\"text/javascript\">window.PlotlyConfig = {MathJaxConfig: 'local'};</script>\n",
              "        <script src=\"https://cdn.plot.ly/plotly-latest.min.js\"></script>    \n",
              "            <div id=\"8df80e8a-f9eb-4cfb-8f1b-33e558f6b69c\" class=\"plotly-graph-div\" style=\"height:525px; width:100%;\"></div>\n",
              "            <script type=\"text/javascript\">\n",
              "                \n",
              "                    window.PLOTLYENV=window.PLOTLYENV || {};\n",
              "                    \n",
              "                if (document.getElementById(\"8df80e8a-f9eb-4cfb-8f1b-33e558f6b69c\")) {\n",
              "                    Plotly.newPlot(\n",
              "                        '8df80e8a-f9eb-4cfb-8f1b-33e558f6b69c',\n",
              "                        [{\"marker\": {\"color\": \"pink\"}, \"name\": \"Voto Feminino\", \"type\": \"bar\", \"x\": [\"Adail\", \"Magalhaes\", \"Nulo\", \"Mitouso\", \"indeciso\", \"Iran\", \"Outros\"], \"y\": [90, 59, 34, 23, 6, 4, 1]}, {\"marker\": {\"color\": \"lightblue\"}, \"name\": \"Voto Masculino\", \"type\": \"bar\", \"x\": [\"Adail\", \"Magalhaes\", \"Mitouso\", \"Nulo\", \"indeciso\", \"Iran\", \"Outros\", \"C.T.\"], \"y\": [84, 78, 22, 16, 3, 3, 1, 1]}],\n",
              "                        {\"barmode\": \"group\", \"template\": {\"data\": {\"bar\": [{\"error_x\": {\"color\": \"#2a3f5f\"}, \"error_y\": {\"color\": \"#2a3f5f\"}, \"marker\": {\"line\": {\"color\": \"#E5ECF6\", \"width\": 0.5}}, \"type\": \"bar\"}], \"barpolar\": [{\"marker\": {\"line\": {\"color\": \"#E5ECF6\", \"width\": 0.5}}, \"type\": \"barpolar\"}], \"carpet\": [{\"aaxis\": {\"endlinecolor\": \"#2a3f5f\", \"gridcolor\": \"white\", \"linecolor\": \"white\", \"minorgridcolor\": \"white\", \"startlinecolor\": \"#2a3f5f\"}, \"baxis\": {\"endlinecolor\": \"#2a3f5f\", \"gridcolor\": \"white\", \"linecolor\": \"white\", \"minorgridcolor\": \"white\", \"startlinecolor\": \"#2a3f5f\"}, \"type\": \"carpet\"}], \"choropleth\": [{\"colorbar\": {\"outlinewidth\": 0, \"ticks\": \"\"}, \"type\": \"choropleth\"}], \"contour\": [{\"colorbar\": {\"outlinewidth\": 0, \"ticks\": \"\"}, \"colorscale\": [[0.0, \"#0d0887\"], [0.1111111111111111, \"#46039f\"], [0.2222222222222222, \"#7201a8\"], [0.3333333333333333, \"#9c179e\"], [0.4444444444444444, \"#bd3786\"], [0.5555555555555556, \"#d8576b\"], [0.6666666666666666, \"#ed7953\"], [0.7777777777777778, \"#fb9f3a\"], [0.8888888888888888, \"#fdca26\"], [1.0, \"#f0f921\"]], \"type\": \"contour\"}], \"contourcarpet\": [{\"colorbar\": {\"outlinewidth\": 0, \"ticks\": \"\"}, \"type\": \"contourcarpet\"}], \"heatmap\": [{\"colorbar\": {\"outlinewidth\": 0, \"ticks\": \"\"}, \"colorscale\": [[0.0, \"#0d0887\"], [0.1111111111111111, \"#46039f\"], [0.2222222222222222, \"#7201a8\"], [0.3333333333333333, \"#9c179e\"], [0.4444444444444444, \"#bd3786\"], [0.5555555555555556, \"#d8576b\"], [0.6666666666666666, \"#ed7953\"], [0.7777777777777778, \"#fb9f3a\"], [0.8888888888888888, \"#fdca26\"], [1.0, \"#f0f921\"]], \"type\": \"heatmap\"}], \"heatmapgl\": [{\"colorbar\": {\"outlinewidth\": 0, \"ticks\": \"\"}, \"colorscale\": [[0.0, \"#0d0887\"], [0.1111111111111111, \"#46039f\"], [0.2222222222222222, \"#7201a8\"], [0.3333333333333333, \"#9c179e\"], [0.4444444444444444, \"#bd3786\"], [0.5555555555555556, \"#d8576b\"], [0.6666666666666666, \"#ed7953\"], [0.7777777777777778, \"#fb9f3a\"], [0.8888888888888888, \"#fdca26\"], [1.0, \"#f0f921\"]], \"type\": \"heatmapgl\"}], \"histogram\": [{\"marker\": {\"colorbar\": {\"outlinewidth\": 0, \"ticks\": \"\"}}, \"type\": \"histogram\"}], \"histogram2d\": [{\"colorbar\": {\"outlinewidth\": 0, \"ticks\": \"\"}, \"colorscale\": [[0.0, \"#0d0887\"], [0.1111111111111111, \"#46039f\"], [0.2222222222222222, \"#7201a8\"], [0.3333333333333333, \"#9c179e\"], [0.4444444444444444, \"#bd3786\"], [0.5555555555555556, \"#d8576b\"], [0.6666666666666666, \"#ed7953\"], [0.7777777777777778, \"#fb9f3a\"], [0.8888888888888888, \"#fdca26\"], [1.0, \"#f0f921\"]], \"type\": \"histogram2d\"}], \"histogram2dcontour\": [{\"colorbar\": {\"outlinewidth\": 0, \"ticks\": \"\"}, \"colorscale\": [[0.0, \"#0d0887\"], [0.1111111111111111, \"#46039f\"], [0.2222222222222222, \"#7201a8\"], [0.3333333333333333, \"#9c179e\"], [0.4444444444444444, \"#bd3786\"], [0.5555555555555556, \"#d8576b\"], [0.6666666666666666, \"#ed7953\"], [0.7777777777777778, \"#fb9f3a\"], [0.8888888888888888, \"#fdca26\"], [1.0, \"#f0f921\"]], \"type\": \"histogram2dcontour\"}], \"mesh3d\": [{\"colorbar\": {\"outlinewidth\": 0, \"ticks\": \"\"}, \"type\": \"mesh3d\"}], \"parcoords\": [{\"line\": {\"colorbar\": {\"outlinewidth\": 0, \"ticks\": \"\"}}, \"type\": \"parcoords\"}], \"pie\": [{\"automargin\": true, \"type\": \"pie\"}], \"scatter\": [{\"marker\": {\"colorbar\": {\"outlinewidth\": 0, \"ticks\": \"\"}}, \"type\": \"scatter\"}], \"scatter3d\": [{\"line\": {\"colorbar\": {\"outlinewidth\": 0, \"ticks\": \"\"}}, \"marker\": {\"colorbar\": {\"outlinewidth\": 0, \"ticks\": \"\"}}, \"type\": \"scatter3d\"}], \"scattercarpet\": [{\"marker\": {\"colorbar\": {\"outlinewidth\": 0, \"ticks\": \"\"}}, \"type\": \"scattercarpet\"}], \"scattergeo\": [{\"marker\": {\"colorbar\": {\"outlinewidth\": 0, \"ticks\": \"\"}}, \"type\": \"scattergeo\"}], \"scattergl\": [{\"marker\": {\"colorbar\": {\"outlinewidth\": 0, \"ticks\": \"\"}}, \"type\": \"scattergl\"}], \"scattermapbox\": [{\"marker\": {\"colorbar\": {\"outlinewidth\": 0, \"ticks\": \"\"}}, \"type\": \"scattermapbox\"}], \"scatterpolar\": [{\"marker\": {\"colorbar\": {\"outlinewidth\": 0, \"ticks\": \"\"}}, \"type\": \"scatterpolar\"}], \"scatterpolargl\": [{\"marker\": {\"colorbar\": {\"outlinewidth\": 0, \"ticks\": \"\"}}, \"type\": \"scatterpolargl\"}], \"scatterternary\": [{\"marker\": {\"colorbar\": {\"outlinewidth\": 0, \"ticks\": \"\"}}, \"type\": \"scatterternary\"}], \"surface\": [{\"colorbar\": {\"outlinewidth\": 0, \"ticks\": \"\"}, \"colorscale\": [[0.0, \"#0d0887\"], [0.1111111111111111, \"#46039f\"], [0.2222222222222222, \"#7201a8\"], [0.3333333333333333, \"#9c179e\"], [0.4444444444444444, \"#bd3786\"], [0.5555555555555556, \"#d8576b\"], [0.6666666666666666, \"#ed7953\"], [0.7777777777777778, \"#fb9f3a\"], [0.8888888888888888, \"#fdca26\"], [1.0, \"#f0f921\"]], \"type\": \"surface\"}], \"table\": [{\"cells\": {\"fill\": {\"color\": \"#EBF0F8\"}, \"line\": {\"color\": \"white\"}}, \"header\": {\"fill\": {\"color\": \"#C8D4E3\"}, \"line\": {\"color\": \"white\"}}, \"type\": \"table\"}]}, \"layout\": {\"annotationdefaults\": {\"arrowcolor\": \"#2a3f5f\", \"arrowhead\": 0, \"arrowwidth\": 1}, \"coloraxis\": {\"colorbar\": {\"outlinewidth\": 0, \"ticks\": \"\"}}, \"colorscale\": {\"diverging\": [[0, \"#8e0152\"], [0.1, \"#c51b7d\"], [0.2, \"#de77ae\"], [0.3, \"#f1b6da\"], [0.4, \"#fde0ef\"], [0.5, \"#f7f7f7\"], [0.6, \"#e6f5d0\"], [0.7, \"#b8e186\"], [0.8, \"#7fbc41\"], [0.9, \"#4d9221\"], [1, \"#276419\"]], \"sequential\": [[0.0, \"#0d0887\"], [0.1111111111111111, \"#46039f\"], [0.2222222222222222, \"#7201a8\"], [0.3333333333333333, \"#9c179e\"], [0.4444444444444444, \"#bd3786\"], [0.5555555555555556, \"#d8576b\"], [0.6666666666666666, \"#ed7953\"], [0.7777777777777778, \"#fb9f3a\"], [0.8888888888888888, \"#fdca26\"], [1.0, \"#f0f921\"]], \"sequentialminus\": [[0.0, \"#0d0887\"], [0.1111111111111111, \"#46039f\"], [0.2222222222222222, \"#7201a8\"], [0.3333333333333333, \"#9c179e\"], [0.4444444444444444, \"#bd3786\"], [0.5555555555555556, \"#d8576b\"], [0.6666666666666666, \"#ed7953\"], [0.7777777777777778, \"#fb9f3a\"], [0.8888888888888888, \"#fdca26\"], [1.0, \"#f0f921\"]]}, \"colorway\": [\"#636efa\", \"#EF553B\", \"#00cc96\", \"#ab63fa\", \"#FFA15A\", \"#19d3f3\", \"#FF6692\", \"#B6E880\", \"#FF97FF\", \"#FECB52\"], \"font\": {\"color\": \"#2a3f5f\"}, \"geo\": {\"bgcolor\": \"white\", \"lakecolor\": \"white\", \"landcolor\": \"#E5ECF6\", \"showlakes\": true, \"showland\": true, \"subunitcolor\": \"white\"}, \"hoverlabel\": {\"align\": \"left\"}, \"hovermode\": \"closest\", \"mapbox\": {\"style\": \"light\"}, \"paper_bgcolor\": \"white\", \"plot_bgcolor\": \"#E5ECF6\", \"polar\": {\"angularaxis\": {\"gridcolor\": \"white\", \"linecolor\": \"white\", \"ticks\": \"\"}, \"bgcolor\": \"#E5ECF6\", \"radialaxis\": {\"gridcolor\": \"white\", \"linecolor\": \"white\", \"ticks\": \"\"}}, \"scene\": {\"xaxis\": {\"backgroundcolor\": \"#E5ECF6\", \"gridcolor\": \"white\", \"gridwidth\": 2, \"linecolor\": \"white\", \"showbackground\": true, \"ticks\": \"\", \"zerolinecolor\": \"white\"}, \"yaxis\": {\"backgroundcolor\": \"#E5ECF6\", \"gridcolor\": \"white\", \"gridwidth\": 2, \"linecolor\": \"white\", \"showbackground\": true, \"ticks\": \"\", \"zerolinecolor\": \"white\"}, \"zaxis\": {\"backgroundcolor\": \"#E5ECF6\", \"gridcolor\": \"white\", \"gridwidth\": 2, \"linecolor\": \"white\", \"showbackground\": true, \"ticks\": \"\", \"zerolinecolor\": \"white\"}}, \"shapedefaults\": {\"line\": {\"color\": \"#2a3f5f\"}}, \"ternary\": {\"aaxis\": {\"gridcolor\": \"white\", \"linecolor\": \"white\", \"ticks\": \"\"}, \"baxis\": {\"gridcolor\": \"white\", \"linecolor\": \"white\", \"ticks\": \"\"}, \"bgcolor\": \"#E5ECF6\", \"caxis\": {\"gridcolor\": \"white\", \"linecolor\": \"white\", \"ticks\": \"\"}}, \"title\": {\"x\": 0.05}, \"xaxis\": {\"automargin\": true, \"gridcolor\": \"white\", \"linecolor\": \"white\", \"ticks\": \"\", \"title\": {\"standoff\": 15}, \"zerolinecolor\": \"white\", \"zerolinewidth\": 2}, \"yaxis\": {\"automargin\": true, \"gridcolor\": \"white\", \"linecolor\": \"white\", \"ticks\": \"\", \"title\": {\"standoff\": 15}, \"zerolinecolor\": \"white\", \"zerolinewidth\": 2}}}, \"xaxis\": {\"tickangle\": -45}},\n",
              "                        {\"responsive\": true}\n",
              "                    ).then(function(){\n",
              "                            \n",
              "var gd = document.getElementById('8df80e8a-f9eb-4cfb-8f1b-33e558f6b69c');\n",
              "var x = new MutationObserver(function (mutations, observer) {{\n",
              "        var display = window.getComputedStyle(gd).display;\n",
              "        if (!display || display === 'none') {{\n",
              "            console.log([gd, 'removed!']);\n",
              "            Plotly.purge(gd);\n",
              "            observer.disconnect();\n",
              "        }}\n",
              "}});\n",
              "\n",
              "// Listen for the removal of the full notebook cells\n",
              "var notebookContainer = gd.closest('#notebook-container');\n",
              "if (notebookContainer) {{\n",
              "    x.observe(notebookContainer, {childList: true});\n",
              "}}\n",
              "\n",
              "// Listen for the clearing of the current output cell\n",
              "var outputEl = gd.closest('.output');\n",
              "if (outputEl) {{\n",
              "    x.observe(outputEl, {childList: true});\n",
              "}}\n",
              "\n",
              "                        })\n",
              "                };\n",
              "                \n",
              "            </script>\n",
              "        </div>\n",
              "</body>\n",
              "</html>"
            ]
          },
          "metadata": {
            "tags": []
          }
        }
      ]
    },
    {
      "cell_type": "markdown",
      "metadata": {
        "id": "JxZ_6z4hUhR2"
      },
      "source": [
        "## Divisão Populacional segundo influência Omar x Braga"
      ]
    },
    {
      "cell_type": "code",
      "metadata": {
        "id": "SjR9baqdT4ov",
        "outputId": "8c86e98c-3454-4d27-d4ea-c91f802a3b91",
        "colab": {
          "base_uri": "https://localhost:8080/"
        }
      },
      "source": [
        "val_omar = df[\"Por Omar\"].value_counts()\n",
        "val_omar"
      ],
      "execution_count": 26,
      "outputs": [
        {
          "output_type": "execute_result",
          "data": {
            "text/plain": [
              "Sem Opinião    183\n",
              "Sim            158\n",
              "Não            120\n",
              "Name: Por Omar, dtype: int64"
            ]
          },
          "metadata": {
            "tags": []
          },
          "execution_count": 26
        }
      ]
    },
    {
      "cell_type": "code",
      "metadata": {
        "id": "BBoyC0Dln98C",
        "outputId": "6c1d17fd-b97d-47d2-9317-9360acc68acd",
        "colab": {
          "base_uri": "https://localhost:8080/",
          "height": 542
        }
      },
      "source": [
        "qt9 = val_omar\n",
        "fig = go.Figure(data=[go.Pie(labels=qt9.keys(),values=qt9.values,title=\"Votaria no candidato indicado por Omar\")])\n",
        "fig.show()"
      ],
      "execution_count": 27,
      "outputs": [
        {
          "output_type": "display_data",
          "data": {
            "text/html": [
              "<html>\n",
              "<head><meta charset=\"utf-8\" /></head>\n",
              "<body>\n",
              "    <div>\n",
              "            <script src=\"https://cdnjs.cloudflare.com/ajax/libs/mathjax/2.7.5/MathJax.js?config=TeX-AMS-MML_SVG\"></script><script type=\"text/javascript\">if (window.MathJax) {MathJax.Hub.Config({SVG: {font: \"STIX-Web\"}});}</script>\n",
              "                <script type=\"text/javascript\">window.PlotlyConfig = {MathJaxConfig: 'local'};</script>\n",
              "        <script src=\"https://cdn.plot.ly/plotly-latest.min.js\"></script>    \n",
              "            <div id=\"43e162b9-c198-43d8-8b44-df695d5aa1ea\" class=\"plotly-graph-div\" style=\"height:525px; width:100%;\"></div>\n",
              "            <script type=\"text/javascript\">\n",
              "                \n",
              "                    window.PLOTLYENV=window.PLOTLYENV || {};\n",
              "                    \n",
              "                if (document.getElementById(\"43e162b9-c198-43d8-8b44-df695d5aa1ea\")) {\n",
              "                    Plotly.newPlot(\n",
              "                        '43e162b9-c198-43d8-8b44-df695d5aa1ea',\n",
              "                        [{\"labels\": [\"Sem Opini\\u00e3o\", \"Sim\", \"N\\u00e3o\"], \"title\": {\"text\": \"Votaria no candidato indicado por Omar\"}, \"type\": \"pie\", \"values\": [183, 158, 120]}],\n",
              "                        {\"template\": {\"data\": {\"bar\": [{\"error_x\": {\"color\": \"#2a3f5f\"}, \"error_y\": {\"color\": \"#2a3f5f\"}, \"marker\": {\"line\": {\"color\": \"#E5ECF6\", \"width\": 0.5}}, \"type\": \"bar\"}], \"barpolar\": [{\"marker\": {\"line\": {\"color\": \"#E5ECF6\", \"width\": 0.5}}, \"type\": \"barpolar\"}], \"carpet\": [{\"aaxis\": {\"endlinecolor\": \"#2a3f5f\", \"gridcolor\": \"white\", \"linecolor\": \"white\", \"minorgridcolor\": \"white\", \"startlinecolor\": \"#2a3f5f\"}, \"baxis\": {\"endlinecolor\": \"#2a3f5f\", \"gridcolor\": \"white\", \"linecolor\": \"white\", \"minorgridcolor\": \"white\", \"startlinecolor\": \"#2a3f5f\"}, \"type\": \"carpet\"}], \"choropleth\": [{\"colorbar\": {\"outlinewidth\": 0, \"ticks\": \"\"}, \"type\": \"choropleth\"}], \"contour\": [{\"colorbar\": {\"outlinewidth\": 0, \"ticks\": \"\"}, \"colorscale\": [[0.0, \"#0d0887\"], [0.1111111111111111, \"#46039f\"], [0.2222222222222222, \"#7201a8\"], [0.3333333333333333, \"#9c179e\"], [0.4444444444444444, \"#bd3786\"], [0.5555555555555556, \"#d8576b\"], [0.6666666666666666, \"#ed7953\"], [0.7777777777777778, \"#fb9f3a\"], [0.8888888888888888, \"#fdca26\"], [1.0, \"#f0f921\"]], \"type\": \"contour\"}], \"contourcarpet\": [{\"colorbar\": {\"outlinewidth\": 0, \"ticks\": \"\"}, \"type\": \"contourcarpet\"}], \"heatmap\": [{\"colorbar\": {\"outlinewidth\": 0, \"ticks\": \"\"}, \"colorscale\": [[0.0, \"#0d0887\"], [0.1111111111111111, \"#46039f\"], [0.2222222222222222, \"#7201a8\"], [0.3333333333333333, \"#9c179e\"], [0.4444444444444444, \"#bd3786\"], [0.5555555555555556, \"#d8576b\"], [0.6666666666666666, \"#ed7953\"], [0.7777777777777778, \"#fb9f3a\"], [0.8888888888888888, \"#fdca26\"], [1.0, \"#f0f921\"]], \"type\": \"heatmap\"}], \"heatmapgl\": [{\"colorbar\": {\"outlinewidth\": 0, \"ticks\": \"\"}, \"colorscale\": [[0.0, \"#0d0887\"], [0.1111111111111111, \"#46039f\"], [0.2222222222222222, \"#7201a8\"], [0.3333333333333333, \"#9c179e\"], [0.4444444444444444, \"#bd3786\"], [0.5555555555555556, \"#d8576b\"], [0.6666666666666666, \"#ed7953\"], [0.7777777777777778, \"#fb9f3a\"], [0.8888888888888888, \"#fdca26\"], [1.0, \"#f0f921\"]], \"type\": \"heatmapgl\"}], \"histogram\": [{\"marker\": {\"colorbar\": {\"outlinewidth\": 0, \"ticks\": \"\"}}, \"type\": \"histogram\"}], \"histogram2d\": [{\"colorbar\": {\"outlinewidth\": 0, \"ticks\": \"\"}, \"colorscale\": [[0.0, \"#0d0887\"], [0.1111111111111111, \"#46039f\"], [0.2222222222222222, \"#7201a8\"], [0.3333333333333333, \"#9c179e\"], [0.4444444444444444, \"#bd3786\"], [0.5555555555555556, \"#d8576b\"], [0.6666666666666666, \"#ed7953\"], [0.7777777777777778, \"#fb9f3a\"], [0.8888888888888888, \"#fdca26\"], [1.0, \"#f0f921\"]], \"type\": \"histogram2d\"}], \"histogram2dcontour\": [{\"colorbar\": {\"outlinewidth\": 0, \"ticks\": \"\"}, \"colorscale\": [[0.0, \"#0d0887\"], [0.1111111111111111, \"#46039f\"], [0.2222222222222222, \"#7201a8\"], [0.3333333333333333, \"#9c179e\"], [0.4444444444444444, \"#bd3786\"], [0.5555555555555556, \"#d8576b\"], [0.6666666666666666, \"#ed7953\"], [0.7777777777777778, \"#fb9f3a\"], [0.8888888888888888, \"#fdca26\"], [1.0, \"#f0f921\"]], \"type\": \"histogram2dcontour\"}], \"mesh3d\": [{\"colorbar\": {\"outlinewidth\": 0, \"ticks\": \"\"}, \"type\": \"mesh3d\"}], \"parcoords\": [{\"line\": {\"colorbar\": {\"outlinewidth\": 0, \"ticks\": \"\"}}, \"type\": \"parcoords\"}], \"pie\": [{\"automargin\": true, \"type\": \"pie\"}], \"scatter\": [{\"marker\": {\"colorbar\": {\"outlinewidth\": 0, \"ticks\": \"\"}}, \"type\": \"scatter\"}], \"scatter3d\": [{\"line\": {\"colorbar\": {\"outlinewidth\": 0, \"ticks\": \"\"}}, \"marker\": {\"colorbar\": {\"outlinewidth\": 0, \"ticks\": \"\"}}, \"type\": \"scatter3d\"}], \"scattercarpet\": [{\"marker\": {\"colorbar\": {\"outlinewidth\": 0, \"ticks\": \"\"}}, \"type\": \"scattercarpet\"}], \"scattergeo\": [{\"marker\": {\"colorbar\": {\"outlinewidth\": 0, \"ticks\": \"\"}}, \"type\": \"scattergeo\"}], \"scattergl\": [{\"marker\": {\"colorbar\": {\"outlinewidth\": 0, \"ticks\": \"\"}}, \"type\": \"scattergl\"}], \"scattermapbox\": [{\"marker\": {\"colorbar\": {\"outlinewidth\": 0, \"ticks\": \"\"}}, \"type\": \"scattermapbox\"}], \"scatterpolar\": [{\"marker\": {\"colorbar\": {\"outlinewidth\": 0, \"ticks\": \"\"}}, \"type\": \"scatterpolar\"}], \"scatterpolargl\": [{\"marker\": {\"colorbar\": {\"outlinewidth\": 0, \"ticks\": \"\"}}, \"type\": \"scatterpolargl\"}], \"scatterternary\": [{\"marker\": {\"colorbar\": {\"outlinewidth\": 0, \"ticks\": \"\"}}, \"type\": \"scatterternary\"}], \"surface\": [{\"colorbar\": {\"outlinewidth\": 0, \"ticks\": \"\"}, \"colorscale\": [[0.0, \"#0d0887\"], [0.1111111111111111, \"#46039f\"], [0.2222222222222222, \"#7201a8\"], [0.3333333333333333, \"#9c179e\"], [0.4444444444444444, \"#bd3786\"], [0.5555555555555556, \"#d8576b\"], [0.6666666666666666, \"#ed7953\"], [0.7777777777777778, \"#fb9f3a\"], [0.8888888888888888, \"#fdca26\"], [1.0, \"#f0f921\"]], \"type\": \"surface\"}], \"table\": [{\"cells\": {\"fill\": {\"color\": \"#EBF0F8\"}, \"line\": {\"color\": \"white\"}}, \"header\": {\"fill\": {\"color\": \"#C8D4E3\"}, \"line\": {\"color\": \"white\"}}, \"type\": \"table\"}]}, \"layout\": {\"annotationdefaults\": {\"arrowcolor\": \"#2a3f5f\", \"arrowhead\": 0, \"arrowwidth\": 1}, \"coloraxis\": {\"colorbar\": {\"outlinewidth\": 0, \"ticks\": \"\"}}, \"colorscale\": {\"diverging\": [[0, \"#8e0152\"], [0.1, \"#c51b7d\"], [0.2, \"#de77ae\"], [0.3, \"#f1b6da\"], [0.4, \"#fde0ef\"], [0.5, \"#f7f7f7\"], [0.6, \"#e6f5d0\"], [0.7, \"#b8e186\"], [0.8, \"#7fbc41\"], [0.9, \"#4d9221\"], [1, \"#276419\"]], \"sequential\": [[0.0, \"#0d0887\"], [0.1111111111111111, \"#46039f\"], [0.2222222222222222, \"#7201a8\"], [0.3333333333333333, \"#9c179e\"], [0.4444444444444444, \"#bd3786\"], [0.5555555555555556, \"#d8576b\"], [0.6666666666666666, \"#ed7953\"], [0.7777777777777778, \"#fb9f3a\"], [0.8888888888888888, \"#fdca26\"], [1.0, \"#f0f921\"]], \"sequentialminus\": [[0.0, \"#0d0887\"], [0.1111111111111111, \"#46039f\"], [0.2222222222222222, \"#7201a8\"], [0.3333333333333333, \"#9c179e\"], [0.4444444444444444, \"#bd3786\"], [0.5555555555555556, \"#d8576b\"], [0.6666666666666666, \"#ed7953\"], [0.7777777777777778, \"#fb9f3a\"], [0.8888888888888888, \"#fdca26\"], [1.0, \"#f0f921\"]]}, \"colorway\": [\"#636efa\", \"#EF553B\", \"#00cc96\", \"#ab63fa\", \"#FFA15A\", \"#19d3f3\", \"#FF6692\", \"#B6E880\", \"#FF97FF\", \"#FECB52\"], \"font\": {\"color\": \"#2a3f5f\"}, \"geo\": {\"bgcolor\": \"white\", \"lakecolor\": \"white\", \"landcolor\": \"#E5ECF6\", \"showlakes\": true, \"showland\": true, \"subunitcolor\": \"white\"}, \"hoverlabel\": {\"align\": \"left\"}, \"hovermode\": \"closest\", \"mapbox\": {\"style\": \"light\"}, \"paper_bgcolor\": \"white\", \"plot_bgcolor\": \"#E5ECF6\", \"polar\": {\"angularaxis\": {\"gridcolor\": \"white\", \"linecolor\": \"white\", \"ticks\": \"\"}, \"bgcolor\": \"#E5ECF6\", \"radialaxis\": {\"gridcolor\": \"white\", \"linecolor\": \"white\", \"ticks\": \"\"}}, \"scene\": {\"xaxis\": {\"backgroundcolor\": \"#E5ECF6\", \"gridcolor\": \"white\", \"gridwidth\": 2, \"linecolor\": \"white\", \"showbackground\": true, \"ticks\": \"\", \"zerolinecolor\": \"white\"}, \"yaxis\": {\"backgroundcolor\": \"#E5ECF6\", \"gridcolor\": \"white\", \"gridwidth\": 2, \"linecolor\": \"white\", \"showbackground\": true, \"ticks\": \"\", \"zerolinecolor\": \"white\"}, \"zaxis\": {\"backgroundcolor\": \"#E5ECF6\", \"gridcolor\": \"white\", \"gridwidth\": 2, \"linecolor\": \"white\", \"showbackground\": true, \"ticks\": \"\", \"zerolinecolor\": \"white\"}}, \"shapedefaults\": {\"line\": {\"color\": \"#2a3f5f\"}}, \"ternary\": {\"aaxis\": {\"gridcolor\": \"white\", \"linecolor\": \"white\", \"ticks\": \"\"}, \"baxis\": {\"gridcolor\": \"white\", \"linecolor\": \"white\", \"ticks\": \"\"}, \"bgcolor\": \"#E5ECF6\", \"caxis\": {\"gridcolor\": \"white\", \"linecolor\": \"white\", \"ticks\": \"\"}}, \"title\": {\"x\": 0.05}, \"xaxis\": {\"automargin\": true, \"gridcolor\": \"white\", \"linecolor\": \"white\", \"ticks\": \"\", \"title\": {\"standoff\": 15}, \"zerolinecolor\": \"white\", \"zerolinewidth\": 2}, \"yaxis\": {\"automargin\": true, \"gridcolor\": \"white\", \"linecolor\": \"white\", \"ticks\": \"\", \"title\": {\"standoff\": 15}, \"zerolinecolor\": \"white\", \"zerolinewidth\": 2}}}},\n",
              "                        {\"responsive\": true}\n",
              "                    ).then(function(){\n",
              "                            \n",
              "var gd = document.getElementById('43e162b9-c198-43d8-8b44-df695d5aa1ea');\n",
              "var x = new MutationObserver(function (mutations, observer) {{\n",
              "        var display = window.getComputedStyle(gd).display;\n",
              "        if (!display || display === 'none') {{\n",
              "            console.log([gd, 'removed!']);\n",
              "            Plotly.purge(gd);\n",
              "            observer.disconnect();\n",
              "        }}\n",
              "}});\n",
              "\n",
              "// Listen for the removal of the full notebook cells\n",
              "var notebookContainer = gd.closest('#notebook-container');\n",
              "if (notebookContainer) {{\n",
              "    x.observe(notebookContainer, {childList: true});\n",
              "}}\n",
              "\n",
              "// Listen for the clearing of the current output cell\n",
              "var outputEl = gd.closest('.output');\n",
              "if (outputEl) {{\n",
              "    x.observe(outputEl, {childList: true});\n",
              "}}\n",
              "\n",
              "                        })\n",
              "                };\n",
              "                \n",
              "            </script>\n",
              "        </div>\n",
              "</body>\n",
              "</html>"
            ]
          },
          "metadata": {
            "tags": []
          }
        }
      ]
    },
    {
      "cell_type": "code",
      "metadata": {
        "id": "t_b0W2Y5T8M5",
        "outputId": "ff694ceb-6e3d-4bd8-9089-fc41b4aebd70",
        "colab": {
          "base_uri": "https://localhost:8080/"
        }
      },
      "source": [
        "val_braga = df[\"Por Braga\"].value_counts()\n",
        "val_braga"
      ],
      "execution_count": 28,
      "outputs": [
        {
          "output_type": "execute_result",
          "data": {
            "text/plain": [
              "Sim            178\n",
              "Sem Opinião    143\n",
              "Não            138\n",
              "b                1\n",
              "Name: Por Braga, dtype: int64"
            ]
          },
          "metadata": {
            "tags": []
          },
          "execution_count": 28
        }
      ]
    },
    {
      "cell_type": "code",
      "metadata": {
        "id": "hMVEYg25oByT",
        "outputId": "983afeb3-7470-49c4-e9b0-58c4f61dcad4",
        "colab": {
          "base_uri": "https://localhost:8080/",
          "height": 562
        }
      },
      "source": [
        "qt9 = val_braga\n",
        "fig = go.Figure(data=[go.Pie(labels=qt9.keys(),values=qt9.values,title=\"Votaria no candidato indicado por Braga\")])\n",
        "fig.show()"
      ],
      "execution_count": 29,
      "outputs": [
        {
          "output_type": "display_data",
          "data": {
            "text/html": [
              "<html>\n",
              "<head><meta charset=\"utf-8\" /></head>\n",
              "<body>\n",
              "    <div>\n",
              "            <script src=\"https://cdnjs.cloudflare.com/ajax/libs/mathjax/2.7.5/MathJax.js?config=TeX-AMS-MML_SVG\"></script><script type=\"text/javascript\">if (window.MathJax) {MathJax.Hub.Config({SVG: {font: \"STIX-Web\"}});}</script>\n",
              "                <script type=\"text/javascript\">window.PlotlyConfig = {MathJaxConfig: 'local'};</script>\n",
              "        <script src=\"https://cdn.plot.ly/plotly-latest.min.js\"></script>    \n",
              "            <div id=\"c6c4bb87-5cd4-4690-88a0-84308edccab3\" class=\"plotly-graph-div\" style=\"height:525px; width:100%;\"></div>\n",
              "            <script type=\"text/javascript\">\n",
              "                \n",
              "                    window.PLOTLYENV=window.PLOTLYENV || {};\n",
              "                    \n",
              "                if (document.getElementById(\"c6c4bb87-5cd4-4690-88a0-84308edccab3\")) {\n",
              "                    Plotly.newPlot(\n",
              "                        'c6c4bb87-5cd4-4690-88a0-84308edccab3',\n",
              "                        [{\"labels\": [\"Sim\", \"Sem Opini\\u00e3o\", \"N\\u00e3o\", \"b \"], \"title\": {\"text\": \"Votaria no candidato indicado por Braga\"}, \"type\": \"pie\", \"values\": [178, 143, 138, 1]}],\n",
              "                        {\"template\": {\"data\": {\"bar\": [{\"error_x\": {\"color\": \"#2a3f5f\"}, \"error_y\": {\"color\": \"#2a3f5f\"}, \"marker\": {\"line\": {\"color\": \"#E5ECF6\", \"width\": 0.5}}, \"type\": \"bar\"}], \"barpolar\": [{\"marker\": {\"line\": {\"color\": \"#E5ECF6\", \"width\": 0.5}}, \"type\": \"barpolar\"}], \"carpet\": [{\"aaxis\": {\"endlinecolor\": \"#2a3f5f\", \"gridcolor\": \"white\", \"linecolor\": \"white\", \"minorgridcolor\": \"white\", \"startlinecolor\": \"#2a3f5f\"}, \"baxis\": {\"endlinecolor\": \"#2a3f5f\", \"gridcolor\": \"white\", \"linecolor\": \"white\", \"minorgridcolor\": \"white\", \"startlinecolor\": \"#2a3f5f\"}, \"type\": \"carpet\"}], \"choropleth\": [{\"colorbar\": {\"outlinewidth\": 0, \"ticks\": \"\"}, \"type\": \"choropleth\"}], \"contour\": [{\"colorbar\": {\"outlinewidth\": 0, \"ticks\": \"\"}, \"colorscale\": [[0.0, \"#0d0887\"], [0.1111111111111111, \"#46039f\"], [0.2222222222222222, \"#7201a8\"], [0.3333333333333333, \"#9c179e\"], [0.4444444444444444, \"#bd3786\"], [0.5555555555555556, \"#d8576b\"], [0.6666666666666666, \"#ed7953\"], [0.7777777777777778, \"#fb9f3a\"], [0.8888888888888888, \"#fdca26\"], [1.0, \"#f0f921\"]], \"type\": \"contour\"}], \"contourcarpet\": [{\"colorbar\": {\"outlinewidth\": 0, \"ticks\": \"\"}, \"type\": \"contourcarpet\"}], \"heatmap\": [{\"colorbar\": {\"outlinewidth\": 0, \"ticks\": \"\"}, \"colorscale\": [[0.0, \"#0d0887\"], [0.1111111111111111, \"#46039f\"], [0.2222222222222222, \"#7201a8\"], [0.3333333333333333, \"#9c179e\"], [0.4444444444444444, \"#bd3786\"], [0.5555555555555556, \"#d8576b\"], [0.6666666666666666, \"#ed7953\"], [0.7777777777777778, \"#fb9f3a\"], [0.8888888888888888, \"#fdca26\"], [1.0, \"#f0f921\"]], \"type\": \"heatmap\"}], \"heatmapgl\": [{\"colorbar\": {\"outlinewidth\": 0, \"ticks\": \"\"}, \"colorscale\": [[0.0, \"#0d0887\"], [0.1111111111111111, \"#46039f\"], [0.2222222222222222, \"#7201a8\"], [0.3333333333333333, \"#9c179e\"], [0.4444444444444444, \"#bd3786\"], [0.5555555555555556, \"#d8576b\"], [0.6666666666666666, \"#ed7953\"], [0.7777777777777778, \"#fb9f3a\"], [0.8888888888888888, \"#fdca26\"], [1.0, \"#f0f921\"]], \"type\": \"heatmapgl\"}], \"histogram\": [{\"marker\": {\"colorbar\": {\"outlinewidth\": 0, \"ticks\": \"\"}}, \"type\": \"histogram\"}], \"histogram2d\": [{\"colorbar\": {\"outlinewidth\": 0, \"ticks\": \"\"}, \"colorscale\": [[0.0, \"#0d0887\"], [0.1111111111111111, \"#46039f\"], [0.2222222222222222, \"#7201a8\"], [0.3333333333333333, \"#9c179e\"], [0.4444444444444444, \"#bd3786\"], [0.5555555555555556, \"#d8576b\"], [0.6666666666666666, \"#ed7953\"], [0.7777777777777778, \"#fb9f3a\"], [0.8888888888888888, \"#fdca26\"], [1.0, \"#f0f921\"]], \"type\": \"histogram2d\"}], \"histogram2dcontour\": [{\"colorbar\": {\"outlinewidth\": 0, \"ticks\": \"\"}, \"colorscale\": [[0.0, \"#0d0887\"], [0.1111111111111111, \"#46039f\"], [0.2222222222222222, \"#7201a8\"], [0.3333333333333333, \"#9c179e\"], [0.4444444444444444, \"#bd3786\"], [0.5555555555555556, \"#d8576b\"], [0.6666666666666666, \"#ed7953\"], [0.7777777777777778, \"#fb9f3a\"], [0.8888888888888888, \"#fdca26\"], [1.0, \"#f0f921\"]], \"type\": \"histogram2dcontour\"}], \"mesh3d\": [{\"colorbar\": {\"outlinewidth\": 0, \"ticks\": \"\"}, \"type\": \"mesh3d\"}], \"parcoords\": [{\"line\": {\"colorbar\": {\"outlinewidth\": 0, \"ticks\": \"\"}}, \"type\": \"parcoords\"}], \"pie\": [{\"automargin\": true, \"type\": \"pie\"}], \"scatter\": [{\"marker\": {\"colorbar\": {\"outlinewidth\": 0, \"ticks\": \"\"}}, \"type\": \"scatter\"}], \"scatter3d\": [{\"line\": {\"colorbar\": {\"outlinewidth\": 0, \"ticks\": \"\"}}, \"marker\": {\"colorbar\": {\"outlinewidth\": 0, \"ticks\": \"\"}}, \"type\": \"scatter3d\"}], \"scattercarpet\": [{\"marker\": {\"colorbar\": {\"outlinewidth\": 0, \"ticks\": \"\"}}, \"type\": \"scattercarpet\"}], \"scattergeo\": [{\"marker\": {\"colorbar\": {\"outlinewidth\": 0, \"ticks\": \"\"}}, \"type\": \"scattergeo\"}], \"scattergl\": [{\"marker\": {\"colorbar\": {\"outlinewidth\": 0, \"ticks\": \"\"}}, \"type\": \"scattergl\"}], \"scattermapbox\": [{\"marker\": {\"colorbar\": {\"outlinewidth\": 0, \"ticks\": \"\"}}, \"type\": \"scattermapbox\"}], \"scatterpolar\": [{\"marker\": {\"colorbar\": {\"outlinewidth\": 0, \"ticks\": \"\"}}, \"type\": \"scatterpolar\"}], \"scatterpolargl\": [{\"marker\": {\"colorbar\": {\"outlinewidth\": 0, \"ticks\": \"\"}}, \"type\": \"scatterpolargl\"}], \"scatterternary\": [{\"marker\": {\"colorbar\": {\"outlinewidth\": 0, \"ticks\": \"\"}}, \"type\": \"scatterternary\"}], \"surface\": [{\"colorbar\": {\"outlinewidth\": 0, \"ticks\": \"\"}, \"colorscale\": [[0.0, \"#0d0887\"], [0.1111111111111111, \"#46039f\"], [0.2222222222222222, \"#7201a8\"], [0.3333333333333333, \"#9c179e\"], [0.4444444444444444, \"#bd3786\"], [0.5555555555555556, \"#d8576b\"], [0.6666666666666666, \"#ed7953\"], [0.7777777777777778, \"#fb9f3a\"], [0.8888888888888888, \"#fdca26\"], [1.0, \"#f0f921\"]], \"type\": \"surface\"}], \"table\": [{\"cells\": {\"fill\": {\"color\": \"#EBF0F8\"}, \"line\": {\"color\": \"white\"}}, \"header\": {\"fill\": {\"color\": \"#C8D4E3\"}, \"line\": {\"color\": \"white\"}}, \"type\": \"table\"}]}, \"layout\": {\"annotationdefaults\": {\"arrowcolor\": \"#2a3f5f\", \"arrowhead\": 0, \"arrowwidth\": 1}, \"coloraxis\": {\"colorbar\": {\"outlinewidth\": 0, \"ticks\": \"\"}}, \"colorscale\": {\"diverging\": [[0, \"#8e0152\"], [0.1, \"#c51b7d\"], [0.2, \"#de77ae\"], [0.3, \"#f1b6da\"], [0.4, \"#fde0ef\"], [0.5, \"#f7f7f7\"], [0.6, \"#e6f5d0\"], [0.7, \"#b8e186\"], [0.8, \"#7fbc41\"], [0.9, \"#4d9221\"], [1, \"#276419\"]], \"sequential\": [[0.0, \"#0d0887\"], [0.1111111111111111, \"#46039f\"], [0.2222222222222222, \"#7201a8\"], [0.3333333333333333, \"#9c179e\"], [0.4444444444444444, \"#bd3786\"], [0.5555555555555556, \"#d8576b\"], [0.6666666666666666, \"#ed7953\"], [0.7777777777777778, \"#fb9f3a\"], [0.8888888888888888, \"#fdca26\"], [1.0, \"#f0f921\"]], \"sequentialminus\": [[0.0, \"#0d0887\"], [0.1111111111111111, \"#46039f\"], [0.2222222222222222, \"#7201a8\"], [0.3333333333333333, \"#9c179e\"], [0.4444444444444444, \"#bd3786\"], [0.5555555555555556, \"#d8576b\"], [0.6666666666666666, \"#ed7953\"], [0.7777777777777778, \"#fb9f3a\"], [0.8888888888888888, \"#fdca26\"], [1.0, \"#f0f921\"]]}, \"colorway\": [\"#636efa\", \"#EF553B\", \"#00cc96\", \"#ab63fa\", \"#FFA15A\", \"#19d3f3\", \"#FF6692\", \"#B6E880\", \"#FF97FF\", \"#FECB52\"], \"font\": {\"color\": \"#2a3f5f\"}, \"geo\": {\"bgcolor\": \"white\", \"lakecolor\": \"white\", \"landcolor\": \"#E5ECF6\", \"showlakes\": true, \"showland\": true, \"subunitcolor\": \"white\"}, \"hoverlabel\": {\"align\": \"left\"}, \"hovermode\": \"closest\", \"mapbox\": {\"style\": \"light\"}, \"paper_bgcolor\": \"white\", \"plot_bgcolor\": \"#E5ECF6\", \"polar\": {\"angularaxis\": {\"gridcolor\": \"white\", \"linecolor\": \"white\", \"ticks\": \"\"}, \"bgcolor\": \"#E5ECF6\", \"radialaxis\": {\"gridcolor\": \"white\", \"linecolor\": \"white\", \"ticks\": \"\"}}, \"scene\": {\"xaxis\": {\"backgroundcolor\": \"#E5ECF6\", \"gridcolor\": \"white\", \"gridwidth\": 2, \"linecolor\": \"white\", \"showbackground\": true, \"ticks\": \"\", \"zerolinecolor\": \"white\"}, \"yaxis\": {\"backgroundcolor\": \"#E5ECF6\", \"gridcolor\": \"white\", \"gridwidth\": 2, \"linecolor\": \"white\", \"showbackground\": true, \"ticks\": \"\", \"zerolinecolor\": \"white\"}, \"zaxis\": {\"backgroundcolor\": \"#E5ECF6\", \"gridcolor\": \"white\", \"gridwidth\": 2, \"linecolor\": \"white\", \"showbackground\": true, \"ticks\": \"\", \"zerolinecolor\": \"white\"}}, \"shapedefaults\": {\"line\": {\"color\": \"#2a3f5f\"}}, \"ternary\": {\"aaxis\": {\"gridcolor\": \"white\", \"linecolor\": \"white\", \"ticks\": \"\"}, \"baxis\": {\"gridcolor\": \"white\", \"linecolor\": \"white\", \"ticks\": \"\"}, \"bgcolor\": \"#E5ECF6\", \"caxis\": {\"gridcolor\": \"white\", \"linecolor\": \"white\", \"ticks\": \"\"}}, \"title\": {\"x\": 0.05}, \"xaxis\": {\"automargin\": true, \"gridcolor\": \"white\", \"linecolor\": \"white\", \"ticks\": \"\", \"title\": {\"standoff\": 15}, \"zerolinecolor\": \"white\", \"zerolinewidth\": 2}, \"yaxis\": {\"automargin\": true, \"gridcolor\": \"white\", \"linecolor\": \"white\", \"ticks\": \"\", \"title\": {\"standoff\": 15}, \"zerolinecolor\": \"white\", \"zerolinewidth\": 2}}}},\n",
              "                        {\"responsive\": true}\n",
              "                    ).then(function(){\n",
              "                            \n",
              "var gd = document.getElementById('c6c4bb87-5cd4-4690-88a0-84308edccab3');\n",
              "var x = new MutationObserver(function (mutations, observer) {{\n",
              "        var display = window.getComputedStyle(gd).display;\n",
              "        if (!display || display === 'none') {{\n",
              "            console.log([gd, 'removed!']);\n",
              "            Plotly.purge(gd);\n",
              "            observer.disconnect();\n",
              "        }}\n",
              "}});\n",
              "\n",
              "// Listen for the removal of the full notebook cells\n",
              "var notebookContainer = gd.closest('#notebook-container');\n",
              "if (notebookContainer) {{\n",
              "    x.observe(notebookContainer, {childList: true});\n",
              "}}\n",
              "\n",
              "// Listen for the clearing of the current output cell\n",
              "var outputEl = gd.closest('.output');\n",
              "if (outputEl) {{\n",
              "    x.observe(outputEl, {childList: true});\n",
              "}}\n",
              "\n",
              "                        })\n",
              "                };\n",
              "                \n",
              "            </script>\n",
              "        </div>\n",
              "</body>\n",
              "</html>"
            ]
          },
          "metadata": {
            "tags": []
          }
        }
      ]
    },
    {
      "cell_type": "markdown",
      "metadata": {
        "id": "n9gNdMExVxUM"
      },
      "source": [
        "### Tabela cruzada \"Braga\" x \"Bairro\""
      ]
    },
    {
      "cell_type": "code",
      "metadata": {
        "id": "i0v41nlWUrF1",
        "outputId": "21b1d5e2-0d46-4018-fc30-ab3816048726",
        "colab": {
          "base_uri": "https://localhost:8080/",
          "height": 286
        }
      },
      "source": [
        "tab01=pd.crosstab(df[\"Por Braga\"],df[\"Bairro\"],margins=True)\n",
        "tab01"
      ],
      "execution_count": 30,
      "outputs": [
        {
          "output_type": "execute_result",
          "data": {
            "text/html": [
              "<div>\n",
              "<style scoped>\n",
              "    .dataframe tbody tr th:only-of-type {\n",
              "        vertical-align: middle;\n",
              "    }\n",
              "\n",
              "    .dataframe tbody tr th {\n",
              "        vertical-align: top;\n",
              "    }\n",
              "\n",
              "    .dataframe thead th {\n",
              "        text-align: right;\n",
              "    }\n",
              "</style>\n",
              "<table border=\"1\" class=\"dataframe\">\n",
              "  <thead>\n",
              "    <tr style=\"text-align: right;\">\n",
              "      <th>Bairro</th>\n",
              "      <th>Centro</th>\n",
              "      <th>Chagas</th>\n",
              "      <th>Do Pera</th>\n",
              "      <th>Duque</th>\n",
              "      <th>Espirito Santo</th>\n",
              "      <th>Itamarati</th>\n",
              "      <th>Santa Efigênia</th>\n",
              "      <th>Santa Helena</th>\n",
              "      <th>Tauá Mirim</th>\n",
              "      <th>União</th>\n",
              "      <th>Urucu</th>\n",
              "      <th>Z - Rural</th>\n",
              "      <th>centro</th>\n",
              "      <th>All</th>\n",
              "    </tr>\n",
              "    <tr>\n",
              "      <th>Por Braga</th>\n",
              "      <th></th>\n",
              "      <th></th>\n",
              "      <th></th>\n",
              "      <th></th>\n",
              "      <th></th>\n",
              "      <th></th>\n",
              "      <th></th>\n",
              "      <th></th>\n",
              "      <th></th>\n",
              "      <th></th>\n",
              "      <th></th>\n",
              "      <th></th>\n",
              "      <th></th>\n",
              "      <th></th>\n",
              "    </tr>\n",
              "  </thead>\n",
              "  <tbody>\n",
              "    <tr>\n",
              "      <th>Não</th>\n",
              "      <td>15</td>\n",
              "      <td>11</td>\n",
              "      <td>7</td>\n",
              "      <td>12</td>\n",
              "      <td>7</td>\n",
              "      <td>10</td>\n",
              "      <td>14</td>\n",
              "      <td>7</td>\n",
              "      <td>22</td>\n",
              "      <td>12</td>\n",
              "      <td>20</td>\n",
              "      <td>0</td>\n",
              "      <td>1</td>\n",
              "      <td>138</td>\n",
              "    </tr>\n",
              "    <tr>\n",
              "      <th>Sem Opinião</th>\n",
              "      <td>15</td>\n",
              "      <td>19</td>\n",
              "      <td>11</td>\n",
              "      <td>8</td>\n",
              "      <td>8</td>\n",
              "      <td>18</td>\n",
              "      <td>7</td>\n",
              "      <td>11</td>\n",
              "      <td>11</td>\n",
              "      <td>19</td>\n",
              "      <td>14</td>\n",
              "      <td>2</td>\n",
              "      <td>0</td>\n",
              "      <td>143</td>\n",
              "    </tr>\n",
              "    <tr>\n",
              "      <th>Sim</th>\n",
              "      <td>23</td>\n",
              "      <td>30</td>\n",
              "      <td>10</td>\n",
              "      <td>9</td>\n",
              "      <td>8</td>\n",
              "      <td>19</td>\n",
              "      <td>10</td>\n",
              "      <td>10</td>\n",
              "      <td>14</td>\n",
              "      <td>23</td>\n",
              "      <td>21</td>\n",
              "      <td>1</td>\n",
              "      <td>0</td>\n",
              "      <td>178</td>\n",
              "    </tr>\n",
              "    <tr>\n",
              "      <th>b</th>\n",
              "      <td>0</td>\n",
              "      <td>0</td>\n",
              "      <td>0</td>\n",
              "      <td>0</td>\n",
              "      <td>0</td>\n",
              "      <td>0</td>\n",
              "      <td>0</td>\n",
              "      <td>0</td>\n",
              "      <td>0</td>\n",
              "      <td>1</td>\n",
              "      <td>0</td>\n",
              "      <td>0</td>\n",
              "      <td>0</td>\n",
              "      <td>1</td>\n",
              "    </tr>\n",
              "    <tr>\n",
              "      <th>All</th>\n",
              "      <td>53</td>\n",
              "      <td>60</td>\n",
              "      <td>28</td>\n",
              "      <td>29</td>\n",
              "      <td>23</td>\n",
              "      <td>47</td>\n",
              "      <td>31</td>\n",
              "      <td>28</td>\n",
              "      <td>47</td>\n",
              "      <td>55</td>\n",
              "      <td>55</td>\n",
              "      <td>3</td>\n",
              "      <td>1</td>\n",
              "      <td>460</td>\n",
              "    </tr>\n",
              "  </tbody>\n",
              "</table>\n",
              "</div>"
            ],
            "text/plain": [
              "Bairro       Centro  Chagas  Do Pera  Duque  ...  Urucu  Z - Rural  centro  All\n",
              "Por Braga                                    ...                               \n",
              "Não              15      11        7     12  ...     20          0       1  138\n",
              "Sem Opinião      15      19       11      8  ...     14          2       0  143\n",
              "Sim              23      30       10      9  ...     21          1       0  178\n",
              "b                 0       0        0      0  ...      0          0       0    1\n",
              "All              53      60       28     29  ...     55          3       1  460\n",
              "\n",
              "[5 rows x 14 columns]"
            ]
          },
          "metadata": {
            "tags": []
          },
          "execution_count": 30
        }
      ]
    },
    {
      "cell_type": "markdown",
      "metadata": {
        "id": "ljz8s6kzV1Mp"
      },
      "source": [
        "### Tabela cruzada \"Omar\" x \"Bairro\""
      ]
    },
    {
      "cell_type": "code",
      "metadata": {
        "id": "Be2sHhtcVoyl",
        "outputId": "e03d5d21-0690-4e36-c452-9c99921fcb11",
        "colab": {
          "base_uri": "https://localhost:8080/",
          "height": 238
        }
      },
      "source": [
        "tab00=pd.crosstab(df[\"Por Omar\"],df[\"Bairro\"],margins=True)\n",
        "tab00\n",
        "# tabela cruzada entre influência por Braga e por Omar"
      ],
      "execution_count": 31,
      "outputs": [
        {
          "output_type": "execute_result",
          "data": {
            "text/html": [
              "<div>\n",
              "<style scoped>\n",
              "    .dataframe tbody tr th:only-of-type {\n",
              "        vertical-align: middle;\n",
              "    }\n",
              "\n",
              "    .dataframe tbody tr th {\n",
              "        vertical-align: top;\n",
              "    }\n",
              "\n",
              "    .dataframe thead th {\n",
              "        text-align: right;\n",
              "    }\n",
              "</style>\n",
              "<table border=\"1\" class=\"dataframe\">\n",
              "  <thead>\n",
              "    <tr style=\"text-align: right;\">\n",
              "      <th>Bairro</th>\n",
              "      <th>Centro</th>\n",
              "      <th>Chagas</th>\n",
              "      <th>Do Pera</th>\n",
              "      <th>Duque</th>\n",
              "      <th>Espirito Santo</th>\n",
              "      <th>Itamarati</th>\n",
              "      <th>Santa Efigênia</th>\n",
              "      <th>Santa Helena</th>\n",
              "      <th>Tauá Mirim</th>\n",
              "      <th>União</th>\n",
              "      <th>Urucu</th>\n",
              "      <th>Z - Rural</th>\n",
              "      <th>centro</th>\n",
              "      <th>All</th>\n",
              "    </tr>\n",
              "    <tr>\n",
              "      <th>Por Omar</th>\n",
              "      <th></th>\n",
              "      <th></th>\n",
              "      <th></th>\n",
              "      <th></th>\n",
              "      <th></th>\n",
              "      <th></th>\n",
              "      <th></th>\n",
              "      <th></th>\n",
              "      <th></th>\n",
              "      <th></th>\n",
              "      <th></th>\n",
              "      <th></th>\n",
              "      <th></th>\n",
              "      <th></th>\n",
              "    </tr>\n",
              "  </thead>\n",
              "  <tbody>\n",
              "    <tr>\n",
              "      <th>Não</th>\n",
              "      <td>8</td>\n",
              "      <td>17</td>\n",
              "      <td>4</td>\n",
              "      <td>10</td>\n",
              "      <td>8</td>\n",
              "      <td>11</td>\n",
              "      <td>7</td>\n",
              "      <td>4</td>\n",
              "      <td>23</td>\n",
              "      <td>11</td>\n",
              "      <td>17</td>\n",
              "      <td>0</td>\n",
              "      <td>0</td>\n",
              "      <td>120</td>\n",
              "    </tr>\n",
              "    <tr>\n",
              "      <th>Sem Opinião</th>\n",
              "      <td>20</td>\n",
              "      <td>21</td>\n",
              "      <td>9</td>\n",
              "      <td>11</td>\n",
              "      <td>9</td>\n",
              "      <td>21</td>\n",
              "      <td>13</td>\n",
              "      <td>17</td>\n",
              "      <td>16</td>\n",
              "      <td>25</td>\n",
              "      <td>19</td>\n",
              "      <td>1</td>\n",
              "      <td>1</td>\n",
              "      <td>183</td>\n",
              "    </tr>\n",
              "    <tr>\n",
              "      <th>Sim</th>\n",
              "      <td>26</td>\n",
              "      <td>22</td>\n",
              "      <td>15</td>\n",
              "      <td>8</td>\n",
              "      <td>6</td>\n",
              "      <td>15</td>\n",
              "      <td>11</td>\n",
              "      <td>7</td>\n",
              "      <td>8</td>\n",
              "      <td>19</td>\n",
              "      <td>19</td>\n",
              "      <td>2</td>\n",
              "      <td>0</td>\n",
              "      <td>158</td>\n",
              "    </tr>\n",
              "    <tr>\n",
              "      <th>All</th>\n",
              "      <td>54</td>\n",
              "      <td>60</td>\n",
              "      <td>28</td>\n",
              "      <td>29</td>\n",
              "      <td>23</td>\n",
              "      <td>47</td>\n",
              "      <td>31</td>\n",
              "      <td>28</td>\n",
              "      <td>47</td>\n",
              "      <td>55</td>\n",
              "      <td>55</td>\n",
              "      <td>3</td>\n",
              "      <td>1</td>\n",
              "      <td>461</td>\n",
              "    </tr>\n",
              "  </tbody>\n",
              "</table>\n",
              "</div>"
            ],
            "text/plain": [
              "Bairro       Centro  Chagas  Do Pera  Duque  ...  Urucu  Z - Rural  centro  All\n",
              "Por Omar                                     ...                               \n",
              "Não               8      17        4     10  ...     17          0       0  120\n",
              "Sem Opinião      20      21        9     11  ...     19          1       1  183\n",
              "Sim              26      22       15      8  ...     19          2       0  158\n",
              "All              54      60       28     29  ...     55          3       1  461\n",
              "\n",
              "[4 rows x 14 columns]"
            ]
          },
          "metadata": {
            "tags": []
          },
          "execution_count": 31
        }
      ]
    },
    {
      "cell_type": "markdown",
      "metadata": {
        "id": "-goN12qB2uzh"
      },
      "source": [
        "## Divisão Populacional por Escolaridade"
      ]
    },
    {
      "cell_type": "code",
      "metadata": {
        "id": "lhHoTeIw2yBT",
        "outputId": "400fe314-6f2f-4d27-8b28-57034eb7fca9",
        "colab": {
          "base_uri": "https://localhost:8080/"
        }
      },
      "source": [
        "val_escola = df[\"Escolaridade\"].value_counts()\n",
        "val_escola"
      ],
      "execution_count": 32,
      "outputs": [
        {
          "output_type": "execute_result",
          "data": {
            "text/plain": [
              "Médio Completo         155\n",
              "Fundam. Incompleto     111\n",
              "Médio Incompleto        73\n",
              "Não Alfabetizado        29\n",
              "Fundam. Completo        28\n",
              "Apenas Alfabetizado     26\n",
              "Superior Incompleto     20\n",
              "Pós graduação           19\n",
              "Name: Escolaridade, dtype: int64"
            ]
          },
          "metadata": {
            "tags": []
          },
          "execution_count": 32
        }
      ]
    },
    {
      "cell_type": "code",
      "metadata": {
        "id": "1lTeXhe5pmmN",
        "outputId": "a630b480-07fe-42ab-ac16-111d49f33af0",
        "colab": {
          "base_uri": "https://localhost:8080/",
          "height": 542
        }
      },
      "source": [
        "fig = px.bar(df, x = df['Escolaridade'].value_counts().keys(), y = df['Escolaridade'].value_counts().values, labels={\"x\":\"Grau de Educação\",\"y\":\"Quantidade\"})\n",
        "fig.show()"
      ],
      "execution_count": 50,
      "outputs": [
        {
          "output_type": "display_data",
          "data": {
            "text/html": [
              "<html>\n",
              "<head><meta charset=\"utf-8\" /></head>\n",
              "<body>\n",
              "    <div>\n",
              "            <script src=\"https://cdnjs.cloudflare.com/ajax/libs/mathjax/2.7.5/MathJax.js?config=TeX-AMS-MML_SVG\"></script><script type=\"text/javascript\">if (window.MathJax) {MathJax.Hub.Config({SVG: {font: \"STIX-Web\"}});}</script>\n",
              "                <script type=\"text/javascript\">window.PlotlyConfig = {MathJaxConfig: 'local'};</script>\n",
              "        <script src=\"https://cdn.plot.ly/plotly-latest.min.js\"></script>    \n",
              "            <div id=\"a75b068f-d063-41ee-ba31-a3d00976c19a\" class=\"plotly-graph-div\" style=\"height:525px; width:100%;\"></div>\n",
              "            <script type=\"text/javascript\">\n",
              "                \n",
              "                    window.PLOTLYENV=window.PLOTLYENV || {};\n",
              "                    \n",
              "                if (document.getElementById(\"a75b068f-d063-41ee-ba31-a3d00976c19a\")) {\n",
              "                    Plotly.newPlot(\n",
              "                        'a75b068f-d063-41ee-ba31-a3d00976c19a',\n",
              "                        [{\"alignmentgroup\": \"True\", \"hoverlabel\": {\"namelength\": 0}, \"hovertemplate\": \"Grau de Educa\\u00e7\\u00e3o=%{x}<br>Quantidade=%{y}\", \"legendgroup\": \"\", \"marker\": {\"color\": \"#636efa\"}, \"name\": \"\", \"offsetgroup\": \"\", \"orientation\": \"v\", \"showlegend\": false, \"textposition\": \"auto\", \"type\": \"bar\", \"x\": [\"M\\u00e9dio Completo\", \"Fundam. Incompleto\", \"M\\u00e9dio Incompleto\", \"N\\u00e3o Alfabetizado\", \"Fundam. Completo\", \"Apenas Alfabetizado\", \"Superior Incompleto\", \"P\\u00f3s gradua\\u00e7\\u00e3o\"], \"xaxis\": \"x\", \"y\": [155, 111, 73, 29, 28, 26, 20, 19], \"yaxis\": \"y\"}],\n",
              "                        {\"barmode\": \"relative\", \"legend\": {\"tracegroupgap\": 0}, \"margin\": {\"t\": 60}, \"template\": {\"data\": {\"bar\": [{\"error_x\": {\"color\": \"#2a3f5f\"}, \"error_y\": {\"color\": \"#2a3f5f\"}, \"marker\": {\"line\": {\"color\": \"#E5ECF6\", \"width\": 0.5}}, \"type\": \"bar\"}], \"barpolar\": [{\"marker\": {\"line\": {\"color\": \"#E5ECF6\", \"width\": 0.5}}, \"type\": \"barpolar\"}], \"carpet\": [{\"aaxis\": {\"endlinecolor\": \"#2a3f5f\", \"gridcolor\": \"white\", \"linecolor\": \"white\", \"minorgridcolor\": \"white\", \"startlinecolor\": \"#2a3f5f\"}, \"baxis\": {\"endlinecolor\": \"#2a3f5f\", \"gridcolor\": \"white\", \"linecolor\": \"white\", \"minorgridcolor\": \"white\", \"startlinecolor\": \"#2a3f5f\"}, \"type\": \"carpet\"}], \"choropleth\": [{\"colorbar\": {\"outlinewidth\": 0, \"ticks\": \"\"}, \"type\": \"choropleth\"}], \"contour\": [{\"colorbar\": {\"outlinewidth\": 0, \"ticks\": \"\"}, \"colorscale\": [[0.0, \"#0d0887\"], [0.1111111111111111, \"#46039f\"], [0.2222222222222222, \"#7201a8\"], [0.3333333333333333, \"#9c179e\"], [0.4444444444444444, \"#bd3786\"], [0.5555555555555556, \"#d8576b\"], [0.6666666666666666, \"#ed7953\"], [0.7777777777777778, \"#fb9f3a\"], [0.8888888888888888, \"#fdca26\"], [1.0, \"#f0f921\"]], \"type\": \"contour\"}], \"contourcarpet\": [{\"colorbar\": {\"outlinewidth\": 0, \"ticks\": \"\"}, \"type\": \"contourcarpet\"}], \"heatmap\": [{\"colorbar\": {\"outlinewidth\": 0, \"ticks\": \"\"}, \"colorscale\": [[0.0, \"#0d0887\"], [0.1111111111111111, \"#46039f\"], [0.2222222222222222, \"#7201a8\"], [0.3333333333333333, \"#9c179e\"], [0.4444444444444444, \"#bd3786\"], [0.5555555555555556, \"#d8576b\"], [0.6666666666666666, \"#ed7953\"], [0.7777777777777778, \"#fb9f3a\"], [0.8888888888888888, \"#fdca26\"], [1.0, \"#f0f921\"]], \"type\": \"heatmap\"}], \"heatmapgl\": [{\"colorbar\": {\"outlinewidth\": 0, \"ticks\": \"\"}, \"colorscale\": [[0.0, \"#0d0887\"], [0.1111111111111111, \"#46039f\"], [0.2222222222222222, \"#7201a8\"], [0.3333333333333333, \"#9c179e\"], [0.4444444444444444, \"#bd3786\"], [0.5555555555555556, \"#d8576b\"], [0.6666666666666666, \"#ed7953\"], [0.7777777777777778, \"#fb9f3a\"], [0.8888888888888888, \"#fdca26\"], [1.0, \"#f0f921\"]], \"type\": \"heatmapgl\"}], \"histogram\": [{\"marker\": {\"colorbar\": {\"outlinewidth\": 0, \"ticks\": \"\"}}, \"type\": \"histogram\"}], \"histogram2d\": [{\"colorbar\": {\"outlinewidth\": 0, \"ticks\": \"\"}, \"colorscale\": [[0.0, \"#0d0887\"], [0.1111111111111111, \"#46039f\"], [0.2222222222222222, \"#7201a8\"], [0.3333333333333333, \"#9c179e\"], [0.4444444444444444, \"#bd3786\"], [0.5555555555555556, \"#d8576b\"], [0.6666666666666666, \"#ed7953\"], [0.7777777777777778, \"#fb9f3a\"], [0.8888888888888888, \"#fdca26\"], [1.0, \"#f0f921\"]], \"type\": \"histogram2d\"}], \"histogram2dcontour\": [{\"colorbar\": {\"outlinewidth\": 0, \"ticks\": \"\"}, \"colorscale\": [[0.0, \"#0d0887\"], [0.1111111111111111, \"#46039f\"], [0.2222222222222222, \"#7201a8\"], [0.3333333333333333, \"#9c179e\"], [0.4444444444444444, \"#bd3786\"], [0.5555555555555556, \"#d8576b\"], [0.6666666666666666, \"#ed7953\"], [0.7777777777777778, \"#fb9f3a\"], [0.8888888888888888, \"#fdca26\"], [1.0, \"#f0f921\"]], \"type\": \"histogram2dcontour\"}], \"mesh3d\": [{\"colorbar\": {\"outlinewidth\": 0, \"ticks\": \"\"}, \"type\": \"mesh3d\"}], \"parcoords\": [{\"line\": {\"colorbar\": {\"outlinewidth\": 0, \"ticks\": \"\"}}, \"type\": \"parcoords\"}], \"pie\": [{\"automargin\": true, \"type\": \"pie\"}], \"scatter\": [{\"marker\": {\"colorbar\": {\"outlinewidth\": 0, \"ticks\": \"\"}}, \"type\": \"scatter\"}], \"scatter3d\": [{\"line\": {\"colorbar\": {\"outlinewidth\": 0, \"ticks\": \"\"}}, \"marker\": {\"colorbar\": {\"outlinewidth\": 0, \"ticks\": \"\"}}, \"type\": \"scatter3d\"}], \"scattercarpet\": [{\"marker\": {\"colorbar\": {\"outlinewidth\": 0, \"ticks\": \"\"}}, \"type\": \"scattercarpet\"}], \"scattergeo\": [{\"marker\": {\"colorbar\": {\"outlinewidth\": 0, \"ticks\": \"\"}}, \"type\": \"scattergeo\"}], \"scattergl\": [{\"marker\": {\"colorbar\": {\"outlinewidth\": 0, \"ticks\": \"\"}}, \"type\": \"scattergl\"}], \"scattermapbox\": [{\"marker\": {\"colorbar\": {\"outlinewidth\": 0, \"ticks\": \"\"}}, \"type\": \"scattermapbox\"}], \"scatterpolar\": [{\"marker\": {\"colorbar\": {\"outlinewidth\": 0, \"ticks\": \"\"}}, \"type\": \"scatterpolar\"}], \"scatterpolargl\": [{\"marker\": {\"colorbar\": {\"outlinewidth\": 0, \"ticks\": \"\"}}, \"type\": \"scatterpolargl\"}], \"scatterternary\": [{\"marker\": {\"colorbar\": {\"outlinewidth\": 0, \"ticks\": \"\"}}, \"type\": \"scatterternary\"}], \"surface\": [{\"colorbar\": {\"outlinewidth\": 0, \"ticks\": \"\"}, \"colorscale\": [[0.0, \"#0d0887\"], [0.1111111111111111, \"#46039f\"], [0.2222222222222222, \"#7201a8\"], [0.3333333333333333, \"#9c179e\"], [0.4444444444444444, \"#bd3786\"], [0.5555555555555556, \"#d8576b\"], [0.6666666666666666, \"#ed7953\"], [0.7777777777777778, \"#fb9f3a\"], [0.8888888888888888, \"#fdca26\"], [1.0, \"#f0f921\"]], \"type\": \"surface\"}], \"table\": [{\"cells\": {\"fill\": {\"color\": \"#EBF0F8\"}, \"line\": {\"color\": \"white\"}}, \"header\": {\"fill\": {\"color\": \"#C8D4E3\"}, \"line\": {\"color\": \"white\"}}, \"type\": \"table\"}]}, \"layout\": {\"annotationdefaults\": {\"arrowcolor\": \"#2a3f5f\", \"arrowhead\": 0, \"arrowwidth\": 1}, \"coloraxis\": {\"colorbar\": {\"outlinewidth\": 0, \"ticks\": \"\"}}, \"colorscale\": {\"diverging\": [[0, \"#8e0152\"], [0.1, \"#c51b7d\"], [0.2, \"#de77ae\"], [0.3, \"#f1b6da\"], [0.4, \"#fde0ef\"], [0.5, \"#f7f7f7\"], [0.6, \"#e6f5d0\"], [0.7, \"#b8e186\"], [0.8, \"#7fbc41\"], [0.9, \"#4d9221\"], [1, \"#276419\"]], \"sequential\": [[0.0, \"#0d0887\"], [0.1111111111111111, \"#46039f\"], [0.2222222222222222, \"#7201a8\"], [0.3333333333333333, \"#9c179e\"], [0.4444444444444444, \"#bd3786\"], [0.5555555555555556, \"#d8576b\"], [0.6666666666666666, \"#ed7953\"], [0.7777777777777778, \"#fb9f3a\"], [0.8888888888888888, \"#fdca26\"], [1.0, \"#f0f921\"]], \"sequentialminus\": [[0.0, \"#0d0887\"], [0.1111111111111111, \"#46039f\"], [0.2222222222222222, \"#7201a8\"], [0.3333333333333333, \"#9c179e\"], [0.4444444444444444, \"#bd3786\"], [0.5555555555555556, \"#d8576b\"], [0.6666666666666666, \"#ed7953\"], [0.7777777777777778, \"#fb9f3a\"], [0.8888888888888888, \"#fdca26\"], [1.0, \"#f0f921\"]]}, \"colorway\": [\"#636efa\", \"#EF553B\", \"#00cc96\", \"#ab63fa\", \"#FFA15A\", \"#19d3f3\", \"#FF6692\", \"#B6E880\", \"#FF97FF\", \"#FECB52\"], \"font\": {\"color\": \"#2a3f5f\"}, \"geo\": {\"bgcolor\": \"white\", \"lakecolor\": \"white\", \"landcolor\": \"#E5ECF6\", \"showlakes\": true, \"showland\": true, \"subunitcolor\": \"white\"}, \"hoverlabel\": {\"align\": \"left\"}, \"hovermode\": \"closest\", \"mapbox\": {\"style\": \"light\"}, \"paper_bgcolor\": \"white\", \"plot_bgcolor\": \"#E5ECF6\", \"polar\": {\"angularaxis\": {\"gridcolor\": \"white\", \"linecolor\": \"white\", \"ticks\": \"\"}, \"bgcolor\": \"#E5ECF6\", \"radialaxis\": {\"gridcolor\": \"white\", \"linecolor\": \"white\", \"ticks\": \"\"}}, \"scene\": {\"xaxis\": {\"backgroundcolor\": \"#E5ECF6\", \"gridcolor\": \"white\", \"gridwidth\": 2, \"linecolor\": \"white\", \"showbackground\": true, \"ticks\": \"\", \"zerolinecolor\": \"white\"}, \"yaxis\": {\"backgroundcolor\": \"#E5ECF6\", \"gridcolor\": \"white\", \"gridwidth\": 2, \"linecolor\": \"white\", \"showbackground\": true, \"ticks\": \"\", \"zerolinecolor\": \"white\"}, \"zaxis\": {\"backgroundcolor\": \"#E5ECF6\", \"gridcolor\": \"white\", \"gridwidth\": 2, \"linecolor\": \"white\", \"showbackground\": true, \"ticks\": \"\", \"zerolinecolor\": \"white\"}}, \"shapedefaults\": {\"line\": {\"color\": \"#2a3f5f\"}}, \"ternary\": {\"aaxis\": {\"gridcolor\": \"white\", \"linecolor\": \"white\", \"ticks\": \"\"}, \"baxis\": {\"gridcolor\": \"white\", \"linecolor\": \"white\", \"ticks\": \"\"}, \"bgcolor\": \"#E5ECF6\", \"caxis\": {\"gridcolor\": \"white\", \"linecolor\": \"white\", \"ticks\": \"\"}}, \"title\": {\"x\": 0.05}, \"xaxis\": {\"automargin\": true, \"gridcolor\": \"white\", \"linecolor\": \"white\", \"ticks\": \"\", \"title\": {\"standoff\": 15}, \"zerolinecolor\": \"white\", \"zerolinewidth\": 2}, \"yaxis\": {\"automargin\": true, \"gridcolor\": \"white\", \"linecolor\": \"white\", \"ticks\": \"\", \"title\": {\"standoff\": 15}, \"zerolinecolor\": \"white\", \"zerolinewidth\": 2}}}, \"xaxis\": {\"anchor\": \"y\", \"domain\": [0.0, 1.0], \"title\": {\"text\": \"Grau de Educa\\u00e7\\u00e3o\"}}, \"yaxis\": {\"anchor\": \"x\", \"domain\": [0.0, 1.0], \"title\": {\"text\": \"Quantidade\"}}},\n",
              "                        {\"responsive\": true}\n",
              "                    ).then(function(){\n",
              "                            \n",
              "var gd = document.getElementById('a75b068f-d063-41ee-ba31-a3d00976c19a');\n",
              "var x = new MutationObserver(function (mutations, observer) {{\n",
              "        var display = window.getComputedStyle(gd).display;\n",
              "        if (!display || display === 'none') {{\n",
              "            console.log([gd, 'removed!']);\n",
              "            Plotly.purge(gd);\n",
              "            observer.disconnect();\n",
              "        }}\n",
              "}});\n",
              "\n",
              "// Listen for the removal of the full notebook cells\n",
              "var notebookContainer = gd.closest('#notebook-container');\n",
              "if (notebookContainer) {{\n",
              "    x.observe(notebookContainer, {childList: true});\n",
              "}}\n",
              "\n",
              "// Listen for the clearing of the current output cell\n",
              "var outputEl = gd.closest('.output');\n",
              "if (outputEl) {{\n",
              "    x.observe(outputEl, {childList: true});\n",
              "}}\n",
              "\n",
              "                        })\n",
              "                };\n",
              "                \n",
              "            </script>\n",
              "        </div>\n",
              "</body>\n",
              "</html>"
            ]
          },
          "metadata": {
            "tags": []
          }
        }
      ]
    },
    {
      "cell_type": "markdown",
      "metadata": {
        "id": "FLUKBe8B3Ijy"
      },
      "source": [
        "### Tabela cruzada \"Escolaridade\" x \"Intencao\""
      ]
    },
    {
      "cell_type": "code",
      "metadata": {
        "id": "Jo820SR43PBX",
        "outputId": "97738c28-a412-47a6-8611-48dd65edab70",
        "colab": {
          "base_uri": "https://localhost:8080/",
          "height": 1000
        }
      },
      "source": [
        "intecao_escolaridade = df2.groupby(['Intencao', 'Escolaridade']).count()\n",
        "intecao_escolaridade"
      ],
      "execution_count": 33,
      "outputs": [
        {
          "output_type": "execute_result",
          "data": {
            "text/html": [
              "<div>\n",
              "<style scoped>\n",
              "    .dataframe tbody tr th:only-of-type {\n",
              "        vertical-align: middle;\n",
              "    }\n",
              "\n",
              "    .dataframe tbody tr th {\n",
              "        vertical-align: top;\n",
              "    }\n",
              "\n",
              "    .dataframe thead th {\n",
              "        text-align: right;\n",
              "    }\n",
              "</style>\n",
              "<table border=\"1\" class=\"dataframe\">\n",
              "  <thead>\n",
              "    <tr style=\"text-align: right;\">\n",
              "      <th></th>\n",
              "      <th></th>\n",
              "      <th>Unnamed: 0</th>\n",
              "      <th>Idade</th>\n",
              "      <th>Faixa</th>\n",
              "      <th>Bairro</th>\n",
              "      <th>Genero</th>\n",
              "      <th>Prioridade</th>\n",
              "      <th>Por Omar</th>\n",
              "      <th>Por Braga</th>\n",
              "      <th>Renda</th>\n",
              "    </tr>\n",
              "    <tr>\n",
              "      <th>Intencao</th>\n",
              "      <th>Escolaridade</th>\n",
              "      <th></th>\n",
              "      <th></th>\n",
              "      <th></th>\n",
              "      <th></th>\n",
              "      <th></th>\n",
              "      <th></th>\n",
              "      <th></th>\n",
              "      <th></th>\n",
              "      <th></th>\n",
              "    </tr>\n",
              "  </thead>\n",
              "  <tbody>\n",
              "    <tr>\n",
              "      <th rowspan=\"8\" valign=\"top\">Adail</th>\n",
              "      <th>Apenas Alfabetizado</th>\n",
              "      <td>19</td>\n",
              "      <td>19</td>\n",
              "      <td>19</td>\n",
              "      <td>19</td>\n",
              "      <td>19</td>\n",
              "      <td>19</td>\n",
              "      <td>19</td>\n",
              "      <td>19</td>\n",
              "      <td>16</td>\n",
              "    </tr>\n",
              "    <tr>\n",
              "      <th>Fundam. Completo</th>\n",
              "      <td>14</td>\n",
              "      <td>14</td>\n",
              "      <td>14</td>\n",
              "      <td>14</td>\n",
              "      <td>14</td>\n",
              "      <td>13</td>\n",
              "      <td>14</td>\n",
              "      <td>14</td>\n",
              "      <td>14</td>\n",
              "    </tr>\n",
              "    <tr>\n",
              "      <th>Fundam. Incompleto</th>\n",
              "      <td>47</td>\n",
              "      <td>47</td>\n",
              "      <td>47</td>\n",
              "      <td>47</td>\n",
              "      <td>47</td>\n",
              "      <td>46</td>\n",
              "      <td>47</td>\n",
              "      <td>47</td>\n",
              "      <td>41</td>\n",
              "    </tr>\n",
              "    <tr>\n",
              "      <th>Médio Completo</th>\n",
              "      <td>53</td>\n",
              "      <td>53</td>\n",
              "      <td>53</td>\n",
              "      <td>53</td>\n",
              "      <td>53</td>\n",
              "      <td>52</td>\n",
              "      <td>53</td>\n",
              "      <td>53</td>\n",
              "      <td>48</td>\n",
              "    </tr>\n",
              "    <tr>\n",
              "      <th>Médio Incompleto</th>\n",
              "      <td>30</td>\n",
              "      <td>30</td>\n",
              "      <td>30</td>\n",
              "      <td>30</td>\n",
              "      <td>30</td>\n",
              "      <td>30</td>\n",
              "      <td>30</td>\n",
              "      <td>30</td>\n",
              "      <td>30</td>\n",
              "    </tr>\n",
              "    <tr>\n",
              "      <th>Não Alfabetizado</th>\n",
              "      <td>7</td>\n",
              "      <td>7</td>\n",
              "      <td>7</td>\n",
              "      <td>7</td>\n",
              "      <td>7</td>\n",
              "      <td>6</td>\n",
              "      <td>7</td>\n",
              "      <td>7</td>\n",
              "      <td>5</td>\n",
              "    </tr>\n",
              "    <tr>\n",
              "      <th>Pós graduação</th>\n",
              "      <td>2</td>\n",
              "      <td>2</td>\n",
              "      <td>2</td>\n",
              "      <td>2</td>\n",
              "      <td>2</td>\n",
              "      <td>2</td>\n",
              "      <td>2</td>\n",
              "      <td>2</td>\n",
              "      <td>2</td>\n",
              "    </tr>\n",
              "    <tr>\n",
              "      <th>Superior Incompleto</th>\n",
              "      <td>2</td>\n",
              "      <td>2</td>\n",
              "      <td>2</td>\n",
              "      <td>2</td>\n",
              "      <td>2</td>\n",
              "      <td>2</td>\n",
              "      <td>2</td>\n",
              "      <td>2</td>\n",
              "      <td>2</td>\n",
              "    </tr>\n",
              "    <tr>\n",
              "      <th>C.T.</th>\n",
              "      <th>Fundam. Incompleto</th>\n",
              "      <td>1</td>\n",
              "      <td>1</td>\n",
              "      <td>1</td>\n",
              "      <td>1</td>\n",
              "      <td>1</td>\n",
              "      <td>1</td>\n",
              "      <td>1</td>\n",
              "      <td>1</td>\n",
              "      <td>0</td>\n",
              "    </tr>\n",
              "    <tr>\n",
              "      <th rowspan=\"3\" valign=\"top\">Iran</th>\n",
              "      <th>Fundam. Incompleto</th>\n",
              "      <td>1</td>\n",
              "      <td>1</td>\n",
              "      <td>1</td>\n",
              "      <td>1</td>\n",
              "      <td>1</td>\n",
              "      <td>1</td>\n",
              "      <td>1</td>\n",
              "      <td>1</td>\n",
              "      <td>1</td>\n",
              "    </tr>\n",
              "    <tr>\n",
              "      <th>Médio Completo</th>\n",
              "      <td>3</td>\n",
              "      <td>3</td>\n",
              "      <td>3</td>\n",
              "      <td>3</td>\n",
              "      <td>3</td>\n",
              "      <td>3</td>\n",
              "      <td>3</td>\n",
              "      <td>3</td>\n",
              "      <td>3</td>\n",
              "    </tr>\n",
              "    <tr>\n",
              "      <th>Médio Incompleto</th>\n",
              "      <td>3</td>\n",
              "      <td>3</td>\n",
              "      <td>3</td>\n",
              "      <td>3</td>\n",
              "      <td>3</td>\n",
              "      <td>3</td>\n",
              "      <td>3</td>\n",
              "      <td>3</td>\n",
              "      <td>2</td>\n",
              "    </tr>\n",
              "    <tr>\n",
              "      <th rowspan=\"8\" valign=\"top\">Magalhaes</th>\n",
              "      <th>Apenas Alfabetizado</th>\n",
              "      <td>3</td>\n",
              "      <td>3</td>\n",
              "      <td>3</td>\n",
              "      <td>3</td>\n",
              "      <td>3</td>\n",
              "      <td>3</td>\n",
              "      <td>3</td>\n",
              "      <td>3</td>\n",
              "      <td>3</td>\n",
              "    </tr>\n",
              "    <tr>\n",
              "      <th>Fundam. Completo</th>\n",
              "      <td>10</td>\n",
              "      <td>10</td>\n",
              "      <td>10</td>\n",
              "      <td>10</td>\n",
              "      <td>10</td>\n",
              "      <td>9</td>\n",
              "      <td>10</td>\n",
              "      <td>10</td>\n",
              "      <td>10</td>\n",
              "    </tr>\n",
              "    <tr>\n",
              "      <th>Fundam. Incompleto</th>\n",
              "      <td>27</td>\n",
              "      <td>27</td>\n",
              "      <td>27</td>\n",
              "      <td>27</td>\n",
              "      <td>27</td>\n",
              "      <td>27</td>\n",
              "      <td>27</td>\n",
              "      <td>27</td>\n",
              "      <td>25</td>\n",
              "    </tr>\n",
              "    <tr>\n",
              "      <th>Médio Completo</th>\n",
              "      <td>47</td>\n",
              "      <td>47</td>\n",
              "      <td>47</td>\n",
              "      <td>47</td>\n",
              "      <td>47</td>\n",
              "      <td>47</td>\n",
              "      <td>47</td>\n",
              "      <td>47</td>\n",
              "      <td>46</td>\n",
              "    </tr>\n",
              "    <tr>\n",
              "      <th>Médio Incompleto</th>\n",
              "      <td>24</td>\n",
              "      <td>24</td>\n",
              "      <td>24</td>\n",
              "      <td>24</td>\n",
              "      <td>24</td>\n",
              "      <td>24</td>\n",
              "      <td>24</td>\n",
              "      <td>24</td>\n",
              "      <td>18</td>\n",
              "    </tr>\n",
              "    <tr>\n",
              "      <th>Não Alfabetizado</th>\n",
              "      <td>5</td>\n",
              "      <td>5</td>\n",
              "      <td>5</td>\n",
              "      <td>5</td>\n",
              "      <td>5</td>\n",
              "      <td>5</td>\n",
              "      <td>5</td>\n",
              "      <td>5</td>\n",
              "      <td>5</td>\n",
              "    </tr>\n",
              "    <tr>\n",
              "      <th>Pós graduação</th>\n",
              "      <td>11</td>\n",
              "      <td>11</td>\n",
              "      <td>11</td>\n",
              "      <td>11</td>\n",
              "      <td>11</td>\n",
              "      <td>11</td>\n",
              "      <td>11</td>\n",
              "      <td>10</td>\n",
              "      <td>11</td>\n",
              "    </tr>\n",
              "    <tr>\n",
              "      <th>Superior Incompleto</th>\n",
              "      <td>10</td>\n",
              "      <td>10</td>\n",
              "      <td>10</td>\n",
              "      <td>10</td>\n",
              "      <td>10</td>\n",
              "      <td>10</td>\n",
              "      <td>10</td>\n",
              "      <td>10</td>\n",
              "      <td>10</td>\n",
              "    </tr>\n",
              "    <tr>\n",
              "      <th rowspan=\"7\" valign=\"top\">Mitouso</th>\n",
              "      <th>Fundam. Completo</th>\n",
              "      <td>2</td>\n",
              "      <td>2</td>\n",
              "      <td>2</td>\n",
              "      <td>2</td>\n",
              "      <td>2</td>\n",
              "      <td>2</td>\n",
              "      <td>2</td>\n",
              "      <td>2</td>\n",
              "      <td>2</td>\n",
              "    </tr>\n",
              "    <tr>\n",
              "      <th>Fundam. Incompleto</th>\n",
              "      <td>7</td>\n",
              "      <td>7</td>\n",
              "      <td>7</td>\n",
              "      <td>7</td>\n",
              "      <td>7</td>\n",
              "      <td>6</td>\n",
              "      <td>7</td>\n",
              "      <td>7</td>\n",
              "      <td>6</td>\n",
              "    </tr>\n",
              "    <tr>\n",
              "      <th>Médio Completo</th>\n",
              "      <td>20</td>\n",
              "      <td>20</td>\n",
              "      <td>20</td>\n",
              "      <td>20</td>\n",
              "      <td>20</td>\n",
              "      <td>19</td>\n",
              "      <td>20</td>\n",
              "      <td>20</td>\n",
              "      <td>19</td>\n",
              "    </tr>\n",
              "    <tr>\n",
              "      <th>Médio Incompleto</th>\n",
              "      <td>3</td>\n",
              "      <td>3</td>\n",
              "      <td>3</td>\n",
              "      <td>3</td>\n",
              "      <td>3</td>\n",
              "      <td>3</td>\n",
              "      <td>3</td>\n",
              "      <td>3</td>\n",
              "      <td>2</td>\n",
              "    </tr>\n",
              "    <tr>\n",
              "      <th>Não Alfabetizado</th>\n",
              "      <td>8</td>\n",
              "      <td>8</td>\n",
              "      <td>8</td>\n",
              "      <td>8</td>\n",
              "      <td>8</td>\n",
              "      <td>8</td>\n",
              "      <td>8</td>\n",
              "      <td>8</td>\n",
              "      <td>6</td>\n",
              "    </tr>\n",
              "    <tr>\n",
              "      <th>Pós graduação</th>\n",
              "      <td>2</td>\n",
              "      <td>2</td>\n",
              "      <td>2</td>\n",
              "      <td>2</td>\n",
              "      <td>2</td>\n",
              "      <td>2</td>\n",
              "      <td>2</td>\n",
              "      <td>2</td>\n",
              "      <td>1</td>\n",
              "    </tr>\n",
              "    <tr>\n",
              "      <th>Superior Incompleto</th>\n",
              "      <td>3</td>\n",
              "      <td>3</td>\n",
              "      <td>3</td>\n",
              "      <td>3</td>\n",
              "      <td>3</td>\n",
              "      <td>3</td>\n",
              "      <td>3</td>\n",
              "      <td>3</td>\n",
              "      <td>3</td>\n",
              "    </tr>\n",
              "    <tr>\n",
              "      <th rowspan=\"7\" valign=\"top\">Nulo</th>\n",
              "      <th>Fundam. Completo</th>\n",
              "      <td>2</td>\n",
              "      <td>2</td>\n",
              "      <td>2</td>\n",
              "      <td>2</td>\n",
              "      <td>2</td>\n",
              "      <td>2</td>\n",
              "      <td>2</td>\n",
              "      <td>2</td>\n",
              "      <td>1</td>\n",
              "    </tr>\n",
              "    <tr>\n",
              "      <th>Fundam. Incompleto</th>\n",
              "      <td>16</td>\n",
              "      <td>16</td>\n",
              "      <td>16</td>\n",
              "      <td>16</td>\n",
              "      <td>16</td>\n",
              "      <td>16</td>\n",
              "      <td>16</td>\n",
              "      <td>16</td>\n",
              "      <td>13</td>\n",
              "    </tr>\n",
              "    <tr>\n",
              "      <th>Médio Completo</th>\n",
              "      <td>20</td>\n",
              "      <td>20</td>\n",
              "      <td>20</td>\n",
              "      <td>20</td>\n",
              "      <td>20</td>\n",
              "      <td>19</td>\n",
              "      <td>20</td>\n",
              "      <td>20</td>\n",
              "      <td>18</td>\n",
              "    </tr>\n",
              "    <tr>\n",
              "      <th>Médio Incompleto</th>\n",
              "      <td>5</td>\n",
              "      <td>5</td>\n",
              "      <td>5</td>\n",
              "      <td>5</td>\n",
              "      <td>5</td>\n",
              "      <td>5</td>\n",
              "      <td>5</td>\n",
              "      <td>5</td>\n",
              "      <td>4</td>\n",
              "    </tr>\n",
              "    <tr>\n",
              "      <th>Não Alfabetizado</th>\n",
              "      <td>2</td>\n",
              "      <td>2</td>\n",
              "      <td>2</td>\n",
              "      <td>2</td>\n",
              "      <td>2</td>\n",
              "      <td>2</td>\n",
              "      <td>2</td>\n",
              "      <td>2</td>\n",
              "      <td>2</td>\n",
              "    </tr>\n",
              "    <tr>\n",
              "      <th>Pós graduação</th>\n",
              "      <td>2</td>\n",
              "      <td>2</td>\n",
              "      <td>2</td>\n",
              "      <td>2</td>\n",
              "      <td>2</td>\n",
              "      <td>2</td>\n",
              "      <td>2</td>\n",
              "      <td>2</td>\n",
              "      <td>2</td>\n",
              "    </tr>\n",
              "    <tr>\n",
              "      <th>Superior Incompleto</th>\n",
              "      <td>3</td>\n",
              "      <td>3</td>\n",
              "      <td>3</td>\n",
              "      <td>3</td>\n",
              "      <td>3</td>\n",
              "      <td>3</td>\n",
              "      <td>3</td>\n",
              "      <td>3</td>\n",
              "      <td>3</td>\n",
              "    </tr>\n",
              "    <tr>\n",
              "      <th rowspan=\"2\" valign=\"top\">Outros</th>\n",
              "      <th>Médio Completo</th>\n",
              "      <td>1</td>\n",
              "      <td>1</td>\n",
              "      <td>1</td>\n",
              "      <td>1</td>\n",
              "      <td>1</td>\n",
              "      <td>1</td>\n",
              "      <td>1</td>\n",
              "      <td>1</td>\n",
              "      <td>1</td>\n",
              "    </tr>\n",
              "    <tr>\n",
              "      <th>Pós graduação</th>\n",
              "      <td>1</td>\n",
              "      <td>1</td>\n",
              "      <td>1</td>\n",
              "      <td>1</td>\n",
              "      <td>1</td>\n",
              "      <td>1</td>\n",
              "      <td>1</td>\n",
              "      <td>1</td>\n",
              "      <td>0</td>\n",
              "    </tr>\n",
              "    <tr>\n",
              "      <th rowspan=\"5\" valign=\"top\">indeciso</th>\n",
              "      <th>Fundam. Incompleto</th>\n",
              "      <td>2</td>\n",
              "      <td>2</td>\n",
              "      <td>2</td>\n",
              "      <td>2</td>\n",
              "      <td>2</td>\n",
              "      <td>2</td>\n",
              "      <td>2</td>\n",
              "      <td>2</td>\n",
              "      <td>1</td>\n",
              "    </tr>\n",
              "    <tr>\n",
              "      <th>Médio Completo</th>\n",
              "      <td>3</td>\n",
              "      <td>3</td>\n",
              "      <td>3</td>\n",
              "      <td>3</td>\n",
              "      <td>3</td>\n",
              "      <td>3</td>\n",
              "      <td>3</td>\n",
              "      <td>3</td>\n",
              "      <td>3</td>\n",
              "    </tr>\n",
              "    <tr>\n",
              "      <th>Médio Incompleto</th>\n",
              "      <td>2</td>\n",
              "      <td>2</td>\n",
              "      <td>2</td>\n",
              "      <td>2</td>\n",
              "      <td>2</td>\n",
              "      <td>2</td>\n",
              "      <td>2</td>\n",
              "      <td>2</td>\n",
              "      <td>2</td>\n",
              "    </tr>\n",
              "    <tr>\n",
              "      <th>Pós graduação</th>\n",
              "      <td>1</td>\n",
              "      <td>1</td>\n",
              "      <td>1</td>\n",
              "      <td>1</td>\n",
              "      <td>1</td>\n",
              "      <td>1</td>\n",
              "      <td>1</td>\n",
              "      <td>1</td>\n",
              "      <td>1</td>\n",
              "    </tr>\n",
              "    <tr>\n",
              "      <th>Superior Incompleto</th>\n",
              "      <td>1</td>\n",
              "      <td>1</td>\n",
              "      <td>1</td>\n",
              "      <td>1</td>\n",
              "      <td>1</td>\n",
              "      <td>1</td>\n",
              "      <td>1</td>\n",
              "      <td>1</td>\n",
              "      <td>1</td>\n",
              "    </tr>\n",
              "  </tbody>\n",
              "</table>\n",
              "</div>"
            ],
            "text/plain": [
              "                               Unnamed: 0  Idade  ...  Por Braga  Renda\n",
              "Intencao  Escolaridade                            ...                  \n",
              "Adail     Apenas Alfabetizado          19     19  ...         19     16\n",
              "          Fundam. Completo             14     14  ...         14     14\n",
              "          Fundam. Incompleto           47     47  ...         47     41\n",
              "          Médio Completo               53     53  ...         53     48\n",
              "          Médio Incompleto             30     30  ...         30     30\n",
              "          Não Alfabetizado              7      7  ...          7      5\n",
              "          Pós graduação                 2      2  ...          2      2\n",
              "          Superior Incompleto           2      2  ...          2      2\n",
              "C.T.      Fundam. Incompleto            1      1  ...          1      0\n",
              "Iran      Fundam. Incompleto            1      1  ...          1      1\n",
              "          Médio Completo                3      3  ...          3      3\n",
              "          Médio Incompleto              3      3  ...          3      2\n",
              "Magalhaes Apenas Alfabetizado           3      3  ...          3      3\n",
              "          Fundam. Completo             10     10  ...         10     10\n",
              "          Fundam. Incompleto           27     27  ...         27     25\n",
              "          Médio Completo               47     47  ...         47     46\n",
              "          Médio Incompleto             24     24  ...         24     18\n",
              "          Não Alfabetizado              5      5  ...          5      5\n",
              "          Pós graduação                11     11  ...         10     11\n",
              "          Superior Incompleto          10     10  ...         10     10\n",
              "Mitouso   Fundam. Completo              2      2  ...          2      2\n",
              "          Fundam. Incompleto            7      7  ...          7      6\n",
              "          Médio Completo               20     20  ...         20     19\n",
              "          Médio Incompleto              3      3  ...          3      2\n",
              "          Não Alfabetizado              8      8  ...          8      6\n",
              "          Pós graduação                 2      2  ...          2      1\n",
              "          Superior Incompleto           3      3  ...          3      3\n",
              "Nulo      Fundam. Completo              2      2  ...          2      1\n",
              "          Fundam. Incompleto           16     16  ...         16     13\n",
              "          Médio Completo               20     20  ...         20     18\n",
              "          Médio Incompleto              5      5  ...          5      4\n",
              "          Não Alfabetizado              2      2  ...          2      2\n",
              "          Pós graduação                 2      2  ...          2      2\n",
              "          Superior Incompleto           3      3  ...          3      3\n",
              "Outros    Médio Completo                1      1  ...          1      1\n",
              "          Pós graduação                 1      1  ...          1      0\n",
              "indeciso  Fundam. Incompleto            2      2  ...          2      1\n",
              "          Médio Completo                3      3  ...          3      3\n",
              "          Médio Incompleto              2      2  ...          2      2\n",
              "          Pós graduação                 1      1  ...          1      1\n",
              "          Superior Incompleto           1      1  ...          1      1\n",
              "\n",
              "[41 rows x 9 columns]"
            ]
          },
          "metadata": {
            "tags": []
          },
          "execution_count": 33
        }
      ]
    },
    {
      "cell_type": "code",
      "metadata": {
        "id": "SQtIojwepwhS",
        "outputId": "0ffd87b2-3b4b-4848-a01a-dc5cbbef07b3",
        "colab": {
          "base_uri": "https://localhost:8080/",
          "height": 542
        }
      },
      "source": [
        "x_ = df['Escolaridade'].value_counts().keys()\n",
        "y_ = df['Escolaridade'].value_counts().values\n",
        "fig = go.Figure(data=[go.Bar(\n",
        "    x = x_, y = y_,\n",
        "    text=y_,\n",
        "    textposition='auto',)])\n",
        "fig.show()"
      ],
      "execution_count": 51,
      "outputs": [
        {
          "output_type": "display_data",
          "data": {
            "text/html": [
              "<html>\n",
              "<head><meta charset=\"utf-8\" /></head>\n",
              "<body>\n",
              "    <div>\n",
              "            <script src=\"https://cdnjs.cloudflare.com/ajax/libs/mathjax/2.7.5/MathJax.js?config=TeX-AMS-MML_SVG\"></script><script type=\"text/javascript\">if (window.MathJax) {MathJax.Hub.Config({SVG: {font: \"STIX-Web\"}});}</script>\n",
              "                <script type=\"text/javascript\">window.PlotlyConfig = {MathJaxConfig: 'local'};</script>\n",
              "        <script src=\"https://cdn.plot.ly/plotly-latest.min.js\"></script>    \n",
              "            <div id=\"6eb6b0f7-7180-4640-a5dd-dc5ec29fe933\" class=\"plotly-graph-div\" style=\"height:525px; width:100%;\"></div>\n",
              "            <script type=\"text/javascript\">\n",
              "                \n",
              "                    window.PLOTLYENV=window.PLOTLYENV || {};\n",
              "                    \n",
              "                if (document.getElementById(\"6eb6b0f7-7180-4640-a5dd-dc5ec29fe933\")) {\n",
              "                    Plotly.newPlot(\n",
              "                        '6eb6b0f7-7180-4640-a5dd-dc5ec29fe933',\n",
              "                        [{\"text\": [155.0, 111.0, 73.0, 29.0, 28.0, 26.0, 20.0, 19.0], \"textposition\": \"auto\", \"type\": \"bar\", \"x\": [\"M\\u00e9dio Completo\", \"Fundam. Incompleto\", \"M\\u00e9dio Incompleto\", \"N\\u00e3o Alfabetizado\", \"Fundam. Completo\", \"Apenas Alfabetizado\", \"Superior Incompleto\", \"P\\u00f3s gradua\\u00e7\\u00e3o\"], \"y\": [155, 111, 73, 29, 28, 26, 20, 19]}],\n",
              "                        {\"template\": {\"data\": {\"bar\": [{\"error_x\": {\"color\": \"#2a3f5f\"}, \"error_y\": {\"color\": \"#2a3f5f\"}, \"marker\": {\"line\": {\"color\": \"#E5ECF6\", \"width\": 0.5}}, \"type\": \"bar\"}], \"barpolar\": [{\"marker\": {\"line\": {\"color\": \"#E5ECF6\", \"width\": 0.5}}, \"type\": \"barpolar\"}], \"carpet\": [{\"aaxis\": {\"endlinecolor\": \"#2a3f5f\", \"gridcolor\": \"white\", \"linecolor\": \"white\", \"minorgridcolor\": \"white\", \"startlinecolor\": \"#2a3f5f\"}, \"baxis\": {\"endlinecolor\": \"#2a3f5f\", \"gridcolor\": \"white\", \"linecolor\": \"white\", \"minorgridcolor\": \"white\", \"startlinecolor\": \"#2a3f5f\"}, \"type\": \"carpet\"}], \"choropleth\": [{\"colorbar\": {\"outlinewidth\": 0, \"ticks\": \"\"}, \"type\": \"choropleth\"}], \"contour\": [{\"colorbar\": {\"outlinewidth\": 0, \"ticks\": \"\"}, \"colorscale\": [[0.0, \"#0d0887\"], [0.1111111111111111, \"#46039f\"], [0.2222222222222222, \"#7201a8\"], [0.3333333333333333, \"#9c179e\"], [0.4444444444444444, \"#bd3786\"], [0.5555555555555556, \"#d8576b\"], [0.6666666666666666, \"#ed7953\"], [0.7777777777777778, \"#fb9f3a\"], [0.8888888888888888, \"#fdca26\"], [1.0, \"#f0f921\"]], \"type\": \"contour\"}], \"contourcarpet\": [{\"colorbar\": {\"outlinewidth\": 0, \"ticks\": \"\"}, \"type\": \"contourcarpet\"}], \"heatmap\": [{\"colorbar\": {\"outlinewidth\": 0, \"ticks\": \"\"}, \"colorscale\": [[0.0, \"#0d0887\"], [0.1111111111111111, \"#46039f\"], [0.2222222222222222, \"#7201a8\"], [0.3333333333333333, \"#9c179e\"], [0.4444444444444444, \"#bd3786\"], [0.5555555555555556, \"#d8576b\"], [0.6666666666666666, \"#ed7953\"], [0.7777777777777778, \"#fb9f3a\"], [0.8888888888888888, \"#fdca26\"], [1.0, \"#f0f921\"]], \"type\": \"heatmap\"}], \"heatmapgl\": [{\"colorbar\": {\"outlinewidth\": 0, \"ticks\": \"\"}, \"colorscale\": [[0.0, \"#0d0887\"], [0.1111111111111111, \"#46039f\"], [0.2222222222222222, \"#7201a8\"], [0.3333333333333333, \"#9c179e\"], [0.4444444444444444, \"#bd3786\"], [0.5555555555555556, \"#d8576b\"], [0.6666666666666666, \"#ed7953\"], [0.7777777777777778, \"#fb9f3a\"], [0.8888888888888888, \"#fdca26\"], [1.0, \"#f0f921\"]], \"type\": \"heatmapgl\"}], \"histogram\": [{\"marker\": {\"colorbar\": {\"outlinewidth\": 0, \"ticks\": \"\"}}, \"type\": \"histogram\"}], \"histogram2d\": [{\"colorbar\": {\"outlinewidth\": 0, \"ticks\": \"\"}, \"colorscale\": [[0.0, \"#0d0887\"], [0.1111111111111111, \"#46039f\"], [0.2222222222222222, \"#7201a8\"], [0.3333333333333333, \"#9c179e\"], [0.4444444444444444, \"#bd3786\"], [0.5555555555555556, \"#d8576b\"], [0.6666666666666666, \"#ed7953\"], [0.7777777777777778, \"#fb9f3a\"], [0.8888888888888888, \"#fdca26\"], [1.0, \"#f0f921\"]], \"type\": \"histogram2d\"}], \"histogram2dcontour\": [{\"colorbar\": {\"outlinewidth\": 0, \"ticks\": \"\"}, \"colorscale\": [[0.0, \"#0d0887\"], [0.1111111111111111, \"#46039f\"], [0.2222222222222222, \"#7201a8\"], [0.3333333333333333, \"#9c179e\"], [0.4444444444444444, \"#bd3786\"], [0.5555555555555556, \"#d8576b\"], [0.6666666666666666, \"#ed7953\"], [0.7777777777777778, \"#fb9f3a\"], [0.8888888888888888, \"#fdca26\"], [1.0, \"#f0f921\"]], \"type\": \"histogram2dcontour\"}], \"mesh3d\": [{\"colorbar\": {\"outlinewidth\": 0, \"ticks\": \"\"}, \"type\": \"mesh3d\"}], \"parcoords\": [{\"line\": {\"colorbar\": {\"outlinewidth\": 0, \"ticks\": \"\"}}, \"type\": \"parcoords\"}], \"pie\": [{\"automargin\": true, \"type\": \"pie\"}], \"scatter\": [{\"marker\": {\"colorbar\": {\"outlinewidth\": 0, \"ticks\": \"\"}}, \"type\": \"scatter\"}], \"scatter3d\": [{\"line\": {\"colorbar\": {\"outlinewidth\": 0, \"ticks\": \"\"}}, \"marker\": {\"colorbar\": {\"outlinewidth\": 0, \"ticks\": \"\"}}, \"type\": \"scatter3d\"}], \"scattercarpet\": [{\"marker\": {\"colorbar\": {\"outlinewidth\": 0, \"ticks\": \"\"}}, \"type\": \"scattercarpet\"}], \"scattergeo\": [{\"marker\": {\"colorbar\": {\"outlinewidth\": 0, \"ticks\": \"\"}}, \"type\": \"scattergeo\"}], \"scattergl\": [{\"marker\": {\"colorbar\": {\"outlinewidth\": 0, \"ticks\": \"\"}}, \"type\": \"scattergl\"}], \"scattermapbox\": [{\"marker\": {\"colorbar\": {\"outlinewidth\": 0, \"ticks\": \"\"}}, \"type\": \"scattermapbox\"}], \"scatterpolar\": [{\"marker\": {\"colorbar\": {\"outlinewidth\": 0, \"ticks\": \"\"}}, \"type\": \"scatterpolar\"}], \"scatterpolargl\": [{\"marker\": {\"colorbar\": {\"outlinewidth\": 0, \"ticks\": \"\"}}, \"type\": \"scatterpolargl\"}], \"scatterternary\": [{\"marker\": {\"colorbar\": {\"outlinewidth\": 0, \"ticks\": \"\"}}, \"type\": \"scatterternary\"}], \"surface\": [{\"colorbar\": {\"outlinewidth\": 0, \"ticks\": \"\"}, \"colorscale\": [[0.0, \"#0d0887\"], [0.1111111111111111, \"#46039f\"], [0.2222222222222222, \"#7201a8\"], [0.3333333333333333, \"#9c179e\"], [0.4444444444444444, \"#bd3786\"], [0.5555555555555556, \"#d8576b\"], [0.6666666666666666, \"#ed7953\"], [0.7777777777777778, \"#fb9f3a\"], [0.8888888888888888, \"#fdca26\"], [1.0, \"#f0f921\"]], \"type\": \"surface\"}], \"table\": [{\"cells\": {\"fill\": {\"color\": \"#EBF0F8\"}, \"line\": {\"color\": \"white\"}}, \"header\": {\"fill\": {\"color\": \"#C8D4E3\"}, \"line\": {\"color\": \"white\"}}, \"type\": \"table\"}]}, \"layout\": {\"annotationdefaults\": {\"arrowcolor\": \"#2a3f5f\", \"arrowhead\": 0, \"arrowwidth\": 1}, \"coloraxis\": {\"colorbar\": {\"outlinewidth\": 0, \"ticks\": \"\"}}, \"colorscale\": {\"diverging\": [[0, \"#8e0152\"], [0.1, \"#c51b7d\"], [0.2, \"#de77ae\"], [0.3, \"#f1b6da\"], [0.4, \"#fde0ef\"], [0.5, \"#f7f7f7\"], [0.6, \"#e6f5d0\"], [0.7, \"#b8e186\"], [0.8, \"#7fbc41\"], [0.9, \"#4d9221\"], [1, \"#276419\"]], \"sequential\": [[0.0, \"#0d0887\"], [0.1111111111111111, \"#46039f\"], [0.2222222222222222, \"#7201a8\"], [0.3333333333333333, \"#9c179e\"], [0.4444444444444444, \"#bd3786\"], [0.5555555555555556, \"#d8576b\"], [0.6666666666666666, \"#ed7953\"], [0.7777777777777778, \"#fb9f3a\"], [0.8888888888888888, \"#fdca26\"], [1.0, \"#f0f921\"]], \"sequentialminus\": [[0.0, \"#0d0887\"], [0.1111111111111111, \"#46039f\"], [0.2222222222222222, \"#7201a8\"], [0.3333333333333333, \"#9c179e\"], [0.4444444444444444, \"#bd3786\"], [0.5555555555555556, \"#d8576b\"], [0.6666666666666666, \"#ed7953\"], [0.7777777777777778, \"#fb9f3a\"], [0.8888888888888888, \"#fdca26\"], [1.0, \"#f0f921\"]]}, \"colorway\": [\"#636efa\", \"#EF553B\", \"#00cc96\", \"#ab63fa\", \"#FFA15A\", \"#19d3f3\", \"#FF6692\", \"#B6E880\", \"#FF97FF\", \"#FECB52\"], \"font\": {\"color\": \"#2a3f5f\"}, \"geo\": {\"bgcolor\": \"white\", \"lakecolor\": \"white\", \"landcolor\": \"#E5ECF6\", \"showlakes\": true, \"showland\": true, \"subunitcolor\": \"white\"}, \"hoverlabel\": {\"align\": \"left\"}, \"hovermode\": \"closest\", \"mapbox\": {\"style\": \"light\"}, \"paper_bgcolor\": \"white\", \"plot_bgcolor\": \"#E5ECF6\", \"polar\": {\"angularaxis\": {\"gridcolor\": \"white\", \"linecolor\": \"white\", \"ticks\": \"\"}, \"bgcolor\": \"#E5ECF6\", \"radialaxis\": {\"gridcolor\": \"white\", \"linecolor\": \"white\", \"ticks\": \"\"}}, \"scene\": {\"xaxis\": {\"backgroundcolor\": \"#E5ECF6\", \"gridcolor\": \"white\", \"gridwidth\": 2, \"linecolor\": \"white\", \"showbackground\": true, \"ticks\": \"\", \"zerolinecolor\": \"white\"}, \"yaxis\": {\"backgroundcolor\": \"#E5ECF6\", \"gridcolor\": \"white\", \"gridwidth\": 2, \"linecolor\": \"white\", \"showbackground\": true, \"ticks\": \"\", \"zerolinecolor\": \"white\"}, \"zaxis\": {\"backgroundcolor\": \"#E5ECF6\", \"gridcolor\": \"white\", \"gridwidth\": 2, \"linecolor\": \"white\", \"showbackground\": true, \"ticks\": \"\", \"zerolinecolor\": \"white\"}}, \"shapedefaults\": {\"line\": {\"color\": \"#2a3f5f\"}}, \"ternary\": {\"aaxis\": {\"gridcolor\": \"white\", \"linecolor\": \"white\", \"ticks\": \"\"}, \"baxis\": {\"gridcolor\": \"white\", \"linecolor\": \"white\", \"ticks\": \"\"}, \"bgcolor\": \"#E5ECF6\", \"caxis\": {\"gridcolor\": \"white\", \"linecolor\": \"white\", \"ticks\": \"\"}}, \"title\": {\"x\": 0.05}, \"xaxis\": {\"automargin\": true, \"gridcolor\": \"white\", \"linecolor\": \"white\", \"ticks\": \"\", \"title\": {\"standoff\": 15}, \"zerolinecolor\": \"white\", \"zerolinewidth\": 2}, \"yaxis\": {\"automargin\": true, \"gridcolor\": \"white\", \"linecolor\": \"white\", \"ticks\": \"\", \"title\": {\"standoff\": 15}, \"zerolinecolor\": \"white\", \"zerolinewidth\": 2}}}},\n",
              "                        {\"responsive\": true}\n",
              "                    ).then(function(){\n",
              "                            \n",
              "var gd = document.getElementById('6eb6b0f7-7180-4640-a5dd-dc5ec29fe933');\n",
              "var x = new MutationObserver(function (mutations, observer) {{\n",
              "        var display = window.getComputedStyle(gd).display;\n",
              "        if (!display || display === 'none') {{\n",
              "            console.log([gd, 'removed!']);\n",
              "            Plotly.purge(gd);\n",
              "            observer.disconnect();\n",
              "        }}\n",
              "}});\n",
              "\n",
              "// Listen for the removal of the full notebook cells\n",
              "var notebookContainer = gd.closest('#notebook-container');\n",
              "if (notebookContainer) {{\n",
              "    x.observe(notebookContainer, {childList: true});\n",
              "}}\n",
              "\n",
              "// Listen for the clearing of the current output cell\n",
              "var outputEl = gd.closest('.output');\n",
              "if (outputEl) {{\n",
              "    x.observe(outputEl, {childList: true});\n",
              "}}\n",
              "\n",
              "                        })\n",
              "                };\n",
              "                \n",
              "            </script>\n",
              "        </div>\n",
              "</body>\n",
              "</html>"
            ]
          },
          "metadata": {
            "tags": []
          }
        }
      ]
    },
    {
      "cell_type": "markdown",
      "metadata": {
        "id": "6sonbtW9V8ZO"
      },
      "source": [
        "## Divisão Populacional por Renda"
      ]
    },
    {
      "cell_type": "code",
      "metadata": {
        "id": "CIMii9eUXPnJ",
        "outputId": "7eaf3652-ea94-4e14-f8f5-18ff14030c08",
        "colab": {
          "base_uri": "https://localhost:8080/"
        }
      },
      "source": [
        "val_renda = df[\"Renda\"].value_counts()\n",
        "val_renda"
      ],
      "execution_count": 34,
      "outputs": [
        {
          "output_type": "execute_result",
          "data": {
            "text/plain": [
              "650.0     91\n",
              "1000.0    41\n",
              "1300.0    38\n",
              "600.0     25\n",
              "2000.0    24\n",
              "          ..\n",
              "135.0      1\n",
              "980.0      1\n",
              "120.0      1\n",
              "240.0      1\n",
              "640.0      1\n",
              "Name: Renda, Length: 64, dtype: int64"
            ]
          },
          "metadata": {
            "tags": []
          },
          "execution_count": 34
        }
      ]
    },
    {
      "cell_type": "code",
      "metadata": {
        "id": "YO5IBctunsy_",
        "outputId": "c73818f8-19a1-442c-aa92-cc994662b85d",
        "colab": {
          "base_uri": "https://localhost:8080/"
        }
      },
      "source": [
        "\"média, mediana, moda, desvio-padrão, coeficiente de variação e simetria das variáveis quantitativas\"\n",
        "print(f\"Média aritmética: {df2.Renda.mean():.2f}\")\n",
        "print(f\"Médiana: {df2.Renda.median()}\")\n",
        "print(f\"Moda: {st.mode(df2.Renda)}\")\n",
        "print(f\"Desvio Padrão: {st.stdev(df2.Renda):.2f}\")\n",
        "print(f\"Média Harmonica: {(st.harmonic_mean(df2.Renda)):.2f}\")\n",
        "#print(f'Coeficiente de Variação: {cv(df2.Renda):.2f}')\n",
        "print('Quartil: (Min, Q1, Q2, Q3, Max) ', np.quantile(df2.Renda, [0, 0.25, 0.5, 0.75, 1]))"
      ],
      "execution_count": 35,
      "outputs": [
        {
          "output_type": "stream",
          "text": [
            "Média aritmética: 1677.01\n",
            "Médiana: 800.0\n",
            "Moda: 650.0\n",
            "Desvio Padrão: nan\n",
            "Média Harmonica: 0.00\n",
            "Quartil: (Min, Q1, Q2, Q3, Max)  [nan nan nan nan nan]\n"
          ],
          "name": "stdout"
        }
      ]
    },
    {
      "cell_type": "code",
      "metadata": {
        "id": "xpfR_R0rn3Hv",
        "outputId": "a60e36a7-52a4-4af4-b318-3a77ce491620",
        "colab": {
          "base_uri": "https://localhost:8080/",
          "height": 542
        }
      },
      "source": [
        "qt9 = val_renda\n",
        "fig = go.Figure(data=[go.Pie(labels=qt9.keys(),values=qt9.values,title=\"Divisão por Renda\")])\n",
        "fig.show()"
      ],
      "execution_count": 36,
      "outputs": [
        {
          "output_type": "display_data",
          "data": {
            "text/html": [
              "<html>\n",
              "<head><meta charset=\"utf-8\" /></head>\n",
              "<body>\n",
              "    <div>\n",
              "            <script src=\"https://cdnjs.cloudflare.com/ajax/libs/mathjax/2.7.5/MathJax.js?config=TeX-AMS-MML_SVG\"></script><script type=\"text/javascript\">if (window.MathJax) {MathJax.Hub.Config({SVG: {font: \"STIX-Web\"}});}</script>\n",
              "                <script type=\"text/javascript\">window.PlotlyConfig = {MathJaxConfig: 'local'};</script>\n",
              "        <script src=\"https://cdn.plot.ly/plotly-latest.min.js\"></script>    \n",
              "            <div id=\"a7cf9e28-dcdd-46b1-9457-b5b79ed22102\" class=\"plotly-graph-div\" style=\"height:525px; width:100%;\"></div>\n",
              "            <script type=\"text/javascript\">\n",
              "                \n",
              "                    window.PLOTLYENV=window.PLOTLYENV || {};\n",
              "                    \n",
              "                if (document.getElementById(\"a7cf9e28-dcdd-46b1-9457-b5b79ed22102\")) {\n",
              "                    Plotly.newPlot(\n",
              "                        'a7cf9e28-dcdd-46b1-9457-b5b79ed22102',\n",
              "                        [{\"labels\": [650.0, 1000.0, 1300.0, 600.0, 2000.0, 500.0, 800.0, 1500.0, 400.0, 1200.0, 700.0, 1800.0, 300.0, 2500.0, 5000.0, 100.0, 200.0, 3000.0, 1900.0, 1950.0, 900.0, 4000.0, 8000.0, 1600.0, 2400.0, 3250.0, 6000.0, 2600.0, 10000.0, 1350.0, 2800.0, 620.0, 510.0, 480.0, 150.0, 0.0, 180.0, 380.0, 150000.0, 1400.0, 3141.0, 7000.0, 2700.0, 4500.0, 570.0, 630.0, 682.0, 530.0, 1244.0, 622.0, 871.0, 7500.0, 170.0, 883.0, 783.0, 20000.0, 6500.0, 450.0, 3900.0, 135.0, 980.0, 120.0, 240.0, 640.0], \"title\": {\"text\": \"Divis\\u00e3o por Renda\"}, \"type\": \"pie\", \"values\": [91, 41, 38, 25, 24, 18, 16, 14, 13, 12, 9, 8, 8, 7, 7, 6, 6, 5, 5, 4, 4, 4, 2, 2, 2, 2, 2, 2, 2, 2, 1, 1, 1, 1, 1, 1, 1, 1, 1, 1, 1, 1, 1, 1, 1, 1, 1, 1, 1, 1, 1, 1, 1, 1, 1, 1, 1, 1, 1, 1, 1, 1, 1, 1]}],\n",
              "                        {\"template\": {\"data\": {\"bar\": [{\"error_x\": {\"color\": \"#2a3f5f\"}, \"error_y\": {\"color\": \"#2a3f5f\"}, \"marker\": {\"line\": {\"color\": \"#E5ECF6\", \"width\": 0.5}}, \"type\": \"bar\"}], \"barpolar\": [{\"marker\": {\"line\": {\"color\": \"#E5ECF6\", \"width\": 0.5}}, \"type\": \"barpolar\"}], \"carpet\": [{\"aaxis\": {\"endlinecolor\": \"#2a3f5f\", \"gridcolor\": \"white\", \"linecolor\": \"white\", \"minorgridcolor\": \"white\", \"startlinecolor\": \"#2a3f5f\"}, \"baxis\": {\"endlinecolor\": \"#2a3f5f\", \"gridcolor\": \"white\", \"linecolor\": \"white\", \"minorgridcolor\": \"white\", \"startlinecolor\": \"#2a3f5f\"}, \"type\": \"carpet\"}], \"choropleth\": [{\"colorbar\": {\"outlinewidth\": 0, \"ticks\": \"\"}, \"type\": \"choropleth\"}], \"contour\": [{\"colorbar\": {\"outlinewidth\": 0, \"ticks\": \"\"}, \"colorscale\": [[0.0, \"#0d0887\"], [0.1111111111111111, \"#46039f\"], [0.2222222222222222, \"#7201a8\"], [0.3333333333333333, \"#9c179e\"], [0.4444444444444444, \"#bd3786\"], [0.5555555555555556, \"#d8576b\"], [0.6666666666666666, \"#ed7953\"], [0.7777777777777778, \"#fb9f3a\"], [0.8888888888888888, \"#fdca26\"], [1.0, \"#f0f921\"]], \"type\": \"contour\"}], \"contourcarpet\": [{\"colorbar\": {\"outlinewidth\": 0, \"ticks\": \"\"}, \"type\": \"contourcarpet\"}], \"heatmap\": [{\"colorbar\": {\"outlinewidth\": 0, \"ticks\": \"\"}, \"colorscale\": [[0.0, \"#0d0887\"], [0.1111111111111111, \"#46039f\"], [0.2222222222222222, \"#7201a8\"], [0.3333333333333333, \"#9c179e\"], [0.4444444444444444, \"#bd3786\"], [0.5555555555555556, \"#d8576b\"], [0.6666666666666666, \"#ed7953\"], [0.7777777777777778, \"#fb9f3a\"], [0.8888888888888888, \"#fdca26\"], [1.0, \"#f0f921\"]], \"type\": \"heatmap\"}], \"heatmapgl\": [{\"colorbar\": {\"outlinewidth\": 0, \"ticks\": \"\"}, \"colorscale\": [[0.0, \"#0d0887\"], [0.1111111111111111, \"#46039f\"], [0.2222222222222222, \"#7201a8\"], [0.3333333333333333, \"#9c179e\"], [0.4444444444444444, \"#bd3786\"], [0.5555555555555556, \"#d8576b\"], [0.6666666666666666, \"#ed7953\"], [0.7777777777777778, \"#fb9f3a\"], [0.8888888888888888, \"#fdca26\"], [1.0, \"#f0f921\"]], \"type\": \"heatmapgl\"}], \"histogram\": [{\"marker\": {\"colorbar\": {\"outlinewidth\": 0, \"ticks\": \"\"}}, \"type\": \"histogram\"}], \"histogram2d\": [{\"colorbar\": {\"outlinewidth\": 0, \"ticks\": \"\"}, \"colorscale\": [[0.0, \"#0d0887\"], [0.1111111111111111, \"#46039f\"], [0.2222222222222222, \"#7201a8\"], [0.3333333333333333, \"#9c179e\"], [0.4444444444444444, \"#bd3786\"], [0.5555555555555556, \"#d8576b\"], [0.6666666666666666, \"#ed7953\"], [0.7777777777777778, \"#fb9f3a\"], [0.8888888888888888, \"#fdca26\"], [1.0, \"#f0f921\"]], \"type\": \"histogram2d\"}], \"histogram2dcontour\": [{\"colorbar\": {\"outlinewidth\": 0, \"ticks\": \"\"}, \"colorscale\": [[0.0, \"#0d0887\"], [0.1111111111111111, \"#46039f\"], [0.2222222222222222, \"#7201a8\"], [0.3333333333333333, \"#9c179e\"], [0.4444444444444444, \"#bd3786\"], [0.5555555555555556, \"#d8576b\"], [0.6666666666666666, \"#ed7953\"], [0.7777777777777778, \"#fb9f3a\"], [0.8888888888888888, \"#fdca26\"], [1.0, \"#f0f921\"]], \"type\": \"histogram2dcontour\"}], \"mesh3d\": [{\"colorbar\": {\"outlinewidth\": 0, \"ticks\": \"\"}, \"type\": \"mesh3d\"}], \"parcoords\": [{\"line\": {\"colorbar\": {\"outlinewidth\": 0, \"ticks\": \"\"}}, \"type\": \"parcoords\"}], \"pie\": [{\"automargin\": true, \"type\": \"pie\"}], \"scatter\": [{\"marker\": {\"colorbar\": {\"outlinewidth\": 0, \"ticks\": \"\"}}, \"type\": \"scatter\"}], \"scatter3d\": [{\"line\": {\"colorbar\": {\"outlinewidth\": 0, \"ticks\": \"\"}}, \"marker\": {\"colorbar\": {\"outlinewidth\": 0, \"ticks\": \"\"}}, \"type\": \"scatter3d\"}], \"scattercarpet\": [{\"marker\": {\"colorbar\": {\"outlinewidth\": 0, \"ticks\": \"\"}}, \"type\": \"scattercarpet\"}], \"scattergeo\": [{\"marker\": {\"colorbar\": {\"outlinewidth\": 0, \"ticks\": \"\"}}, \"type\": \"scattergeo\"}], \"scattergl\": [{\"marker\": {\"colorbar\": {\"outlinewidth\": 0, \"ticks\": \"\"}}, \"type\": \"scattergl\"}], \"scattermapbox\": [{\"marker\": {\"colorbar\": {\"outlinewidth\": 0, \"ticks\": \"\"}}, \"type\": \"scattermapbox\"}], \"scatterpolar\": [{\"marker\": {\"colorbar\": {\"outlinewidth\": 0, \"ticks\": \"\"}}, \"type\": \"scatterpolar\"}], \"scatterpolargl\": [{\"marker\": {\"colorbar\": {\"outlinewidth\": 0, \"ticks\": \"\"}}, \"type\": \"scatterpolargl\"}], \"scatterternary\": [{\"marker\": {\"colorbar\": {\"outlinewidth\": 0, \"ticks\": \"\"}}, \"type\": \"scatterternary\"}], \"surface\": [{\"colorbar\": {\"outlinewidth\": 0, \"ticks\": \"\"}, \"colorscale\": [[0.0, \"#0d0887\"], [0.1111111111111111, \"#46039f\"], [0.2222222222222222, \"#7201a8\"], [0.3333333333333333, \"#9c179e\"], [0.4444444444444444, \"#bd3786\"], [0.5555555555555556, \"#d8576b\"], [0.6666666666666666, \"#ed7953\"], [0.7777777777777778, \"#fb9f3a\"], [0.8888888888888888, \"#fdca26\"], [1.0, \"#f0f921\"]], \"type\": \"surface\"}], \"table\": [{\"cells\": {\"fill\": {\"color\": \"#EBF0F8\"}, \"line\": {\"color\": \"white\"}}, \"header\": {\"fill\": {\"color\": \"#C8D4E3\"}, \"line\": {\"color\": \"white\"}}, \"type\": \"table\"}]}, \"layout\": {\"annotationdefaults\": {\"arrowcolor\": \"#2a3f5f\", \"arrowhead\": 0, \"arrowwidth\": 1}, \"coloraxis\": {\"colorbar\": {\"outlinewidth\": 0, \"ticks\": \"\"}}, \"colorscale\": {\"diverging\": [[0, \"#8e0152\"], [0.1, \"#c51b7d\"], [0.2, \"#de77ae\"], [0.3, \"#f1b6da\"], [0.4, \"#fde0ef\"], [0.5, \"#f7f7f7\"], [0.6, \"#e6f5d0\"], [0.7, \"#b8e186\"], [0.8, \"#7fbc41\"], [0.9, \"#4d9221\"], [1, \"#276419\"]], \"sequential\": [[0.0, \"#0d0887\"], [0.1111111111111111, \"#46039f\"], [0.2222222222222222, \"#7201a8\"], [0.3333333333333333, \"#9c179e\"], [0.4444444444444444, \"#bd3786\"], [0.5555555555555556, \"#d8576b\"], [0.6666666666666666, \"#ed7953\"], [0.7777777777777778, \"#fb9f3a\"], [0.8888888888888888, \"#fdca26\"], [1.0, \"#f0f921\"]], \"sequentialminus\": [[0.0, \"#0d0887\"], [0.1111111111111111, \"#46039f\"], [0.2222222222222222, \"#7201a8\"], [0.3333333333333333, \"#9c179e\"], [0.4444444444444444, \"#bd3786\"], [0.5555555555555556, \"#d8576b\"], [0.6666666666666666, \"#ed7953\"], [0.7777777777777778, \"#fb9f3a\"], [0.8888888888888888, \"#fdca26\"], [1.0, \"#f0f921\"]]}, \"colorway\": [\"#636efa\", \"#EF553B\", \"#00cc96\", \"#ab63fa\", \"#FFA15A\", \"#19d3f3\", \"#FF6692\", \"#B6E880\", \"#FF97FF\", \"#FECB52\"], \"font\": {\"color\": \"#2a3f5f\"}, \"geo\": {\"bgcolor\": \"white\", \"lakecolor\": \"white\", \"landcolor\": \"#E5ECF6\", \"showlakes\": true, \"showland\": true, \"subunitcolor\": \"white\"}, \"hoverlabel\": {\"align\": \"left\"}, \"hovermode\": \"closest\", \"mapbox\": {\"style\": \"light\"}, \"paper_bgcolor\": \"white\", \"plot_bgcolor\": \"#E5ECF6\", \"polar\": {\"angularaxis\": {\"gridcolor\": \"white\", \"linecolor\": \"white\", \"ticks\": \"\"}, \"bgcolor\": \"#E5ECF6\", \"radialaxis\": {\"gridcolor\": \"white\", \"linecolor\": \"white\", \"ticks\": \"\"}}, \"scene\": {\"xaxis\": {\"backgroundcolor\": \"#E5ECF6\", \"gridcolor\": \"white\", \"gridwidth\": 2, \"linecolor\": \"white\", \"showbackground\": true, \"ticks\": \"\", \"zerolinecolor\": \"white\"}, \"yaxis\": {\"backgroundcolor\": \"#E5ECF6\", \"gridcolor\": \"white\", \"gridwidth\": 2, \"linecolor\": \"white\", \"showbackground\": true, \"ticks\": \"\", \"zerolinecolor\": \"white\"}, \"zaxis\": {\"backgroundcolor\": \"#E5ECF6\", \"gridcolor\": \"white\", \"gridwidth\": 2, \"linecolor\": \"white\", \"showbackground\": true, \"ticks\": \"\", \"zerolinecolor\": \"white\"}}, \"shapedefaults\": {\"line\": {\"color\": \"#2a3f5f\"}}, \"ternary\": {\"aaxis\": {\"gridcolor\": \"white\", \"linecolor\": \"white\", \"ticks\": \"\"}, \"baxis\": {\"gridcolor\": \"white\", \"linecolor\": \"white\", \"ticks\": \"\"}, \"bgcolor\": \"#E5ECF6\", \"caxis\": {\"gridcolor\": \"white\", \"linecolor\": \"white\", \"ticks\": \"\"}}, \"title\": {\"x\": 0.05}, \"xaxis\": {\"automargin\": true, \"gridcolor\": \"white\", \"linecolor\": \"white\", \"ticks\": \"\", \"title\": {\"standoff\": 15}, \"zerolinecolor\": \"white\", \"zerolinewidth\": 2}, \"yaxis\": {\"automargin\": true, \"gridcolor\": \"white\", \"linecolor\": \"white\", \"ticks\": \"\", \"title\": {\"standoff\": 15}, \"zerolinecolor\": \"white\", \"zerolinewidth\": 2}}}},\n",
              "                        {\"responsive\": true}\n",
              "                    ).then(function(){\n",
              "                            \n",
              "var gd = document.getElementById('a7cf9e28-dcdd-46b1-9457-b5b79ed22102');\n",
              "var x = new MutationObserver(function (mutations, observer) {{\n",
              "        var display = window.getComputedStyle(gd).display;\n",
              "        if (!display || display === 'none') {{\n",
              "            console.log([gd, 'removed!']);\n",
              "            Plotly.purge(gd);\n",
              "            observer.disconnect();\n",
              "        }}\n",
              "}});\n",
              "\n",
              "// Listen for the removal of the full notebook cells\n",
              "var notebookContainer = gd.closest('#notebook-container');\n",
              "if (notebookContainer) {{\n",
              "    x.observe(notebookContainer, {childList: true});\n",
              "}}\n",
              "\n",
              "// Listen for the clearing of the current output cell\n",
              "var outputEl = gd.closest('.output');\n",
              "if (outputEl) {{\n",
              "    x.observe(outputEl, {childList: true});\n",
              "}}\n",
              "\n",
              "                        })\n",
              "                };\n",
              "                \n",
              "            </script>\n",
              "        </div>\n",
              "</body>\n",
              "</html>"
            ]
          },
          "metadata": {
            "tags": []
          }
        }
      ]
    },
    {
      "cell_type": "markdown",
      "metadata": {
        "id": "PiGePEdTWAYI"
      },
      "source": [
        "#### Dados Cruzados de Renda por Faixa Etária"
      ]
    },
    {
      "cell_type": "code",
      "metadata": {
        "id": "Jda_XegeV_Gf",
        "outputId": "c9d2b048-0bf7-4d21-fb82-99ac7a6957b8",
        "colab": {
          "base_uri": "https://localhost:8080/"
        }
      },
      "source": [
        "df_faixa_renda = df.groupby(by=['Faixa'])['Renda'].mean()\n",
        "df_faixa_renda"
      ],
      "execution_count": 37,
      "outputs": [
        {
          "output_type": "execute_result",
          "data": {
            "text/plain": [
              "Faixa\n",
              "16 e 17    1387.000000\n",
              "18 a 21    1204.589041\n",
              "22 a 24    1101.615385\n",
              "25 a 29    1307.965517\n",
              "30 a 39    2953.720430\n",
              "40 a 49    1659.034483\n",
              "50 a 59    1368.184211\n",
              "60 e +     1070.833333\n",
              "Name: Renda, dtype: float64"
            ]
          },
          "metadata": {
            "tags": []
          },
          "execution_count": 37
        }
      ]
    },
    {
      "cell_type": "code",
      "metadata": {
        "id": "ugnarNqkWQ60",
        "outputId": "c117a683-f1ca-49be-ca43-3e8ae7873808",
        "colab": {
          "base_uri": "https://localhost:8080/",
          "height": 497
        }
      },
      "source": [
        "df_faixa_renda_plot = df_faixa_renda.to_frame(name='Renda média')\n",
        "ax = df_faixa_renda_plot.plot.bar(y='Renda média', rot=0, figsize=(10, 8))\n",
        "for p in ax.patches:\n",
        "    ax.annotate('%.2f' % p.get_height(), (p.get_x() * .99, p.get_height() * 1.009))"
      ],
      "execution_count": 38,
      "outputs": [
        {
          "output_type": "display_data",
          "data": {
            "image/png": "[encoded data removed]",
            "text/plain": [
              "<Figure size 720x576 with 1 Axes>"
            ]
          },
          "metadata": {
            "tags": [],
            "needs_background": "light"
          }
        }
      ]
    },
    {
      "cell_type": "markdown",
      "metadata": {
        "id": "rEzMg7-TWeBf"
      },
      "source": [
        "### Dados Cruzados Renda por Faixa Etária por Intenção de Voto"
      ]
    },
    {
      "cell_type": "code",
      "metadata": {
        "id": "jZQ7cewtWiFx",
        "outputId": "6c3ec6c7-83d7-4d87-f780-d2e2532384a2",
        "colab": {
          "base_uri": "https://localhost:8080/",
          "height": 297
        }
      },
      "source": [
        "df_faixa_renda = df.groupby(by=['Faixa', 'Intencao'])['Renda'].mean().to_frame().reset_index()\n",
        "df_pivot_table = pd.pivot_table(df_faixa_renda, values='Renda', index='Intencao', columns='Faixa', fill_value='-', margins=True)\n",
        "df_pivot_table = df_pivot_table.drop(index='All').rename(columns={'All': 'Total'})\n",
        "df_pivot_table = df_pivot_table.reindex(df_pivot_table['Total'].sort_values(ascending=False).index)\n",
        "df_pivot_table"
      ],
      "execution_count": 39,
      "outputs": [
        {
          "output_type": "execute_result",
          "data": {
            "text/html": [
              "<div>\n",
              "<style scoped>\n",
              "    .dataframe tbody tr th:only-of-type {\n",
              "        vertical-align: middle;\n",
              "    }\n",
              "\n",
              "    .dataframe tbody tr th {\n",
              "        vertical-align: top;\n",
              "    }\n",
              "\n",
              "    .dataframe thead th {\n",
              "        text-align: right;\n",
              "    }\n",
              "</style>\n",
              "<table border=\"1\" class=\"dataframe\">\n",
              "  <thead>\n",
              "    <tr style=\"text-align: right;\">\n",
              "      <th>Faixa</th>\n",
              "      <th>16 e 17</th>\n",
              "      <th>18 a 21</th>\n",
              "      <th>22 a 24</th>\n",
              "      <th>25 a 29</th>\n",
              "      <th>30 a 39</th>\n",
              "      <th>40 a 49</th>\n",
              "      <th>50 a 59</th>\n",
              "      <th>60 e +</th>\n",
              "      <th>Total</th>\n",
              "    </tr>\n",
              "    <tr>\n",
              "      <th>Intencao</th>\n",
              "      <th></th>\n",
              "      <th></th>\n",
              "      <th></th>\n",
              "      <th></th>\n",
              "      <th></th>\n",
              "      <th></th>\n",
              "      <th></th>\n",
              "      <th></th>\n",
              "      <th></th>\n",
              "    </tr>\n",
              "  </thead>\n",
              "  <tbody>\n",
              "    <tr>\n",
              "      <th>indeciso</th>\n",
              "      <td>-</td>\n",
              "      <td>1300</td>\n",
              "      <td>-</td>\n",
              "      <td>5150</td>\n",
              "      <td>1150</td>\n",
              "      <td>1800</td>\n",
              "      <td>475</td>\n",
              "      <td>-</td>\n",
              "      <td>1975</td>\n",
              "    </tr>\n",
              "    <tr>\n",
              "      <th>Mitouso</th>\n",
              "      <td>100</td>\n",
              "      <td>1090</td>\n",
              "      <td>3800</td>\n",
              "      <td>1020</td>\n",
              "      <td>1316.67</td>\n",
              "      <td>2900</td>\n",
              "      <td>2200</td>\n",
              "      <td>906.25</td>\n",
              "      <td>1666.61</td>\n",
              "    </tr>\n",
              "    <tr>\n",
              "      <th>Magalhaes</th>\n",
              "      <td>1943.75</td>\n",
              "      <td>1422.5</td>\n",
              "      <td>1041.67</td>\n",
              "      <td>1344.44</td>\n",
              "      <td>2063.06</td>\n",
              "      <td>1446.88</td>\n",
              "      <td>965.385</td>\n",
              "      <td>1833.33</td>\n",
              "      <td>1507.63</td>\n",
              "    </tr>\n",
              "    <tr>\n",
              "      <th>Adail</th>\n",
              "      <td>1070</td>\n",
              "      <td>941.391</td>\n",
              "      <td>740.214</td>\n",
              "      <td>1195.38</td>\n",
              "      <td>4426.07</td>\n",
              "      <td>1070.17</td>\n",
              "      <td>1715.38</td>\n",
              "      <td>816.667</td>\n",
              "      <td>1496.91</td>\n",
              "    </tr>\n",
              "    <tr>\n",
              "      <th>Iran</th>\n",
              "      <td>500</td>\n",
              "      <td>650</td>\n",
              "      <td>-</td>\n",
              "      <td>500</td>\n",
              "      <td>2000</td>\n",
              "      <td>-</td>\n",
              "      <td>3141</td>\n",
              "      <td>-</td>\n",
              "      <td>1358.2</td>\n",
              "    </tr>\n",
              "    <tr>\n",
              "      <th>Nulo</th>\n",
              "      <td>-</td>\n",
              "      <td>1442</td>\n",
              "      <td>675</td>\n",
              "      <td>856.4</td>\n",
              "      <td>1319</td>\n",
              "      <td>3518.57</td>\n",
              "      <td>825</td>\n",
              "      <td>714.286</td>\n",
              "      <td>1335.75</td>\n",
              "    </tr>\n",
              "    <tr>\n",
              "      <th>Outros</th>\n",
              "      <td>-</td>\n",
              "      <td>883</td>\n",
              "      <td>-</td>\n",
              "      <td>-</td>\n",
              "      <td>-</td>\n",
              "      <td>-</td>\n",
              "      <td>-</td>\n",
              "      <td>-</td>\n",
              "      <td>883</td>\n",
              "    </tr>\n",
              "  </tbody>\n",
              "</table>\n",
              "</div>"
            ],
            "text/plain": [
              "Faixa      16 e 17  18 a 21  22 a 24  ...  50 a 59   60 e +    Total\n",
              "Intencao                              ...                           \n",
              "indeciso         -     1300        -  ...      475        -     1975\n",
              "Mitouso        100     1090     3800  ...     2200   906.25  1666.61\n",
              "Magalhaes  1943.75   1422.5  1041.67  ...  965.385  1833.33  1507.63\n",
              "Adail         1070  941.391  740.214  ...  1715.38  816.667  1496.91\n",
              "Iran           500      650        -  ...     3141        -   1358.2\n",
              "Nulo             -     1442      675  ...      825  714.286  1335.75\n",
              "Outros           -      883        -  ...        -        -      883\n",
              "\n",
              "[7 rows x 9 columns]"
            ]
          },
          "metadata": {
            "tags": []
          },
          "execution_count": 39
        }
      ]
    }
  ]
}